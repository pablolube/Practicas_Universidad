{
 "cells": [
  {
   "cell_type": "markdown",
   "id": "bae6a3bb",
   "metadata": {
    "slideshow": {
     "slide_type": "slide"
    },
    "tags": []
   },
   "source": [
    "#  Lenguaje - Python\n",
    "\n",
    "## Cursada 2025"
   ]
  },
  {
   "cell_type": "markdown",
   "id": "94ac5880",
   "metadata": {
    "slideshow": {
     "slide_type": "slide"
    },
    "tags": []
   },
   "source": [
    "# 🎒 Conociendo Streamlit \n"
   ]
  },
  {
   "cell_type": "markdown",
   "id": "7ac90f09",
   "metadata": {
    "slideshow": {
     "slide_type": "subslide"
    },
    "tags": []
   },
   "source": [
    "## Instalación de Streamlit:\n",
    "* ⚡ Introducción a Streamlit y su instalación en el entorno de desarrollo.\n",
    "* ⚡ Creación de un entorno virtual y activación del mismo.\n",
    "* ⚡ Instalación de Streamlit a través de pip.\n",
    "\n",
    "   "
   ]
  },
  {
   "cell_type": "markdown",
   "id": "28a3e02f",
   "metadata": {
    "slideshow": {
     "slide_type": "slide"
    },
    "tags": []
   },
   "source": [
    "### ¿Qué es?\n",
    "**[Streamit](https://streamlit.io/)** es una herramienta que permite generar web apps interactivas sencillas\n",
    "\n",
    "Características:\n",
    "* ✅ Es sencillo para comenzar a desarrollar web apps\n",
    "* ✅ Orientado a la Ciencia de Datos\n",
    "* ✅ Permite la integración con las librerías más usadas de Python directamente\n",
    "* ✅ Actualización en tiempo real, las modificaciones se visualizan sin volver a ejecutar\n"
   ]
  },
  {
   "cell_type": "markdown",
   "id": "75f4d8ce",
   "metadata": {
    "slideshow": {
     "slide_type": "slide"
    },
    "tags": []
   },
   "source": [
    "### Instalación \n",
    "* Se recomienda generar un entorno virtual\n",
    "* Instalar utilizando pip\n",
    "```bash\n",
    "$ python3 -m venv env\n",
    "$ source env/bin/activate\n",
    "$ (env) $ pip install streamlit\n",
    " ```"
   ]
  },
  {
   "cell_type": "markdown",
   "id": "bebc7f15",
   "metadata": {
    "slideshow": {
     "slide_type": "slide"
    },
    "tags": []
   },
   "source": [
    "## Creación de una aplicación básica:\n",
    "* Importar el módulo Streamlit en un script de Python.\n",
    "* Utilizar la función **st.write()** para mostrar texto en la aplicación.\n",
    "* Ejecutar la aplicación utilizando el comando **streamlit run archivo.py**.\n",
    "* Organizar la información."
   ]
  },
  {
   "cell_type": "markdown",
   "id": "04109eca",
   "metadata": {
    "slideshow": {
     "slide_type": "subslide"
    },
    "tags": []
   },
   "source": [
    "## Veamos un ejemplo"
   ]
  },
  {
   "cell_type": "code",
   "execution_count": 2,
   "id": "bce893ac",
   "metadata": {},
   "outputs": [
    {
     "data": {
      "text/plain": [
       "<bound method WriteMixin.write of DeltaGenerator()>"
      ]
     },
     "execution_count": 2,
     "metadata": {},
     "output_type": "execute_result"
    }
   ],
   "source": [
    "import streamlit as st\n",
    "st.write"
   ]
  },
  {
   "cell_type": "markdown",
   "id": "833643e8",
   "metadata": {
    "slideshow": {
     "slide_type": "slide"
    },
    "tags": []
   },
   "source": [
    "**st.write()** es una función para mostrar texto que permite múltiples opciones y puede mostrar varios tipos de datos.\n"
   ]
  },
  {
   "cell_type": "markdown",
   "id": "4ca2c759",
   "metadata": {
    "slideshow": {
     "slide_type": "fragment"
    },
    "tags": []
   },
   "source": [
    "* Se considera el Swiss Knife de Streamlit. Acepta casi cualquier tipo de dato"
   ]
  },
  {
   "cell_type": "markdown",
   "id": "b6406e46-3261-43ec-969b-e63e29adef1e",
   "metadata": {
    "slideshow": {
     "slide_type": "fragment"
    },
    "tags": []
   },
   "source": [
    "\n",
    "1. Se le pueden pasar cualquier cantidad de parámetros, y **TODOS** serán escritos.\n"
   ]
  },
  {
   "cell_type": "markdown",
   "id": "3b9b3608-62f1-4f72-910e-5d3f155434ac",
   "metadata": {
    "editable": true,
    "slideshow": {
     "slide_type": "fragment"
    },
    "tags": []
   },
   "source": [
    "2. Su comportamiento depende del tipo de parámetros que le lleguen.\n"
   ]
  },
  {
   "cell_type": "markdown",
   "id": "a4bc63ac-0296-4563-9ac2-38c568c195ca",
   "metadata": {
    "editable": true,
    "slideshow": {
     "slide_type": "fragment"
    },
    "tags": []
   },
   "source": [
    "3. Devuelve *None*, por ende, no es un elemento que pueda ser reusado en la ejecución de la aplicación.\n",
    "\n",
    "st.write(*args, unsafe_allow_html=False, **kwargs)"
   ]
  },
  {
   "cell_type": "markdown",
   "id": "edc9adcd",
   "metadata": {
    "editable": true,
    "slideshow": {
     "slide_type": "slide"
    },
    "tags": []
   },
   "source": [
    "Algunos de los tipos que soporta son:\n",
    "\n",
    "* **write(string)**: Imprime el string en formato Markdown, con soporte de expresiones LaTeX, emojis, y texto en color.\n",
    "* **write(data_frame)**: Muestra el DF en formato de tabla.\n",
    "* **write(error)**: Imprime la excepción.\n",
    "* **write(mpl_figure)**: Muestra una figura de Matplotlib.\n",
    "* **write(altair)**: Muestra un gráfico de Altair.\n",
    "* **write(plotly_fig)**: Muestra una figura de Plotly.\n",
    "* **write(dict)**: Muestra un diccionario en un widget interactivo."
   ]
  },
  {
   "cell_type": "code",
   "execution_count": null,
   "id": "169fea23",
   "metadata": {},
   "outputs": [],
   "source": [
    "import streamlit as st\n",
    "\n",
    "import streamlit as st\n",
    "import pandas as pd\n",
    "import matplotlib.pyplot as plt\n",
    "import altair as alt\n",
    "import plotly.express as px\n",
    "\n",
    "# Texto simple\n",
    "st.write(\"✅ Este es un texto simple con st.write\")\n",
    "\n",
    "# DataFrame\n",
    "df = pd.DataFrame({\n",
    "    \"Nombre\": [\"Ana\", \"Juan\", \"Luis\"],\n",
    "    \"Edad\": [23, 34, 45]\n",
    "})\n",
    "st.write(\"📊 Este es un DataFrame:\", df)\n",
    "\n",
    "# Error simulado\n",
    "try:\n",
    "    x = 1 / 0\n",
    "except ZeroDivisionError as e:\n",
    "    st.write(\"⚠️ Ocurrió un error:\", e)\n",
    "\n",
    "# Matplotlib figure\n",
    "fig, ax = plt.subplots()\n",
    "ax.plot([1, 2, 3], [4, 6, 2])\n",
    "ax.set_title(\"Gráfico Matplotlib\")\n",
    "st.write(\"📈 Gráfico generado con Matplotlib:\", fig)\n",
    "\n",
    "# Altair chart\n",
    "alt_chart = alt.Chart(df).mark_bar().encode(\n",
    "    x=\"Nombre\",\n",
    "    y=\"Edad\"\n",
    ")\n",
    "st.write(\"📊 Gráfico Altair:\", alt_chart)\n",
    "\n",
    "# Plotly figure\n",
    "plotly_fig = px.line(x=[0, 1, 2], y=[10, 20, 10], title=\"Gráfico Plotly\")\n",
    "st.write(\"📉 Gráfico con Plotly:\", plotly_fig)\n",
    "\n",
    "# Diccionario\n",
    "data = {\"clave_1\": 123, \"clave_2\": [1, 2, 3]}\n",
    "st.write(\"🗂️ Diccionario de ejemplo:\", data)\n"
   ]
  },
  {
   "cell_type": "markdown",
   "id": "92027d70",
   "metadata": {
    "slideshow": {
     "slide_type": "slide"
    },
    "tags": []
   },
   "source": [
    "### st.write() en el código"
   ]
  },
  {
   "cell_type": "code",
   "execution_count": null,
   "id": "0c3a00c5",
   "metadata": {
    "editable": true,
    "slideshow": {
     "slide_type": "fragment"
    },
    "tags": []
   },
   "outputs": [],
   "source": [
    "import streamlit as st\n",
    "st.header('Mi primera app con Stremalit')\n",
    "st.subheader('''Características de st.write \n",
    "             Muestra texto plano o con formato Markdown''')\n",
    "st.write('Hola **mundo**')\n",
    "if st.button('Mostrar opciones'):\n",
    "    st.write('# Soy un título')\n",
    "    st.write(\"\"\" * se considera el Swiss Knife de Streamlit. Esto quiere decir que tiene la capacidad de renderizar diferentes cosas dependiendo lo que reciba como parámetro.\n",
    "    \"\"\")\n",
    "st.subheader('Contenido de variables simples')\n",
    "x = 10\n",
    "st.write(f\"El valor de {x= }\")\n",
    "\n",
    "st.subheader('Contenido de estructuras')\n",
    "my_list = [1, 2, 3, 4, 5]\n",
    "st.write(\"La lista es:\", my_list)\n",
    "\n"
   ]
  },
  {
   "cell_type": "markdown",
   "id": "bfab9e82",
   "metadata": {
    "editable": true,
    "slideshow": {
     "slide_type": "slide"
    },
    "tags": []
   },
   "source": [
    "### Diccionarios\n",
    "También puede mostrar el contenido de un diccionario:"
   ]
  },
  {
   "cell_type": "code",
   "execution_count": null,
   "id": "54849d31",
   "metadata": {
    "slideshow": {
     "slide_type": "fragment"
    },
    "tags": []
   },
   "outputs": [],
   "source": [
    "profiles = { \"Twist\":{\n",
    "        \"name\": \"Mark Twain\",\n",
    "        \"age\": 45,\n",
    "        \"gender\": \"Masculino\",\n",
    "        \"avatar\": \"bear.png\"\n",
    "    },\"Kalpa\":{\n",
    "        \"name\": \"Angelica Gorodischer\",\n",
    "        \"age\": 95,\n",
    "        \"gender\": \"Femenino\",\n",
    "        \"avatar\": \"giraffe.png\"\n",
    "    }}"
   ]
  },
  {
   "cell_type": "markdown",
   "id": "4b99ac41",
   "metadata": {
    "slideshow": {
     "slide_type": "slide"
    },
    "tags": []
   },
   "source": [
    "## 💫 Personalización\n",
    "* Definir el estilo de la página: \n",
    "    * **st.set_page_config(layout=\"wide\")**\n",
    "* Cambiar el título de la aplicación con **st.title()**, **st.header()** y **st.subheader()**.\n",
    "* Generar divisiones en la pantalla con **st.divide()**\n",
    "* Expander elementos: \n",
    "```python\n",
    "with st.expander('Mostrar contenido variables'):            \n",
    "    ...\n",
    "```  \n"
   ]
  },
  {
   "cell_type": "markdown",
   "id": "b6c8a720",
   "metadata": {},
   "source": [
    "import streamlit as st\n",
    "\n",
    "# Configuración de la página\n",
    "st.set_page_config(\n",
    "    page_title=\"Mi Aplicación Interactiva\",  # Título de la página en la pestaña del navegador\n",
    "    page_icon=\"📊\",  # Ícono de la página (puede ser un emoji, URL o imagen)\n",
    "    layout=\"wide\",  # Disposición del contenido: \"centered\" o \"wide\"\n",
    "    initial_sidebar_state=\"collapsed\"  # Estado inicial de la barra lateral: \"expanded\" o \"collapsed\"\n",
    ")\n",
    "\n",
    "# Título de la aplicación\n",
    "st.title(\"Bienvenido a mi aplicación\")\n",
    "\n",
    "# Mostrar contenido\n",
    "st.write(\"Este es un ejemplo de una aplicación con configuración personalizada.\")\n",
    "\n",
    "# Mostrar un DataFrame de ejemplo\n",
    "import pandas as pd\n",
    "import numpy as np\n",
    "\n",
    "# Crear un DataFrame de ejemplo\n",
    "data = pd.DataFrame(np.random.randn(10, 3), columns=[\"Columna 1\", \"Columna 2\", \"Columna 3\"])\n",
    "\n",
    "# Mostrar el DataFrame\n",
    "st.write(\"Aquí está el DataFrame generado aleatoriamente:\", data)\n",
    "\n",
    "# Crear y mostrar un gráfico de líneas\n",
    "st.line_chart(data)\n"
   ]
  },
  {
   "cell_type": "markdown",
   "id": "6f2950e8",
   "metadata": {
    "slideshow": {
     "slide_type": "slide"
    },
    "tags": []
   },
   "source": [
    "## 📂Estructuración\n",
    "Podemos estructurar nuestra página usando diferentes recursos:\n",
    "* Pages\n",
    "* [Containers](https://docs.streamlit.io/develop/api-reference/layout)\n",
    "  * Tabs\n",
    "  * Columnas\n",
    "  * Formularios"
   ]
  },
  {
   "cell_type": "markdown",
   "id": "7cdc6e7e-2b9d-4e1d-9228-6fb0f0c49f2d",
   "metadata": {
    "slideshow": {
     "slide_type": "slide"
    },
    "tags": []
   },
   "source": [
    "### 📌 Pages\n",
    "* Estructura dinámica, se debe crear un directorio **pages** y dentro crear archivos con numeración: \n",
    "    * 01_nombre pagina1.py\n",
    "    * 02_nombre pagina2.py\n",
    "    * 03_emoji_nombre pagina3.py\n",
    "* Se genera un sidebar.\n",
    "* El orden en que se muestra está dado por la numeración.\n",
    "* Se pueden poner emojis.\n"
   ]
  },
  {
   "cell_type": "markdown",
   "id": "3cde6c44",
   "metadata": {
    "slideshow": {
     "slide_type": "slide"
    },
    "tags": []
   },
   "source": [
    "### 📌Tabs\n",
    "* Nos permiten organizar nuestros datos\n",
    "* Se deben definir con una lista los nombres de los tabs y luego incluir el código dentro de cada una\n"
   ]
  },
  {
   "cell_type": "markdown",
   "id": "088c6c7d-96ab-4043-b423-11b8debd742c",
   "metadata": {
    "slideshow": {
     "slide_type": "fragment"
    },
    "tags": []
   },
   "source": [
    "Usamos la sentencia **with**, ¿recuerdan qué hace?"
   ]
  },
  {
   "cell_type": "markdown",
   "id": "ef0d9a4e-16f1-47f9-a926-5fb23da85e46",
   "metadata": {
    "slideshow": {
     "slide_type": "fragment"
    },
    "tags": []
   },
   "source": [
    "```python\n",
    "tab1, tab2 = st.tabs([\"Uno\", \"Dos\"])\n",
    "\n",
    "with tab1:\n",
    "    ....\n",
    "with tab2:\n",
    "    .....\n",
    "```"
   ]
  },
  {
   "cell_type": "markdown",
   "id": "dbdd338c",
   "metadata": {
    "slideshow": {
     "slide_type": "slide"
    },
    "tags": []
   },
   "source": [
    "### 📌 Columnas\n",
    "* Divide el espacio según la cantidad de columnas **st.columns(number)**.\n",
    "* Cada columna debe indicarse con el número correspondiente, en lugar de **st**, debe ir **c1** o la columna correspondiente\n",
    "```python\n",
    "with tab1:\n",
    "    c1, c2 = st.columns(2)\n",
    "    c1.write(\"Columna 1\")\n",
    "    c2.write(\"Columna 2\")\n",
    "    ....\n",
    "```"
   ]
  },
  {
   "cell_type": "markdown",
   "id": "9633d6bc-466a-4766-994b-b4e9ad984aba",
   "metadata": {
    "slideshow": {
     "slide_type": "slide"
    },
    "tags": []
   },
   "source": [
    "### 📌 Formularios"
   ]
  },
  {
   "cell_type": "markdown",
   "id": "b5d4ed1d-5d7e-4082-930c-f32c919f292a",
   "metadata": {
    "slideshow": {
     "slide_type": "fragment"
    },
    "tags": []
   },
   "source": [
    "* Debe tener un botón \"form_submit_button\" para permitir el envío.\n",
    "* Los datos no se refrescan hasta que se hace clic sobre el botón"
   ]
  },
  {
   "cell_type": "markdown",
   "id": "7eac5605-3c65-42ad-9d41-02ee6d03ce0b",
   "metadata": {
    "slideshow": {
     "slide_type": "fragment"
    },
    "tags": []
   },
   "source": [
    "```python\n",
    "with my_form:\n",
    "        questions_data = [1,2,3]\n",
    "    \n",
    "        my_form.write(\"Dentro del form\")\n",
    "        my_form.write(f\"## Información del usuario\")\n",
    "        usuario = my_form.text_input('Usuario', 'completar')\n",
    "        answer = my_form.radio('Cuánto te gusta Streamlit:', questions_data,  index=None)\n",
    "        submitted = st.form_submit_button(\"Responder\")\n",
    "```"
   ]
  },
  {
   "cell_type": "markdown",
   "id": "7b0a4640",
   "metadata": {
    "slideshow": {
     "slide_type": "slide"
    },
    "tags": []
   },
   "source": [
    "Veamos una aplicación con menú sidebar con tres páginas:\n",
    "* inicio.py\n",
    "* pages:\n",
    "    * 01_Tabs y Form.py\n",
    "    * 02_🌊_Columnas y Callbacks.py\n",
    "    "
   ]
  },
  {
   "cell_type": "markdown",
   "id": "1700ba6f",
   "metadata": {
    "slideshow": {
     "slide_type": "slide"
    },
    "tags": []
   },
   "source": [
    "# 🎢 Widgets:\n",
    "* [Documentación](https://docs.streamlit.io/develop/api-reference/widgets)\n",
    "* Componentes que nos permiten interactuar\n",
    "* El valor guardado se renueva cuando se refresca, guardar valor de la sesión\n"
   ]
  },
  {
   "cell_type": "markdown",
   "id": "8f988d3c-1c61-4257-b43d-0ed3ce3e61c1",
   "metadata": {
    "slideshow": {
     "slide_type": "fragment"
    },
    "tags": []
   },
   "source": [
    "* ¿Qué  widgets ya vimos?\n",
    "    *  input\n",
    "    *  radio\n",
    "    *  button\n",
    "    *  number_input\n"
   ]
  },
  {
   "cell_type": "markdown",
   "id": "23b9310c-2ab5-424c-9b33-a089a3037944",
   "metadata": {
    "slideshow": {
     "slide_type": "fragment"
    },
    "tags": []
   },
   "source": [
    "* **st.slider()**\n",
    "* **st.selectbox()**\n",
    "* **st.checkbox()**"
   ]
  },
  {
   "cell_type": "markdown",
   "id": "3d466e33-bd11-416e-bbc1-8c83c81f21d0",
   "metadata": {
    "slideshow": {
     "slide_type": "fragment"
    },
    "tags": []
   },
   "source": [
    "* Implementar lógica condicional en función de los valores de los widgets.\n",
    "* Ver ejemplo page widget"
   ]
  },
  {
   "cell_type": "markdown",
   "id": "dfadff34",
   "metadata": {
    "slideshow": {
     "slide_type": "slide"
    },
    "tags": []
   },
   "source": [
    "### Input\n",
    "* button(\"st.button\")\n",
    "* checkbox(\"st.checkbox\")\n",
    "* number_input(\"st.number_input\")\n",
    "    * definir rango de valores posibles:  min_value = 0, max_value = 120, value = 20, format = \"%i\"\n",
    "* slider(\"st.slider\", value=50, min_value=0, max_value=100, step=1)\n",
    "* select_slider(\"st.select_slider\", options=[\"uno\", \"dos\", \"tres\", \"cuatro\"])\n",
    "* date_input((\"Inserte una fecha:\", datetime.date(2000, 7, 6))\n",
    "* time_input(\"st.time_input\", datetime.time(8,45))  \n",
    "* color_picker(\"st.color_picker\")\n"
   ]
  },
  {
   "cell_type": "markdown",
   "id": "da249cfc",
   "metadata": {
    "slideshow": {
     "slide_type": "slide"
    }
   },
   "source": [
    "* text_input(\"st.text_input\"):\n",
    "    * podemos dar formato de color a la etiqueta \":blue[Usuario:]\"\n",
    "    * poner un texto ejemplo: placeholder=\"Nombre de usuario\"\n",
    "* text_area(\"st.text_area\")\n",
    "* radio(\"st.radio\", options=[\"AM\", \"FM\", \"Online\"])\n",
    "* selectbox(\"st.selectbox\", options=[\"Lunes\", \"Martes\", \"Miércoles\", \"Jueves\", \"Viernes\"])\n",
    "* multiselect(\"st.multiselect\", options=[\"Tomate\", \"Palta\", \"Mayo\", \"Mostaza\", \"Ketchup\"])\n",
    "* camera_input(\"st.camera_input\")\n",
    "* file_uploader(\"st.file_uploader\")"
   ]
  },
  {
   "cell_type": "code",
   "execution_count": null,
   "id": "1e514e12",
   "metadata": {},
   "outputs": [],
   "source": [
    "import streamlit as st\n",
    "\n",
    "st.title(\"🍔 Elegí tus toppings\")\n",
    "\n",
    "st.write(\"Seleccioná los toppings que querés:\")\n",
    "\n",
    "# Un checkbox por opción\n",
    "tomate = st.checkbox(\"Tomate\")\n",
    "palta = st.checkbox(\"Palta\")\n",
    "mayo = st.checkbox(\"Mayo\")\n",
    "mostaza = st.checkbox(\"Mostaza\")\n",
    "ketchup = st.checkbox(\"Ketchup\")\n",
    "\n",
    "# Mostrar los seleccionados\n",
    "seleccionados = []\n",
    "if tomate: seleccionados.append(\"Tomate\")\n",
    "if palta: seleccionados.append(\"Palta\")\n",
    "if mayo: seleccionados.append(\"Mayo\")\n",
    "if mostaza: seleccionados.append(\"Mostaza\")\n",
    "if ketchup: seleccionados.append(\"Ketchup\")\n",
    "\n",
    "st.write(\"Toppings seleccionados:\", seleccionados)\n",
    "\n",
    "\n",
    "\n",
    "# Checkbox\n",
    "if st.checkbox(\"st.checkbox\"):\n",
    "    st.write(\"Checkbox activado\")\n",
    "\n",
    "# Número con límites\n",
    "numero = st.number_input(\n",
    "    \"st.number_input (edad)\",\n",
    "    min_value=0,\n",
    "    max_value=120,\n",
    "    value=20,\n",
    "    format=\"%i\"\n",
    ")\n",
    "st.write(f\"Edad ingresada: {numero}\")\n",
    "\n",
    "# Slider\n",
    "slider_val = st.slider(\"st.slider\", value=50, min_value=0, max_value=100, step=1)\n",
    "st.write(f\"Valor seleccionado: {slider_val}\")\n",
    "\n",
    "# Select slider\n",
    "select_slider_val = st.select_slider(\"st.select_slider\", options=[\"uno\", \"dos\", \"tres\", \"cuatro\"])\n",
    "st.write(f\"Seleccionaste: {select_slider_val}\")\n",
    "\n",
    "# Date input\n",
    "fecha = st.date_input(\"Inserte una fecha:\", datetime.date(2000, 7, 6))\n",
    "st.write(f\"Fecha seleccionada: {fecha}\")\n",
    "\n",
    "# Time input\n",
    "hora = st.time_input(\"st.time_input\", datetime.time(8, 45))\n",
    "st.write(f\"Hora seleccionada: {hora}\")\n",
    "\n",
    "# Color picker\n",
    "color = st.color_picker(\"st.color_picker\", \"#00f900\")\n",
    "st.write(f\"Color seleccionado: {color}\")\n",
    "\n",
    "# Text input\n",
    "usuario = st.text_input(\":blue[Usuario:]\", placeholder=\"Nombre de usuario\")\n",
    "st.write(f\"Usuario ingresado: {usuario}\")\n",
    "\n",
    "# Text area\n",
    "comentario = st.text_area(\"st.text_area\", placeholder=\"Escribí tus comentarios acá...\")\n",
    "st.write(f\"Comentario: {comentario}\")\n",
    "\n",
    "# Radio\n",
    "radio_val = st.radio(\"st.radio\", options=[\"AM\", \"FM\", \"Online\"])\n",
    "st.write(f\"Seleccionado: {radio_val}\")\n",
    "\n",
    "# Selectbox\n",
    "dia = st.selectbox(\"st.selectbox\", options=[\"Lunes\", \"Martes\", \"Miércoles\", \"Jueves\", \"Viernes\"])\n",
    "st.write(f\"Día elegido: {dia}\")\n",
    "\n",
    "# Multiselect\n",
    "salsas = st.multiselect(\n",
    "    \"st.multiselect\", \n",
    "    options=[\"Tomate\", \"Palta\", \"Mayo\", \"Mostaza\", \"Ketchup\"]\n",
    ")\n",
    "st.write(f\"Salsas elegidas: {salsas}\")\n",
    "\n",
    "# Cámara (solo funciona si tu navegador tiene permiso y soporte)\n",
    "imagen = st.camera_input(\"st.camera_input\")\n",
    "if imagen:\n",
    "    st.image(imagen)\n",
    "\n",
    "# File uploader\n",
    "archivo = st.file_uploader(\"st.file_uploader\", type=[\"csv\", \"txt\", \"jpg\", \"png\"])\n",
    "if archivo:\n",
    "    st.success(f\"Archivo cargado: {archivo.name}\")"
   ]
  },
  {
   "attachments": {
    "image.png": {
     "image/png": "[encoded data removed]"
    }
   },
   "cell_type": "markdown",
   "id": "4fdd554b",
   "metadata": {},
   "source": [
    "CHECKBOX \n",
    "![image.png](attachment:image.png)"
   ]
  },
  {
   "cell_type": "code",
   "execution_count": null,
   "id": "7a06e96b",
   "metadata": {},
   "outputs": [],
   "source": [
    "# Parametros Checkbox\n",
    "st.checkbox(label, value=False, key=None, help=None, on_change=None, args=None, kwargs=None, disabled=False, label_visibility=\"visible\")\n",
    "\n",
    "\n",
    "# Number_input\n",
    "# Parametros \n",
    "st.number_input(\n",
    "    label,                      # str: texto visible junto al input\n",
    "    min_value=None,             # int o float: valor mínimo permitido\n",
    "    max_value=None,             # int o float: valor máximo permitido\n",
    "    value=0,                    # int o float o una tupla: valor inicial\n",
    "    step=None,                  # int o float: incremento/decremento con las flechitas\n",
    "    format=None,                # str: formato, ej. \"%i\" para enteros o \"%.2f\" para floats\n",
    "    key=None,                   # str o int: identificador único del widget\n",
    "    help=None,                  # str: tooltip (aparece al pasar el mouse)\n",
    "    on_change=None,             # función: se ejecuta al cambiar el valor\n",
    "    args=None,                  # tupla: argumentos para `on_change`\n",
    "    kwargs=None,                # dict: argumentos con nombre para `on_change`\n",
    "    disabled=False,             # bool: desactiva el input si es True\n",
    "    label_visibility=\"visible\" # str: \"visible\", \"hidden\" o \"collapsed\"\n",
    ")\n",
    "\n",
    "#Ejemplos\n",
    "edad = st.number_input(\"Edad\", min_value=0, max_value=120, value=25, step=1, format=\"%i\")\n",
    "st.write(\"Edad ingresada:\", edad)\n",
    "precio = st.number_input(\"Precio del producto\", min_value=0.0, max_value=10000.0, value=99.99, step=0.01, format=\"%.2f\")\n",
    "st.write(\"Precio ingresado:\", precio)\n",
    "temperatura = st.number_input(\"Temperatura\", min_value=-50.0, max_value=50.0, value=0.0, step=0.5)\n",
    "st.write(\"Temperatura ingresada:\", temperatura)\n",
    "\n",
    "\n",
    "\n"
   ]
  },
  {
   "cell_type": "markdown",
   "id": "16aaa05a",
   "metadata": {},
   "source": [
    "# CALENDAR INPUT"
   ]
  },
  {
   "cell_type": "code",
   "execution_count": null,
   "id": "e7222f40",
   "metadata": {},
   "outputs": [],
   "source": [
    "st.date_input(label, value=\"today\", min_value=None, max_value=None, key=None, help=None, on_change=None, args=None, kwargs=None, *, format=\"YYYY/MM/DD\", disabled=False, label_visibility=\"visible\")"
   ]
  },
  {
   "cell_type": "markdown",
   "id": "0cced4b1",
   "metadata": {},
   "source": [
    "# TIME INPUT "
   ]
  },
  {
   "cell_type": "code",
   "execution_count": null,
   "id": "74b6e799",
   "metadata": {},
   "outputs": [],
   "source": [
    "st.time_input(label, value=\"now\", key=None, help=None, on_change=None, args=None, kwargs=None, *, disabled=False, label_visibility=\"visible\", step=0:15:00)"
   ]
  },
  {
   "attachments": {
    "image.png": {
     "image/png": "[encoded data removed]"
    }
   },
   "cell_type": "markdown",
   "id": "cfac4829",
   "metadata": {},
   "source": [
    "![image.png](attachment:image.png)"
   ]
  },
  {
   "cell_type": "markdown",
   "id": "578e708e",
   "metadata": {
    "slideshow": {
     "slide_type": "slide"
    },
    "tags": []
   },
   "source": [
    "## Media\n",
    "* image(\"https://images.unsplash.com/photo-1548407260-da850faa41e3\")\n",
    "* audio(\"https://upload.wikimedia.org/wikipedia/commons/b/bb/Test_ogg_mp3_48kbps.wav\")\n",
    "* video(\"https://www.youtube.com/watch?v=YaEG2aWJnZ8\")\n",
    "     "
   ]
  },
  {
   "cell_type": "markdown",
   "id": "87afa433",
   "metadata": {
    "slideshow": {
     "slide_type": "slide"
    },
    "tags": []
   },
   "source": [
    "## Interactuando con los datos"
   ]
  },
  {
   "cell_type": "markdown",
   "id": "2ca3a125-73d3-4c85-9910-6bd029a6e013",
   "metadata": {
    "slideshow": {
     "slide_type": ""
    },
    "tags": []
   },
   "source": [
    "* El widget guarda un valor al interactuar que podemos consultar"
   ]
  },
  {
   "cell_type": "markdown",
   "id": "7c0df39e-4eda-460a-8a06-76868c7daa95",
   "metadata": {
    "slideshow": {
     "slide_type": ""
    },
    "tags": []
   },
   "source": [
    "```python\n",
    "answer = my_form.radio('Cuánto te gusta Streamlit:', questions_data,  index=None)\n",
    "submitted = st.form_submit_button(\"Responder\")\n",
    "if answer:\n",
    "   st.write(f'Controlo para mostrar. La respuesta de {usuario} es {answer}')\n",
    "st.write(f'La respuesta de {usuario} es {answer}')\n",
    "```"
   ]
  },
  {
   "cell_type": "markdown",
   "id": "c12df7a4",
   "metadata": {
    "editable": true,
    "slideshow": {
     "slide_type": "slide"
    },
    "tags": []
   },
   "source": [
    "# ⏳ Guardar datos en la sesión\n",
    "La **sesión** permite almacenar datos hasta que se refreque la página\n",
    "\n",
    "* genera un diccionario con las variables que queremos guardar\n",
    "* se reinicia al recargar la página\n",
    "```python\n",
    "if \"shared\" not in st.session_state:\n",
    "    st.session_state[\"shared\"] = True\n",
    "  \n",
    "cambio = st.button('Cambiar valor booleano')\n",
    "\n",
    "if cambio:\n",
    "    st.session_state[\"shared\"] = not st.session_state[\"shared\"]\n",
    "    st.write(f\"Valor {st.session_state.shared} despues de presionar el botón\")\n",
    "```"
   ]
  },
  {
   "cell_type": "markdown",
   "id": "2dd9365c-155a-4d7f-918b-98b0676aa602",
   "metadata": {
    "editable": true,
    "slideshow": {
     "slide_type": "fragment"
    },
    "tags": []
   },
   "source": [
    "### Funcionamiento de refresco\n",
    "* lee nuevamente en orden las variables de forma lineal\n"
   ]
  },
  {
   "cell_type": "markdown",
   "id": "013eccbf",
   "metadata": {
    "editable": true,
    "slideshow": {
     "slide_type": "slide"
    },
    "tags": []
   },
   "source": [
    "# 📳 Callbacks\n",
    "* **widgets** usando on_change:\n",
    "```python\n",
    "celsius = st.number_input(\"Celsius: \", key=\"cel\", on_change = convertir_cel_fah)\n",
    "```\n",
    "* **convertir_cel_fah** es una función declarada que modifica el input en *fahrenheit* el valor correspondiente, la opción **key** permite acceder al input para leer el valor ingresado y mostrar el valor calculado.\n",
    "```python\n",
    "def convertir_cel_fah():\n",
    "        st.session_state.fah = st.session_state.cel *1.8 +32\n",
    "```\n",
    "\n",
    "* **button** usando on_click:\n",
    "```python\n",
    "submitted = st.button(\"Responder\", on_click = mostrar, args=[usuario])\n",
    "```\n",
    "Podemos pasar una lista o una tupla:\n",
    " ```python\n",
    "submitted = st.button(\"Responder\", on_click = mostrar, args=(usuario,))\n",
    "\n",
    "```\n",
    "* **mostrar**: es una función.\n",
    "* **args**: se puede pasar una lista de uno o más argumentos."
   ]
  },
  {
   "cell_type": "markdown",
   "id": "fda5072b-5478-4f89-a4ed-665178350018",
   "metadata": {
    "editable": true,
    "slideshow": {
     "slide_type": "slide"
    },
    "tags": []
   },
   "source": [
    "# 🚨 Desafío"
   ]
  },
  {
   "cell_type": "markdown",
   "id": "f975d363-4783-428a-a582-a30e02b7ccd3",
   "metadata": {
    "editable": true,
    "slideshow": {
     "slide_type": "fragment"
    },
    "tags": []
   },
   "source": [
    "Convertir en pages el archivo start.py en una app multipage\n",
    "* Generar una page con cada opción de los radio buttons."
   ]
  }
 ],
 "metadata": {
  "celltoolbar": "Slideshow",
  "kernelspec": {
   "display_name": "Python 3",
   "language": "python",
   "name": "python3"
  },
  "language_info": {
   "codemirror_mode": {
    "name": "ipython",
    "version": 3
   },
   "file_extension": ".py",
   "mimetype": "text/x-python",
   "name": "python",
   "nbconvert_exporter": "python",
   "pygments_lexer": "ipython3",
   "version": "3.12.1"
  }
 },
 "nbformat": 4,
 "nbformat_minor": 5
}
