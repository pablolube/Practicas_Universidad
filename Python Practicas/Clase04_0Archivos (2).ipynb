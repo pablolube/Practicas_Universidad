{
 "cells": [
  {
   "cell_type": "markdown",
   "id": "younger-ready",
   "metadata": {
    "slideshow": {
     "slide_type": "slide"
    }
   },
   "source": [
    "### Lenguajes - Python\n",
    "## Cursada 2025\n",
    "### Archivos. Formatos JSON y CSV"
   ]
  },
  {
   "cell_type": "markdown",
   "id": "finnish-country",
   "metadata": {
    "slideshow": {
     "slide_type": "slide"
    }
   },
   "source": [
    "# Pensemos en las siguientes situaciones\n",
    "\n",
    "¿Qué estructura usamos si queremos: \n",
    "\n",
    "-  guardar los puntajes cada vez que jugamos a un juego determinado?,\n",
    "-  tener un banco de preguntas para que cada vez que realizamos el repaso de clase pueda acotar por temas?,\n",
    "-  manipular los Python plus de los estudiantes por turnos?\n",
    "\n",
    "**¿Qué tienen todas estas situaciones en común?**\n"
   ]
  },
  {
   "cell_type": "markdown",
   "id": "visible-murder",
   "metadata": {
    "slideshow": {
     "slide_type": "subslide"
    }
   },
   "source": [
    "### <center> Necesitamos una estructura que permita que los datos puedan <span style=\"color:#cd7815\">**persistir** </span>cuando la ejecución del programa finalice.</center>"
   ]
  },
  {
   "cell_type": "markdown",
   "id": "interim-people",
   "metadata": {
    "slideshow": {
     "slide_type": "subslide"
    }
   },
   "source": [
    "# Algunas consideraciones antes de empezar\n",
    "\n",
    "- Lo básico: ¿qué es  un **archivo**?\n",
    "- ¿Cómo podemos manipular los archivos desde un programa Python?"
   ]
  },
  {
   "cell_type": "markdown",
   "id": "positive-onion",
   "metadata": {
    "slideshow": {
     "slide_type": "subslide"
    }
   },
   "source": [
    "# Manejo de archivos\n",
    "\n",
    "- Existen funciones predefinidas.\n",
    "- Si las operaciones fallan, se levanta una **excepción**.\n",
    "- Los archivos se manejan como objetos que se crean usando la [función open](https://docs.python.org/3/library/functions.html#open)."
   ]
  },
  {
   "cell_type": "markdown",
   "id": "0f38bb1f",
   "metadata": {
    "slideshow": {
     "slide_type": "subslide"
    }
   },
   "source": [
    "# La función [open](https://docs.python.org/3/library/functions.html#open)\n",
    "<center>\n",
    "<img src=\"imagenes/funcion_open.png\" alt=\"Función open\" style=\"width:900px;\"/>\n",
    "</center>"
   ]
  },
  {
   "cell_type": "markdown",
   "id": "small-leadership",
   "metadata": {
    "slideshow": {
     "slide_type": "subslide"
    }
   },
   "source": [
    "# Veamos algunos  ejemplos"
   ]
  },
  {
   "cell_type": "markdown",
   "id": "d87a6d29",
   "metadata": {
    "slideshow": {
     "slide_type": "subslide"
    }
   },
   "source": [
    "# Caso 1: usamos modo \"w\"\n",
    "- ¿De **qué modo** se abre este archivo? ¿Qué significa?\n",
    "- Luego de la instrucción, ¿**dónde se encuentra** archivo.txt?\n",
    "- ¿De qué **tipo** es archivo.txt?\n",
    "- ¿Cuándo puede dar un error esta sentencia?\n"
   ]
  },
  {
   "cell_type": "code",
   "execution_count": null,
   "id": "another-frontier",
   "metadata": {
    "slideshow": {
     "slide_type": "fragment"
    }
   },
   "outputs": [],
   "source": [
    "file1 = open('archivo.txt', 'w')"
   ]
  },
  {
   "cell_type": "markdown",
   "id": "dedicated-combining",
   "metadata": {
    "slideshow": {
     "slide_type": "subslide"
    }
   },
   "source": [
    "# Caso 2: usamos modo \"x\"\n",
    "- ¿De **qué modo** se abre este archivo? ¿Qué significa?\n",
    "- Luego de la instrucción, ¿**dónde se encuentra** archivo.txt?\n",
    "- ¿De qué **tipo** es archivo.txt?\n",
    "- ¿Cuándo puede dar un error esta sentencia?"
   ]
  },
  {
   "cell_type": "code",
   "execution_count": null,
   "id": "other-server",
   "metadata": {
    "slideshow": {
     "slide_type": "fragment"
    }
   },
   "outputs": [],
   "source": [
    "file2 = open('archivo.txt', 'x')"
   ]
  },
  {
   "cell_type": "markdown",
   "id": "f86e7dfc",
   "metadata": {
    "slideshow": {
     "slide_type": "subslide"
    }
   },
   "source": [
    "# Caso 3: usamos  modo \"a\"\n",
    "\n",
    "Veremos este caso más adelante... "
   ]
  },
  {
   "cell_type": "markdown",
   "id": "assumed-dayton",
   "metadata": {
    "slideshow": {
     "slide_type": "subslide"
    }
   },
   "source": [
    "# Caso 4: ¿qué modo estamos usando?\n",
    "\n",
    "- ¿De **qué modo** se abre este archivo? ¿Qué significa?\n",
    "- ¿De qué **tipo** es archivo.txt?\n",
    "- ¿Cuándo puede dar un error esta sentencia?"
   ]
  },
  {
   "cell_type": "code",
   "execution_count": null,
   "id": "ultimate-breathing",
   "metadata": {
    "slideshow": {
     "slide_type": "fragment"
    }
   },
   "outputs": [],
   "source": [
    "file3 = open('archivo.txt')"
   ]
  },
  {
   "cell_type": "markdown",
   "id": "textile-audio",
   "metadata": {
    "slideshow": {
     "slide_type": "subslide"
    }
   },
   "source": [
    "## En realidad [la función open](https://docs.python.org/3/library/functions.html#open) tiene más argumentos:\n",
    "\n",
    "```python\n",
    "open(file, mode='r', buffering=-1, encoding=None, \n",
    "     errors=None, newline=None, closefd=True, opener=None)\n",
    "```\n",
    "- **encoding**: sólo para modo texto. Por defecto, la codificación establecida en las [configuraciones del sistema](https://docs.python.org/3.8/library/codecs.html#module-codecs) \n",
    "\n",
    "```python\n",
    "\tnotes = open(\"pp.xxx\", \"r+\", encoding=\"UTF-8\")\n",
    "```\n",
    "- En este caso, ¿debería llamarse pp.txt? \n",
    "- ¿Cómo sé cuál es la configuración por defecto?"
   ]
  },
  {
   "cell_type": "code",
   "execution_count": null,
   "id": "f6d20496",
   "metadata": {
    "slideshow": {
     "slide_type": "fragment"
    }
   },
   "outputs": [],
   "source": [
    "import locale\n",
    "locale.getlocale()"
   ]
  },
  {
   "cell_type": "markdown",
   "id": "54153304",
   "metadata": {
    "slideshow": {
     "slide_type": "subslide"
    }
   },
   "source": [
    "# ¿Qué pasa cuando el archivo está en otro directorio?\n",
    "Usamos [pathlib](https://docs.python.org/es/3/library/pathlib.html) descripta en la [PEP 428](https://peps.python.org/pep-0428/): una interfaz orientada a objetos que permite el manejo de rutas.\n"
   ]
  },
  {
   "cell_type": "code",
   "execution_count": null,
   "id": "46528725",
   "metadata": {
    "slideshow": {
     "slide_type": "fragment"
    }
   },
   "outputs": [],
   "source": [
    "from pathlib import Path\n",
    "file_muchachos = Path('ejemplos') / \"clase04\" / \"muchachos.txt\"\n",
    "file_muchachos"
   ]
  },
  {
   "cell_type": "markdown",
   "id": "ignored-currency",
   "metadata": {
    "slideshow": {
     "slide_type": "subslide"
    }
   },
   "source": [
    "# Archivos de texto vs. binarios"
   ]
  },
  {
   "cell_type": "code",
   "execution_count": null,
   "id": "6ef858a7",
   "metadata": {
    "slideshow": {
     "slide_type": "fragment"
    }
   },
   "outputs": [],
   "source": [
    "the_best_song_file = open(file_muchachos,\"rb\")\n",
    "lyrics = the_best_song_file.read()\n",
    "the_best_song_file.close()"
   ]
  },
  {
   "cell_type": "code",
   "execution_count": null,
   "id": "7c9de266",
   "metadata": {
    "slideshow": {
     "slide_type": "fragment"
    }
   },
   "outputs": [],
   "source": [
    "print(lyrics)"
   ]
  },
  {
   "cell_type": "code",
   "execution_count": null,
   "id": "ecd7b6d0",
   "metadata": {
    "slideshow": {
     "slide_type": "fragment"
    }
   },
   "outputs": [],
   "source": [
    "type(lyrics)"
   ]
  },
  {
   "cell_type": "markdown",
   "id": "50a9325a",
   "metadata": {
    "slideshow": {
     "slide_type": "fragment"
    }
   },
   "source": [
    "- El tipo **bytes** es una <span style=\"color:#cd7815\">secuencia inmutable de bytes</span>. \n",
    "- Solo admiten caracteres ASCII. "
   ]
  },
  {
   "cell_type": "code",
   "execution_count": null,
   "id": "849d3455",
   "metadata": {
    "slideshow": {
     "slide_type": "subslide"
    }
   },
   "outputs": [],
   "source": [
    "print(lyrics.decode('UTF-8')[:228])"
   ]
  },
  {
   "cell_type": "markdown",
   "id": "dc188091",
   "metadata": {
    "slideshow": {
     "slide_type": "fragment"
    }
   },
   "source": [
    "- <span style=\"color:#cd7815\">El tipo **str** de Python utiliza el estándar [Unicode](https://home.unicode.org/) para representar caracteres.</span>\n",
    "- Generalmente la codificación predeterminada es **UTF-8**.\n",
    "    -  UTF significa **Unicode Transformation Format**, y el **8** significa que se utilizan valores de 8 bits en la codificación."
   ]
  },
  {
   "cell_type": "markdown",
   "id": "ddf65f3a",
   "metadata": {
    "slideshow": {
     "slide_type": "subslide"
    }
   },
   "source": [
    "# Una rosa azul ..\n",
    "\n",
    "<img src=\"ejemplos/clase04/rosa_azul.jpg\" alt=\"Rosa azul\" style=\"width:200px;\"/>"
   ]
  },
  {
   "cell_type": "code",
   "execution_count": null,
   "id": "5307e738",
   "metadata": {
    "slideshow": {
     "slide_type": "fragment"
    }
   },
   "outputs": [],
   "source": [
    "file_rose = Path('ejemplos') / \"clase04\" / \"rosa_azul.jpg\"\n",
    "rose = open(file_rose,\"rb\")\n",
    "rose = rose.read()"
   ]
  },
  {
   "cell_type": "code",
   "execution_count": null,
   "id": "bb5d1ae8",
   "metadata": {
    "slideshow": {
     "slide_type": "fragment"
    }
   },
   "outputs": [],
   "source": [
    "rose"
   ]
  },
  {
   "cell_type": "markdown",
   "id": "e3c1b3b5",
   "metadata": {
    "slideshow": {
     "slide_type": "slide"
    }
   },
   "source": [
    "# ¿Cómo almacenamos datos en un archivo?\n",
    "El caso más sencillo: vamos a guardar solo texto plano."
   ]
  },
  {
   "cell_type": "code",
   "execution_count": null,
   "id": "06197b53",
   "metadata": {
    "slideshow": {
     "slide_type": "fragment"
    }
   },
   "outputs": [],
   "source": [
    "file_muchachos = Path('ejemplos') / \"clase04\" / \"muchachos1.txt\""
   ]
  },
  {
   "cell_type": "code",
   "execution_count": null,
   "id": "a553289f",
   "metadata": {
    "slideshow": {
     "slide_type": "fragment"
    }
   },
   "outputs": [],
   "source": [
    "f = open(file_muchachos, 'w')\n",
    "\n",
    "cad1 = \"De los pibes de Malvinas\"\n",
    "cad2 = \"Que jamás olvidaré.\"\n",
    "\n",
    "f.write(\"En Argentina nací\")\n",
    "f.write(\"Tierra del Diego y Lionel\")\n",
    "f.write(cad1)\n",
    "print(f.write(cad2))\n",
    "\n",
    "f.close()"
   ]
  },
  {
   "cell_type": "markdown",
   "id": "7dbdcc28",
   "metadata": {
    "slideshow": {
     "slide_type": "subslide"
    }
   },
   "source": [
    "- **write(cadena):** escribe *cadena* en el archivo y retorna cantidad de caracteres escritos.\n",
    "- **close():** cierra el archivo."
   ]
  },
  {
   "cell_type": "markdown",
   "id": "a44560bf",
   "metadata": {
    "slideshow": {
     "slide_type": "subslide"
    }
   },
   "source": [
    "# Ahora si: abrimos con modo \"a\"\n",
    "\n",
    "- ¿De **qué modo** se abre este archivo? ¿Qué significa?\n",
    "- Luego de la instrucción, ¿**dónde se encuentra** archivo.txt?\n",
    "- ¿De qué **tipo** es archivo.txt?\n",
    "- ¿Cuándo puede dar un error esta sentencia?"
   ]
  },
  {
   "cell_type": "code",
   "execution_count": null,
   "id": "b5e0ca45",
   "metadata": {
    "slideshow": {
     "slide_type": "fragment"
    }
   },
   "outputs": [],
   "source": [
    "f = open(file_muchachos, \"a\")\n",
    "f.write(\"*****************************\")\n",
    "f.write(\"HOLA QUE TAL\")\n",
    "f.close()"
   ]
  },
  {
   "cell_type": "markdown",
   "id": "eb1cf01a",
   "metadata": {
    "slideshow": {
     "slide_type": "subslide"
    }
   },
   "source": [
    "¿Qué pasa si no existe?"
   ]
  },
  {
   "cell_type": "code",
   "execution_count": null,
   "id": "d08cb41e",
   "metadata": {
    "slideshow": {
     "slide_type": "fragment"
    }
   },
   "outputs": [],
   "source": [
    "file_nuevo_muchachos = Path('ejemplos') / \"clase04\" / \"muchachosNUEVO.txt\""
   ]
  },
  {
   "cell_type": "code",
   "execution_count": null,
   "id": "b246885c",
   "metadata": {
    "slideshow": {
     "slide_type": "fragment"
    }
   },
   "outputs": [],
   "source": [
    "f = open(file_nuevo_muchachos, \"a\")"
   ]
  },
  {
   "cell_type": "markdown",
   "id": "2cf4a3bc",
   "metadata": {
    "slideshow": {
     "slide_type": "slide"
    }
   },
   "source": [
    "# ¿Cómo leemos los datos guardados?"
   ]
  },
  {
   "cell_type": "code",
   "execution_count": null,
   "id": "c223da11",
   "metadata": {
    "slideshow": {
     "slide_type": "fragment"
    }
   },
   "outputs": [],
   "source": [
    "f = open(file_muchachos, 'r')\n",
    "x = f.read(4)\n",
    "print(f.read())\n",
    "x"
   ]
  },
  {
   "cell_type": "markdown",
   "id": "6d8e18cf",
   "metadata": {
    "slideshow": {
     "slide_type": "fragment"
    }
   },
   "source": [
    "- **read(cantidad_bytes):** lee *cantidad_bytes* del archivo.\n",
    "- Si cantidad_bytes es <0 o no está, lee hasta fin de archivo.\n",
    "- <span style=\"color:#cd7815\">Retorna \"\" si EOF.</span>"
   ]
  },
  {
   "cell_type": "markdown",
   "id": "0ddbb814",
   "metadata": {
    "slideshow": {
     "slide_type": "subslide"
    }
   },
   "source": [
    "# CONSIGNA: probar en casa\n",
    "\n",
    "Analizar el siguiente ejemplo que muestra otras formas de leer caracteres desde un archivo de texto."
   ]
  },
  {
   "cell_type": "code",
   "execution_count": null,
   "id": "c377b2fe",
   "metadata": {
    "slideshow": {
     "slide_type": "fragment"
    }
   },
   "outputs": [],
   "source": [
    "file_muchachos = Path('ejemplos') / \"clase04\" / \"muchachos.txt\""
   ]
  },
  {
   "cell_type": "code",
   "execution_count": null,
   "id": "a14f36e3",
   "metadata": {
    "slideshow": {
     "slide_type": "fragment"
    }
   },
   "outputs": [],
   "source": [
    "def by_characters():\n",
    "    f = open(file_muchachos,\"r\")\n",
    "    for x in f.read():\n",
    "        print(x)\n",
    "    f.close()\n",
    "\n",
    "def by_lines():\n",
    "    f = open(file_muchachos,\"r\")\n",
    "    print(f.readlines())\n",
    "    f.close()\n",
    "\n",
    "def other_by_lines():\n",
    "    f = open(file_muchachos,\"r\")\n",
    "    for line in f:\n",
    "        print(line)\n",
    "    f.close()"
   ]
  },
  {
   "cell_type": "code",
   "execution_count": null,
   "id": "010634d1",
   "metadata": {
    "slideshow": {
     "slide_type": "subslide"
    }
   },
   "outputs": [],
   "source": [
    "def main():\n",
    "    print('Leo caracteres')\n",
    "    by_characters()\n",
    "    print('-' * 20)\n",
    "    print('Leo lineas')\n",
    "    by_lines()\n",
    "    print('-' * 20)\n",
    "    print('Otra forma')\n",
    "    other_by_lines()\n",
    "\n",
    "\n",
    "if __name__ == \"__main__\":\n",
    "    other_by_lines()"
   ]
  },
  {
   "cell_type": "markdown",
   "id": "cab46f12",
   "metadata": {
    "slideshow": {
     "slide_type": "slide"
    }
   },
   "source": [
    "# En resumen: - modos de apertura  \n",
    "\n",
    "- **'r'**: modo de lectura (**read**). Abre un archivo para lectura. **El modo por defecto, por lo que puede omitirse.**\n",
    "    * Si el archivo **no existe**, se genera un error **FileNotFoundError**.\n",
    "    * **Error**: intentar abrir un archivo que no existe o sin permisos.\n",
    "- **'w'**: modo de escritura (**write)**. Abre un archivo para escritura.\n",
    "    * Si el archivo **ya existe, se trunca** (se borra su contenido).\n",
    "    * **Si no existe, se crea uno nuevo**.\n",
    "    * **Error**: si no tengo permisos de escritura. Si no es el caso, no hay un error específico al abrir, pero se perderá el contenido del archivo si ya existía.\n"
   ]
  },
  {
   "cell_type": "markdown",
   "id": "29de517c",
   "metadata": {
    "slideshow": {
     "slide_type": "subslide"
    }
   },
   "source": [
    "# En resumen: - modos de apertura  (cont.)\n",
    "\n",
    "- **'a'**: modo para agregar (**append**). Abre un archivo para **agregar contenido al final**.\n",
    "    * Si el archivo **no existe, se crea uno nuevo**.\n",
    "    * **Error**: si el archivo **no tiene permisos de escritura**, se generará un error **PermissionError**.\n",
    " \n",
    "- **'x'**: modo de **creación**. Abre un archivo para escritura, pero **solo si no existe**.\n",
    "    * Si el archivo **ya existe**, se genera un error **FileExistsError**.\n",
    "    * **Error**: intentar abrir un archivo que ya existe o si no tenemos permisos de escritura. \n"
   ]
  },
  {
   "cell_type": "markdown",
   "id": "5d869045",
   "metadata": {
    "slideshow": {
     "slide_type": "subslide"
    }
   },
   "source": [
    "# En resumen: - modos de apertura  (cont.)\n",
    "\n",
    "- **'r+'**: modo de lectura y escritura (read and write). Abre un archivo para lectura y escritura. **El archivo debe existir**; de lo contrario, se genera un error **FileNotFoundError**.\n",
    "- **'w+'**: modo de lectura y escritura (write and read). Abre un archivo para lectura y escritura.\n",
    "    * **Si el archivo ya existe**, se trunca.\n",
    "    * **Si no existe**, se crea uno nuevo.\n",
    "- **'a+'**: modo para agregar y lectura (append and read). Abre un archivo para agregar **contenido al final** y también permite la lectura.\n",
    "    * Si el archivo **no existe**, se crea uno nuevo.\n",
    "    * Si el archivo **no tiene permisos de escritura**, se generará un error **PermissionError**\n",
    "- **'x+**: modo de creación. Crea un archivo para lectura y escritura. El archivo no debe existir.\n",
    "    * Si el archivo **ya existe**, se genera un error **FileExistsError**."
   ]
  },
  {
   "cell_type": "markdown",
   "id": "554c0576",
   "metadata": {
    "slideshow": {
     "slide_type": "subslide"
    }
   },
   "source": [
    "# En resumen: tipos de archivos\n",
    "\n",
    "- **'b'**: **binario** (binary). Se utiliza al especificar el modo de apertura (por ejemplo, 'rb', 'wb', 'ab') para abrir archivos en formato binario.\n",
    "- **'t'**: **texto** (text). Se utiliza al especificar el modo de apertura (por ejemplo, 'rt', 'wt', 'at') para abrir archivos en formato texto. **Es el formato por defecto, por lo que puede omitirse.**\n"
   ]
  },
  {
   "cell_type": "markdown",
   "id": "355f35bd",
   "metadata": {
    "slideshow": {
     "slide_type": "slide"
    }
   },
   "source": [
    "# ¿Qué pasa si necesito guardar información que tiene una estructura?\n",
    "\n",
    "- Pensemos en estos ejemplos:\n",
    "\n",
    "\t- Los puntajes cada vez que juego a un juego. Información tipo: **nombre jugador,  puntaje, fecha.**\n",
    "\t- El banco de preguntas:**tema, enunciado, respuesta correcta.**\n",
    "\t- Los Python plus de los estudiantes por turnos:**turno, nombre, apellido, num_legajo, cantidad_puntos, etc.**\n",
    "\n",
    "- En estos casos también podría usar un **archivo de texto**. ¿Cómo se les ocurre?\n"
   ]
  },
  {
   "cell_type": "markdown",
   "id": "d08ac1df",
   "metadata": {
    "slideshow": {
     "slide_type": "subslide"
    }
   },
   "source": [
    "# Algunas posibilidades\n",
    "\n",
    "```\n",
    "\t\n",
    "\t'Tema: Photograph - Intérprete: Ed Sheeran - Año: 2015'\n",
    "\t---\n",
    "\tTema: Photograph\n",
    "    Intérprete: Ed Sheeran\n",
    "    Año: 2015\n",
    "\t---\n",
    "\t'Photograph-Ed Sheeran-2015'\n",
    "\t'Photograph**Ed Sheeran**2015'\n",
    "\n",
    "```"
   ]
  },
  {
   "cell_type": "markdown",
   "id": "ba869115",
   "metadata": {
    "slideshow": {
     "slide_type": "fragment"
    }
   },
   "source": [
    "-  ¿Pros y contras?\t"
   ]
  },
  {
   "cell_type": "markdown",
   "id": "7c6872e2",
   "metadata": {
    "slideshow": {
     "slide_type": "subslide"
    }
   },
   "source": [
    "# Hay otras formas mejores..."
   ]
  },
  {
   "cell_type": "markdown",
   "id": "ef441bfa",
   "metadata": {
    "slideshow": {
     "slide_type": "slide"
    }
   },
   "source": [
    "# <span style=\"color:#cd7815\">JSON (JavaScript Object Notation)</span>\n",
    "\n",
    "- Es un **formato de intercambio de datos** muy popular. Por ejemplo:\n",
    "```\n",
    "\t{ \"Tema\": \"Photograph\",\n",
    "      \"Intérprete\": \"Ed Sheeran\",\n",
    "      \"Año\": 2015}\n",
    "    o \n",
    "     [{\"Tema\": \"Unintended\",\n",
    "      \"Intérprete\": \"Muse\",\n",
    "      \"Año\": 1999},\n",
    "      {\"Tema\": \"Photograph\",\n",
    "      \"Intérprete\": \"Ed Sheeran\",\n",
    "      \"Año\": 2015}]\n",
    "```\n",
    "- [+Info](https://www.json.org/json-en.html)"
   ]
  },
  {
   "cell_type": "markdown",
   "id": "f63b0c96",
   "metadata": {
    "slideshow": {
     "slide_type": "subslide"
    }
   },
   "source": [
    "## ¿Sólo para archivos?\n",
    "\n",
    "- Veamos este ejemplo: https://sampleapis.com/api-list/movies\n",
    "\n",
    "Y éste es solo uno de los tantos ejemplos ..."
   ]
  },
  {
   "cell_type": "markdown",
   "id": "e613e581",
   "metadata": {
    "slideshow": {
     "slide_type": "subslide"
    }
   },
   "source": [
    "# Módulo json\n",
    "- Python tiene un módulo que permite trabajar con este formato.\n",
    "- Para usarlo, debemos importarlo."
   ]
  },
  {
   "cell_type": "code",
   "execution_count": null,
   "id": "155d57b0",
   "metadata": {
    "slideshow": {
     "slide_type": "fragment"
    }
   },
   "outputs": [],
   "source": [
    "import json"
   ]
  },
  {
   "cell_type": "markdown",
   "id": "04dc41ea",
   "metadata": {
    "slideshow": {
     "slide_type": "fragment"
    }
   },
   "source": [
    "- Permite <span style=\"color:#cd7815\">serializar objetos</span>.\n",
    "    - serializamos con: **dumps()** y **dump()**.\n",
    "    - deserializamos con: **loads()** y **load()**.\n",
    "- Más info en: https://docs.python.org/3/library/json.html\n"
   ]
  },
  {
   "cell_type": "markdown",
   "id": "ee9c90c7",
   "metadata": {
    "slideshow": {
     "slide_type": "subslide"
    }
   },
   "source": [
    "# DESAFIO 1\n",
    "> Queremos guardar en un archivo información de la música que más me gusta.\n",
    "\n",
    "Vamos a generar un archivo con la siguiente estructura:\n",
    "- nombre de la banda o intérprete,\n",
    "- ¿es_solista?\n",
    "- ciudad y país en donde procede,\n",
    "- una referencia a su trabajo. "
   ]
  },
  {
   "cell_type": "markdown",
   "id": "715aefa9",
   "metadata": {
    "slideshow": {
     "slide_type": "subslide"
    }
   },
   "source": [
    "# Empecemos por los datos\n",
    "\n",
    "¿Qué estructura de Python les parece mejor para almacenar los datos antes de querer guardarlos en un archivo?\n"
   ]
  },
  {
   "cell_type": "code",
   "execution_count": null,
   "id": "a72a23bc",
   "metadata": {
    "slideshow": {
     "slide_type": "fragment"
    }
   },
   "outputs": [],
   "source": [
    "data = [\n",
    "    {\"nombre\": \"William Campbell\", \"es_solista\": False, \"ciudad\": \"La Plata\", \"pais\": \"Argentina\", \"ref\": \"www.instagram.com/williamcampbellok\"},\n",
    "    {\"nombre\": \"Marcos Fava\", \"es_solista\": True, \"ciudad\": \"La Plata\", \"pais\": \"Argentina\", \"ref\": \"https://open.spotify.com/intl-es/artist/2risap4rX5qNM54Gdiiuf1\"},\n",
    "    {\"nombre\": \"Ed Sheeran\", \"es_solista\": True, \"ciudad\": \"Halifax\", \"pais\": \"Reino Unido\", \"ref\": \"https://open.spotify.com/intl-es/artist/6eUKZXaKkcviH0Ku9w2n3V\"},\n",
    "    {\"nombre\": \"INXS\", \"es_solista\": False, \"ciudad\": \"Sidney\", \"pais\": \"Australia\",\"ref\": \"https://open.spotify.com/intl-es/artist/1eClJfHLoDI4rZe5HxzBFv?si=b-EIpUpNTqqhmM26k6mB4w\"},\n",
    "    {\"nombre\": \"La Ley\", \"es_solista\": False, \"ciudad\": \"Santiago\", \"pais\": \"Chile\", \"ref\": \"https://open.spotify.com/intl-es/artist/1ZVoRDO29AlDXiMkRLMZSK?si=j22YWc1wQByyODfT25Md7w\"},\n",
    "    {\"nombre\": \"Héroes del Silencio\", \"es_solista\": False, \"ciudad\": \"Zaragoza\", \"pais\": \"España\", \"ref\": \"https://open.spotify.com/intl-es/artist/3qAPxVwIQRBuz5ImPUxpZT?si=6o_JpVtBQSy44N0lzn_73A\"},\n",
    "    {\"nombre\": \"Panza\", \"es_solista\": False, \"ciudad\": \"Buenos Aires\", \"pais\": \"Argentina\", \"ref\": \"https://open.spotify.com/intl-es/artist/5FamANEkN5PMHyr3UuvpDd?si=o7dnBnOlRbWq70s39fsBTw\"},\n",
    "    {\"nombre\": \"Adele\", \"es_solista\": True, \"ciudad\": \"Tottenham\", \"pais\": \"Reino Unido\", \"ref\": \"https://open.spotify.com/intl-es/artist/4dpARuHxo51G3z768sgnrY?si=co6Jp1hyS76SjQfbCEY5Rw\"},\n",
    "    ]"
   ]
  },
  {
   "cell_type": "code",
   "execution_count": null,
   "id": "f9dd9355",
   "metadata": {
    "slideshow": {
     "slide_type": "fragment"
    }
   },
   "outputs": [],
   "source": [
    "type(data)"
   ]
  },
  {
   "cell_type": "code",
   "execution_count": null,
   "id": "c94c3405",
   "metadata": {
    "slideshow": {
     "slide_type": "subslide"
    }
   },
   "outputs": [],
   "source": [
    "file_route = Path('ejemplos') / \"clase04\" / \"musica.json\"\n",
    "music_file = open(file_route, \"w\")"
   ]
  },
  {
   "cell_type": "markdown",
   "id": "26288bc7",
   "metadata": {
    "slideshow": {
     "slide_type": "fragment"
    }
   },
   "source": [
    "### Ahora, vamos a guardar nuestros datos en el archivo:\n",
    "\n",
    "Necesitamos **serializar** el objeto referenciado con **data**: usamos **json.dump**"
   ]
  },
  {
   "cell_type": "code",
   "execution_count": null,
   "id": "fcdc92d2",
   "metadata": {
    "slideshow": {
     "slide_type": "fragment"
    }
   },
   "outputs": [],
   "source": [
    "import json\n",
    "\n",
    "json.dump(data, music_file)\n",
    "music_file.close()"
   ]
  },
  {
   "cell_type": "markdown",
   "id": "d1e0f87b",
   "metadata": {
    "slideshow": {
     "slide_type": "subslide"
    }
   },
   "source": [
    "# DESAFIO 2\n",
    "> Queremos visualizar los datos sobre mi música que previamente guardamos.\n",
    "\n",
    "Ahora necesitamos **deserializar** para trabajar con nuestra lista de diccionarios: usamos **json.load**"
   ]
  },
  {
   "cell_type": "code",
   "execution_count": null,
   "id": "d740823a",
   "metadata": {
    "slideshow": {
     "slide_type": "fragment"
    }
   },
   "outputs": [],
   "source": [
    "#Recordemos que: \n",
    "#file_route = Path('ejemplos') / \"clase04\" / \"musica.json\"\n",
    "\n",
    "file = open(file_route, \"r\")\n",
    "data = json.load(file)\n",
    "print(data)\n",
    "file.close()"
   ]
  },
  {
   "cell_type": "markdown",
   "id": "e37690e1",
   "metadata": {
    "slideshow": {
     "slide_type": "subslide"
    }
   },
   "source": [
    "¿De qué tipo de **data**?  "
   ]
  },
  {
   "cell_type": "code",
   "execution_count": null,
   "id": "b9ba85e6",
   "metadata": {
    "slideshow": {
     "slide_type": "fragment"
    }
   },
   "outputs": [],
   "source": [
    "type(data)"
   ]
  },
  {
   "cell_type": "markdown",
   "id": "af672e78",
   "metadata": {
    "slideshow": {
     "slide_type": "subslide"
    }
   },
   "source": [
    "## Abramos el [archivo](ejemplos/clase04/musica.json) y observemos el dato booleano: ¿algo raro?\n",
    "- Representación en Python\n",
    "    - En Python, los valores booleanos se representan con **True** y **False** (con la primera letra en mayúsculas)\n",
    "- Representación en JSON\n",
    "    - En JSON, los valors booleanos se representan con **true** y **false** (en minúsculas)\n"
   ]
  },
  {
   "cell_type": "markdown",
   "id": "97cd20d2",
   "metadata": {
    "slideshow": {
     "slide_type": "subslide"
    }
   },
   "source": [
    "###  Un poco más legible"
   ]
  },
  {
   "cell_type": "code",
   "execution_count": null,
   "id": "14479618",
   "metadata": {
    "slideshow": {
     "slide_type": "fragment"
    }
   },
   "outputs": [],
   "source": [
    "pretty_data = json.dumps(data, indent=4)\n",
    "#print(pretty_data)"
   ]
  },
  {
   "cell_type": "markdown",
   "id": "e294c210",
   "metadata": {
    "slideshow": {
     "slide_type": "fragment"
    }
   },
   "source": [
    "¿De qué tipo es **pretty_data**?"
   ]
  },
  {
   "cell_type": "code",
   "execution_count": null,
   "id": "a30b2e17",
   "metadata": {
    "slideshow": {
     "slide_type": "fragment"
    }
   },
   "outputs": [],
   "source": [
    "type(pretty_data)"
   ]
  },
  {
   "cell_type": "markdown",
   "id": "d07e2eaf",
   "metadata": {
    "slideshow": {
     "slide_type": "subslide"
    }
   },
   "source": [
    "# En resumen - JSON\n",
    "\n",
    "El **módulo json** permite acceder a las siguientes funciones:\n",
    "\n",
    "- **json.dump():** serializa un objeto Python a un objeto en formato JSON que puede almacenarse en un archivo.\n",
    "- **json.load():** deserializa un objeto JSON almacenado en un archivo a un objeto Python."
   ]
  },
  {
   "cell_type": "code",
   "execution_count": null,
   "id": "03504dab",
   "metadata": {},
   "outputs": [],
   "source": [
    "file_json = open(\"tempo.json\", \"w\")\n",
    "data = [{'first_name': 'Hilda', 'last_name': 'Lizarazu'}, {'first_name': 'Fabiana', 'last_name': 'Cantilo'}]\n",
    "json.dump(data, file_json)\n",
    "file_json.close()"
   ]
  },
  {
   "cell_type": "code",
   "execution_count": null,
   "id": "fc3bc3ee",
   "metadata": {},
   "outputs": [],
   "source": [
    "file_json = open(\"tempo.json\")\n",
    "data =  json.load(file_json)\n",
    "data"
   ]
  },
  {
   "cell_type": "markdown",
   "id": "ebdd5251",
   "metadata": {
    "slideshow": {
     "slide_type": "subslide"
    }
   },
   "source": [
    "# En resumen - JSON (cont.)\n",
    "\n",
    "El **módulo json** permite acceder a las siguientes funciones:\n",
    "\n",
    "- **json.dumps():** serializa un objeto Python a un objeto **str**.\n",
    "- **json.loads():** deserializa un objeto JSON (puede ser str o byte)  a un objeto Python."
   ]
  },
  {
   "cell_type": "code",
   "execution_count": null,
   "id": "e38d38bd",
   "metadata": {
    "slideshow": {
     "slide_type": "fragment"
    }
   },
   "outputs": [],
   "source": [
    "data = [{'first_name': 'Hilda', 'last_name': 'Lizarazu'}, {'first_name': 'Fabiana', 'last_name': 'Cantilo'}]\n",
    "data_str = json.dumps(data)\n",
    "data_str"
   ]
  },
  {
   "cell_type": "code",
   "execution_count": null,
   "id": "adbef15c",
   "metadata": {
    "slideshow": {
     "slide_type": "fragment"
    }
   },
   "outputs": [],
   "source": [
    "data =  json.loads(data_str)\n",
    "data"
   ]
  },
  {
   "cell_type": "markdown",
   "id": "8e02d6eb",
   "metadata": {
    "slideshow": {
     "slide_type": "subslide"
    }
   },
   "source": [
    "### Usa las siguientes tablas de conversión:\n",
    "- [json-to-Python](https://docs.python.org/3/library/json.html#json-to-py-table) \n",
    "- [Python-to-json](https://docs.python.org/3/library/json.html#py-to-json-table)"
   ]
  },
  {
   "cell_type": "markdown",
   "id": "237fd0df",
   "metadata": {
    "slideshow": {
     "slide_type": "slide"
    }
   },
   "source": [
    "# CSV: ¿más formatos?\n",
    "\n",
    "\n",
    "- <span style=\"color:#cd7815\">CSV (Comma Separated Values).</span>\n",
    "- Es un formato muy común para importar/exportar desde/hacia hojas de cálculo y bases de datos.\n",
    "- Ejemplo:\n",
    "\n",
    "```\n",
    "nombre,es_solista,ciudad,pais,referencia\n",
    "William Campbell,False,La Plata,Argentina,www.instagram.com/williamcampbellok\n",
    "Marcos Fava,True,La Plata,Argentina,https://open.spotify.com/intl-es/artist/2risap4rX5qNM54Gdiiuf1\n",
    "Ed Sheeran,True,Halifax,Reino Unido,https://open.spotify.com/intl-es/artist/6eUKZXaKkcviH0Ku9w2n3V\n",
    "```\n",
    "- [+Info](https://docs.python.org/3/library/csv.html) - [PEP 305](https://www.python.org/dev/peps/pep-0305/)"
   ]
  },
  {
   "cell_type": "markdown",
   "id": "206ee347",
   "metadata": {
    "slideshow": {
     "slide_type": "subslide"
    }
   },
   "source": [
    "# Datasets\n",
    "\n",
    "**Antes que nada:** ¿qué es un dataset?\n",
    "\n",
    "- Hay muchos datasets disponibles de muchas temáticas:\n",
    "- Datos de gestión de gobiernos:\n",
    "    - Har un portal de datos de [Argentina](https://datos.gob.ar/dataset), de [CABA](https://data.buenosaires.gob.ar/), de [pcia. de Buenos Aires](https://catalogo.datos.gba.gob.ar/).\n",
    "    - Datos del [Banco mundial](https://data.world/)\n",
    "    - Portal [Kaggle](https://www.kaggle.com/)\n",
    "    - [IMDB](https://www.imdb.com/interfaces/)\n",
    "    - Y muchos más..."
   ]
  },
  {
   "cell_type": "markdown",
   "id": "6863fe7e",
   "metadata": {
    "slideshow": {
     "slide_type": "fragment"
    }
   },
   "source": [
    "- Muchos son datos abiertos, pero otros... no tanto...\n",
    " \n",
    "- ¡PRESTAR ATENCIÓN  a la licencias y requisitos para su uso!\n",
    "- Muchos en formato **CSV** y otros en **JSON**"
   ]
  },
  {
   "cell_type": "markdown",
   "id": "db344540",
   "metadata": {
    "slideshow": {
     "slide_type": "subslide"
    }
   },
   "source": [
    "#  Nuestra música en Spotify \n",
    "\n",
    "Vamos a trabajar con el archivo: [songs_normalize.csv](https://www.kaggle.com/datasets/paradisejoy/top-hits-spotify-from-20002019)\n",
    "- Tenemos una copia de la [descripción del dataset](ejemplos/clase04/Detalle_DS_Spotify.txt) en donde se explica a qué se refiere cada campo."
   ]
  },
  {
   "cell_type": "code",
   "execution_count": null,
   "id": "d7b45245",
   "metadata": {
    "slideshow": {
     "slide_type": "fragment"
    }
   },
   "outputs": [],
   "source": [
    "import csv\n",
    "file_route = Path('ejemplos') / \"clase04\" / \"songs_normalize.csv\""
   ]
  },
  {
   "cell_type": "code",
   "execution_count": null,
   "id": "d94c152d",
   "metadata": {
    "slideshow": {
     "slide_type": "fragment"
    }
   },
   "outputs": [],
   "source": [
    "file = open(file_route, \"r\")\n",
    "csv_reader = csv.reader(file, delimiter=',')"
   ]
  },
  {
   "cell_type": "code",
   "execution_count": null,
   "id": "0781cfc4",
   "metadata": {
    "slideshow": {
     "slide_type": "subslide"
    }
   },
   "outputs": [],
   "source": [
    "#encabezado = csvreader.__next__()\n",
    "header = next(csv_reader)\n",
    "print(header)"
   ]
  },
  {
   "cell_type": "code",
   "execution_count": null,
   "id": "f471eabb",
   "metadata": {
    "slideshow": {
     "slide_type": "fragment"
    }
   },
   "outputs": [],
   "source": [
    "file.close()"
   ]
  },
  {
   "cell_type": "markdown",
   "id": "c40e8692",
   "metadata": {
    "slideshow": {
     "slide_type": "subslide"
    }
   },
   "source": [
    "# El módulo csv\n",
    "\n",
    "- Hay que importarlo.\n",
    "- **csv.reader**: crea un objeto **iterador** que nos permite recorrer las líneas del archivo.\n",
    "- ¿Por qué incluimos el paŕametro **delimiter**? ¿[Dialectos](https://docs.python.org/3/library/csv.html#csv.Dialect)?\n",
    "\n",
    "\n",
    "```python\n",
    "     csv_reader = csv.reader(file, delimiter=',')\n",
    "```"
   ]
  },
  {
   "cell_type": "markdown",
   "id": "99002825",
   "metadata": {
    "slideshow": {
     "slide_type": "subslide"
    }
   },
   "source": [
    "# DESAFIO 3\n",
    "\n",
    "> Busquemos cuántos temas hay de Adele en el dataset de Spotify.\n",
    "\n",
    "Comencemos nuevamente el proceso."
   ]
  },
  {
   "cell_type": "code",
   "execution_count": null,
   "id": "08dcbcc4",
   "metadata": {
    "slideshow": {
     "slide_type": "fragment"
    }
   },
   "outputs": [],
   "source": [
    "file = open(file_route, \"r\")\n",
    "csv_reader = csv.reader(file, delimiter=',')\n",
    "\n",
    "#header = csvreader.__next__()\n",
    "header = next(csv_reader)\n",
    "print(header)"
   ]
  },
  {
   "cell_type": "code",
   "execution_count": null,
   "id": "22dbe8c0",
   "metadata": {
    "slideshow": {
     "slide_type": "subslide"
    }
   },
   "outputs": [],
   "source": [
    "for line in csv_reader:\n",
    "    if line[0] == \"Adele\": \n",
    "        print(f\"{line[1]:<40} {line[17]}\")\n",
    "file.close()"
   ]
  },
  {
   "cell_type": "markdown",
   "id": "b3ee3ba5",
   "metadata": {
    "slideshow": {
     "slide_type": "fragment"
    }
   },
   "source": [
    "- ¿Cómo se accede a cada dato?\n",
    "- ¿De qué tipo son header y line?"
   ]
  },
  {
   "cell_type": "code",
   "execution_count": null,
   "id": "4043976a",
   "metadata": {},
   "outputs": [],
   "source": [
    "type(header)"
   ]
  },
  {
   "cell_type": "markdown",
   "id": "9a6fc4ed",
   "metadata": {
    "slideshow": {
     "slide_type": "subslide"
    }
   },
   "source": [
    "# Otra solución ..."
   ]
  },
  {
   "cell_type": "code",
   "execution_count": null,
   "id": "ee3e4469",
   "metadata": {
    "slideshow": {
     "slide_type": "fragment"
    }
   },
   "outputs": [],
   "source": [
    "file = open(file_route, \"r\")\n",
    "csv_reader = csv.reader(file, delimiter=',')\n",
    "\n",
    "adele_songs = filter(lambda x:  x[0] == \"Adele\", csv_reader)\n",
    "for elem in adele_songs:\n",
    "        print(f\"{elem[1]:<40} {elem[17]}\")\n",
    "    \n",
    "file.close()"
   ]
  },
  {
   "cell_type": "markdown",
   "id": "e5c52a84",
   "metadata": {
    "slideshow": {
     "slide_type": "subslide"
    }
   },
   "source": [
    "# Otra forma de acceder: csv.DictReader"
   ]
  },
  {
   "cell_type": "code",
   "execution_count": null,
   "id": "23eaa42d",
   "metadata": {
    "slideshow": {
     "slide_type": "fragment"
    }
   },
   "outputs": [],
   "source": [
    "file = open(file_route, \"r\")\n",
    "csv_reader = csv.DictReader(file, delimiter=',')\n",
    "\n",
    "adele_songs = filter(lambda x:  x[\"artist\"] == \"Adele\", csv_reader)\n",
    "\n",
    "for elem in adele_songs:\n",
    "        print(f\"{elem['song']:<40} {elem['genre']}\")\n",
    "    \n",
    "file.close()"
   ]
  },
  {
   "cell_type": "markdown",
   "id": "37db2d01",
   "metadata": {
    "slideshow": {
     "slide_type": "subslide"
    }
   },
   "source": [
    "# Hagamos la siguiente modificación a nuestro código:\n",
    "> Agregar un título al listado: \"Adele en Spotify\"."
   ]
  },
  {
   "cell_type": "code",
   "execution_count": null,
   "id": "d27ed027",
   "metadata": {
    "slideshow": {
     "slide_type": "subslide"
    }
   },
   "outputs": [],
   "source": [
    "file = open(file_route, \"r\")\n",
    "csv_reader = csv.DictReader(file, delimiter=',')"
   ]
  },
  {
   "cell_type": "code",
   "execution_count": null,
   "id": "952e1261",
   "metadata": {
    "slideshow": {
     "slide_type": "fragment"
    }
   },
   "outputs": [],
   "source": [
    "adele_songs = filter(lambda x:  x[\"artist\"] == \"Adele\", csv_reader)\n",
    "print(\"***Adele en Spotify\")\n",
    "for elem in adele_songs:\n",
    "        print(f\"{elem['song']:<40} {elem['genre']}\")\n",
    "#file.close()"
   ]
  },
  {
   "cell_type": "markdown",
   "id": "daea0cc0",
   "metadata": {
    "slideshow": {
     "slide_type": "fragment"
    }
   },
   "source": [
    "No nos gusta y queremos agregar una tabulación para que que quede mejor. Modifiquemos y volvamos a ejecutar...\n",
    "\n",
    "¿Qué observamos?"
   ]
  },
  {
   "cell_type": "markdown",
   "id": "309e6e5d",
   "metadata": {
    "slideshow": {
     "slide_type": "subslide"
    }
   },
   "source": [
    "# Recordemos que ...\n",
    "\n",
    "> <span style=\"color:#cd7815\">csv_reader es un **iterador**</span> por lo que cuando llegamos al final de la iteración ya no vuelve a comenzar.\n"
   ]
  },
  {
   "cell_type": "markdown",
   "id": "09fd51a8",
   "metadata": {
    "slideshow": {
     "slide_type": "fragment"
    }
   },
   "source": [
    "En un ejemplo más adelante veremos otra forma de trabajar teniendo en cuenta esto."
   ]
  },
  {
   "cell_type": "markdown",
   "id": "d790cdb4",
   "metadata": {
    "slideshow": {
     "slide_type": "subslide"
    }
   },
   "source": [
    "# Creamos un archivo csv con nuestra música"
   ]
  },
  {
   "cell_type": "markdown",
   "id": "23506bd6",
   "metadata": {
    "slideshow": {
     "slide_type": "fragment"
    }
   },
   "source": [
    "- **csv.writer:** retorna un objeto que convierte los datos con los que trabajamos en el programa en cadenas con el formato delimitadas con el separador correspondiente. "
   ]
  },
  {
   "cell_type": "code",
   "execution_count": null,
   "id": "69181ab9",
   "metadata": {
    "slideshow": {
     "slide_type": "subslide"
    }
   },
   "outputs": [],
   "source": [
    "file_route_json = Path('ejemplos') / \"clase04\" / \"musica.json\"\n",
    "file_route_csv = Path('ejemplos') / \"clase04\" / \"musica.csv\""
   ]
  },
  {
   "cell_type": "code",
   "execution_count": null,
   "id": "eadaedb2",
   "metadata": {
    "slideshow": {
     "slide_type": "fragment"
    }
   },
   "outputs": [],
   "source": [
    "#import csv\n",
    "#import json\n",
    "\n",
    "file_json = open(file_route_json)\n",
    "file_csv = open(file_route_csv, \"w\")"
   ]
  },
  {
   "cell_type": "code",
   "execution_count": null,
   "id": "afe6475a",
   "metadata": {
    "slideshow": {
     "slide_type": "fragment"
    }
   },
   "outputs": [],
   "source": [
    "music = json.load(file_json)\n",
    "writer = csv.writer(file_csv)"
   ]
  },
  {
   "cell_type": "markdown",
   "id": "643a45c9",
   "metadata": {
    "slideshow": {
     "slide_type": "fragment"
    }
   },
   "source": [
    "¿Qué contiene **music**? ¿De qué tipo es?"
   ]
  },
  {
   "cell_type": "code",
   "execution_count": null,
   "id": "4d4adacb",
   "metadata": {
    "slideshow": {
     "slide_type": "fragment"
    }
   },
   "outputs": [],
   "source": [
    "type(music)"
   ]
  },
  {
   "cell_type": "code",
   "execution_count": null,
   "id": "e0b15b9b",
   "metadata": {
    "slideshow": {
     "slide_type": "subslide"
    }
   },
   "outputs": [],
   "source": [
    "# Grabo el encabezado con los nombres de las columnas\n",
    "writer.writerow([\"nombre\", \"es_solista\", \"ciudad\", \"pais\", \"referencia\"])\n",
    "#Grabo los datos\n",
    "for elem in music:\n",
    "    writer.writerow( [elem[\"nombre\"], elem[\"es_solista\"], elem[\"ciudad\"], elem[\"pais\"], elem[\"ref\"] ])\n",
    "\n",
    "file_json.close()\n",
    "file_csv.close()"
   ]
  },
  {
   "cell_type": "markdown",
   "id": "33e98e57",
   "metadata": {
    "slideshow": {
     "slide_type": "fragment"
    }
   },
   "source": [
    "Exploremos el archivo .... [musica.csv](ejemplos/clase04/musica.csv)"
   ]
  },
  {
   "cell_type": "markdown",
   "id": "dd2d8e83",
   "metadata": {
    "slideshow": {
     "slide_type": "subslide"
    }
   },
   "source": [
    "#  Ahora lo leemos desde Python"
   ]
  },
  {
   "cell_type": "code",
   "execution_count": null,
   "id": "b488c219",
   "metadata": {
    "slideshow": {
     "slide_type": "fragment"
    }
   },
   "outputs": [],
   "source": [
    "#Recordemos que \n",
    "#file_route_csv = Path('ejemplos') / \"clase04\" / \"musica.csv\"\"\n",
    "file_cvs = open(file_route_csv, \"r\")\n",
    "csv_reader = csv.reader(file_cvs, delimiter=',')\n",
    "for line in csv_reader:\n",
    "    print(line)\n",
    "file_csv.close()"
   ]
  },
  {
   "cell_type": "markdown",
   "id": "7789d894",
   "metadata": {
    "slideshow": {
     "slide_type": "fragment"
    }
   },
   "source": [
    "¿Notan algo respecto a los datos? Observemos el campo booleano."
   ]
  },
  {
   "cell_type": "markdown",
   "id": "2c505f9a",
   "metadata": {
    "slideshow": {
     "slide_type": "subslide"
    }
   },
   "source": [
    "# En resumen - CSV \n",
    "\n",
    "El **módulo csv** permite acceder a las siguientes funciones:\n",
    "\n",
    "- **csv.reader(csvfile):** retorma un objeto iterable **reader** para procesar las líneas del archivo csvfile.\n",
    "- **csv.writer(csvfile):** retorna un objeto **writer**  responsable de convertir los datos del usuario en cadenas delimitadas en archivo csvfile. "
   ]
  },
  {
   "cell_type": "code",
   "execution_count": null,
   "id": "1a369cae",
   "metadata": {
    "slideshow": {
     "slide_type": "subslide"
    }
   },
   "outputs": [],
   "source": [
    "import csv\n",
    "file_csv = open(\"tempo.csv\", \"w\")\n",
    "\n",
    "writer = csv.writer(file_csv)\n",
    "writer.writerow(['first_name', 'last_name'])\n",
    "writer.writerow([\"Hilda\", \"Lizarazu\"])\n",
    "writer.writerow([\"Fabiana\", \"Cantilo\"])\n",
    "file_csv.close()"
   ]
  },
  {
   "cell_type": "code",
   "execution_count": null,
   "id": "376b95e9",
   "metadata": {
    "slideshow": {
     "slide_type": "fragment"
    }
   },
   "outputs": [],
   "source": [
    "file_csv = open(\"tempo.csv\")\n",
    "csv_reader = csv.reader(file_csv, delimiter=',')\n",
    "for line in csv_reader:\n",
    "    print(line)"
   ]
  },
  {
   "cell_type": "markdown",
   "id": "8e79dc98",
   "metadata": {
    "slideshow": {
     "slide_type": "subslide"
    }
   },
   "source": [
    "# En resumen - CSV (cont.)\n",
    "\n",
    "El **módulo csv** permite acceder a las siguientes funciones:\n",
    "\n",
    "- **csv.DicReader(csvfile):** retorna un objeto **reader** pero asigna la información de cada fila a un diccionario cuyas claves se proporcionan mediante el parámetro opcional fieldnames o extraídos de la primera fila. \n",
    "- **csv.DictWriter(csvfile):** crea un objeto **writer** pero utilizando un diccionario para generar las fileas en el archivos csvfile."
   ]
  },
  {
   "cell_type": "code",
   "execution_count": null,
   "id": "3b72e890",
   "metadata": {
    "slideshow": {
     "slide_type": "subslide"
    }
   },
   "outputs": [],
   "source": [
    "file_csv = open(\"tempo.csv\", \"w\")\n",
    "fieldnames = ['first_name', 'last_name']\n",
    "writer = csv.DictWriter(file_csv, fieldnames=fieldnames)\n",
    "writer.writeheader()\n",
    "writer.writerow({'first_name': 'Hilda', 'last_name': 'Lizarazu'})\n",
    "writer.writerow({'first_name': 'Fabiana', 'last_name': 'Cantilo'})\n",
    "file_csv.close()"
   ]
  },
  {
   "cell_type": "code",
   "execution_count": null,
   "id": "9973bffd",
   "metadata": {
    "slideshow": {
     "slide_type": "fragment"
    }
   },
   "outputs": [],
   "source": [
    "file_csv = open(\"tempo.csv\")\n",
    "reader = csv.DictReader(file_csv)\n",
    "print(list(reader))\n",
    "for row in reader:\n",
    "    print(row['first_name'], row['last_name'])\n",
    "\n"
   ]
  },
  {
   "cell_type": "markdown",
   "id": "ff9297b9",
   "metadata": {
    "slideshow": {
     "slide_type": "subslide"
    }
   },
   "source": [
    "# JSON vs. CSV"
   ]
  },
  {
   "cell_type": "markdown",
   "id": "38236f8a",
   "metadata": {
    "slideshow": {
     "slide_type": "fragment"
    }
   },
   "source": [
    "- ¿Con qué tipo de datos trabajan? (¿texto o binario?)"
   ]
  },
  {
   "cell_type": "markdown",
   "id": "a33d6785",
   "metadata": {
    "slideshow": {
     "slide_type": "fragment"
    }
   },
   "source": [
    "- ¿En qué casos usamos archivos en formato json?\n"
   ]
  },
  {
   "cell_type": "markdown",
   "id": "9f4e1828",
   "metadata": {
    "slideshow": {
     "slide_type": "fragment"
    }
   },
   "source": [
    "- ¿En qué casos usamos archivos en formato csv?\n"
   ]
  },
  {
   "cell_type": "markdown",
   "id": "6afccd14",
   "metadata": {
    "slideshow": {
     "slide_type": "slide"
    }
   },
   "source": [
    "# La sentencia with\n",
    "\n",
    "La [sentencia with](https://docs.python.org/3/reference/compound_stmts.html#with) crea un objeto denominado **runtime context** o **contexto de tiempo de ejecución** que permite ejecutar un grupo de sentencias bajo el control de un **administrador de contexto** o **context manager**.\n",
    "¿Qué es esto? "
   ]
  },
  {
   "cell_type": "markdown",
   "id": "9227134f",
   "metadata": {
    "slideshow": {
     "slide_type": "fragment"
    }
   },
   "source": [
    "> <span style=\"color:#cd7815\">Un administrador de contexto  permite asignar y liberar recursos  cuando se desee.</span>"
   ]
  },
  {
   "cell_type": "markdown",
   "id": "308f831c",
   "metadata": {
    "slideshow": {
     "slide_type": "fragment"
    }
   },
   "source": [
    "El ejemplo típico se da en  el acceso a archivos, ya que son **recursos externos** a nuestros programas que requieren una gestión adecuada."
   ]
  },
  {
   "cell_type": "code",
   "execution_count": null,
   "id": "9c017722",
   "metadata": {
    "slideshow": {
     "slide_type": "subslide"
    }
   },
   "outputs": [],
   "source": [
    "with open(file_route_csv)  as file_csv:\n",
    "    csv_reader = csv.reader(file_csv, delimiter=',') \n",
    "    header, data = next(csv_reader), list(csv_reader)\n",
    "    \n",
    "print(header)\n",
    "for line in data:\n",
    "    print(line)"
   ]
  },
  {
   "cell_type": "markdown",
   "id": "746bde4c",
   "metadata": {
    "slideshow": {
     "slide_type": "fragment"
    }
   },
   "source": [
    "- ¿Dónde se cierra el archivo?\n",
    "- ¿Por qué les parece que trabajamos **data** como una lista?"
   ]
  },
  {
   "cell_type": "markdown",
   "id": "23fe5b83",
   "metadata": {
    "slideshow": {
     "slide_type": "slide"
    }
   },
   "source": [
    "# CONSIGNA: tarea para el hogar \n",
    "\n",
    "> Dado el conjunto de datos de Spotify, queremos:\n",
    "\n",
    ">    1- Guardar en otro archivo, en formato json, las canciones que tienen asignado más de un género.\n",
    "\n",
    ">    2- Los cinco (5) artistas con más canciones en el dataset durante el año 2019.\n"
   ]
  },
  {
   "cell_type": "code",
   "execution_count": null,
   "id": "18e0c633",
   "metadata": {
    "slideshow": {
     "slide_type": "fragment"
    }
   },
   "outputs": [],
   "source": [
    "# Solución\n"
   ]
  },
  {
   "cell_type": "markdown",
   "id": "e88984a0",
   "metadata": {
    "slideshow": {
     "slide_type": "slide"
    }
   },
   "source": [
    "# Exploremos el siguiente [dataset de películas](https://www.kaggle.com/datasets/disham993/9000-movies-dataset)\n"
   ]
  },
  {
   "cell_type": "code",
   "execution_count": null,
   "id": "4cbdc20b",
   "metadata": {
    "slideshow": {
     "slide_type": "fragment"
    }
   },
   "outputs": [],
   "source": [
    "file_route = Path(\"ejemplos\") / \"clase04\" / \"mymoviedb.csv\"\n",
    "\n",
    "with open(file_route, \"r\") as file_csv:\n",
    "    csv_reader = csv.reader(file_csv)\n",
    "    header, data = next(csv_reader), list(csv_reader)"
   ]
  },
  {
   "cell_type": "code",
   "execution_count": null,
   "id": "fd317fcb",
   "metadata": {
    "slideshow": {
     "slide_type": "fragment"
    }
   },
   "outputs": [],
   "source": [
    "header"
   ]
  },
  {
   "cell_type": "code",
   "execution_count": null,
   "id": "85d85753",
   "metadata": {
    "slideshow": {
     "slide_type": "subslide"
    }
   },
   "outputs": [],
   "source": [
    "data[:1]"
   ]
  },
  {
   "cell_type": "markdown",
   "id": "4093259a",
   "metadata": {
    "slideshow": {
     "slide_type": "subslide"
    }
   },
   "source": [
    "# DESAFIO 4\n",
    "\n",
    "> Queremos ver qué películas tienen más de 9980 votos.\n"
   ]
  },
  {
   "cell_type": "markdown",
   "id": "054f1867",
   "metadata": {
    "slideshow": {
     "slide_type": "fragment"
    }
   },
   "source": [
    "Deberíamos trabajar con la columna Vote_Count (columna 4)"
   ]
  },
  {
   "cell_type": "code",
   "execution_count": null,
   "id": "06a11342",
   "metadata": {
    "slideshow": {
     "slide_type": "fragment"
    }
   },
   "outputs": [],
   "source": [
    "movies = filter(lambda x: x[4] > \"9980\", data)\n",
    "for movie in movies:\n",
    "    print(movie[1])"
   ]
  },
  {
   "cell_type": "markdown",
   "id": "cb92ec1e",
   "metadata": {
    "slideshow": {
     "slide_type": "fragment"
    }
   },
   "source": [
    "- ¿Hay algún problema?\n",
    "\n",
    "**Probar en casa:**  convertir a int x[4]. **Spoiler:** da error. ¿Por qué?"
   ]
  },
  {
   "cell_type": "markdown",
   "id": "a2f149d0",
   "metadata": {
    "slideshow": {
     "slide_type": "subslide"
    }
   },
   "source": [
    "# DESAFIO 5\n",
    "\n",
    "> Queremos ver los idiomas de las películas.\n",
    "\n"
   ]
  },
  {
   "cell_type": "code",
   "execution_count": null,
   "id": "d9820378",
   "metadata": {
    "slideshow": {
     "slide_type": "fragment"
    }
   },
   "outputs": [],
   "source": [
    "#header"
   ]
  },
  {
   "cell_type": "code",
   "execution_count": null,
   "id": "4c45a8a2",
   "metadata": {
    "slideshow": {
     "slide_type": "fragment"
    }
   },
   "outputs": [],
   "source": [
    "languages = map(lambda x: x[6], data)\n",
    "print(list(languages))"
   ]
  },
  {
   "cell_type": "markdown",
   "id": "2c16d3a4",
   "metadata": {
    "slideshow": {
     "slide_type": "subslide"
    }
   },
   "source": [
    "## ¿Nos interesa que se repita?"
   ]
  },
  {
   "cell_type": "code",
   "execution_count": null,
   "id": "0cbfa5a9",
   "metadata": {
    "slideshow": {
     "slide_type": "fragment"
    }
   },
   "outputs": [],
   "source": [
    "languages = set(map(lambda x: x[6], data))"
   ]
  },
  {
   "cell_type": "code",
   "execution_count": null,
   "id": "a16bf7dc",
   "metadata": {
    "slideshow": {
     "slide_type": "fragment"
    }
   },
   "outputs": [],
   "source": [
    "print(languages)"
   ]
  },
  {
   "cell_type": "markdown",
   "id": "7f456c36",
   "metadata": {
    "slideshow": {
     "slide_type": "fragment"
    }
   },
   "source": [
    "## <center>Notamos que hay datos que no son correctos. </center> "
   ]
  },
  {
   "cell_type": "markdown",
   "id": "ab00e470",
   "metadata": {
    "slideshow": {
     "slide_type": "subslide"
    }
   },
   "source": [
    "# <center> Más adelante veremos cómo hay otras formas de procesar estos datasets</center>"
   ]
  },
  {
   "cell_type": "markdown",
   "id": "433a4352",
   "metadata": {
    "slideshow": {
     "slide_type": "slide"
    }
   },
   "source": [
    "# DESAFIO 6\n",
    "\n",
    "> Queremos descargar el poster de las Spiderman."
   ]
  },
  {
   "cell_type": "code",
   "execution_count": null,
   "id": "901e44e2",
   "metadata": {
    "slideshow": {
     "slide_type": "fragment"
    }
   },
   "outputs": [],
   "source": [
    "data[:1]"
   ]
  },
  {
   "cell_type": "code",
   "execution_count": null,
   "id": "b9f54ab8",
   "metadata": {
    "slideshow": {
     "slide_type": "fragment"
    }
   },
   "outputs": [],
   "source": [
    "spiderman = data[:1][0]\n",
    "poster_spiderman = spiderman[8]\n",
    "poster_spiderman"
   ]
  },
  {
   "cell_type": "code",
   "execution_count": null,
   "id": "4e02f780",
   "metadata": {
    "slideshow": {
     "slide_type": "subslide"
    }
   },
   "outputs": [],
   "source": [
    "import requests\n",
    "image_route = Path(\"ejemplos\") / \"clase04\" / \"poster_spiderman.jpg\"\n",
    "\n",
    "image = requests.get(poster_spiderman)\n",
    "with open(image_route, 'wb') as f:\n",
    "    f.write(image.content)"
   ]
  },
  {
   "cell_type": "markdown",
   "id": "e9d4f880",
   "metadata": {
    "slideshow": {
     "slide_type": "fragment"
    }
   },
   "source": [
    "> El módulo [request](https://requests.readthedocs.io/en/latest/) permite realizar peticiones HTTP.\n",
    "\n",
    "En este caso, estamos realizando un GET  de un recurso ubicado en la URL dada: 'https://image.tmdb.org/t/p/original/1g0dhYtq4irTY1GPXvft6k4YLjm.jpg'\n"
   ]
  },
  {
   "cell_type": "markdown",
   "id": "dac2559b",
   "metadata": {
    "slideshow": {
     "slide_type": "slide"
    }
   },
   "source": [
    "# CONSIGNA:  tarea para el hogar \n",
    "\n",
    "Dados los módulos de juegos mostrados en la clase, modificar el código para que:\n",
    "\n",
    "1. Se puedan jugar cada juego en forma independiente o desde el módulo juegos.\n",
    "2. Si se juega desde el módulo juegos, guardar en un archivo el día, hora en que se jugó cada juego. \n",
    "\n",
    "Para la parte 2, deben elegir cuál es la mejor estructura y tipo de archivo  utilizar. \n",
    "- Si quieren, subir el código modificado a su  repositorio en  GitHub y compartir el enlace a la cuenta @clauBanchoff Y @sofiamartin."
   ]
  },
  {
   "cell_type": "markdown",
   "id": "81149d76",
   "metadata": {
    "slideshow": {
     "slide_type": "slide"
    }
   },
   "source": [
    "# Seguimos la próxima ...\n"
   ]
  }
 ],
 "metadata": {
  "celltoolbar": "Slideshow",
  "kernelspec": {
   "display_name": "Python 3 (ipykernel)",
   "language": "python",
   "name": "python3"
  },
  "language_info": {
   "codemirror_mode": {
    "name": "ipython",
    "version": 3
   },
   "file_extension": ".py",
   "mimetype": "text/x-python",
   "name": "python",
   "nbconvert_exporter": "python",
   "pygments_lexer": "ipython3",
   "version": "3.11.11"
  }
 },
 "nbformat": 4,
 "nbformat_minor": 5
}
