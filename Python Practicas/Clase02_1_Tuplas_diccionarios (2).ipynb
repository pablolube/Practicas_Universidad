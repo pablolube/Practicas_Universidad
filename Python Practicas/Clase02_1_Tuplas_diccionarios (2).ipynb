{
 "cells": [
  {
   "cell_type": "markdown",
   "id": "private-distributor",
   "metadata": {
    "slideshow": {
     "slide_type": "slide"
    }
   },
   "source": [
    "# Lenguaje  Python\n",
    "## Cursada 2025\n",
    "\n",
    "## Tuplas y diccionarios"
   ]
  },
  {
   "cell_type": "markdown",
   "id": "worthy-smell",
   "metadata": {
    "slideshow": {
     "slide_type": "slide"
    }
   },
   "source": [
    " # Trabajamos con listas\n"
   ]
  },
  {
   "cell_type": "code",
   "execution_count": 67,
   "id": "eac7b2d1",
   "metadata": {
    "slideshow": {
     "slide_type": "fragment"
    }
   },
   "outputs": [
    {
     "data": {
      "text/plain": [
       "['La tregua',\n",
       " 'Camila',\n",
       " 'La historia oficial',\n",
       " 'Tango, no me dejes nunca',\n",
       " 'El hijo de la novia',\n",
       " 'Argentina, 1985,']"
      ]
     },
     "execution_count": 67,
     "metadata": {},
     "output_type": "execute_result"
    }
   ],
   "source": [
    "my_list = [\"La tregua\", \"Camila\", \"La historia oficial\", \n",
    "           \"Tango, no me dejes nunca\", \"El hijo de la novia\", \n",
    "           \"Argentina, 1985,\"]\n",
    "my_list"
   ]
  },
  {
   "cell_type": "markdown",
   "id": "49b0414a",
   "metadata": {
    "slideshow": {
     "slide_type": "fragment"
    }
   },
   "source": [
    "Dijimos que una lista es una **colección heterogénea** de datos. \n",
    "Esto significa que:\n"
   ]
  },
  {
   "cell_type": "code",
   "execution_count": 68,
   "id": "3f9d3d3e",
   "metadata": {
    "slideshow": {
     "slide_type": "fragment"
    }
   },
   "outputs": [
    {
     "data": {
      "text/plain": [
       "['La tregua',\n",
       " 'Camila',\n",
       " 'La historia oficial',\n",
       " 'Tango, no me dejes nunca',\n",
       " 'El hijo de la novia',\n",
       " 'Argentina, 1985,',\n",
       " 10]"
      ]
     },
     "execution_count": 68,
     "metadata": {},
     "output_type": "execute_result"
    }
   ],
   "source": [
    "my_list.append(10)\n",
    "my_list"
   ]
  },
  {
   "cell_type": "markdown",
   "id": "ff0e9966",
   "metadata": {
    "slideshow": {
     "slide_type": "subslide"
    }
   },
   "source": [
    "## ¿Qué otras operaciones podemos hacer con listas?"
   ]
  },
  {
   "cell_type": "markdown",
   "id": "rural-cable",
   "metadata": {
    "slideshow": {
     "slide_type": "subslide"
    }
   },
   "source": [
    "# Slicing con listas\n",
    "\n",
    "-  Al igual que en el caso de las cadenas de caracteres, se puede obtener una porción de una lista usando el operador **\":\"**"
   ]
  },
  {
   "cell_type": "code",
   "execution_count": 70,
   "id": "comparable-peninsula",
   "metadata": {
    "slideshow": {
     "slide_type": "fragment"
    }
   },
   "outputs": [
    {
     "name": "stdout",
     "output_type": "stream",
     "text": [
      "['e', 'o']\n"
     ]
    }
   ],
   "source": [
    "vowels = [ \"a\", \"e\",\"i\", \"o\", \"u\"] \n",
    "print(vowels[1:5:2])"
   ]
  },
  {
   "cell_type": "markdown",
   "id": "arabic-strengthening",
   "metadata": {
    "slideshow": {
     "slide_type": "fragment"
    }
   },
   "source": [
    "- Si no se pone inicio o fin, se toma por defecto las posiciones de inicio y fin de la lista."
   ]
  },
  {
   "cell_type": "markdown",
   "id": "1d057e15",
   "metadata": {
    "slideshow": {
     "slide_type": "fragment"
    }
   },
   "source": [
    "**CONSIGNA:** probar con índices negativos."
   ]
  },
  {
   "cell_type": "markdown",
   "id": "fifth-impression",
   "metadata": {
    "slideshow": {
     "slide_type": "slide"
    }
   },
   "source": [
    "# Tuplas: otro tipo de secuencias en Python\n",
    "\n",
    "> <span style=\"color:#cd7815\">Son colecciones heterogéneas de datos ordenados.</span>"
   ]
  },
  {
   "cell_type": "code",
   "execution_count": 75,
   "id": "super-macro",
   "metadata": {
    "slideshow": {
     "slide_type": "fragment"
    }
   },
   "outputs": [],
   "source": [
    "tuple0 = 1, 2 \n",
    "tuple1 = (1, 2)\n",
    "tuple2 = (1, )  # OJO con esto\n",
    "tuple3 = ()"
   ]
  },
  {
   "cell_type": "code",
   "execution_count": 76,
   "id": "fd4e144b",
   "metadata": {},
   "outputs": [
    {
     "data": {
      "text/plain": [
       "tuple"
      ]
     },
     "execution_count": 76,
     "metadata": {},
     "output_type": "execute_result"
    }
   ],
   "source": [
    "type(tuple2)"
   ]
  },
  {
   "cell_type": "markdown",
   "id": "071c5e11",
   "metadata": {
    "slideshow": {
     "slide_type": "subslide"
    }
   },
   "source": [
    " # Observemos detallamente el código del DESAFÍO 4 de la clase\n",
    " \n",
    "> Dada una lista de palabras, **usando list comprehension** generar otra lista con aquellos verbos en infinitivo.\n",
    "\n",
    "IMPORTANTE: solo vamos a comprobar que terminen en \"ar\", \"er\" o \"ir\"."
   ]
  },
  {
   "cell_type": "code",
   "execution_count": 77,
   "id": "4321f7c3",
   "metadata": {
    "slideshow": {
     "slide_type": "fragment"
    }
   },
   "outputs": [
    {
     "data": {
      "text/plain": [
       "['ir', 'cantar', 'correr']"
      ]
     },
     "execution_count": 77,
     "metadata": {},
     "output_type": "execute_result"
    }
   ],
   "source": [
    "words = [\"casa\", \"ir\", \"sol\", \"cantar\",\"correr\"]\n",
    "verbs = [pal for pal in words if pal.endswith((\"ar\", \"er\", \"ir\"))]\n",
    "verbs"
   ]
  },
  {
   "cell_type": "markdown",
   "id": "f3224959",
   "metadata": {
    "slideshow": {
     "slide_type": "fragment"
    }
   },
   "source": [
    "En este caso, estamos pasando una tupla como argumento al método **endswith**."
   ]
  },
  {
   "cell_type": "markdown",
   "id": "vocational-palace",
   "metadata": {
    "slideshow": {
     "slide_type": "subslide"
    }
   },
   "source": [
    "## ¿Cuál es la diferencia con las listas?\n",
    "\n",
    "Veamos las siguientes situaciones."
   ]
  },
  {
   "cell_type": "markdown",
   "id": "applied-lease",
   "metadata": {
    "slideshow": {
     "slide_type": "subslide"
    }
   },
   "source": [
    "# Tuplas vs. listas"
   ]
  },
  {
   "cell_type": "code",
   "execution_count": 78,
   "id": "drawn-cuisine",
   "metadata": {
    "slideshow": {
     "slide_type": "fragment"
    }
   },
   "outputs": [],
   "source": [
    "my_tuple = (\"1_in_tuple\", 2)\n",
    "my_list = [\"1_in_list\", 2]"
   ]
  },
  {
   "cell_type": "code",
   "execution_count": 80,
   "id": "c9e0608b",
   "metadata": {},
   "outputs": [
    {
     "name": "stdout",
     "output_type": "stream",
     "text": [
      "1_in_tuple\n",
      "2\n"
     ]
    }
   ],
   "source": [
    "elem = my_tuple[0]\n",
    "print(elem)\n",
    "print(len(my_tuple))"
   ]
  },
  {
   "cell_type": "markdown",
   "id": "dying-oriental",
   "metadata": {
    "slideshow": {
     "slide_type": "fragment"
    }
   },
   "source": [
    "- Se acceden a los elementos de igual manera: usando [] (empezando desde cero)\n",
    "- La función **len** retorna la cantidad de elementos en ambos casos.\n",
    "\n",
    "**¿Entonces?**"
   ]
  },
  {
   "cell_type": "markdown",
   "id": "e34e6b72",
   "metadata": {
    "slideshow": {
     "slide_type": "subslide"
    }
   },
   "source": [
    "## DIFERENCIA: <span style=\"color:#cd7815\">las tuplas son INMUTABLES</span>\n",
    "\n",
    "- Su tamaño y los valores de las mismas NO pueden cambiar."
   ]
  },
  {
   "cell_type": "code",
   "execution_count": 81,
   "id": "subsequent-abuse",
   "metadata": {
    "slideshow": {
     "slide_type": "subslide"
    }
   },
   "outputs": [],
   "source": [
    "my_tuple = (\"1_in_tuple\", 2)\n",
    "my_list = [\"1_in_list\", 2]"
   ]
  },
  {
   "cell_type": "code",
   "execution_count": 83,
   "id": "7f29305d",
   "metadata": {},
   "outputs": [
    {
     "data": {
      "text/plain": [
       "['uno', 2, 'algo']"
      ]
     },
     "execution_count": 83,
     "metadata": {},
     "output_type": "execute_result"
    }
   ],
   "source": [
    "#my_list[0] = \"uno\" \n",
    "my_list.append(\"algo\")  \n",
    "my_list"
   ]
  },
  {
   "cell_type": "code",
   "execution_count": 86,
   "id": "bac83544",
   "metadata": {},
   "outputs": [
    {
     "ename": "TypeError",
     "evalue": "'tuple' object does not support item assignment",
     "output_type": "error",
     "traceback": [
      "\u001b[0;31m---------------------------------------------------------------------------\u001b[0m",
      "\u001b[0;31mTypeError\u001b[0m                                 Traceback (most recent call last)",
      "Cell \u001b[0;32mIn[86], line 1\u001b[0m\n\u001b[0;32m----> 1\u001b[0m \u001b[43mmy_tuple\u001b[49m\u001b[43m[\u001b[49m\u001b[38;5;241;43m0\u001b[39;49m\u001b[43m]\u001b[49m \u001b[38;5;241m=\u001b[39m \u001b[38;5;124m\"\u001b[39m\u001b[38;5;124muno\u001b[39m\u001b[38;5;124m\"\u001b[39m \u001b[38;5;66;03m# Esto da error\u001b[39;00m\n\u001b[1;32m      2\u001b[0m \u001b[38;5;66;03m#my_tuple.append(\"algo\") # Esto da error\u001b[39;00m\n\u001b[1;32m      3\u001b[0m my_tuple\n",
      "\u001b[0;31mTypeError\u001b[0m: 'tuple' object does not support item assignment"
     ]
    }
   ],
   "source": [
    "my_tuple[0] = \"uno\" # Esto da error\n",
    "#my_tuple.append(\"algo\") # Esto da error\n",
    "my_tuple"
   ]
  },
  {
   "cell_type": "markdown",
   "id": "republican-specification",
   "metadata": {
    "slideshow": {
     "slide_type": "fragment"
    }
   },
   "source": [
    "\n",
    "```\n",
    "TypeError: 'tuple' object does not support item assignment\n",
    "```\n",
    "### Tenemos que acostumbrarnos a leer los errores."
   ]
  },
  {
   "cell_type": "markdown",
   "id": "regulation-reaction",
   "metadata": {
    "slideshow": {
     "slide_type": "subslide"
    }
   },
   "source": [
    "# Obteniendo subtuplas"
   ]
  },
  {
   "cell_type": "code",
   "execution_count": 87,
   "id": "fourth-tuition",
   "metadata": {
    "slideshow": {
     "slide_type": "fragment"
    }
   },
   "outputs": [
    {
     "name": "stdout",
     "output_type": "stream",
     "text": [
      "(2, 3, 'hola')\n",
      "('nueva', 1, 2)\n"
     ]
    }
   ],
   "source": [
    "my_tuple = (1, 2, 3, \"hola\")\n",
    "print(my_tuple[1:4])\n",
    "new_tuple = (\"nueva\",) + my_tuple[:2]\n",
    "print(new_tuple)"
   ]
  },
  {
   "cell_type": "markdown",
   "id": "fc56ad33",
   "metadata": {
    "slideshow": {
     "slide_type": "fragment"
    }
   },
   "source": [
    "#### ¿Por qué da error este código?"
   ]
  },
  {
   "cell_type": "code",
   "execution_count": 88,
   "id": "italian-scroll",
   "metadata": {
    "slideshow": {
     "slide_type": "fragment"
    }
   },
   "outputs": [
    {
     "ename": "TypeError",
     "evalue": "can only concatenate str (not \"tuple\") to str",
     "output_type": "error",
     "traceback": [
      "\u001b[0;31m---------------------------------------------------------------------------\u001b[0m",
      "\u001b[0;31mTypeError\u001b[0m                                 Traceback (most recent call last)",
      "Cell \u001b[0;32mIn[88], line 1\u001b[0m\n\u001b[0;32m----> 1\u001b[0m new_tuple \u001b[38;5;241m=\u001b[39m \u001b[43m(\u001b[49m\u001b[38;5;124;43m'\u001b[39;49m\u001b[38;5;124;43mnueva\u001b[39;49m\u001b[38;5;124;43m'\u001b[39;49m\u001b[43m)\u001b[49m\u001b[43m \u001b[49m\u001b[38;5;241;43m+\u001b[39;49m\u001b[43m \u001b[49m\u001b[43mmy_tuple\u001b[49m\u001b[43m[\u001b[49m\u001b[38;5;241;43m1\u001b[39;49m\u001b[43m:\u001b[49m\u001b[38;5;241;43m3\u001b[39;49m\u001b[43m]\u001b[49m\n\u001b[1;32m      2\u001b[0m new_tuple\n",
      "\u001b[0;31mTypeError\u001b[0m: can only concatenate str (not \"tuple\") to str"
     ]
    }
   ],
   "source": [
    "new_tuple = ('nueva') + my_tuple[1:3]\n",
    "new_tuple"
   ]
  },
  {
   "cell_type": "markdown",
   "id": "cloudy-feeling",
   "metadata": {
    "slideshow": {
     "slide_type": "slide"
    }
   },
   "source": [
    "# DESAFÍO 1\n",
    "> Volvemos a procesar las películas trabajadas en la clase.\n",
    "\n",
    "Queremos saber:\n",
    "- cuál fue la duración, en minutos, promedio; y\n",
    "- <span style=\"color:#cd7815\">**qué películas** </span>duran más que el promedio, en minutos.\n",
    "\n",
    "¿Qué diferencia hay con el desafío trabajado en clase?"
   ]
  },
  {
   "cell_type": "markdown",
   "id": "magnetic-compromise",
   "metadata": {
    "slideshow": {
     "slide_type": "fragment"
    }
   },
   "source": [
    "- Deberíamos ingresar no sólo las duraciones, sino también los nombres de las películas. \n",
    "- ¿Qué soluciones proponen?"
   ]
  },
  {
   "cell_type": "markdown",
   "id": "aerial-graph",
   "metadata": {
    "slideshow": {
     "slide_type": "subslide"
    }
   },
   "source": [
    "# ¿Qué les parece esta solución?"
   ]
  },
  {
   "cell_type": "code",
   "execution_count": 89,
   "id": "f4b0370e",
   "metadata": {
    "slideshow": {
     "slide_type": "fragment"
    }
   },
   "outputs": [
    {
     "name": "stdout",
     "output_type": "stream",
     "text": [
      "Ingresa el nombre de una película  (<FIN> para finalizar): Camila\n",
      "Ingresa la duración de la película Camila: 109\n",
      "Ingresa el nombre de una película (<FIN> para finalizar): La historia oficial\n",
      "Ingresa la duración de la película La historia oficial: 112\n",
      "Ingresa el nombre de una película (<FIN> para finalizar): FIN\n"
     ]
    },
    {
     "data": {
      "text/plain": [
       "[('Camila', 109), ('La historia oficial', 112)]"
      ]
     },
     "execution_count": 89,
     "metadata": {},
     "output_type": "execute_result"
    }
   ],
   "source": [
    "name = input(\"Ingresa el nombre de una película  (<FIN> para finalizar): \")\n",
    "movies_list = []\n",
    "while name != \"FIN\":\n",
    "    duration = int(input(f\"Ingresa la duración de la película {name}: \"))\n",
    "    movies_list.append((name, duration))\n",
    "    name = input(\"Ingresa el nombre de una película (<FIN> para finalizar): \")\n",
    "movies_list"
   ]
  },
  {
   "cell_type": "markdown",
   "id": "concerned-dealing",
   "metadata": {
    "slideshow": {
     "slide_type": "fragment"
    }
   },
   "source": [
    "- ¿Qué estructura de datos estoy usando? ¿Podría usar una tupla?\n",
    "- Hay algo mejor..."
   ]
  },
  {
   "cell_type": "markdown",
   "id": "sound-edinburgh",
   "metadata": {
    "slideshow": {
     "slide_type": "subslide"
    }
   },
   "source": [
    "# Diccionarios en Python\n",
    "\n",
    "> <span style=\"color:#cd7815\">Un diccionario es un conjunto **ordenado** de pares de datos: **clave:valor**.</span>\n",
    "- Se definen con **{** **}**."
   ]
  },
  {
   "cell_type": "code",
   "execution_count": 90,
   "id": "induced-terrorist",
   "metadata": {
    "slideshow": {
     "slide_type": "fragment"
    }
   },
   "outputs": [],
   "source": [
    "movies = {\"La tregua\": 108,\n",
    "          \"Camila\": 105,\n",
    "          \"La historia oficial\": 112,\n",
    "          \"Tango, no me dejes nunca\": 115,\n",
    "          \"El hijo de la novia\": 123,\n",
    "          \"El secreto de sus ojos\": 129,\n",
    "          \"Relatos salvajes\": 122,\n",
    "          \"Argentina, 1985\": 140\n",
    "          }"
   ]
  },
  {
   "cell_type": "markdown",
   "id": "above-thunder",
   "metadata": {
    "slideshow": {
     "slide_type": "subslide"
    }
   },
   "source": [
    "# Las claves deben ser únicas e inmutables\n",
    "\n",
    "- Las **claves** pueden ser cualquier tipo **inmutable**.\n",
    "    - Las cadenas y números siempre pueden ser claves. \n",
    "    - Las tuplas se pueden usar sólo si no tienen objetos mutables.\n",
    "    \n",
    "**CONSIGNA:** probar cuáles de las siguientes definiciones de diccionarios dan error y analizar por qué. "
   ]
  },
  {
   "cell_type": "code",
   "execution_count": null,
   "id": "deadly-oklahoma",
   "metadata": {
    "slideshow": {
     "slide_type": "fragment"
    }
   },
   "outputs": [],
   "source": [
    "my_dic = {\"uno\":1}\n",
    "#my_dic = {1: \"uno\"}\n",
    "#my_dic = {[1,2]: \"lista\"}\n",
    "#my_dic = {(1,2): \"tupla\"}\n",
    "#my_dic = {([1],2): \"tupla\"}\n",
    "my_dic"
   ]
  },
  {
   "cell_type": "markdown",
   "id": "therapeutic-brooks",
   "metadata": {
    "slideshow": {
     "slide_type": "subslide"
    }
   },
   "source": [
    "# ¿Cómo accedemos a los elementos?\n",
    "\n",
    "- Al igual que las listas y tuplas, se accede usando **[ ]** pero en vez de un índice que representa la posición, **usamos la clave**.\n",
    "- Es un error extraer un valor usando una clave no existente.\n"
   ]
  },
  {
   "cell_type": "code",
   "execution_count": 93,
   "id": "94506c3d",
   "metadata": {
    "slideshow": {
     "slide_type": "fragment"
    }
   },
   "outputs": [
    {
     "ename": "KeyError",
     "evalue": "'La ha oficial'",
     "output_type": "error",
     "traceback": [
      "\u001b[0;31m---------------------------------------------------------------------------\u001b[0m",
      "\u001b[0;31mKeyError\u001b[0m                                  Traceback (most recent call last)",
      "Cell \u001b[0;32mIn[93], line 1\u001b[0m\n\u001b[0;32m----> 1\u001b[0m \u001b[43mmovies\u001b[49m\u001b[43m[\u001b[49m\u001b[38;5;124;43m\"\u001b[39;49m\u001b[38;5;124;43mLa ha oficial\u001b[39;49m\u001b[38;5;124;43m\"\u001b[39;49m\u001b[43m]\u001b[49m\n",
      "\u001b[0;31mKeyError\u001b[0m: 'La ha oficial'"
     ]
    }
   ],
   "source": [
    "movies[\"La historia oficial\"]"
   ]
  },
  {
   "cell_type": "markdown",
   "id": "6f081786",
   "metadata": {
    "slideshow": {
     "slide_type": "fragment"
    }
   },
   "source": [
    "Otra forma:"
   ]
  },
  {
   "cell_type": "code",
   "execution_count": 94,
   "id": "e04e5a24",
   "metadata": {
    "slideshow": {
     "slide_type": "fragment"
    }
   },
   "outputs": [],
   "source": [
    "movies.get(\"La historia oficial\")"
   ]
  },
  {
   "cell_type": "markdown",
   "id": "perfect-range",
   "metadata": {
    "slideshow": {
     "slide_type": "subslide"
    }
   },
   "source": [
    "# ¿Cómo agregamos elementos?\n",
    "\n",
    "- Si se usa una clave que ya está en uso para guardar un valor, el valor que estaba asociado con esa clave se pierde, si no está la clave, se agrega."
   ]
  },
  {
   "cell_type": "code",
   "execution_count": 95,
   "id": "pleasant-sociology",
   "metadata": {
    "slideshow": {
     "slide_type": "fragment"
    }
   },
   "outputs": [
    {
     "data": {
      "text/plain": [
       "{'enero': 31, 'febrero': 28, 'marzo': 31}"
      ]
     },
     "execution_count": 95,
     "metadata": {},
     "output_type": "execute_result"
    }
   ],
   "source": [
    "months = {\"enero\": 31, \"febrero\": 28, \"marzo\": 31}\n",
    "months"
   ]
  },
  {
   "cell_type": "code",
   "execution_count": 96,
   "id": "cardiovascular-louisiana",
   "metadata": {
    "slideshow": {
     "slide_type": "fragment"
    }
   },
   "outputs": [
    {
     "data": {
      "text/plain": [
       "{'enero': 31, 'febrero': 29, 'marzo': 31, 'abril': 30}"
      ]
     },
     "execution_count": 96,
     "metadata": {},
     "output_type": "execute_result"
    }
   ],
   "source": [
    "months[\"febrero\"] = 29\n",
    "months[\"abril\"] = 30\n",
    "months"
   ]
  },
  {
   "cell_type": "markdown",
   "id": "prerequisite-daniel",
   "metadata": {
    "slideshow": {
     "slide_type": "subslide"
    }
   },
   "source": [
    "# Volviendo al desafío de las películas  ... \n",
    "\n",
    "- Nos falta saber cómo definir un diccionario vacío para luego ir agregando los valores."
   ]
  },
  {
   "cell_type": "code",
   "execution_count": 97,
   "id": "unlike-airplane",
   "metadata": {
    "slideshow": {
     "slide_type": "fragment"
    }
   },
   "outputs": [
    {
     "name": "stdout",
     "output_type": "stream",
     "text": [
      "Ingresa el nombre de una película  (<FIN> para finalizar): Camila\n",
      "Ingresa la duración de la película  Camila: 109\n",
      "Ingresa el nombre de una película  (<FIN> para finalizar): La historia oficial\n",
      "Ingresa la duración de la película  La historia oficial: 112\n",
      "Ingresa el nombre de una película  (<FIN> para finalizar): FIN\n"
     ]
    },
    {
     "data": {
      "text/plain": [
       "{'Camila': 109, 'La historia oficial': 112}"
      ]
     },
     "execution_count": 97,
     "metadata": {},
     "output_type": "execute_result"
    }
   ],
   "source": [
    "name = input(\"Ingresa el nombre de una película  (<FIN> para finalizar): \")\n",
    "dic_movies = {}\n",
    "while name != \"FIN\":\n",
    "    duration = int(input(f\"Ingresa la duración de la película  {name}: \"))\n",
    "    dic_movies[name] = duration\n",
    "    name = input(\"Ingresa el nombre de una película  (<FIN> para finalizar): \")\n",
    "dic_movies"
   ]
  },
  {
   "cell_type": "markdown",
   "id": "hungry-focus",
   "metadata": {
    "slideshow": {
     "slide_type": "subslide"
    }
   },
   "source": [
    "# ¿Cómo recorremos un diccionario?\n"
   ]
  },
  {
   "cell_type": "code",
   "execution_count": 98,
   "id": "dependent-module",
   "metadata": {
    "slideshow": {
     "slide_type": "fragment"
    }
   },
   "outputs": [],
   "source": [
    "music = {\"rock\": [\"Riff\", \"La Renga\", \"La Torre\"], \n",
    "         \"blues\": [\"La Mississippi\", \"Memphis\"]}"
   ]
  },
  {
   "cell_type": "code",
   "execution_count": 99,
   "id": "f004bd47",
   "metadata": {
    "slideshow": {
     "slide_type": "fragment"
    }
   },
   "outputs": [
    {
     "name": "stdout",
     "output_type": "stream",
     "text": [
      "rock\n",
      "blues\n"
     ]
    }
   ],
   "source": [
    "for elem in music:\n",
    "    print(elem)"
   ]
  },
  {
   "cell_type": "markdown",
   "id": "5d767f7a",
   "metadata": {
    "slideshow": {
     "slide_type": "fragment"
    }
   },
   "source": [
    "¿A qué referencia la variable **elem**?"
   ]
  },
  {
   "cell_type": "markdown",
   "id": "428af680",
   "metadata": {
    "slideshow": {
     "slide_type": "subslide"
    }
   },
   "source": [
    "Si queremos mostrar los valores:"
   ]
  },
  {
   "cell_type": "code",
   "execution_count": 100,
   "id": "e1bee25d",
   "metadata": {
    "slideshow": {
     "slide_type": "fragment"
    }
   },
   "outputs": [
    {
     "name": "stdout",
     "output_type": "stream",
     "text": [
      "['Riff', 'La Renga', 'La Torre']\n",
      "['La Mississippi', 'Memphis']\n"
     ]
    }
   ],
   "source": [
    "#music = {\"rock\": [\"Riff\", \"La Renga\", \"La Torre\"], \n",
    "#          \"blues\": [\"La Mississippi\", \"Memphis\"]}\n",
    "\n",
    "for elem in music:\n",
    "    print(music[elem])"
   ]
  },
  {
   "cell_type": "markdown",
   "id": "therapeutic-henry",
   "metadata": {
    "slideshow": {
     "slide_type": "subslide"
    }
   },
   "source": [
    "# Existen algunos métodos útiles:"
   ]
  },
  {
   "cell_type": "code",
   "execution_count": 101,
   "id": "consecutive-unemployment",
   "metadata": {
    "slideshow": {
     "slide_type": "fragment"
    }
   },
   "outputs": [],
   "source": [
    "music_keys = music.keys()\n",
    "music_values = music.values()\n",
    "music_items = music.items()"
   ]
  },
  {
   "cell_type": "code",
   "execution_count": 103,
   "id": "aerial-willow",
   "metadata": {
    "slideshow": {
     "slide_type": "fragment"
    }
   },
   "outputs": [
    {
     "name": "stdout",
     "output_type": "stream",
     "text": [
      "['Riff', 'La Renga', 'La Torre']\n",
      "['La Mississippi', 'Memphis']\n"
     ]
    }
   ],
   "source": [
    "for elem in music_values:\n",
    "    print(elem) "
   ]
  },
  {
   "cell_type": "code",
   "execution_count": null,
   "id": "41b862e7-37c2-4d97-a5cc-5de8e5b8c643",
   "metadata": {
    "slideshow": {
     "slide_type": "fragment"
    }
   },
   "outputs": [],
   "source": [
    "music_keys"
   ]
  },
  {
   "cell_type": "code",
   "execution_count": 104,
   "id": "2f107f2a-575c-4a37-b09a-25ce75c07f83",
   "metadata": {
    "slideshow": {
     "slide_type": "fragment"
    }
   },
   "outputs": [
    {
     "data": {
      "text/plain": [
       "dict_keys"
      ]
     },
     "execution_count": 104,
     "metadata": {},
     "output_type": "execute_result"
    }
   ],
   "source": [
    "type(music_keys)"
   ]
  },
  {
   "cell_type": "markdown",
   "id": "64963a66",
   "metadata": {
    "slideshow": {
     "slide_type": "fragment"
    }
   },
   "source": [
    "**CONSIGNA:** ¿cómo procesamos los datos obtenidos por el método items? "
   ]
  },
  {
   "cell_type": "markdown",
   "id": "extreme-oliver",
   "metadata": {
    "slideshow": {
     "slide_type": "subslide"
    }
   },
   "source": [
    "# El operador <span style=\"color:#cd7815\">in</span> en diccionarios\n",
    "¿Verifica en las claves o los valores?"
   ]
  },
  {
   "cell_type": "code",
   "execution_count": 107,
   "id": "cultural-decision",
   "metadata": {
    "slideshow": {
     "slide_type": "fragment"
    }
   },
   "outputs": [
    {
     "data": {
      "text/plain": [
       "True"
      ]
     },
     "execution_count": 107,
     "metadata": {},
     "output_type": "execute_result"
    }
   ],
   "source": [
    "music = {\"rock\": [\"Riff\", \"La Renga\", \"La Torre\"], \n",
    "          \"blues\": [\"La Mississippi\", \"Memphis\"]}\n",
    "\n",
    "\"rock\" in music"
   ]
  },
  {
   "cell_type": "markdown",
   "id": "imposed-partner",
   "metadata": {
    "slideshow": {
     "slide_type": "subslide"
    }
   },
   "source": [
    "# Observemos este código"
   ]
  },
  {
   "cell_type": "code",
   "execution_count": 108,
   "id": "primary-reset",
   "metadata": {
    "slideshow": {
     "slide_type": "fragment"
    }
   },
   "outputs": [
    {
     "name": "stdout",
     "output_type": "stream",
     "text": [
      "139906406145088\n",
      "139906406145088\n",
      "139905971230272\n"
     ]
    }
   ],
   "source": [
    "months = {\"enero\": 31, \"febrero\": 28, \"marzo\": 31}\n",
    "months1 = months\n",
    "months2 = months.copy()\n",
    "print(id(months))\n",
    "print(id(months1))\n",
    "print(id(months2))"
   ]
  },
  {
   "cell_type": "markdown",
   "id": "functioning-development",
   "metadata": {
    "slideshow": {
     "slide_type": "fragment"
    }
   },
   "source": [
    "¿Qué significa?"
   ]
  },
  {
   "cell_type": "code",
   "execution_count": 110,
   "id": "suffering-quilt",
   "metadata": {
    "slideshow": {
     "slide_type": "fragment"
    }
   },
   "outputs": [
    {
     "data": {
      "text/plain": [
       "{'enero': 31, 'febrero': 28, 'marzo': 31, 'abril': 30}"
      ]
     },
     "execution_count": 110,
     "metadata": {},
     "output_type": "execute_result"
    }
   ],
   "source": [
    "#months1[\"abril\"] = 30\n",
    "months2[\"abril\"] = 43\n",
    "months"
   ]
  },
  {
   "cell_type": "markdown",
   "id": "77832c8c",
   "metadata": {
    "slideshow": {
     "slide_type": "subslide"
    }
   },
   "source": [
    "## <span style=\"color:#cd7815\">¡Atención con las copias!</span>\n",
    "\n",
    "**CONSIGNA:** analizar qué sucede en estas situaciones."
   ]
  },
  {
   "cell_type": "code",
   "execution_count": 111,
   "id": "f46b0675",
   "metadata": {
    "slideshow": {
     "slide_type": "fragment"
    }
   },
   "outputs": [
    {
     "data": {
      "text/plain": [
       "{'Python_plus': [10, 40, 20], 'Práctica': [10, 10]}"
      ]
     },
     "execution_count": 111,
     "metadata": {},
     "output_type": "execute_result"
    }
   ],
   "source": [
    "claudia_notes = {\"Python_plus\": [10, 40, 20],\n",
    "                \"Práctica\": [10, 10]}\n",
    "claudia_notes"
   ]
  },
  {
   "cell_type": "code",
   "execution_count": 112,
   "id": "f9d45d2a",
   "metadata": {
    "slideshow": {
     "slide_type": "fragment"
    }
   },
   "outputs": [
    {
     "data": {
      "text/plain": [
       "{'Python_plus': [10, 40, 20], 'Práctica': [10, 10]}"
      ]
     },
     "execution_count": 112,
     "metadata": {},
     "output_type": "execute_result"
    }
   ],
   "source": [
    "sofia_notes = claudia_notes.copy()\n",
    "sofia_notes"
   ]
  },
  {
   "cell_type": "code",
   "execution_count": 113,
   "id": "e23b7fc1",
   "metadata": {
    "slideshow": {
     "slide_type": "fragment"
    }
   },
   "outputs": [
    {
     "data": {
      "text/plain": [
       "{'Python_plus': [10, 40, 20, 0], 'Práctica': [10, 10]}"
      ]
     },
     "execution_count": 113,
     "metadata": {},
     "output_type": "execute_result"
    }
   ],
   "source": [
    "claudia_notes[\"Python_plus\"].append(0)\n",
    "claudia_notes"
   ]
  },
  {
   "cell_type": "code",
   "execution_count": 114,
   "id": "54f62de9",
   "metadata": {
    "slideshow": {
     "slide_type": "fragment"
    }
   },
   "outputs": [
    {
     "data": {
      "text/plain": [
       "{'Python_plus': [10, 40, 20, 0], 'Práctica': [10, 10]}"
      ]
     },
     "execution_count": 114,
     "metadata": {},
     "output_type": "execute_result"
    }
   ],
   "source": [
    "sofia_notes"
   ]
  },
  {
   "cell_type": "markdown",
   "id": "northern-appliance",
   "metadata": {
    "slideshow": {
     "slide_type": "subslide"
    }
   },
   "source": [
    "# Más operaciones\n",
    "\n",
    "**CONSIGNA:** probar:\n",
    "\n",
    "- **del**: permite borrar un par clave:valor\n",
    "- **clear()**: permite borrar todo\n"
   ]
  },
  {
   "cell_type": "code",
   "execution_count": null,
   "id": "76fedc8c",
   "metadata": {
    "slideshow": {
     "slide_type": "fragment"
    }
   },
   "outputs": [],
   "source": [
    "# Probamos del y clear\n"
   ]
  },
  {
   "cell_type": "markdown",
   "id": "imposed-maple",
   "metadata": {
    "slideshow": {
     "slide_type": "subslide"
    }
   },
   "source": [
    "# Otra forma de crear diccionarios\n",
    "\n",
    "- Podemos usar **dict()**.\n",
    "- Se denomina <span style=\"color:#cd7815\">**\"constructor\"**</span> y crea un diccionario directamente desde una secuencia de pares clave-valor. "
   ]
  },
  {
   "cell_type": "code",
   "execution_count": 115,
   "id": "recovered-karen",
   "metadata": {
    "slideshow": {
     "slide_type": "fragment"
    }
   },
   "outputs": [
    {
     "data": {
      "text/plain": [
       "{'enero': 31, 'febrero': 28, 'marzo': 31}"
      ]
     },
     "execution_count": 115,
     "metadata": {},
     "output_type": "execute_result"
    }
   ],
   "source": [
    "months = dict([(\"enero\", 31), (\"febrero\", 28), (\"marzo\", 31)])\n",
    "months"
   ]
  },
  {
   "cell_type": "markdown",
   "id": "04d89398",
   "metadata": {
    "slideshow": {
     "slide_type": "fragment"
    }
   },
   "source": [
    "- ¿Qué tipos de datos se pueden usar para la secuencia?\n",
    "- ¿Y para los pares clave-valor?"
   ]
  },
  {
   "cell_type": "markdown",
   "id": "sacred-berkeley",
   "metadata": {
    "slideshow": {
     "slide_type": "subslide"
    }
   },
   "source": [
    "# Definición por comprensión"
   ]
  },
  {
   "cell_type": "code",
   "execution_count": 116,
   "id": "basic-destiny",
   "metadata": {
    "slideshow": {
     "slide_type": "fragment"
    }
   },
   "outputs": [
    {
     "data": {
      "text/plain": [
       "{2: 4, 4: 16, 6: 36}"
      ]
     },
     "execution_count": 116,
     "metadata": {},
     "output_type": "execute_result"
    }
   ],
   "source": [
    "dict([(num, num**2) for num in (2, 4, 6)]) "
   ]
  },
  {
   "cell_type": "code",
   "execution_count": 117,
   "id": "inner-arlington",
   "metadata": {
    "slideshow": {
     "slide_type": "fragment"
    }
   },
   "outputs": [
    {
     "data": {
      "text/plain": [
       "{'0': 48,\n",
       " '1': 49,\n",
       " '2': 50,\n",
       " '3': 51,\n",
       " '4': 52,\n",
       " '5': 53,\n",
       " '6': 54,\n",
       " '7': 55,\n",
       " '8': 56,\n",
       " '9': 57}"
      ]
     },
     "execution_count": 117,
     "metadata": {},
     "output_type": "execute_result"
    }
   ],
   "source": [
    "import string\n",
    "\n",
    "ascii_numbers = dict(([n, ord(n)] for n in string.digits))\n",
    "ascii_numbers"
   ]
  },
  {
   "cell_type": "code",
   "execution_count": 118,
   "id": "4d1e077a",
   "metadata": {
    "slideshow": {
     "slide_type": "fragment"
    }
   },
   "outputs": [
    {
     "data": {
      "text/plain": [
       "{1: 1, 2: 4, 3: 9, 4: 16, 5: 25, 6: 36, 7: 49, 8: 64, 9: 81}"
      ]
     },
     "execution_count": 118,
     "metadata": {},
     "output_type": "execute_result"
    }
   ],
   "source": [
    "squares = {num: num**2 for num in range(1, 10)}\n",
    "squares"
   ]
  },
  {
   "cell_type": "markdown",
   "id": "2554741f",
   "metadata": {
    "slideshow": {
     "slide_type": "subslide"
    }
   },
   "source": [
    "# Otras funciones útiles\n",
    "\n",
    "Observemos qué  realizan los siguientes códigos:"
   ]
  },
  {
   "cell_type": "code",
   "execution_count": 124,
   "id": "6b7e3b06",
   "metadata": {
    "slideshow": {
     "slide_type": "fragment"
    }
   },
   "outputs": [],
   "source": [
    "students_notes = {\"Janis Joplin\": 10, \"Bob Marley\": 8, \"Bruce Springsteen\": 5, \"Madonna\": 4}"
   ]
  },
  {
   "cell_type": "code",
   "execution_count": 122,
   "id": "6386cb15",
   "metadata": {
    "slideshow": {
     "slide_type": "fragment"
    }
   },
   "outputs": [
    {
     "data": {
      "text/plain": [
       "False"
      ]
     },
     "execution_count": 122,
     "metadata": {},
     "output_type": "execute_result"
    }
   ],
   "source": [
    "all(students_notes.values())"
   ]
  },
  {
   "cell_type": "code",
   "execution_count": 125,
   "id": "1f02cfd7",
   "metadata": {
    "slideshow": {
     "slide_type": "fragment"
    }
   },
   "outputs": [
    {
     "data": {
      "text/plain": [
       "4"
      ]
     },
     "execution_count": 125,
     "metadata": {},
     "output_type": "execute_result"
    }
   ],
   "source": [
    "min(students_notes.values())"
   ]
  },
  {
   "cell_type": "code",
   "execution_count": 126,
   "id": "140fbfd4",
   "metadata": {
    "slideshow": {
     "slide_type": "fragment"
    }
   },
   "outputs": [
    {
     "data": {
      "text/plain": [
       "4"
      ]
     },
     "execution_count": 126,
     "metadata": {},
     "output_type": "execute_result"
    }
   ],
   "source": [
    "len(students_notes)"
   ]
  },
  {
   "cell_type": "markdown",
   "id": "7a6f526d",
   "metadata": {
    "slideshow": {
     "slide_type": "slide"
    }
   },
   "source": [
    "<center>\n",
    "<img src=\"imagenes/portada_video.png\" alt=\"nos vemos el martes\" style=\"width:1050px;\"/>\n",
    "</center>"
   ]
  }
 ],
 "metadata": {
  "celltoolbar": "Slideshow",
  "kernelspec": {
   "display_name": "Python 3 (ipykernel)",
   "language": "python",
   "name": "python3"
  },
  "language_info": {
   "codemirror_mode": {
    "name": "ipython",
    "version": 3
   },
   "file_extension": ".py",
   "mimetype": "text/x-python",
   "name": "python",
   "nbconvert_exporter": "python",
   "pygments_lexer": "ipython3",
   "version": "3.11.11"
  }
 },
 "nbformat": 4,
 "nbformat_minor": 5
}
