{
 "cells": [
  {
   "cell_type": "markdown",
   "id": "03449fd0-d78b-4c77-9637-5fef45052dd0",
   "metadata": {
    "editable": true,
    "slideshow": {
     "slide_type": "slide"
    },
    "tags": []
   },
   "source": [
    "# Lenguaje Python\n",
    "\n",
    "## Cursada 2025\n",
    "### Introducción al análisis de datos\n",
    "* pandas\n",
    "* Matplotlib\n"
   ]
  },
  {
   "cell_type": "markdown",
   "id": "78d01612-698a-4afc-83ae-5cdd18743322",
   "metadata": {
    "editable": true,
    "slideshow": {
     "slide_type": "slide"
    },
    "tags": []
   },
   "source": [
    "# Ciencia de datos:\n",
    "\n",
    "> En pocas palabras: se refiere al análisis significativo de datos aplicando  técnicas de programación sobre un área de conocimiento específico.\n",
    "\n",
    "<div>\n",
    "    <img src=\"imagenes/esquemadiapo2.png\" width=\"500\"/>\n",
    "</div>\n"
   ]
  },
  {
   "cell_type": "markdown",
   "id": "b391948a-e8dc-447b-a0a5-a58c05671fa7",
   "metadata": {
    "editable": true,
    "slideshow": {
     "slide_type": "slide"
    },
    "tags": []
   },
   "source": [
    "## ¿Cómo podemos representar datos?"
   ]
  },
  {
   "cell_type": "markdown",
   "id": "1f2372d9-173c-40ce-8c34-e8de912bd6a9",
   "metadata": {
    "editable": true,
    "slideshow": {
     "slide_type": ""
    },
    "tags": []
   },
   "source": [
    "* [Mapa](https://www.enre.gov.ar/mapacortes/index.html) de cortes de electricidad.\n",
    "* [Mapa](https://mapa.poblaciones.org/map) poblacional con información de los censos en Argentina.\n",
    "* [Mapa provincial](https://observatorio.laizquierdadiario.com/) sobre resultados de elecciones."
   ]
  },
  {
   "cell_type": "markdown",
   "id": "aae93acb-26ba-4dd9-9b25-3ffe0b547b1a",
   "metadata": {
    "editable": true,
    "slideshow": {
     "slide_type": "slide"
    },
    "tags": []
   },
   "source": [
    "## Manejo de archivo de datos\n",
    "* ¿Cuáles son las ventajas de utilizar pandas sobre las estructuras de datos estándar de Python?\n"
   ]
  },
  {
   "cell_type": "markdown",
   "id": "cf096092-ff8b-4f7b-b078-608e8d7863b8",
   "metadata": {
    "editable": true,
    "slideshow": {
     "slide_type": "fragment"
    },
    "tags": []
   },
   "source": [
    "* ¿Cómo puede simplificar las operaciones realizadas con los módulos **csv** y **json**?  "
   ]
  },
  {
   "cell_type": "markdown",
   "id": "96c2ca73-8dd5-43f7-a74d-a37a029e7c11",
   "metadata": {
    "editable": true,
    "slideshow": {
     "slide_type": "fragment"
    },
    "tags": []
   },
   "source": [
    "* ¿Qué otros formatos de archivos conocen para almacenar datos?\n",
    "* ¿Cuáles son formatos abiertos?"
   ]
  },
  {
   "cell_type": "markdown",
   "id": "3b50ea91-0e83-4244-9233-2b235b9f94a8",
   "metadata": {
    "editable": true,
    "slideshow": {
     "slide_type": "slide"
    },
    "tags": []
   },
   "source": [
    "## Introducción a pandas \n",
    "*    ¿Qué es pandas y cuál es su importancia en el análisis de datos?\n",
    "*    ¿Cuáles son las principales estructuras de datos en pandas?\n",
    "*    ¿Cómo importar y explorar un conjunto de datos usando pandas?\n",
    "*    ¿Qué funcionalidades ofrece pandas para conocer, filtrar y modificar los datos?\n",
    " "
   ]
  },
  {
   "cell_type": "markdown",
   "id": "6d1bf579-cfff-4eba-8aa0-5bc117614a86",
   "metadata": {
    "editable": true,
    "slideshow": {
     "slide_type": "slide"
    },
    "tags": []
   },
   "source": [
    "## 🎒 [**pandas**](https://pandas.pydata.org/)\n",
    "* Es una biblioteca de Python que proporciona estructuras de datos y herramientas de análisis de datos de alto rendimiento y fáciles de usar.\n",
    "* Esta orientada al análisis de datos porque permite manipular y analizar conjuntos de datos de manera eficiente."
   ]
  },
  {
   "cell_type": "code",
   "execution_count": null,
   "id": "4533a0a3-69c2-4307-9869-239e909763e8",
   "metadata": {
    "editable": true,
    "slideshow": {
     "slide_type": "fragment"
    },
    "tags": []
   },
   "outputs": [],
   "source": [
    "import pandas as...."
   ]
  },
  {
   "cell_type": "code",
   "execution_count": null,
   "id": "95572878-4752-46e2-ae8c-59be779279fa",
   "metadata": {
    "slideshow": {
     "slide_type": "fragment"
    },
    "tags": []
   },
   "outputs": [],
   "source": [
    "import pandas as pd\n"
   ]
  },
  {
   "cell_type": "markdown",
   "id": "ba0f5b51-e76e-447c-8fcf-108f76724f5f",
   "metadata": {
    "slideshow": {
     "slide_type": "slide"
    },
    "tags": []
   },
   "source": [
    "### 📌 Tipo de archivos y estructuras de datos en pandas"
   ]
  },
  {
   "cell_type": "markdown",
   "id": "763e906d-2368-4ef0-a46a-188b00847ffa",
   "metadata": {
    "slideshow": {
     "slide_type": "fragment"
    },
    "tags": []
   },
   "source": [
    "¿Qué tipo de datos usaron con para recorrer el contenido usando:\n",
    "* csv\n",
    "* json"
   ]
  },
  {
   "cell_type": "markdown",
   "id": "3617c492-f1b0-419b-8cbb-f9ba5e33b577",
   "metadata": {
    "slideshow": {
     "slide_type": "subslide"
    },
    "tags": []
   },
   "source": [
    "#### Veamos un ejemplo"
   ]
  },
  {
   "cell_type": "code",
   "execution_count": null,
   "id": "70eda2d9-8430-410b-8bc4-354145fd7fd6",
   "metadata": {
    "slideshow": {
     "slide_type": ""
    },
    "tags": []
   },
   "outputs": [],
   "source": [
    "from pathlib import  Path\n",
    "file_route = Path('ejemplos')/'clase09'\n",
    "file_data = 'ar-airports.csv'\n",
    "df_airports = pd.read_csv(file_route/file_data)"
   ]
  },
  {
   "cell_type": "code",
   "execution_count": null,
   "id": "845e9605-86da-4fe2-b387-9f225c22fe2d",
   "metadata": {
    "slideshow": {
     "slide_type": "fragment"
    },
    "tags": []
   },
   "outputs": [],
   "source": [
    "df_airports"
   ]
  },
  {
   "cell_type": "markdown",
   "id": "5cfd18c3-a439-47e7-8ac9-05484082a4a0",
   "metadata": {
    "slideshow": {
     "slide_type": "subslide"
    },
    "tags": []
   },
   "source": [
    "¿De qué tipo de datos es la variable utilizada?"
   ]
  },
  {
   "cell_type": "code",
   "execution_count": null,
   "id": "f1d23931-9cc6-4d7a-9a1c-9e4aea6d6500",
   "metadata": {
    "slideshow": {
     "slide_type": "fragment"
    },
    "tags": []
   },
   "outputs": [],
   "source": [
    "type(df_airports)"
   ]
  },
  {
   "cell_type": "markdown",
   "id": "defeb1a3-44cb-4029-be71-4982799574f3",
   "metadata": {
    "editable": true,
    "slideshow": {
     "slide_type": "subslide"
    },
    "tags": []
   },
   "source": [
    "### Las principales [estructuras de datos](https://pandas.pydata.org/docs/getting_started/intro_tutorials/01_table_oriented.html) en pandas \n",
    "* **Series**: es un arreglo unidimensional de datos etiquetados.\n",
    "* **DataFrame**: es una estructura de datos tabular bidimensional compuesta por filas y columnas."
   ]
  },
  {
   "cell_type": "markdown",
   "id": "c1ab90c8-efb4-49a2-9648-55744e31f579",
   "metadata": {
    "editable": true,
    "slideshow": {
     "slide_type": "fragment"
    },
    "tags": []
   },
   "source": [
    "<div style=\"display: flex;\">\n",
    "    <div style=\"flex: 50%; padding: 5px;\">\n",
    "        <img src=\"imagenes/dataframe.png\" style=\"width: 70%;\">\n",
    "    </div>\n",
    "    <div style=\"flex: 50%; padding: 5px;\">\n",
    "        <img src=\"imagenes/series.png\" style=\"width: 70%;\">\n",
    "    </div>\n",
    "</div>\n"
   ]
  },
  {
   "cell_type": "markdown",
   "id": "7b0fb3ec-2733-4650-b2a8-ba28be88faa1",
   "metadata": {
    "editable": true,
    "slideshow": {
     "slide_type": "subslide"
    },
    "tags": []
   },
   "source": [
    "### Tipo de archivos y formas de abrir:\n",
    "* **pd.read_csv()**:  para leer archivos CSV (Comma Separated Values).\n",
    "* **pd.read_excel()**:  para leer archivos de Excel.\n",
    "* **pd.read_json()**:  para leer archivos JSON.\n",
    "* **pd.read_html()**:  para leer tablas HTML de una página web.\n",
    "* **pd.read_sql()**:  para leer datos de una base de datos SQL.\n",
    "* **pd.read_hdf()**:  para leer archivos HDF5 (Hierarchical Data Format versión 5).\n",
    "* [Muchos más](https://pandas.pydata.org/docs/user_guide/io.html)\n",
    "* Más info sobre opciones para lectura de distintos tipos de  archivos:\n",
    "> Capítulo 6 \"Python for Data Analysis\"\n",
    "\n"
   ]
  },
  {
   "cell_type": "markdown",
   "id": "6c05a6bb-0948-46e9-bafd-2d689a385fc0",
   "metadata": {
    "slideshow": {
     "slide_type": "slide"
    },
    "tags": []
   },
   "source": [
    "### 📌 Conociendo nuestros datos"
   ]
  },
  {
   "cell_type": "markdown",
   "id": "1ae38e5c-3723-4911-9e0b-1642647dd365",
   "metadata": {
    "slideshow": {
     "slide_type": "subslide"
    },
    "tags": []
   },
   "source": [
    "Ver las primeras filas o últimas\n",
    "```python\n",
    "df.head(number)\n",
    "df.tail(number)\n",
    "```"
   ]
  },
  {
   "cell_type": "code",
   "execution_count": null,
   "id": "ec3f4dde-4d91-4b04-9836-19bfcefb00f9",
   "metadata": {
    "slideshow": {
     "slide_type": "fragment"
    },
    "tags": []
   },
   "outputs": [],
   "source": [
    "df_airports.head(5)"
   ]
  },
  {
   "cell_type": "markdown",
   "id": "9a634104-8cf3-434d-9c22-240301ad0f1f",
   "metadata": {
    "slideshow": {
     "slide_type": "subslide"
    },
    "tags": []
   },
   "source": [
    "#### Filas y columnas\n"
   ]
  },
  {
   "cell_type": "code",
   "execution_count": null,
   "id": "4b9a3432-ee43-46e3-939a-73e2c38a2fea",
   "metadata": {
    "slideshow": {
     "slide_type": "fragment"
    },
    "tags": []
   },
   "outputs": [],
   "source": [
    "df_airports.shape"
   ]
  },
  {
   "cell_type": "markdown",
   "id": "bef356c0-03d6-4e64-9975-965aa21cdaf6",
   "metadata": {
    "slideshow": {
     "slide_type": "subslide"
    },
    "tags": []
   },
   "source": [
    "#### Nombres de las columnas\n",
    "Si trabajamos con un archivo csv, ¿en dónde se encuentran los nombres de las columnas?"
   ]
  },
  {
   "cell_type": "code",
   "execution_count": null,
   "id": "db21bb97-265c-42fc-b3c6-1332b9169293",
   "metadata": {
    "slideshow": {
     "slide_type": "fragment"
    },
    "tags": []
   },
   "outputs": [],
   "source": [
    "df_airports.columns"
   ]
  },
  {
   "cell_type": "markdown",
   "id": "dbc79e69-8ba5-4c20-95f6-d8228c471766",
   "metadata": {
    "editable": true,
    "slideshow": {
     "slide_type": "subslide"
    },
    "tags": []
   },
   "source": [
    "#### Información de nuestros datos\n",
    "* ¿Qué otra información nos puede servir, por ejemplo si vamos a buscar datos en la columna **municipality** del archivo de aeropuertos?\n",
    "* ¿Qué problemas tiene esta columna?"
   ]
  },
  {
   "cell_type": "code",
   "execution_count": null,
   "id": "9c926522-9e8f-4616-bbc3-a7b40e54f19a",
   "metadata": {
    "editable": true,
    "slideshow": {
     "slide_type": "slide"
    },
    "tags": []
   },
   "outputs": [],
   "source": [
    "df_airports.municipality"
   ]
  },
  {
   "cell_type": "markdown",
   "id": "d579ad90-ac1b-4930-a00a-9e523f8231eb",
   "metadata": {
    "editable": true,
    "slideshow": {
     "slide_type": "fragment"
    },
    "tags": []
   },
   "source": [
    "En principio no se se detecta un problema, pero utilicemos algunas funcionalidades para conocer los datos, antes de poder hacer un análisis de datos"
   ]
  },
  {
   "cell_type": "code",
   "execution_count": null,
   "id": "871a5fae-96bc-47c7-927b-c94f866d2ebe",
   "metadata": {
    "editable": true,
    "slideshow": {
     "slide_type": "fragment"
    },
    "tags": []
   },
   "outputs": [],
   "source": [
    "df_airports.info()"
   ]
  },
  {
   "cell_type": "markdown",
   "id": "06977fda-1c37-4e24-b738-6ab0e31fb752",
   "metadata": {
    "slideshow": {
     "slide_type": "subslide"
    },
    "tags": []
   },
   "source": [
    "¿Cómo podemos obtener los valores de algunos cálculos estadísticos básicos, sobre las columnas con datos numéricos?"
   ]
  },
  {
   "cell_type": "code",
   "execution_count": null,
   "id": "b7901eba-ee5e-4b67-ab24-7f7e3764b17a",
   "metadata": {
    "slideshow": {
     "slide_type": "fragment"
    },
    "tags": []
   },
   "outputs": [],
   "source": [
    "df_airports.describe()"
   ]
  },
  {
   "cell_type": "markdown",
   "id": "364e72d0-3f44-42e6-9a63-9d7d94797d6e",
   "metadata": {
    "editable": true,
    "slideshow": {
     "slide_type": "fragment"
    },
    "tags": []
   },
   "source": [
    "¿Qué es cada cálculo?\n",
    "* **count**: cantidad de valores no nulos\n",
    "* **mean**: media, el valor promedio de un conjunto de datos\n",
    "* **std**: desviación estándar, cuánto varían los valores en relación con la media.\n",
    "* **min**: mínimo\n",
    "* **25%**(primer cuartil): indica el valor por debajo del cual cae el 25% de los datos.\n",
    "* **50%**(mediana): es el valor que divide la serie en dos mitades iguales.\n",
    "* **75%**(tercer cuartil): indica el valor por debajo del cual cae el 75% de los datos.\n",
    "* **max**: máximo"
   ]
  },
  {
   "cell_type": "code",
   "execution_count": null,
   "id": "8ba373dd-322e-4430-96a2-a4b75cf2b103",
   "metadata": {
    "editable": true,
    "slideshow": {
     "slide_type": "subslide"
    },
    "tags": []
   },
   "outputs": [],
   "source": [
    "df_airports.dtypes"
   ]
  },
  {
   "cell_type": "markdown",
   "id": "84c1b1d1-01a3-4f00-9d1d-72ffc21e4cd8",
   "metadata": {
    "editable": true,
    "slideshow": {
     "slide_type": "subslide"
    },
    "tags": []
   },
   "source": [
    "* **info()**: cantidad de valores nulos por columnas y tipo de datos que pandas le asignó.\n",
    "* **describe()**: cálculos sobre las columnas que contienen datos numéricos.\n",
    "* **dtypes**: solamente los tipos de datos asignados por pandas.\n",
    "    * [Info tipos de datos](https://pandas.pydata.org/pandas-docs/stable/user_guide/basics.html#basics-dtypes\n"
   ]
  },
  {
   "cell_type": "markdown",
   "id": "a84d3360-2fc8-4043-b55d-d766f396c25b",
   "metadata": {},
   "source": [
    "* Otras operaciones estadísticas :\n",
    "    * min, max\n",
    "    * argmin, argmax\n",
    "    * idxmin, idxmax\n",
    "    * quantile\n",
    "    * sum\n",
    "    * mean\n",
    "    * median\n",
    "    * mad: desviación absoluta media respecto al valor medio\n",
    "    * prod: producto de todos los valores\n",
    "    * var: varianza muestral de los valores\n",
    "    * std: desviación estándar muestral de los valores\n",
    "    * skew: asimetría muestral\n",
    "    * kurt: curtosis muestral de los valores\n",
    "    * cumsum: suma acumulativa de los valores\n",
    "    * cummin, cummax: mínimo o máximo acumulativo de los valores\n",
    "    * cumprod: calcular la primera diferencia aritmética\n",
    "    * pct_change: calcular cambios porcentuales\n",
    "> Capítulo 5.3 \"Python for Data Analysis\""
   ]
  },
  {
   "cell_type": "markdown",
   "id": "322ce5aa-b163-4625-811d-48a6ac684ade",
   "metadata": {
    "editable": true,
    "slideshow": {
     "slide_type": "subslide"
    },
    "tags": []
   },
   "source": [
    "¿Cuánta memoria estamos usando con nuestro dataset?"
   ]
  },
  {
   "cell_type": "code",
   "execution_count": null,
   "id": "575c9fdd-d8c3-4163-b8fb-986a0ac7d424",
   "metadata": {
    "editable": true,
    "slideshow": {
     "slide_type": "fragment"
    },
    "tags": []
   },
   "outputs": [],
   "source": [
    "file_ind = 'usu_individual_T324.txt'"
   ]
  },
  {
   "cell_type": "code",
   "execution_count": null,
   "id": "0488b4c1-8d7c-4a88-9bca-79b9c3be8afb",
   "metadata": {
    "editable": true,
    "slideshow": {
     "slide_type": "fragment"
    },
    "tags": []
   },
   "outputs": [],
   "source": [
    "usi_ind = pd.read_csv(file_route/file_ind, delimiter=';')"
   ]
  },
  {
   "cell_type": "markdown",
   "id": "a3c6cb5b-a34a-40e9-9871-4bd4848a37c9",
   "metadata": {},
   "source": [
    "El error :\n",
    "> DtypeWarning: Columns (102) have mixed types. Specify dtype option on import or set low_memory=False\n",
    ">\n",
    "* **pandas** indica que la columna 102 del archivo contiene datos de diferentes tipos (por ejemplo, números y cadenas de texto).\n",
    "  Esto puede causar problemas al procesar los datos, ya que pandas no sabe cómo manejar esos tipos mixtos.\n",
    "* Se puede usar **low_memory=False**:  pandas procesa el archivo sin advertencias."
   ]
  },
  {
   "cell_type": "code",
   "execution_count": null,
   "id": "4672d7df-4f89-4b09-8d80-da9c9b8026f5",
   "metadata": {},
   "outputs": [],
   "source": [
    "usi_ind = pd.read_csv(file_route/file_ind, delimiter=';', low_memory=False)"
   ]
  },
  {
   "cell_type": "code",
   "execution_count": null,
   "id": "028609fa-5731-4a33-a04f-3ce387d4d902",
   "metadata": {
    "editable": true,
    "slideshow": {
     "slide_type": "fragment"
    },
    "tags": []
   },
   "outputs": [],
   "source": [
    "usi_ind.info(verbose=False, memory_usage='deep')\n",
    "#df_airports.info(verbose=False, memory_usage='deep')"
   ]
  },
  {
   "cell_type": "markdown",
   "id": "70d6002c-36e8-4260-af80-aac7c13949b7",
   "metadata": {
    "editable": true,
    "slideshow": {
     "slide_type": "subslide"
    },
    "tags": []
   },
   "source": [
    "#### 👉 Quiero saber la cantidad de aeropuertos que hay de cada tipo"
   ]
  },
  {
   "cell_type": "markdown",
   "id": "ec3e6a54-c84f-46cc-beb5-98b90f1f7c7b",
   "metadata": {
    "slideshow": {
     "slide_type": "fragment"
    },
    "tags": []
   },
   "source": [
    "#### 1. Consulto los nombres de las columnas para saber donde está esa información"
   ]
  },
  {
   "cell_type": "code",
   "execution_count": null,
   "id": "d0f0705e-79b3-45a1-8818-70bef1e8b455",
   "metadata": {
    "slideshow": {
     "slide_type": "fragment"
    },
    "tags": []
   },
   "outputs": [],
   "source": [
    "df_airports.columns "
   ]
  },
  {
   "cell_type": "markdown",
   "id": "438189f6-8ae0-4fbc-8a3b-1ec7e94a9aa4",
   "metadata": {
    "slideshow": {
     "slide_type": "subslide"
    },
    "tags": []
   },
   "source": [
    "#### 2. Consulto cuáles son los valores únicos de la columna **type**\n"
   ]
  },
  {
   "cell_type": "code",
   "execution_count": null,
   "id": "20599c9a-6320-49f3-b433-f0562e41ed6e",
   "metadata": {
    "slideshow": {
     "slide_type": "fragment"
    },
    "tags": []
   },
   "outputs": [],
   "source": [
    "df_airports.type.unique()"
   ]
  },
  {
   "cell_type": "markdown",
   "id": "d05b2fad-5142-4c99-88de-29e0185c93ef",
   "metadata": {
    "slideshow": {
     "slide_type": "subslide"
    },
    "tags": []
   },
   "source": [
    "#### 3. Calculo cuántos hay de cada tipo"
   ]
  },
  {
   "cell_type": "code",
   "execution_count": null,
   "id": "21f00fe3-74f1-4160-a85a-eb534343d311",
   "metadata": {
    "slideshow": {
     "slide_type": "fragment"
    },
    "tags": []
   },
   "outputs": [],
   "source": [
    "df_airports['type'].value_counts()"
   ]
  },
  {
   "cell_type": "markdown",
   "id": "a7bd1279-f81b-4e49-8ddf-f526f915a1cf",
   "metadata": {
    "editable": true,
    "slideshow": {
     "slide_type": "subslide"
    },
    "tags": []
   },
   "source": [
    "## 📌 Trabajando con datos de una sola columna\n",
    " * Queremos guardar los nombres de todos los aeropuertos "
   ]
  },
  {
   "cell_type": "code",
   "execution_count": null,
   "id": "92396f78-788b-4982-862b-0da14a68dfc7",
   "metadata": {
    "editable": true,
    "slideshow": {
     "slide_type": "fragment"
    },
    "tags": []
   },
   "outputs": [],
   "source": [
    "df_names = df_airports.name"
   ]
  },
  {
   "cell_type": "code",
   "execution_count": null,
   "id": "9c88d819-dd36-4e38-baa8-fad641711a1b",
   "metadata": {
    "editable": true,
    "slideshow": {
     "slide_type": "fragment"
    },
    "tags": []
   },
   "outputs": [],
   "source": [
    "df_names"
   ]
  },
  {
   "cell_type": "markdown",
   "id": "2cb0cd9a-9ab0-4e02-90d9-a7ada5b12039",
   "metadata": {
    "editable": true,
    "slideshow": {
     "slide_type": "slide"
    },
    "tags": []
   },
   "source": [
    "¿Cómo puedo obtener los nombres en una estructura más simple?"
   ]
  },
  {
   "cell_type": "code",
   "execution_count": null,
   "id": "ad536d52-3a48-4022-8be0-24a9bbac9c57",
   "metadata": {
    "editable": true,
    "slideshow": {
     "slide_type": "fragment"
    },
    "tags": []
   },
   "outputs": [],
   "source": [
    "df_airports.name.to_list()[:5]"
   ]
  },
  {
   "cell_type": "code",
   "execution_count": null,
   "id": "90741e8f-b5b7-416b-8e33-62ab1e3180b7",
   "metadata": {
    "editable": true,
    "slideshow": {
     "slide_type": "fragment"
    },
    "tags": []
   },
   "outputs": [],
   "source": [
    "df_airports.name.values[:5]"
   ]
  },
  {
   "cell_type": "markdown",
   "id": "a204c1da-2a26-4c98-beb4-bf4d153221f2",
   "metadata": {
    "editable": true,
    "slideshow": {
     "slide_type": "slide"
    },
    "tags": []
   },
   "source": [
    "```\n",
    "df_airports.name.to_list()\n",
    " ```\n",
    "* Convierte la columna en una lista de Python.\n",
    "* **Tipo de Objeto Devuelto**: devuelve una lista de Python (list).\n",
    "* **Uso**: es útil cuando se necesita trabajar con los datos como una lista, ya que las listas son una estructura de datos nativa de Python y son fáciles de manipular."
   ]
  },
  {
   "cell_type": "markdown",
   "id": "a5be31fa-a654-436c-b43f-be9e1bd24f54",
   "metadata": {
    "editable": true,
    "slideshow": {
     "slide_type": "fragment"
    },
    "tags": []
   },
   "source": [
    "```\n",
    "df_airports.name.values\n",
    " ```\n",
    "* Devuelve los valores de la serie como un array de NumPy.\n",
    "* **Tipo de Objeto Devuelto**: devuelve un array de NumPy (numpy.ndarray).\n",
    "* **Uso**: es útil cuando se necesita realizar operaciones numéricas o de matriz, ya que NumPy proporciona una amplia gama de funciones y métodos optimizados para trabajar con arrays.\n",
    "* Veremos más adelante qué características tiene la librería NumPy y las facilidades que provee."
   ]
  },
  {
   "cell_type": "markdown",
   "id": "bb567704-6aea-4843-baae-9d171ea2b457",
   "metadata": {
    "editable": true,
    "slideshow": {
     "slide_type": "subslide"
    },
    "tags": []
   },
   "source": [
    "¿Pero es lo mismo un Dataframe que una variable de tipo Series?"
   ]
  },
  {
   "cell_type": "markdown",
   "id": "46a201f9-5d6c-4af2-8f4b-abd4941a9963",
   "metadata": {
    "editable": true,
    "slideshow": {
     "slide_type": "fragment"
    },
    "tags": []
   },
   "source": [
    "### 📌 Series\n",
    "* Tipo de dato unidimensional, es como un arreglo con etiquetas de índice.\n",
    "* Los tipos de operaciones pueden variar con respecto a un Dataframe.\n",
    "* [Info](https://pandas.pydata.org/pandas-docs/stable/reference/api/pandas.Series.html)"
   ]
  },
  {
   "cell_type": "code",
   "execution_count": null,
   "id": "39146a7c-ec0b-4c5c-9b1f-074a2ec0ff37",
   "metadata": {
    "editable": true,
    "slideshow": {
     "slide_type": "subslide"
    },
    "tags": []
   },
   "outputs": [],
   "source": [
    "df_airports.describe()"
   ]
  },
  {
   "cell_type": "code",
   "execution_count": null,
   "id": "7079abdf-bae7-4239-93ba-6bcd86e3af38",
   "metadata": {
    "editable": true,
    "slideshow": {
     "slide_type": "slide"
    },
    "tags": []
   },
   "outputs": [],
   "source": [
    "type(df_airports.elevation_ft)"
   ]
  },
  {
   "cell_type": "code",
   "execution_count": null,
   "id": "fd32cf9b-7438-4594-8ed0-7ee13eea8129",
   "metadata": {
    "editable": true,
    "slideshow": {
     "slide_type": "fragment"
    },
    "tags": []
   },
   "outputs": [],
   "source": [
    "df_airports.elevation_ft.describe()"
   ]
  },
  {
   "cell_type": "markdown",
   "id": "f5f42300-6369-45a2-baca-c8fcaca306dd",
   "metadata": {
    "editable": true,
    "slideshow": {
     "slide_type": "fragment"
    },
    "tags": []
   },
   "source": [
    "1. Las estadísticas se muestran de todas las columnas númericas.\n",
    "2. Las estadísticas se muestran sólo de la columna seleccionada."
   ]
  },
  {
   "cell_type": "markdown",
   "id": "906dd1cc-4c40-4064-9d49-eb878742c492",
   "metadata": {
    "editable": true,
    "slideshow": {
     "slide_type": "subslide"
    },
    "tags": []
   },
   "source": [
    "La estructura **Series** tiene dos componentes principales: índice y valores:\n",
    "*  **Índice (index)** es una etiqueta que se utiliza para **identificar** cada uno de los elementos de la Serie.\n",
    "    *  Por defecto, si no se especifica un índice al crear la Serie, pandas asigna un índice numérico que comienza en 0 y se incrementa en 1 para cada elemento.\n",
    "    *  **index**: permite acceder a los valores.\n",
    "*  **Valores (values)**: son los datos que contiene.\n",
    "    *  **values**: permite acceder a los valores."
   ]
  },
  {
   "cell_type": "code",
   "execution_count": null,
   "id": "89db707c-24c6-44ad-a35b-6e1db5255b6a",
   "metadata": {
    "editable": true,
    "slideshow": {
     "slide_type": "fragment"
    },
    "tags": []
   },
   "outputs": [],
   "source": [
    "df_airports.elevation_ft.index"
   ]
  },
  {
   "cell_type": "code",
   "execution_count": null,
   "id": "f7486f01-2710-4ad3-9d58-3cf2f991d6c0",
   "metadata": {
    "editable": true,
    "slideshow": {
     "slide_type": "fragment"
    },
    "tags": []
   },
   "outputs": [],
   "source": [
    "df_airports.elevation_ft.values[:5]"
   ]
  },
  {
   "cell_type": "markdown",
   "id": "b7eecd14-e20b-47ce-a52b-818bda42059b",
   "metadata": {
    "editable": true,
    "slideshow": {
     "slide_type": "slide"
    },
    "tags": []
   },
   "source": [
    "### 📌 Acceso a datos por índice o etiquetas"
   ]
  },
  {
   "cell_type": "code",
   "execution_count": null,
   "id": "3925c6f9-4d9a-441a-a35f-92a5c5daaafa",
   "metadata": {
    "editable": true,
    "scrolled": true,
    "slideshow": {
     "slide_type": "fragment"
    },
    "tags": []
   },
   "outputs": [],
   "source": [
    "df_airports.iloc[10:14]"
   ]
  },
  {
   "cell_type": "code",
   "execution_count": null,
   "id": "9e1ce4f6-a801-4514-b1fe-263151d08246",
   "metadata": {
    "editable": true,
    "slideshow": {
     "slide_type": "fragment"
    },
    "tags": []
   },
   "outputs": [],
   "source": [
    "df_airports.loc[0] "
   ]
  },
  {
   "cell_type": "markdown",
   "id": "e41a63f9-c131-4314-b079-2d388dd0a123",
   "metadata": {
    "editable": true,
    "slideshow": {
     "slide_type": "slide"
    },
    "tags": []
   },
   "source": [
    "* **loc**: por label, en este caso el índice en un número\n",
    "* **iloc**: por índice entero, es el número de la fila.\n",
    "* Más info de acceso indexado en:\n",
    "> Capítulo 5.2 \"Python for Data Analysis\""
   ]
  },
  {
   "cell_type": "markdown",
   "id": "b611aa81-eac3-4d52-a4b4-93bb92e46842",
   "metadata": {
    "editable": true,
    "slideshow": {
     "slide_type": "slide"
    },
    "tags": []
   },
   "source": [
    "## 🎒 Manipulación de Datos con pandas\n",
    "* ¿Cómo seleccionar, filtrar y transformar datos?\n",
    "* ¿Cuáles son las operaciones comunes para manipular y procesar datos?\n",
    "\n"
   ]
  },
  {
   "cell_type": "markdown",
   "id": "168339f5-66e2-4b48-a09a-31cb100ecf89",
   "metadata": {
    "slideshow": {
     "slide_type": "subslide"
    },
    "tags": []
   },
   "source": [
    "### 📌 Filtrado de datos "
   ]
  },
  {
   "cell_type": "markdown",
   "id": "ed3e937f-8c50-4488-90f1-196291087290",
   "metadata": {
    "editable": true,
    "slideshow": {
     "slide_type": "fragment"
    },
    "tags": []
   },
   "source": [
    "* Filas que coincidan con  un valor específico de una columna.\n",
    "* Filas que cumplan condición con operadores booleanos.\n",
    "* Selección de columnas específicas.\n",
    "* Filas que coincidan con algún string o elemento de una lista."
   ]
  },
  {
   "cell_type": "markdown",
   "id": "3e6197c5-5891-4ab2-89da-53d591332741",
   "metadata": {
    "editable": true,
    "slideshow": {
     "slide_type": "fragment"
    },
    "tags": []
   },
   "source": [
    "👉 Queremos encontrar:\n",
    "* los aeropuertos que coincidan con un tipo de aeropuerto dado.\n",
    "* los aeropuertos que se encuentren en valores o rangos correspondientes a la elevación.\n",
    "* los aeropuertos de tipo: large, medium, small.\n"
   ]
  },
  {
   "cell_type": "markdown",
   "id": "d22aab47-9746-43f4-bacf-f0501c3ac595",
   "metadata": {
    "slideshow": {
     "slide_type": "subslide"
    },
    "tags": []
   },
   "source": [
    "#### 👉 Los aeropuertos que coincidan con un tipo de aeropuerto dado."
   ]
  },
  {
   "cell_type": "code",
   "execution_count": null,
   "id": "5da7b181-02f3-44b7-a6e5-81db81a35bc0",
   "metadata": {
    "slideshow": {
     "slide_type": "fragment"
    },
    "tags": []
   },
   "outputs": [],
   "source": [
    "df_airports[df_airports.type=='medium_airport'].head(3)"
   ]
  },
  {
   "cell_type": "markdown",
   "id": "17e115db-36b4-4a5c-ac8e-eac54755e73a",
   "metadata": {
    "slideshow": {
     "slide_type": "subslide"
    },
    "tags": []
   },
   "source": [
    "¿Por qué usamos dos veces la variable **df_airports**?"
   ]
  },
  {
   "cell_type": "code",
   "execution_count": null,
   "id": "ad7cc830-76db-4dad-9999-d027da92d948",
   "metadata": {
    "slideshow": {
     "slide_type": "fragment"
    },
    "tags": []
   },
   "outputs": [],
   "source": [
    "df_airports.type=='medium_airport'"
   ]
  },
  {
   "cell_type": "markdown",
   "id": "c0796c12-acca-4e03-b8ea-60b5434358e4",
   "metadata": {
    "slideshow": {
     "slide_type": "fragment"
    },
    "tags": []
   },
   "source": [
    "* Nos devuelve un array de booleanos, es en realidad una máscara.\n",
    "* Luego se aplica esa máscara a las filas del Dataframe."
   ]
  },
  {
   "cell_type": "code",
   "execution_count": null,
   "id": "1bf7267c-cc2e-4780-a562-38ebacf2ecb5",
   "metadata": {},
   "outputs": [],
   "source": [
    "df_airports.type.unique()"
   ]
  },
  {
   "cell_type": "code",
   "execution_count": null,
   "id": "024f97e6-1f57-4470-befc-0224d149e0a6",
   "metadata": {
    "slideshow": {
     "slide_type": "subslide"
    },
    "tags": []
   },
   "outputs": [],
   "source": [
    "mask = df_airports.type=='medium_airport'\n",
    "df_airports[mask].head(3)"
   ]
  },
  {
   "cell_type": "markdown",
   "id": "695cf026-c793-4af9-ba57-a2a257da3d5a",
   "metadata": {
    "slideshow": {
     "slide_type": "subslide"
    },
    "tags": []
   },
   "source": [
    "#### 👉 Los aeropuertos que se encuentren en valores o rangos correspondientes a la elevación."
   ]
  },
  {
   "cell_type": "code",
   "execution_count": null,
   "id": "b05b9c22-c0a7-47f4-9f59-7e6567a3eeb6",
   "metadata": {
    "editable": true,
    "slideshow": {
     "slide_type": "fragment"
    },
    "tags": []
   },
   "outputs": [],
   "source": [
    "df_airports[df_airports.elevation_ft<131].head(3)"
   ]
  },
  {
   "cell_type": "code",
   "execution_count": null,
   "id": "3292a907-9b8b-447c-a5e4-840e0288cb22",
   "metadata": {
    "slideshow": {
     "slide_type": "fragment"
    },
    "tags": []
   },
   "outputs": [],
   "source": [
    "df_airports[(df_airports.elevation_ft>131) & (df_airports.elevation_ft<903)].head(3)"
   ]
  },
  {
   "cell_type": "markdown",
   "id": "ce3e4734-ee07-4a8f-918d-088440ad4afd",
   "metadata": {
    "slideshow": {
     "slide_type": "fragment"
    },
    "tags": []
   },
   "source": [
    "¿Son los mismos operadores booleanos usados en Python?"
   ]
  },
  {
   "cell_type": "markdown",
   "id": "2da0e082-7805-4a75-affa-62fdc58ce949",
   "metadata": {
    "editable": true,
    "slideshow": {
     "slide_type": "subslide"
    },
    "tags": []
   },
   "source": [
    "### 📌 Operadores booleanos\n",
    "|Operador|Python|pandas|\n",
    "|----------|---------|--------|\n",
    "|**and**|cond1 and cond2|(cond1) & (cond2)|\n",
    "|**or**|cond1 or cond2|(cond1) \\| (cond2)|\n",
    "|**not**|not cond|∼cond|"
   ]
  },
  {
   "cell_type": "markdown",
   "id": "945e809d-52c1-4309-a714-9384ec69a3b9",
   "metadata": {
    "editable": true,
    "slideshow": {
     "slide_type": "subslide"
    },
    "tags": []
   },
   "source": [
    "Cuando filtramos por valores numéricos podemos utilizar **between** en lugar de poner explícitamente ambas condiciones"
   ]
  },
  {
   "cell_type": "code",
   "execution_count": null,
   "id": "d3a9474d-d286-4076-927d-4052c4f3bd34",
   "metadata": {
    "editable": true,
    "slideshow": {
     "slide_type": "fragment"
    },
    "tags": []
   },
   "outputs": [],
   "source": [
    "df_airports[df_airports.elevation_ft.between(131, 903)]"
   ]
  },
  {
   "cell_type": "markdown",
   "id": "3d43fa0d-8579-4a4b-ab24-ce214045daed",
   "metadata": {
    "slideshow": {
     "slide_type": "subslide"
    },
    "tags": []
   },
   "source": [
    "#### 👉 Filtrado de los aeropuertos de tipo: large, medium, small"
   ]
  },
  {
   "cell_type": "code",
   "execution_count": null,
   "id": "fcc1277c-7354-4299-a89a-6909619fd1ae",
   "metadata": {
    "slideshow": {
     "slide_type": "fragment"
    },
    "tags": []
   },
   "outputs": [],
   "source": [
    "df_airports.type.unique()"
   ]
  },
  {
   "cell_type": "markdown",
   "id": "14cf0b28-d3b6-4a11-94a3-1114dcdf0c27",
   "metadata": {
    "slideshow": {
     "slide_type": "fragment"
    },
    "tags": []
   },
   "source": [
    "Hay dos posibles formas\n",
    "* Filtrar los aeropuertos que contengan el string **airport**, ya que los demás no contienen ese string.\n",
    "* Filtrar con una lista que contenga las categorías que estamos buscando."
   ]
  },
  {
   "cell_type": "markdown",
   "id": "5c8dafeb-d7fc-41ed-9e85-eb1791940ca1",
   "metadata": {
    "slideshow": {
     "slide_type": "subslide"
    },
    "tags": []
   },
   "source": [
    "### 👉1.Filtrar indicando el string **airport**, ya que los demás no lo contienen."
   ]
  },
  {
   "cell_type": "code",
   "execution_count": null,
   "id": "1bf41012-73e5-4c3f-8f67-b7b6ed3f558c",
   "metadata": {
    "slideshow": {
     "slide_type": "fragment"
    },
    "tags": []
   },
   "outputs": [],
   "source": [
    "df_airports[df_airports.type.str.contains('airport')].head(3)"
   ]
  },
  {
   "cell_type": "markdown",
   "id": "08316055-faee-4f97-bbc0-e5002408b0fc",
   "metadata": {
    "slideshow": {
     "slide_type": "subslide"
    },
    "tags": []
   },
   "source": [
    "```python\n",
    "df.column.str.contains('string')\n",
    "```\n",
    "Permite filtrar las filas que en la  **columna** se encuentre el string dado"
   ]
  },
  {
   "cell_type": "markdown",
   "id": "c1b982cb-fbcc-48e0-9172-ba94cd61a9d2",
   "metadata": {
    "slideshow": {
     "slide_type": "subslide"
    },
    "tags": []
   },
   "source": [
    "### 👉2. Filtrar con una lista que contenga las categorías que estamos buscando."
   ]
  },
  {
   "cell_type": "code",
   "execution_count": null,
   "id": "6c5166a5-1258-4842-bcca-776e6932099f",
   "metadata": {
    "editable": true,
    "slideshow": {
     "slide_type": "subslide"
    },
    "tags": []
   },
   "outputs": [],
   "source": [
    "airports_int = ['large_airport', 'medium_airport',  'small_airport']\n"
   ]
  },
  {
   "cell_type": "code",
   "execution_count": null,
   "id": "c6cf4da8-29e4-4341-90ce-733d22647a72",
   "metadata": {},
   "outputs": [],
   "source": [
    "df_airports[df_airports.type.isin(airports_int)]"
   ]
  },
  {
   "cell_type": "markdown",
   "id": "61c37615-e108-4e01-8cf9-0d82cfd70791",
   "metadata": {
    "editable": true,
    "slideshow": {
     "slide_type": "fragment"
    },
    "tags": []
   },
   "source": [
    "```python\n",
    "df.columna.isin(lista)\n",
    "```\n",
    "Permite filtrar las filas cuyo contenido de la **columna** dada sea algunos de los elementos de la **lista** pasada como parámetro."
   ]
  },
  {
   "cell_type": "markdown",
   "id": "833c4892-7f1e-4b3a-8182-543e835b1d26",
   "metadata": {
    "slideshow": {
     "slide_type": "slide"
    },
    "tags": []
   },
   "source": [
    "# 📊 Gráficos con Matplotlib"
   ]
  },
  {
   "cell_type": "markdown",
   "id": "0115b1d5-92c3-4e45-9349-526636df22c4",
   "metadata": {
    "slideshow": {
     "slide_type": "fragment"
    },
    "tags": []
   },
   "source": [
    "¿Qué tipos de gráficos conocen?"
   ]
  },
  {
   "cell_type": "markdown",
   "id": "f8f0e7bf-24c5-46f1-9a97-a6f8a6164c36",
   "metadata": {
    "editable": true,
    "slideshow": {
     "slide_type": "fragment"
    },
    "tags": []
   },
   "source": [
    "Con Matplotlib se pueden realizar\n",
    "* Barra\n",
    "* Línea\n",
    "* Torta\n",
    "* Scatter\n",
    "* Histograma\n",
    "* Boxplot\n",
    "* 3D\n",
    "* [y muchos más](https://matplotlib.org/stable/plot_types/index.html)"
   ]
  },
  {
   "cell_type": "markdown",
   "id": "8159d912-bd1c-4d45-89e3-b78cf95739bf",
   "metadata": {
    "editable": true,
    "slideshow": {
     "slide_type": "subslide"
    },
    "tags": []
   },
   "source": [
    "Primero importamos:"
   ]
  },
  {
   "cell_type": "code",
   "execution_count": null,
   "id": "5628270e-d1e1-4c82-8f7f-c50aa70e0502",
   "metadata": {
    "editable": true,
    "slideshow": {
     "slide_type": "fragment"
    },
    "tags": []
   },
   "outputs": [],
   "source": [
    "import matplotlib.pyplot as plt"
   ]
  },
  {
   "cell_type": "markdown",
   "id": "50684042-5c90-483e-a8dd-22753084be50",
   "metadata": {
    "editable": true,
    "slideshow": {
     "slide_type": "subslide"
    },
    "tags": []
   },
   "source": [
    "### Generar gráficos simples\n",
    "Graficar los tipos de aeropuertos según el tipo\n",
    "* barra\n",
    "* torta"
   ]
  },
  {
   "cell_type": "markdown",
   "id": "0cefeda9-8758-4adc-9035-9cb231dcaa28",
   "metadata": {
    "editable": true,
    "slideshow": {
     "slide_type": "subslide"
    },
    "tags": []
   },
   "source": [
    "#### Utilizando plot directamente con los valores contados"
   ]
  },
  {
   "cell_type": "code",
   "execution_count": null,
   "id": "9de5ff1d-a752-4c06-91ef-751065e86f04",
   "metadata": {
    "editable": true,
    "slideshow": {
     "slide_type": "fragment"
    },
    "tags": []
   },
   "outputs": [],
   "source": [
    "conteo_tipos = df_airports_int.type.value_counts()\n",
    "conteo_tipos"
   ]
  },
  {
   "cell_type": "code",
   "execution_count": null,
   "id": "5696fe0a-d7fa-46bf-9ec9-b07f9bc03d2c",
   "metadata": {
    "editable": true,
    "slideshow": {
     "slide_type": "fragment"
    },
    "tags": []
   },
   "outputs": [],
   "source": [
    "type(conteo_tipos)"
   ]
  },
  {
   "cell_type": "markdown",
   "id": "59abdf73-f841-4e3b-a8bc-0596ff607f52",
   "metadata": {
    "editable": true,
    "slideshow": {
     "slide_type": "subslide"
    },
    "tags": []
   },
   "source": [
    "### Crear el gráfico de barra"
   ]
  },
  {
   "cell_type": "code",
   "execution_count": null,
   "id": "15165b7b-dcc6-4f4c-8573-bca2a3958e74",
   "metadata": {
    "editable": true,
    "slideshow": {
     "slide_type": "fragment"
    },
    "tags": []
   },
   "outputs": [],
   "source": [
    "conteo_tipos.plot(kind='bar', xlabel='Tipo de aeropuerto', ylabel='Cantidad', title='Cantidad de aeropuertos por tipo')\n",
    "plt.show()"
   ]
  },
  {
   "cell_type": "markdown",
   "id": "e72c8a9d-9f9b-406a-9aa1-54ff81fb85e0",
   "metadata": {
    "slideshow": {
     "slide_type": "subslide"
    },
    "tags": []
   },
   "source": [
    "### Crear el gráfico de torta"
   ]
  },
  {
   "cell_type": "code",
   "execution_count": null,
   "id": "a656480e-c304-4345-a4ca-8111814824d3",
   "metadata": {
    "slideshow": {
     "slide_type": "fragment"
    },
    "tags": []
   },
   "outputs": [],
   "source": [
    "\n",
    "conteo_tipos.plot(kind='pie', autopct='%1.1f%%', title='Proporción de aeropuertos por tipo')\n",
    "\n",
    "# Mostrar el gráfico de torta\n",
    "plt.show()"
   ]
  },
  {
   "cell_type": "markdown",
   "id": "fc0cfb35-785c-4f7a-83ae-2445b40dbb96",
   "metadata": {
    "editable": true,
    "slideshow": {
     "slide_type": "subslide"
    },
    "tags": []
   },
   "source": [
    "## 📊 Utilizando las funciones de Matplotlib "
   ]
  },
  {
   "cell_type": "code",
   "execution_count": null,
   "id": "fd82c03a-c9af-435c-bf98-e8bdff8e1d12",
   "metadata": {
    "editable": true,
    "slideshow": {
     "slide_type": "fragment"
    },
    "tags": []
   },
   "outputs": [],
   "source": [
    "values = df_airports_int.type.value_counts().values\n",
    "labels = df_airports_int.type.value_counts().index"
   ]
  },
  {
   "cell_type": "markdown",
   "id": "eb2be4dd-e1a5-40ee-b363-8b3e16f6ab0c",
   "metadata": {
    "editable": true,
    "slideshow": {
     "slide_type": "subslide"
    },
    "tags": []
   },
   "source": [
    "## 📌 Crear el gráfico de barras"
   ]
  },
  {
   "cell_type": "code",
   "execution_count": null,
   "id": "422f27fa-51ae-405e-bfb5-f72892dc5cd6",
   "metadata": {
    "editable": true,
    "slideshow": {
     "slide_type": "fragment"
    },
    "tags": []
   },
   "outputs": [],
   "source": [
    "plt.bar(labels,values)\n",
    "# Agregar etiquetas y título\n",
    "plt.xlabel('Tipo de aeropuerto')\n",
    "plt.ylabel('Cantidad')\n",
    "plt.title('Cantidad de aeropuertos por tipo')\n",
    "\n",
    "# Rotar etiquetas en el eje x para mejor legibilidad\n",
    "plt.xticks(rotation=45)\n",
    "# Mostrar el gráfico de barras\n",
    "plt.show()"
   ]
  },
  {
   "cell_type": "markdown",
   "id": "4a59574f-b46b-4572-8c3b-6f604d52cd35",
   "metadata": {
    "editable": true,
    "slideshow": {
     "slide_type": "subslide"
    },
    "tags": []
   },
   "source": [
    "## 📌Crear el gráfico de torta"
   ]
  },
  {
   "cell_type": "code",
   "execution_count": null,
   "id": "5c892ca5-1c53-44fb-9b63-174c6081e669",
   "metadata": {
    "editable": true,
    "slideshow": {
     "slide_type": "fragment"
    },
    "tags": []
   },
   "outputs": [],
   "source": [
    "\n",
    "plt.pie(values, labels=labels, autopct='%1.2f%%')\n",
    "\n",
    "# Agregar título\n",
    "plt.title('Proporción de aeropuertos por tipo')\n",
    "\n",
    "# Mostrar el gráfico de torta\n",
    "plt.show()\n"
   ]
  },
  {
   "cell_type": "markdown",
   "id": "f1151d7c-9af7-457e-9ee4-e06677c5af87",
   "metadata": {
    "editable": true,
    "slideshow": {
     "slide_type": ""
    },
    "tags": []
   },
   "source": [
    "* autopct: permite mostrar el porcentaje al lado de cada porción"
   ]
  },
  {
   "cell_type": "markdown",
   "id": "dedc7947-a85c-4221-9383-81a7eccb4def",
   "metadata": {
    "editable": true,
    "slideshow": {
     "slide_type": ""
    },
    "tags": []
   },
   "source": [
    "### 📝Cambio de los colores del gráficos"
   ]
  },
  {
   "cell_type": "code",
   "execution_count": null,
   "id": "0c1a358b-6a14-43eb-bfbc-65d8bca2b6cc",
   "metadata": {
    "editable": true,
    "slideshow": {
     "slide_type": ""
    },
    "tags": []
   },
   "outputs": [],
   "source": [
    "plt.pie(values, labels=labels, colors=['red', 'green', 'blue'])\n",
    "plt.title('Proporción de aeropuertos por tipo')\n",
    "\n",
    "plt.show()"
   ]
  },
  {
   "cell_type": "markdown",
   "id": "8e802001-4fb8-4612-9e53-4fbbdfc591b6",
   "metadata": {
    "editable": true,
    "slideshow": {
     "slide_type": ""
    },
    "tags": []
   },
   "source": [
    "### 📝Agregar sombras"
   ]
  },
  {
   "cell_type": "code",
   "execution_count": null,
   "id": "bba94c4b-d45c-42e6-bff2-81baf102c2fd",
   "metadata": {
    "editable": true,
    "slideshow": {
     "slide_type": ""
    },
    "tags": []
   },
   "outputs": [],
   "source": [
    "plt.pie(values, labels=labels, shadow=True)\n",
    "plt.title('Proporción de aeropuertos por tipo')\n",
    "\n",
    "plt.show()"
   ]
  },
  {
   "cell_type": "markdown",
   "id": "7d79b5ef-a755-4036-b576-60a39b9d31d2",
   "metadata": {
    "editable": true,
    "slideshow": {
     "slide_type": ""
    },
    "tags": []
   },
   "source": [
    "### 📝 Separar una porción para remarcar"
   ]
  },
  {
   "cell_type": "code",
   "execution_count": null,
   "id": "a8e8aed2-b400-4440-adb0-92e0da5edc4a",
   "metadata": {
    "editable": true,
    "slideshow": {
     "slide_type": ""
    },
    "tags": []
   },
   "outputs": [],
   "source": [
    "explode = (0.1, 0, 0)  # Separar la segunda porción (índice 1)\n",
    "plt.pie(values, labels=labels, explode=explode)\n",
    "plt.title('Proporción de aeropuertos por tipo')\n",
    "\n",
    "plt.show()"
   ]
  },
  {
   "cell_type": "code",
   "execution_count": null,
   "id": "e2f37e6c-91fe-4503-8ce4-592097feb844",
   "metadata": {},
   "outputs": [],
   "source": []
  },
  {
   "cell_type": "code",
   "execution_count": null,
   "id": "715e1075-ed71-4973-98c3-1006a87b7ff4",
   "metadata": {},
   "outputs": [],
   "source": [
    "\n",
    "explode = (0.1, 0, 0)  # Separar la segunda porción (índice 1)\n",
    "plt.pie(values, labels=labels, explode=explode)\n",
    "plt.title('Proporción de aeropuertos por tipo')\n",
    "plt.legend(labels, loc='center left', bbox_to_anchor=(1.5, 0.5))\n",
    "plt.show()"
   ]
  },
  {
   "cell_type": "markdown",
   "id": "a6b74136-96e7-4894-bdf8-201d71b4ebc2",
   "metadata": {
    "editable": true,
    "slideshow": {
     "slide_type": "subslide"
    },
    "tags": []
   },
   "source": [
    "# Para pensar en casa\n",
    "* ¿Cómo manejar valores faltantes y duplicados en un conjunto de datos?\n",
    "* ¿Cómo agregamos columnas, y cómo podemos hacerlo aplicando una función?\n",
    "* ¿Qué técnicas ofrece pandas para realizar agregaciones y agrupaciones de datos?\n",
    "* Nuestros datos y gráficos interactuando con Streamlit."
   ]
  },
  {
   "cell_type": "markdown",
   "id": "a232849a-6c34-485a-aeca-ff20d1a0a493",
   "metadata": {
    "collapsed": true,
    "editable": true,
    "jupyter": {
     "outputs_hidden": true
    },
    "slideshow": {
     "slide_type": ""
    },
    "tags": []
   },
   "source": [
    "# Seguimos la próxima ..."
   ]
  },
  {
   "cell_type": "markdown",
   "id": "04d1f68c-335e-4a36-a524-fc8c5b461328",
   "metadata": {
    "editable": true,
    "slideshow": {
     "slide_type": "slide"
    },
    "tags": []
   },
   "source": [
    "Ejemplos extras"
   ]
  },
  {
   "cell_type": "markdown",
   "id": "67a82e61-8b58-45eb-af83-007451c7a54f",
   "metadata": {
    "editable": true,
    "slideshow": {
     "slide_type": ""
    },
    "tags": []
   },
   "source": [
    "#### Modificamos los nombres de las columnas"
   ]
  },
  {
   "cell_type": "code",
   "execution_count": null,
   "id": "57f2ec69-93db-49b6-b709-aa8a1c7c4dea",
   "metadata": {},
   "outputs": [],
   "source": [
    "df_reducido =  df_airports[['type','name']]\n",
    "df_reducido"
   ]
  },
  {
   "cell_type": "code",
   "execution_count": null,
   "id": "cf40533b-cf83-4a6b-ae07-16a4d25f61de",
   "metadata": {},
   "outputs": [],
   "source": [
    "df_reducido"
   ]
  },
  {
   "cell_type": "code",
   "execution_count": null,
   "id": "32f055da-6a46-415c-a522-97fecc9c8589",
   "metadata": {},
   "outputs": [],
   "source": [
    "\n",
    "\n",
    "df_reducido.rename(columns={'name': 'Nombre'})\n"
   ]
  },
  {
   "cell_type": "code",
   "execution_count": null,
   "id": "1280f105-4e66-4ee0-ab9a-27f2f87bc3c4",
   "metadata": {},
   "outputs": [],
   "source": [
    "changes_columns = {'type':'tipo', 'name':'nombre'}\n",
    "\n",
    "df_reducido.rename(columns=changes_columns)"
   ]
  },
  {
   "cell_type": "markdown",
   "id": "8b0e5cdf-0268-475b-a1a4-542eff081183",
   "metadata": {},
   "source": [
    "#### Reemplazos en las celdas"
   ]
  },
  {
   "cell_type": "code",
   "execution_count": null,
   "id": "59c0a19d-bcf1-4738-8eca-3cb1edcca2e3",
   "metadata": {},
   "outputs": [],
   "source": [
    "df_airports.region_name.unique()\n"
   ]
  },
  {
   "cell_type": "code",
   "execution_count": null,
   "id": "f8aca228-25f1-49f4-b242-3fc8b48c4ad7",
   "metadata": {},
   "outputs": [],
   "source": [
    "df_airports[df_airports.region_name.str.contains('Tierra del Fuego')]['region_name']"
   ]
  },
  {
   "cell_type": "code",
   "execution_count": null,
   "id": "1f8068c1-0be2-4070-bb00-01efc44e7f43",
   "metadata": {},
   "outputs": [],
   "source": [
    "#df_airports.region_name.replace('Tierra del Fuego Province', 'Tierra del Fuego, Ántartida....', inplace=True)"
   ]
  },
  {
   "cell_type": "code",
   "execution_count": null,
   "id": "d99c8c4b-9125-4440-9e38-fb7eec94fbf1",
   "metadata": {},
   "outputs": [],
   "source": [
    "df_airports"
   ]
  },
  {
   "cell_type": "code",
   "execution_count": null,
   "id": "9f976b14-79fc-4acf-b66a-e924109f3f5e",
   "metadata": {},
   "outputs": [],
   "source": [
    "plt.bar(labels,values)\n",
    "# Agregar etiquetas y título\n",
    "plt.xlabel('Tipo de aeropuerto')\n",
    "plt.ylabel('Cantidad')\n",
    "plt.title('Cantidad de aeropuertos por tipo')\n",
    "\n",
    "# Rotar etiquetas en el eje x para mejor legibilidad\n",
    "plt.xticks(rotation=45)\n",
    "# Mostrar el gráfico de barras\n",
    "plt.show()"
   ]
  },
  {
   "cell_type": "markdown",
   "id": "8172fe19-007f-453d-8997-56abfb47b02c",
   "metadata": {},
   "source": [
    "#### Uso de colores en el gráficos"
   ]
  },
  {
   "cell_type": "code",
   "execution_count": null,
   "id": "4888d884-99b8-4ee3-a2f4-d1e34dcc82ad",
   "metadata": {},
   "outputs": [],
   "source": [
    "#plt.bar(labels, values, color='blue')  # Color azul\n",
    "plt.bar(labels, values, color='#FF5733')  # Color naranja (código hexadecimal)\n",
    "plt.xlabel('Tipo de aeropuerto')\n",
    "plt.ylabel('Cantidad')\n",
    "plt.title('Cantidad de aeropuertos por tipo')\n",
    "\n",
    "# Rotar etiquetas en el eje x para mejor legibilidad\n",
    "plt.xticks(rotation=45)\n",
    "# Mostrar el gráfico de barras\n",
    "plt.show()"
   ]
  },
  {
   "cell_type": "markdown",
   "id": "113ea9d2-0a5c-439a-a4c7-d5af7dec0185",
   "metadata": {},
   "source": [
    "#### Tamaño de la figura"
   ]
  },
  {
   "cell_type": "code",
   "execution_count": null,
   "id": "cbf43e0a-a50f-4b6c-8b56-3798619b4343",
   "metadata": {},
   "outputs": [],
   "source": [
    "plt.figure(figsize=(10, 6))\n",
    "plt.bar(labels, values, color='#FF5733')  # Color naranja (código hexadecimal)\n",
    "plt.xlabel('Tipo de aeropuerto')\n",
    "plt.ylabel('Cantidad')\n",
    "plt.title('Cantidad de aeropuertos por tipo')\n",
    "\n",
    "# Rotar etiquetas en el eje x para mejor legibilidad\n",
    "plt.xticks(rotation=45)\n",
    "# Mostrar el gráfico de barras\n",
    "plt.show()"
   ]
  },
  {
   "cell_type": "code",
   "execution_count": null,
   "id": "34db6411-e371-4865-9855-c8f4829d17e1",
   "metadata": {},
   "outputs": [],
   "source": [
    "df_airports"
   ]
  },
  {
   "cell_type": "code",
   "execution_count": null,
   "id": "27bd01f3-fc75-4230-b939-1ea3a2684da8",
   "metadata": {},
   "outputs": [],
   "source": [
    "df_airports.elevation_ft.min()\n"
   ]
  }
 ],
 "metadata": {
  "kernelspec": {
   "display_name": "Python 3 (ipykernel)",
   "language": "python",
   "name": "python3"
  },
  "language_info": {
   "codemirror_mode": {
    "name": "ipython",
    "version": 3
   },
   "file_extension": ".py",
   "mimetype": "text/x-python",
   "name": "python",
   "nbconvert_exporter": "python",
   "pygments_lexer": "ipython3",
   "version": "3.10.12"
  },
  "rise": {
   "autolaunch": true,
   "enable_chalkboard": true,
   "scroll": true,
   "theme": "sky"
  }
 },
 "nbformat": 4,
 "nbformat_minor": 5
}
