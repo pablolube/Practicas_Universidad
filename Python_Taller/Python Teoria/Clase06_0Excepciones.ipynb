{
 "cells": [
  {
   "cell_type": "markdown",
   "id": "younger-ready",
   "metadata": {
    "slideshow": {
     "slide_type": "slide"
    }
   },
   "source": [
    "# Lenguaje Python\n",
    "## Cursada 2025\n",
    "### 🎒 Clase 6. Introducción al manejo de excepciones en Python"
   ]
  },
  {
   "cell_type": "markdown",
   "id": "0d5e751a",
   "metadata": {
    "slideshow": {
     "slide_type": "slide"
    }
   },
   "source": [
    "# 🎢 Probemos el siguiente código:"
   ]
  },
  {
   "cell_type": "code",
   "execution_count": 2,
   "id": "31ac348d",
   "metadata": {
    "slideshow": {
     "slide_type": "fragment"
    }
   },
   "outputs": [
    {
     "ename": "FileNotFoundError",
     "evalue": "[Errno 2] No such file or directory: 'pp.txt'",
     "output_type": "error",
     "traceback": [
      "\u001b[31m---------------------------------------------------------------------------\u001b[39m",
      "\u001b[31mFileNotFoundError\u001b[39m                         Traceback (most recent call last)",
      "\u001b[36mCell\u001b[39m\u001b[36m \u001b[39m\u001b[32mIn[2]\u001b[39m\u001b[32m, line 1\u001b[39m\n\u001b[32m----> \u001b[39m\u001b[32m1\u001b[39m archivo = \u001b[38;5;28;43mopen\u001b[39;49m\u001b[43m(\u001b[49m\u001b[33;43m\"\u001b[39;49m\u001b[33;43mpp.txt\u001b[39;49m\u001b[33;43m\"\u001b[39;49m\u001b[43m)\u001b[49m\n",
      "\u001b[36mFile \u001b[39m\u001b[32m~/.local/lib/python3.12/site-packages/IPython/core/interactiveshell.py:325\u001b[39m, in \u001b[36m_modified_open\u001b[39m\u001b[34m(file, *args, **kwargs)\u001b[39m\n\u001b[32m    318\u001b[39m \u001b[38;5;28;01mif\u001b[39;00m file \u001b[38;5;129;01min\u001b[39;00m {\u001b[32m0\u001b[39m, \u001b[32m1\u001b[39m, \u001b[32m2\u001b[39m}:\n\u001b[32m    319\u001b[39m     \u001b[38;5;28;01mraise\u001b[39;00m \u001b[38;5;167;01mValueError\u001b[39;00m(\n\u001b[32m    320\u001b[39m         \u001b[33mf\u001b[39m\u001b[33m\"\u001b[39m\u001b[33mIPython won\u001b[39m\u001b[33m'\u001b[39m\u001b[33mt let you open fd=\u001b[39m\u001b[38;5;132;01m{\u001b[39;00mfile\u001b[38;5;132;01m}\u001b[39;00m\u001b[33m by default \u001b[39m\u001b[33m\"\u001b[39m\n\u001b[32m    321\u001b[39m         \u001b[33m\"\u001b[39m\u001b[33mas it is likely to crash IPython. If you know what you are doing, \u001b[39m\u001b[33m\"\u001b[39m\n\u001b[32m    322\u001b[39m         \u001b[33m\"\u001b[39m\u001b[33myou can use builtins\u001b[39m\u001b[33m'\u001b[39m\u001b[33m open.\u001b[39m\u001b[33m\"\u001b[39m\n\u001b[32m    323\u001b[39m     )\n\u001b[32m--> \u001b[39m\u001b[32m325\u001b[39m \u001b[38;5;28;01mreturn\u001b[39;00m \u001b[43mio_open\u001b[49m\u001b[43m(\u001b[49m\u001b[43mfile\u001b[49m\u001b[43m,\u001b[49m\u001b[43m \u001b[49m\u001b[43m*\u001b[49m\u001b[43margs\u001b[49m\u001b[43m,\u001b[49m\u001b[43m \u001b[49m\u001b[43m*\u001b[49m\u001b[43m*\u001b[49m\u001b[43mkwargs\u001b[49m\u001b[43m)\u001b[49m\n",
      "\u001b[31mFileNotFoundError\u001b[39m: [Errno 2] No such file or directory: 'pp.txt'"
     ]
    }
   ],
   "source": [
    "archivo = open(\"pp.txt\")"
   ]
  },
  {
   "cell_type": "markdown",
   "id": "66eccf65",
   "metadata": {
    "slideshow": {
     "slide_type": "fragment"
    }
   },
   "source": [
    "## ❌¡Esto no puede pasar nunca en nuestros programas!"
   ]
  },
  {
   "cell_type": "markdown",
   "id": "0a3429bb-fedb-48a1-b72f-2e5c23529f9f",
   "metadata": {},
   "source": [
    "* ¿Por qué?\n",
    "* ¿En qué casos puede pasar este error?"
   ]
  },
  {
   "cell_type": "markdown",
   "id": "25b60448",
   "metadata": {
    "slideshow": {
     "slide_type": "subslide"
    }
   },
   "source": [
    "# 🎒 ¿Qué es un excepción?"
   ]
  },
  {
   "cell_type": "markdown",
   "id": "641c0e68",
   "metadata": {
    "slideshow": {
     "slide_type": "fragment"
    }
   },
   "source": [
    "> Una **excepción** es un acontecimiento, que ocurre **durante la ejecución** de un programa, que **interrumpe** el **flujo normal** de las instrucciones del programa. "
   ]
  },
  {
   "cell_type": "markdown",
   "id": "ac6725c7",
   "metadata": {
    "slideshow": {
     "slide_type": "subslide"
    }
   },
   "source": [
    "# ¿Qué situaciones pueden producir excepciones?\n",
    "\n",
    "- ✅ Abrir un archivo que no existe o  donde no tenemos permisos adecuados.\n",
    "- ✅ Acceder al contenido de un archivo que no respeta el formato.\n",
    "- ✅ Invocar a un método o función que no fue definida.\n",
    "- ✅ Referirse a una variable que no fue definida.\n",
    "- ✅ Mezclar tipos de datos sin convertirlos previamente.\n",
    "- Etc."
   ]
  },
  {
   "cell_type": "markdown",
   "id": "f4bb026c",
   "metadata": {
    "slideshow": {
     "slide_type": "subslide"
    }
   },
   "source": [
    "### 📌 Si el lenguaje provee manejo de  excepciones...\n",
    "\n",
    "- ¿Qué acción se toma después de levantada y manejada una excepción? ¿Se continúa con la ejecución de la unidad que lo provocó o se termina?\n",
    "- ¿En qué casos es más legible excepciones y cuándo control de flujo?\n",
    "- ¿Cómo se alcanza una excepción? \n",
    "- ¿Cómo se definen los manejadores de excepciones?\n",
    "- ¿Qué sucede cuando no se encuentra un manejador para una excepción levantada?\n",
    "- ¿El lenguaje tiene excepciones predefinidas?\n",
    "- ¿Podemos levantar en forma explícita una excepción?\n",
    "- ¿Podemos crear nuestras propias excepciones?"
   ]
  },
  {
   "cell_type": "markdown",
   "id": "6b8b3623-c558-4118-9a1d-56957914b02f",
   "metadata": {},
   "source": [
    "# 🚧 Excepciones \"sin manejar\"\n",
    "\n",
    "<center>\n",
    "<img src=\"imagenes/excepciones_examples.png\" alt=\"excepciones\" style=\"width:850px;\"/>\n",
    "</center>"
   ]
  },
  {
   "cell_type": "code",
   "execution_count": null,
   "id": "e8686187",
   "metadata": {},
   "outputs": [],
   "source": []
  },
  {
   "cell_type": "markdown",
   "id": "cae97ea3",
   "metadata": {
    "slideshow": {
     "slide_type": "subslide"
    }
   },
   "source": [
    "# 🎒 ¿Qué debemos investigar para trabajar con  excepciones?\n",
    "\n",
    "Primero: ¿el lenguaje de programación tiene soporte para el manejo de excepciones?\n",
    "   - Si no presenta ningún mecanísmo para esto, podríamos simularlo con otros recursos. Ejemplo: Pascal o C.\n",
    "   - Si provee mecanismos para el manejo de excepciones: ¿cuáles? Ejemplo: **Python**, JavaScript, Java, Ruby, etc."
   ]
  },
  {
   "cell_type": "markdown",
   "id": "b5bb07a9-cf0f-4d5f-91dd-25f3e8dcb834",
   "metadata": {},
   "source": [
    "# 🎒 Excepciones en Python"
   ]
  },
  {
   "cell_type": "markdown",
   "id": "d3eb6d22-5bc8-4659-9bb3-2612362a5b99",
   "metadata": {},
   "source": [
    "\n",
    "```python\n",
    "try:\n",
    "    sentencias\n",
    "except nombreExcepción:\n",
    "    sentencias\n",
    "except nombreExcepción:\n",
    "    sentencias\n",
    "except:\n",
    "```\n",
    "\n",
    "- [+Info](https://docs.python.org/3/library/exceptions.html)"
   ]
  },
  {
   "cell_type": "markdown",
   "id": "f80b18f0",
   "metadata": {
    "slideshow": {
     "slide_type": "subslide"
    }
   },
   "source": [
    "## Veamos un ejemplo"
   ]
  },
  {
   "cell_type": "code",
   "execution_count": null,
   "id": "a3851d85-b2d5-499e-af15-77308b824c00",
   "metadata": {},
   "outputs": [
    {
     "name": "stdout",
     "output_type": "stream",
     "text": [
      "El archivo pp.txt no se encuentra\n"
     ]
    }
   ],
   "source": [
    "file_name = 'pp.txt'\n",
    "try:\n",
    "    file_data = open(file_name)\n",
    "except FileNotFoundError:\n",
    "    print(f'El archivo {file_name} no se encuentra')"
   ]
  },
  {
   "cell_type": "code",
   "execution_count": null,
   "id": "2574d5b8-f1a5-440b-b557-102bc1945002",
   "metadata": {},
   "outputs": [],
   "source": []
  },
  {
   "cell_type": "markdown",
   "id": "6eae0fee",
   "metadata": {
    "slideshow": {
     "slide_type": "subslide"
    }
   },
   "source": [
    "## 📝 Analicemos el siguiente código:"
   ]
  },
  {
   "cell_type": "code",
   "execution_count": 3,
   "id": "bf6f3794-73a1-48c7-9041-d20fc512ade7",
   "metadata": {},
   "outputs": [
    {
     "ename": "JSONDecodeError",
     "evalue": "Expecting ',' delimiter: line 4 column 9 (char 31)",
     "output_type": "error",
     "traceback": [
      "\u001b[31m---------------------------------------------------------------------------\u001b[39m",
      "\u001b[31mJSONDecodeError\u001b[39m                           Traceback (most recent call last)",
      "\u001b[36mCell\u001b[39m\u001b[36m \u001b[39m\u001b[32mIn[3]\u001b[39m\u001b[32m, line 7\u001b[39m\n\u001b[32m      5\u001b[39m \u001b[38;5;28;01mtry\u001b[39;00m:\n\u001b[32m      6\u001b[39m     archivo = \u001b[38;5;28mopen\u001b[39m(file_route/file_name)\n\u001b[32m----> \u001b[39m\u001b[32m7\u001b[39m     data_books = \u001b[43mjson\u001b[49m\u001b[43m.\u001b[49m\u001b[43mload\u001b[49m\u001b[43m(\u001b[49m\u001b[43marchivo\u001b[49m\u001b[43m)\u001b[49m\n\u001b[32m      8\u001b[39m \u001b[38;5;28;01mexcept\u001b[39;00m \u001b[38;5;167;01mFileNotFoundError\u001b[39;00m:\n\u001b[32m      9\u001b[39m     \u001b[38;5;28mprint\u001b[39m(\u001b[33mf\u001b[39m\u001b[33m'\u001b[39m\u001b[33mEl archivo \u001b[39m\u001b[38;5;132;01m{\u001b[39;00mfile_name\u001b[38;5;132;01m}\u001b[39;00m\u001b[33m no se encuentra\u001b[39m\u001b[33m'\u001b[39m)\n",
      "\u001b[36mFile \u001b[39m\u001b[32m/usr/local/python/3.12.1/lib/python3.12/json/__init__.py:293\u001b[39m, in \u001b[36mload\u001b[39m\u001b[34m(fp, cls, object_hook, parse_float, parse_int, parse_constant, object_pairs_hook, **kw)\u001b[39m\n\u001b[32m    274\u001b[39m \u001b[38;5;28;01mdef\u001b[39;00m\u001b[38;5;250m \u001b[39m\u001b[34mload\u001b[39m(fp, *, \u001b[38;5;28mcls\u001b[39m=\u001b[38;5;28;01mNone\u001b[39;00m, object_hook=\u001b[38;5;28;01mNone\u001b[39;00m, parse_float=\u001b[38;5;28;01mNone\u001b[39;00m,\n\u001b[32m    275\u001b[39m         parse_int=\u001b[38;5;28;01mNone\u001b[39;00m, parse_constant=\u001b[38;5;28;01mNone\u001b[39;00m, object_pairs_hook=\u001b[38;5;28;01mNone\u001b[39;00m, **kw):\n\u001b[32m    276\u001b[39m \u001b[38;5;250m    \u001b[39m\u001b[33;03m\"\"\"Deserialize ``fp`` (a ``.read()``-supporting file-like object containing\u001b[39;00m\n\u001b[32m    277\u001b[39m \u001b[33;03m    a JSON document) to a Python object.\u001b[39;00m\n\u001b[32m    278\u001b[39m \n\u001b[32m   (...)\u001b[39m\u001b[32m    291\u001b[39m \u001b[33;03m    kwarg; otherwise ``JSONDecoder`` is used.\u001b[39;00m\n\u001b[32m    292\u001b[39m \u001b[33;03m    \"\"\"\u001b[39;00m\n\u001b[32m--> \u001b[39m\u001b[32m293\u001b[39m     \u001b[38;5;28;01mreturn\u001b[39;00m \u001b[43mloads\u001b[49m\u001b[43m(\u001b[49m\u001b[43mfp\u001b[49m\u001b[43m.\u001b[49m\u001b[43mread\u001b[49m\u001b[43m(\u001b[49m\u001b[43m)\u001b[49m\u001b[43m,\u001b[49m\n\u001b[32m    294\u001b[39m \u001b[43m        \u001b[49m\u001b[38;5;28;43mcls\u001b[39;49m\u001b[43m=\u001b[49m\u001b[38;5;28;43mcls\u001b[39;49m\u001b[43m,\u001b[49m\u001b[43m \u001b[49m\u001b[43mobject_hook\u001b[49m\u001b[43m=\u001b[49m\u001b[43mobject_hook\u001b[49m\u001b[43m,\u001b[49m\n\u001b[32m    295\u001b[39m \u001b[43m        \u001b[49m\u001b[43mparse_float\u001b[49m\u001b[43m=\u001b[49m\u001b[43mparse_float\u001b[49m\u001b[43m,\u001b[49m\u001b[43m \u001b[49m\u001b[43mparse_int\u001b[49m\u001b[43m=\u001b[49m\u001b[43mparse_int\u001b[49m\u001b[43m,\u001b[49m\n\u001b[32m    296\u001b[39m \u001b[43m        \u001b[49m\u001b[43mparse_constant\u001b[49m\u001b[43m=\u001b[49m\u001b[43mparse_constant\u001b[49m\u001b[43m,\u001b[49m\u001b[43m \u001b[49m\u001b[43mobject_pairs_hook\u001b[49m\u001b[43m=\u001b[49m\u001b[43mobject_pairs_hook\u001b[49m\u001b[43m,\u001b[49m\u001b[43m \u001b[49m\u001b[43m*\u001b[49m\u001b[43m*\u001b[49m\u001b[43mkw\u001b[49m\u001b[43m)\u001b[49m\n",
      "\u001b[36mFile \u001b[39m\u001b[32m/usr/local/python/3.12.1/lib/python3.12/json/__init__.py:346\u001b[39m, in \u001b[36mloads\u001b[39m\u001b[34m(s, cls, object_hook, parse_float, parse_int, parse_constant, object_pairs_hook, **kw)\u001b[39m\n\u001b[32m    341\u001b[39m     s = s.decode(detect_encoding(s), \u001b[33m'\u001b[39m\u001b[33msurrogatepass\u001b[39m\u001b[33m'\u001b[39m)\n\u001b[32m    343\u001b[39m \u001b[38;5;28;01mif\u001b[39;00m (\u001b[38;5;28mcls\u001b[39m \u001b[38;5;129;01mis\u001b[39;00m \u001b[38;5;28;01mNone\u001b[39;00m \u001b[38;5;129;01mand\u001b[39;00m object_hook \u001b[38;5;129;01mis\u001b[39;00m \u001b[38;5;28;01mNone\u001b[39;00m \u001b[38;5;129;01mand\u001b[39;00m\n\u001b[32m    344\u001b[39m         parse_int \u001b[38;5;129;01mis\u001b[39;00m \u001b[38;5;28;01mNone\u001b[39;00m \u001b[38;5;129;01mand\u001b[39;00m parse_float \u001b[38;5;129;01mis\u001b[39;00m \u001b[38;5;28;01mNone\u001b[39;00m \u001b[38;5;129;01mand\u001b[39;00m\n\u001b[32m    345\u001b[39m         parse_constant \u001b[38;5;129;01mis\u001b[39;00m \u001b[38;5;28;01mNone\u001b[39;00m \u001b[38;5;129;01mand\u001b[39;00m object_pairs_hook \u001b[38;5;129;01mis\u001b[39;00m \u001b[38;5;28;01mNone\u001b[39;00m \u001b[38;5;129;01mand\u001b[39;00m \u001b[38;5;129;01mnot\u001b[39;00m kw):\n\u001b[32m--> \u001b[39m\u001b[32m346\u001b[39m     \u001b[38;5;28;01mreturn\u001b[39;00m \u001b[43m_default_decoder\u001b[49m\u001b[43m.\u001b[49m\u001b[43mdecode\u001b[49m\u001b[43m(\u001b[49m\u001b[43ms\u001b[49m\u001b[43m)\u001b[49m\n\u001b[32m    347\u001b[39m \u001b[38;5;28;01mif\u001b[39;00m \u001b[38;5;28mcls\u001b[39m \u001b[38;5;129;01mis\u001b[39;00m \u001b[38;5;28;01mNone\u001b[39;00m:\n\u001b[32m    348\u001b[39m     \u001b[38;5;28mcls\u001b[39m = JSONDecoder\n",
      "\u001b[36mFile \u001b[39m\u001b[32m/usr/local/python/3.12.1/lib/python3.12/json/decoder.py:337\u001b[39m, in \u001b[36mJSONDecoder.decode\u001b[39m\u001b[34m(self, s, _w)\u001b[39m\n\u001b[32m    332\u001b[39m \u001b[38;5;28;01mdef\u001b[39;00m\u001b[38;5;250m \u001b[39m\u001b[34mdecode\u001b[39m(\u001b[38;5;28mself\u001b[39m, s, _w=WHITESPACE.match):\n\u001b[32m    333\u001b[39m \u001b[38;5;250m    \u001b[39m\u001b[33;03m\"\"\"Return the Python representation of ``s`` (a ``str`` instance\u001b[39;00m\n\u001b[32m    334\u001b[39m \u001b[33;03m    containing a JSON document).\u001b[39;00m\n\u001b[32m    335\u001b[39m \n\u001b[32m    336\u001b[39m \u001b[33;03m    \"\"\"\u001b[39;00m\n\u001b[32m--> \u001b[39m\u001b[32m337\u001b[39m     obj, end = \u001b[38;5;28;43mself\u001b[39;49m\u001b[43m.\u001b[49m\u001b[43mraw_decode\u001b[49m\u001b[43m(\u001b[49m\u001b[43ms\u001b[49m\u001b[43m,\u001b[49m\u001b[43m \u001b[49m\u001b[43midx\u001b[49m\u001b[43m=\u001b[49m\u001b[43m_w\u001b[49m\u001b[43m(\u001b[49m\u001b[43ms\u001b[49m\u001b[43m,\u001b[49m\u001b[43m \u001b[49m\u001b[32;43m0\u001b[39;49m\u001b[43m)\u001b[49m\u001b[43m.\u001b[49m\u001b[43mend\u001b[49m\u001b[43m(\u001b[49m\u001b[43m)\u001b[49m\u001b[43m)\u001b[49m\n\u001b[32m    338\u001b[39m     end = _w(s, end).end()\n\u001b[32m    339\u001b[39m     \u001b[38;5;28;01mif\u001b[39;00m end != \u001b[38;5;28mlen\u001b[39m(s):\n",
      "\u001b[36mFile \u001b[39m\u001b[32m/usr/local/python/3.12.1/lib/python3.12/json/decoder.py:353\u001b[39m, in \u001b[36mJSONDecoder.raw_decode\u001b[39m\u001b[34m(self, s, idx)\u001b[39m\n\u001b[32m    344\u001b[39m \u001b[38;5;250m\u001b[39m\u001b[33;03m\"\"\"Decode a JSON document from ``s`` (a ``str`` beginning with\u001b[39;00m\n\u001b[32m    345\u001b[39m \u001b[33;03ma JSON document) and return a 2-tuple of the Python\u001b[39;00m\n\u001b[32m    346\u001b[39m \u001b[33;03mrepresentation and the index in ``s`` where the document ended.\u001b[39;00m\n\u001b[32m   (...)\u001b[39m\u001b[32m    350\u001b[39m \n\u001b[32m    351\u001b[39m \u001b[33;03m\"\"\"\u001b[39;00m\n\u001b[32m    352\u001b[39m \u001b[38;5;28;01mtry\u001b[39;00m:\n\u001b[32m--> \u001b[39m\u001b[32m353\u001b[39m     obj, end = \u001b[38;5;28;43mself\u001b[39;49m\u001b[43m.\u001b[49m\u001b[43mscan_once\u001b[49m\u001b[43m(\u001b[49m\u001b[43ms\u001b[49m\u001b[43m,\u001b[49m\u001b[43m \u001b[49m\u001b[43midx\u001b[49m\u001b[43m)\u001b[49m\n\u001b[32m    354\u001b[39m \u001b[38;5;28;01mexcept\u001b[39;00m \u001b[38;5;167;01mStopIteration\u001b[39;00m \u001b[38;5;28;01mas\u001b[39;00m err:\n\u001b[32m    355\u001b[39m     \u001b[38;5;28;01mraise\u001b[39;00m JSONDecodeError(\u001b[33m\"\u001b[39m\u001b[33mExpecting value\u001b[39m\u001b[33m\"\u001b[39m, s, err.value) \u001b[38;5;28;01mfrom\u001b[39;00m\u001b[38;5;250m \u001b[39m\u001b[38;5;28;01mNone\u001b[39;00m\n",
      "\u001b[31mJSONDecodeError\u001b[39m: Expecting ',' delimiter: line 4 column 9 (char 31)"
     ]
    }
   ],
   "source": [
    "import json\n",
    "from pathlib import   Path\n",
    "file_route = Path('archivos/Clase06').resolve()\n",
    "file_name = 'libros_exception.json'\n",
    "try:\n",
    "    archivo = open(file_route/file_name)\n",
    "    data_books = json.load(archivo)\n",
    "except FileNotFoundError:\n",
    "    print(f'El archivo {file_name} no se encuentra')"
   ]
  },
  {
   "cell_type": "markdown",
   "id": "87af74ce-e3e7-4b87-91d4-5ed2ac8b1ef4",
   "metadata": {},
   "source": [
    "## 📌 ¿Por qué da error si hay un bloque try...except?\n",
    "* No es la excepción especificada con la cláusula **except**\n",
    "* Agreguemos la excepción que se informó: **JSONDecodeError**\n"
   ]
  },
  {
   "cell_type": "code",
   "execution_count": 4,
   "id": "644442b7",
   "metadata": {},
   "outputs": [],
   "source": [
    "file_route = Path('archivos/Clase06').resolve()\n"
   ]
  },
  {
   "cell_type": "code",
   "execution_count": 5,
   "id": "78da1fb5-7cc8-49e3-9538-a45ae893cecc",
   "metadata": {},
   "outputs": [
    {
     "name": "stdout",
     "output_type": "stream",
     "text": [
      "Al abrir el archivo libros_exception.json hubo un error\n"
     ]
    }
   ],
   "source": [
    "import json\n",
    "from pathlib import   Path\n",
    "from json.decoder import JSONDecodeError\n",
    "\n",
    "file_name = 'libros_exception.json'\n",
    "try:\n",
    "    archivo = open(file_route/file_name)\n",
    "    data_books = json.load(archivo)\n",
    "except (FileNotFoundError, JSONDecodeError):\n",
    "    print(f'Al abrir el archivo {file_name} hubo un error')\n"
   ]
  },
  {
   "cell_type": "markdown",
   "id": "a769b0af-92b8-40e7-992c-c47d88342d76",
   "metadata": {},
   "source": [
    "Tenemos dos problemas:\n",
    "* JSONDecodeError es una excepción del módulo **json**, por lo tanto debemos indicar el nombre del **módulo.exception**\n",
    "```python\n",
    "json.JSONDecodeError\n",
    "```\n",
    "* El mensaje de error es geńerico y no indica claramente qué error sucedió"
   ]
  },
  {
   "cell_type": "markdown",
   "id": "7998304d",
   "metadata": {
    "slideshow": {
     "slide_type": "subslide"
    }
   },
   "source": [
    "## 📌 Agregamos los manejadores"
   ]
  },
  {
   "cell_type": "code",
   "execution_count": null,
   "id": "757c26ba-087e-4c31-9957-ea27d9df3cb1",
   "metadata": {},
   "outputs": [
    {
     "name": "stdout",
     "output_type": "stream",
     "text": [
      "Al abrir el archivo libros_exception.json hubo un error con el formato\n"
     ]
    }
   ],
   "source": [
    "import json\n",
    "from pathlib import   Path\n",
    "file_name = 'libros_exception.json'\n",
    "try:\n",
    "    archivo = open(file_route/file_name)\n",
    "    data_books = json.load(archivo)\n",
    "except FileNotFoundError:\n",
    "    print(f'El archivo {file_name} no se encuentra')\n",
    "except json.JSONDecodeError:\n",
    "    print(f'Al abrir el archivo {file_name} hubo un error con el formato')"
   ]
  },
  {
   "cell_type": "markdown",
   "id": "90e35a37-fff5-4f3c-86fa-7f6edbbdb19d",
   "metadata": {
    "editable": true,
    "slideshow": {
     "slide_type": ""
    },
    "tags": []
   },
   "source": [
    "Estas excepciones son **predefinidas** de Python estándar."
   ]
  },
  {
   "cell_type": "markdown",
   "id": "7d36da5b-562c-46ea-b989-aa0e529a9ca6",
   "metadata": {},
   "source": [
    "## ¿Se generan excepciones sólo  por errores de archivos?"
   ]
  },
  {
   "cell_type": "code",
   "execution_count": null,
   "id": "a2dad956-87ba-43d8-a5f2-a3290b191661",
   "metadata": {
    "editable": true,
    "slideshow": {
     "slide_type": ""
    },
    "tags": []
   },
   "outputs": [
    {
     "name": "stdout",
     "output_type": "stream",
     "text": [
      "['Título', 'Subtítulo', 'Autor', 'Año del copyright', 'Idioma', 'País Autor']\n"
     ]
    },
    {
     "ename": "StopIteration",
     "evalue": "",
     "output_type": "error",
     "traceback": [
      "\u001b[31m---------------------------------------------------------------------------\u001b[39m",
      "\u001b[31mStopIteration\u001b[39m                             Traceback (most recent call last)",
      "\u001b[36mCell\u001b[39m\u001b[36m \u001b[39m\u001b[32mIn[15]\u001b[39m\u001b[32m, line 8\u001b[39m\n\u001b[32m      6\u001b[39m     \u001b[38;5;28;01mif\u001b[39;00m row[\u001b[32m3\u001b[39m] > \u001b[33m'\u001b[39m\u001b[33m2024\u001b[39m\u001b[33m'\u001b[39m:\n\u001b[32m      7\u001b[39m         \u001b[38;5;28mprint\u001b[39m(row)\n\u001b[32m----> \u001b[39m\u001b[32m8\u001b[39m header, data = \u001b[38;5;28;43mnext\u001b[39;49m\u001b[43m(\u001b[49m\u001b[43mcsv_reader\u001b[49m\u001b[43m)\u001b[49m, \u001b[38;5;28mlist\u001b[39m(csv_reader)\n",
      "\u001b[31mStopIteration\u001b[39m: "
     ]
    }
   ],
   "source": [
    "file_books_csv = 'books.csv'\n",
    "import csv\n",
    "with open(file_route/file_books_csv) as csvfile:\n",
    "    csv_reader = csv.reader(csvfile, delimiter=';')\n",
    "    for row in csv_reader:\n",
    "        if row[3] > '2024':\n",
    "            print(row)\n",
    "    header, data = next(csv_reader), list(csv_reader)\n",
    "    "
   ]
  },
  {
   "cell_type": "markdown",
   "id": "98c4264e-60ac-4028-ae94-7786384def18",
   "metadata": {},
   "source": [
    "### ¿Qué sucedió?\n",
    "\n",
    "Lo que paso es que como es un iterador, llego al final y al volver a pedirle los header no da nada. \n",
    "*  Recorrimos una vez el iterador **csv_reader**.\n",
    "*  Cuando queremos asignar los valores a las variables informa la excepción predefinida **StopIteration**.\n",
    "*  La excepción que debe ser controlada con programación."
   ]
  },
  {
   "cell_type": "markdown",
   "id": "581753d9-8ccb-426e-bb72-5c84ab2c3e8e",
   "metadata": {},
   "source": [
    "## 🚧 ¿Cómo encontramos el nombre de la excepción?"
   ]
  },
  {
   "cell_type": "code",
   "execution_count": null,
   "id": "591f2388-00a3-4c93-9c5a-58205a437c2f",
   "metadata": {},
   "outputs": [
    {
     "ename": "FileNotFoundError",
     "evalue": "[Errno 2] No such file or directory: '/workspaces/Practicas_Universidad/Python Teoria/archivos/Clase06/libross.csv'",
     "output_type": "error",
     "traceback": [
      "\u001b[31m---------------------------------------------------------------------------\u001b[39m",
      "\u001b[31mFileNotFoundError\u001b[39m                         Traceback (most recent call last)",
      "\u001b[36mCell\u001b[39m\u001b[36m \u001b[39m\u001b[32mIn[16]\u001b[39m\u001b[32m, line 3\u001b[39m\n\u001b[32m      1\u001b[39m file_books_csv = \u001b[33m'\u001b[39m\u001b[33mlibross.csv\u001b[39m\u001b[33m'\u001b[39m\n\u001b[32m      2\u001b[39m \u001b[38;5;28;01mimport\u001b[39;00m\u001b[38;5;250m \u001b[39m\u001b[34;01mcsv\u001b[39;00m\n\u001b[32m----> \u001b[39m\u001b[32m3\u001b[39m \u001b[38;5;28;01mwith\u001b[39;00m \u001b[38;5;28;43mopen\u001b[39;49m\u001b[43m(\u001b[49m\u001b[43mfile_route\u001b[49m\u001b[43m/\u001b[49m\u001b[43mfile_books_csv\u001b[49m\u001b[43m)\u001b[49m \u001b[38;5;28;01mas\u001b[39;00m csvfile:\n\u001b[32m      4\u001b[39m     csv_reader = csv.reader(csvfile, delimiter=\u001b[33m'\u001b[39m\u001b[33m;\u001b[39m\u001b[33m'\u001b[39m)\n",
      "\u001b[36mFile \u001b[39m\u001b[32m~/.local/lib/python3.12/site-packages/IPython/core/interactiveshell.py:325\u001b[39m, in \u001b[36m_modified_open\u001b[39m\u001b[34m(file, *args, **kwargs)\u001b[39m\n\u001b[32m    318\u001b[39m \u001b[38;5;28;01mif\u001b[39;00m file \u001b[38;5;129;01min\u001b[39;00m {\u001b[32m0\u001b[39m, \u001b[32m1\u001b[39m, \u001b[32m2\u001b[39m}:\n\u001b[32m    319\u001b[39m     \u001b[38;5;28;01mraise\u001b[39;00m \u001b[38;5;167;01mValueError\u001b[39;00m(\n\u001b[32m    320\u001b[39m         \u001b[33mf\u001b[39m\u001b[33m\"\u001b[39m\u001b[33mIPython won\u001b[39m\u001b[33m'\u001b[39m\u001b[33mt let you open fd=\u001b[39m\u001b[38;5;132;01m{\u001b[39;00mfile\u001b[38;5;132;01m}\u001b[39;00m\u001b[33m by default \u001b[39m\u001b[33m\"\u001b[39m\n\u001b[32m    321\u001b[39m         \u001b[33m\"\u001b[39m\u001b[33mas it is likely to crash IPython. If you know what you are doing, \u001b[39m\u001b[33m\"\u001b[39m\n\u001b[32m    322\u001b[39m         \u001b[33m\"\u001b[39m\u001b[33myou can use builtins\u001b[39m\u001b[33m'\u001b[39m\u001b[33m open.\u001b[39m\u001b[33m\"\u001b[39m\n\u001b[32m    323\u001b[39m     )\n\u001b[32m--> \u001b[39m\u001b[32m325\u001b[39m \u001b[38;5;28;01mreturn\u001b[39;00m \u001b[43mio_open\u001b[49m\u001b[43m(\u001b[49m\u001b[43mfile\u001b[49m\u001b[43m,\u001b[49m\u001b[43m \u001b[49m\u001b[43m*\u001b[49m\u001b[43margs\u001b[49m\u001b[43m,\u001b[49m\u001b[43m \u001b[49m\u001b[43m*\u001b[49m\u001b[43m*\u001b[49m\u001b[43mkwargs\u001b[49m\u001b[43m)\u001b[49m\n",
      "\u001b[31mFileNotFoundError\u001b[39m: [Errno 2] No such file or directory: '/workspaces/Practicas_Universidad/Python Teoria/archivos/Clase06/libross.csv'"
     ]
    }
   ],
   "source": [
    "file_books_csv = 'libross.csv'\n",
    "import csv\n",
    "with open(file_route/file_books_csv) as csvfile:\n",
    "    csv_reader = csv.reader(csvfile, delimiter=';')"
   ]
  },
  {
   "cell_type": "markdown",
   "id": "a8c99b60-4680-45f5-9a3e-f92e4643f352",
   "metadata": {
    "editable": true,
    "slideshow": {
     "slide_type": ""
    },
    "tags": []
   },
   "source": [
    "## ¿De qué otra forma podemos saber el nombre de la excepción?\n"
   ]
  },
  {
   "cell_type": "code",
   "execution_count": null,
   "id": "75472838-4ef9-432e-a2e1-7b72b9661efe",
   "metadata": {
    "editable": true,
    "slideshow": {
     "slide_type": ""
    },
    "tags": []
   },
   "outputs": [
    {
     "name": "stdout",
     "output_type": "stream",
     "text": [
      "['Título', 'Subtítulo', 'Autor', 'Año del copyright', 'Idioma', 'País Autor']\n",
      "la excepción fue <class 'StopIteration'>\n",
      "La excepción es  StopIteration\n",
      "La excepción es  StopIteration\n"
     ]
    }
   ],
   "source": [
    "file_books_csv = 'books.csv'\n",
    "import csv\n",
    "try:\n",
    "    with open(file_route/file_books_csv) as csvfile:\n",
    "        csv_reader = csv.reader(csvfile, delimiter=';')\n",
    "        for row in csv_reader:\n",
    "            if row[3] > '2024':\n",
    "                print(row)\n",
    "        header, data = next(csv_reader), list(csv_reader)\n",
    "except Exception as e:\n",
    "    print(f'la excepción fue {type(e)}')\n",
    "    print(f'La excepción es  {type(e).__name__}')\n",
    "    print(f'La excepción es  {e.__class__.__name__}')"
   ]
  },
  {
   "cell_type": "markdown",
   "id": "1ba15d4a",
   "metadata": {},
   "source": [
    "Explicación:\n",
    "type(e) te da el tipo completo de la excepción (con el módulo).\n",
    "\n",
    "e.__class__.__name__ te da solo el nombre de la excepción como string (sin el módulo)."
   ]
  },
  {
   "cell_type": "markdown",
   "id": "05b93704-a149-406d-a0b2-5aa64b085229",
   "metadata": {},
   "source": [
    "¿Qué hace type(e)?\n",
    "```python\n",
    "  type(e).__name__\n",
    "  ``` \n",
    "  se utiliza para saber el nombre de la clase de la excepción, nos permite especificar el nombre.\n",
    "* más adelante veremos un poco de objetos."
   ]
  },
  {
   "cell_type": "markdown",
   "id": "0ccff77d",
   "metadata": {
    "slideshow": {
     "slide_type": "subslide"
    }
   },
   "source": [
    "### 📌 ¿Qué podemos decir del siguiente ejemplo? ¿Cómo es más legible?\n",
    "Se define una función para abrir el archivo."
   ]
  },
  {
   "cell_type": "code",
   "execution_count": null,
   "id": "b5f84f28-20cd-4c2d-9ece-0952539d5c18",
   "metadata": {},
   "outputs": [],
   "source": [
    "import json\n",
    "from pathlib import   Path\n",
    "def read_data(data_file):\n",
    "    try:\n",
    "        archivo = open(file_route/data_file)\n",
    "        data_books = json.load(archivo)\n",
    "        return data_books\n",
    "    except FileNotFoundError:\n",
    "        print(f'El archivo {data_file} no se encuentra')\n",
    "    except json.JSONDecodeError:\n",
    "        print(f'Al abrir el archivo {data_file} hubo un error con el formato')\n",
    "    "
   ]
  },
  {
   "cell_type": "markdown",
   "id": "15a21b57-bafd-4ba9-98a3-876eb9da1a9b",
   "metadata": {},
   "source": [
    "* Leemos los datos llamando a la función"
   ]
  },
  {
   "cell_type": "code",
   "execution_count": null,
   "id": "6adddee3-c634-4bee-8e21-dba6736621d3",
   "metadata": {},
   "outputs": [],
   "source": [
    "file_name = 'libros.json'"
   ]
  },
  {
   "cell_type": "code",
   "execution_count": null,
   "id": "9d800e9e-0c52-43e9-8104-38d7d5545d38",
   "metadata": {},
   "outputs": [
    {
     "name": "stdout",
     "output_type": "stream",
     "text": [
      "{'Checoslavaquia': ['Insoportable Levedad Del Ser, La', '', 'KUNDERA, MILAN', '', 'Castellano'], 'Argentina': ['Susurro de Las Mujeres', '', 'Exilart, Gabriela', '2022', 'Castellano', ['Narradores Patagónicos', 'Cuentos Escogidos', 'Abadie, Carlos; Angelino, Diego; Baudés, Jorge; Boucau, Delia; Calvo, Laura; Cazenave, H. Wálter; Chucair, Elías; Covaro, Hugo; de Boer, Miguel Ángel; Etchenique, Jorge; Fueyo, Norhy; Quirno, Carlota García; Carey, Fernando González; Isla, Elpidio; Marrazzo, Pascual; Massacese, Magda; Miguel, Carmen; Morris, Mónica; Muñoz, Lilí; Pellín, Osvaldo; Pravaz, Sergio; Rithner, Juan Raúl; Sacamata, Carlos; Uranga, Ángel; Villegas, Mariano', '2010', 'Castellano'], ['Jala', '', 'Lozza, Irene', '2020', 'Castellano'], ['Contrato con el Frío', 'Y Otras Historias de Montaña', 'Troller, Epstein y Otros', '2020', 'Castellano'], ['Boquitas Pintadas', 'Folletín', 'Puig, Manuel', '2003', 'Castellano'], ['Vino Argentino', 'Manual Práctico', 'Dengis, Jorge; Dengis, María Fernanda', '2013', 'Castellano'], ['Falsa Calma', 'Un Recorrido por Pueblos Fantasma de La Patagonia', 'Cristoff, María Sonia', '2014', 'Castellano'], ['Historias Secretas de Córdoba', '', 'Camarasa, Jorge', '2012', 'Castellano'], ['Al Gran Pueblo Argentino Salud', 'Una Historia Del Vino, La Bebida Nacional', 'Pigna, Felipe', '2014', 'Castellano'], ['Colonias Alemanas en Patagonia Argentina', 'Una Descripción de Sus Comienzos y Fracasos', 'Maggiori, Ernesto', '2009', 'Castellano'], ['Geografías Argentinas', 'Mitos, Historias y Secretos de un País', 'Jáuregui, Martín', '2010', 'Castellano'], ['Júbilo de Esperanza', 'Apuntes Báscios', 'Cardozo, Linares', '2004', 'Castellano'], ['Doce Cuentos de Verano', '', 'Casciari; Altuna', '2017', 'Castellano'], ['El Que Tiene Sed', '', 'Castillo, Abelardo', '1985', 'Castellano'], ['Un Novelista en el Museo Del Prado', '', 'Láinez, Manuel Mujica', '1984', 'Castellano'], ['Persuasión de Los Días', '', 'Girondo, Oliverio', '1968', 'Castellano'], ['Los Siete Locos', '', 'Arlt, Roberto', '1958', 'Castellano'], ['El Perseguidor', '', 'Cortázar, Julio', '1993', 'Castellano'], ['Cuentos Completos II', '(1945-1966)', 'Cortázar, Julio', '1994', 'Castellano'], ['Espantapájaros, Al Alcance de Todos', '', 'Girondo, Oliverio', '', 'Castellano'], ['Cosas de Pueblo', '', 'Córdoba, Leonardo', '', ''], ['Rayuela', '', 'Cortázar, Julio', '1963', 'Castellano'], ['En Las Tierras de Inti', '', 'Payró, Roberto Jorge', '1960', 'Castellano'], ['Lo Mejor de \"La Siesta Inolvidable\"', '', 'Halperín, Jorge', '2005', 'Castellano'], ['Castelo', 'Diario de un Ironista', 'Castelo, Carla; Castelo, Daniela', '2011', 'Castellano'], ['Los Lugares Del Otro', 'Las Imágenes Culturales de Lo \"ajeno Identitario\" en La Narrativa Argentina E Italiana Del Siglo XX', 'Nifantani, Marco', '2008', 'Castellano'], ['Un Mundo Sin Rumbo', 'Crisis de Fin de Siglo', 'Ramonet, Ignacio', '', 'Castellano'], ['Cuentos Camperos', '', 'Eichhorn, Enrique Francisco', '1980', 'Castellano'], ['El General, el Pintor y La Dama', '', 'de Miguel, María Esther', '', 'Castellano'], ['Te Conozco, Mendizábal', 'Y Otros Cuentos', 'Sacheri, Eduardo Alfredo', '2007', 'Castellano'], ['Lo Que No Se Nombra', '', 'Margall, Gabriela', '2008', 'Castellano'], ['Rosaura a Las Diez', '', 'Denevi, Marco', '', 'Castellano'], ['El Unicornio', '', 'Láinez, Manuel Mujica', '1965', 'Castellano'], ['Los Personajes de Manuel Mujica Lainez', '', 'Baron, Fundación René', '2010', 'Castellano'], ['Misteriosa Buenos Aires', '', 'Láinez, Manuel Mujica', '1964', 'Castellano'], ['Sobre Héroes Y Tumbas', '', 'Sabato, Ernesto', '1983', 'Castellano'], ['El Túnel', '', 'Sabato, Ernesto', '1948', 'Castellano'], ['Fabulas Argentinas', '', 'Daireaux, Godofedro', '2007', 'Castellano'], ['Prueba Del Dulce de Leche, La', '', 'Conti, Juanjo', '2014', ''], ['Pago Chico', '', 'Payró, Roberto Jorge', '2013', 'Castellano'], ['El Gaucho Martin Fierro', '', 'Hernandez, Jose', '2007', 'Castellano'], ['Australia Argentina, La', '', 'Payró, Roberto Jorge', '1963', 'Castellano'], ['Insumisa, La', '', 'Rossi, Cristina Peri', '2022', 'Castellano'], ['Coplas de Nelson', '', 'Vega, Calos Nelson', '2000', ''], ['Ema La Partysana', '', 'Prado, Esteban', '2018', 'Castellano'], ['100 Covers de Cuentos Clásicos', '', 'Casciari', '', 'Castellano'], ['Ministerio de Invierno', '', 'Balian, Juan Cruz', '2020', 'Castellano'], ['Ser una Diosa', 'Una Mujer Divina en La Tierra', 'Coler, Ricardo', '2006', 'Castellano'], ['Cecil', '', 'Láinez, Manuel Mujica', '1962', 'Castellano'], ['Leer a McLuhan, Hoy', '', 'Trilnick, Carlos; Speziale, Anabella', '2014', 'Castellano'], ['El Pasado Del Cielo', '', 'Luis, Mey', '2015', 'Castellano'], ['Las Flores Del Almendro', '', 'Walter, Horacio Agustín', '2014', 'Castellano'], ['Los Burgueses', '', 'Bullrich, Silvina', '1964', 'Castellano'], ['Indias Blancas', '', 'Bonelli, Florencia', '2010', 'Castellano'], ['Indias Blancas', 'Vuelta Del Ranquel, La', 'Bonelli, Florencia', '2012', 'Castellano'], ['Una Excursión a Los Indios Ranqueles', 'Tomo I', 'Mansilla, Lucio Victorio', '1953', 'Castellano'], ['Lo Que Dios Ha Unido', '', 'Wast, Hugo', '1945', 'Castellano'], ['De Negros y Burgueses', '', 'Cucurto, Washington; Schimd, Alejandro; Ameri, Lucas; Alejandría, Anérico', '2008', 'Castellano'], ['Una Excursión a Los Indios Ranqueles', 'Tomo II', 'Mansilla, Lucio Victorio', '1953', 'Castellano'], ['Pulperías y Tradiciones', 'Recorriendo Los Rincnes Ocultos de Buenos Aires', 'Veglia, Juan Pablo', '2023', 'Castellano'], ['Científicas de Acá', 'Historias Que Cambian La Historia', 'Alcain, Julieta; Edelsztein, Valeria; Elffman, Julieta; Hadad, Carolina', '', 'Castellano']], 'Japón': ['El Dragón, Rashomón y Otros Cuentos', '', 'AKUTAGAWA, RYUNOSUKE', '2012', 'Castellano', ['Mis Días En La Libreria Morisaki', '', 'Yagisawa, Satoshi', '2010', 'Castellano']], 'Corea del Sur': ['En el Enjambre', '', 'Han, Byung-Chul', '2013', 'Castellano', ['Agonía Del Eros, La', '', 'Han, Byung-Chul', '2012', 'Castellano']], 'España': ['Sabina, en Carne Viva', '', 'Sabina, Joaquín; Flores, Javier Menéndez', '2006', 'Castellano', ['Mujeres de La II República: 1931-1939', 'Historia de La Fotografía', 'Vega, Ramón Guerra de La', '', 'Castellano'], ['Templanza, La', '', 'Dueñas, María', '2015', 'Castellano'], ['Poema Del Mío Cid', '', 'Anónimo', '', 'Castellano'], ['Steampunk', 'Fantasía Y Ciencia Ficción Retrofuturista', 'González, Manu', '', 'Castellano']], 'Estados Unidos': ['Antología Poética Edgar Allan Poe', '', 'Poe, Edgar Allan', '1998', 'Castellano', ['Un Millón de Pequeñas Cosas', '', 'Mallery, Susan', '2017', 'Castellano'], ['Poesías Completas', '', 'Poe, Edgar Allan', '2004', 'Castellano'], ['Mas Platón y Menos Prozac', '', 'Marinoff, Lou', '1999', 'Castellano'], ['El Profeta', '', 'Gibran, Kahlil', '1985', 'Castellano'], ['Obras Completas', '', 'Poe, Edgar Allan', '1950', 'Castellano'], ['Último Vuelo', 'Diario de La Aventura Que La Convirtió en Leyenda', 'Earhart, Amelia', '1937', 'Castellano'], ['Las Puertas de Anubis', '', 'Powers, Tim', '1983', 'Castellano'], ['El Diario de Adan y Eva', '', 'Twain, Mark', '', 'Castellano']], 'Chile': ['Puyuhuapi', 'Curanto y Kuchen; Historia Oral de un Pueblo de Aysén', 'Ludwig, Luisa; Winkler, Luisa Ludwig', '', 'Castellano'], 'Reino Unido': ['Casa de una Escritora en Gales, La', '', 'Morris, Jan', '2002', 'Castellano', ['El Sabueso de Los Baskerville', '', 'Doyle, Sir Arthur Conan', '', 'Castellano']], 'Colombia': ['Doce Cuentos Peregrinos', '', 'García Márquez, Gabriel', '11992', 'Castellano', ['Del Amor y Otros Demonios', '', 'García Márquez, Gabriel', '1994', 'Castellano']], 'Canadá': ['El Cuento de La Criada', '', 'Atwood, Margaret', '', 'Castellano'], 'Rusia': ['Crimen y Castigo', '', 'Dostoievski, Fyodor', '1946', 'Castellano', ['El Jugador', '', 'Dostoievski, Fyodor', '1980', 'Castellano'], ['El Señor Projarchin', '', 'Dostoievski, Fyodor', '2004', 'Castellano'], ['Humillados y Ofendidos', '', 'Dostoievski, Fyodor', '2007', 'Castellano'], ['El Eterno Marido', '', 'Dostoievski, Fyodor', '2005', 'Castellano']], 'Italia': ['Soledad de Los Números Primos, La', '', 'Giordano, Paolo', '2011', 'Castellano'], 'Alemania': ['El Lobo Estepario', '', 'Hesse, Hermann', '1955', 'Castellano', ['Metamorfosis, La', '', 'Kafka, Franz', '1966', 'Castellano'], ['El Proceso', '', 'Kafka, Franz', '2014', 'Castellano'], ['El Perfume', 'Historia de un Asesino', 'Süskind, Patrick', '', 'Castellano']], 'Francia': ['Madame Bovary', '', 'Flaubert, Gustave', '2008', 'Castellano', ['Dos Chicas de Shanghai / Shanghai Girls', '', 'See, Lisa', '2009', 'Castellano'], ['El Abanico de Seda', '', 'See, Lisa', '2006', 'Castellano']], 'Nicaragua': ['Waslala', 'Memorial Del Futuro', 'Belli, Gioconda', '2006', 'Castellano', ['El País Bajo Mi Piel', '', 'Belli, Gioconda', '', 'Castellano']], 'Bulgaria': ['Guerra No Tiene Rostro de Mujer, La', '', 'Alexievich, Svetlana', '2013', 'Castellano'], 'Inglaterra': ['Romeo y Julieta', 'Mejor Novela de Romance', 'Shakespeare, William', '2005', 'Castellano', ['Hamlet, Príncipe de Dinamarca', '', 'Shakespeare, William', '', 'Castellano']], 'Irlanda': ['El Fantasma de Canterville', '', 'Wilde, Oscar', '', 'Castellano']}\n"
     ]
    }
   ],
   "source": [
    "data_books = read_data(file_name)\n"
   ]
  },
  {
   "cell_type": "markdown",
   "id": "90746111-19f9-420f-959b-43800db9b3af",
   "metadata": {},
   "source": [
    "* Y ahora accedemos leyendo los datos"
   ]
  },
  {
   "cell_type": "code",
   "execution_count": null,
   "id": "ce354fc1-8710-4efc-a00f-370051d298e9",
   "metadata": {},
   "outputs": [
    {
     "name": "stdout",
     "output_type": "stream",
     "text": [
      "Con try: No hay autores argentinos\n",
      "Con if : No hay autores argentinos\n"
     ]
    }
   ],
   "source": [
    "try:\n",
    "    print(f\"autores argentinos {data_books['argentinos']}\")\n",
    "except KeyError:\n",
    "    print(\"Con try: No hay autores argentinos\")\n",
    "\n",
    "if 'argentinos' in data_books:\n",
    "    print(f\"autores argentinos {data_books['argentinos']}\")\n",
    "else:\n",
    "    print(\"Con if : No hay autores argentinos\")"
   ]
  },
  {
   "cell_type": "markdown",
   "id": "61a9a49c-732a-48fb-abed-a6cbeabef770",
   "metadata": {},
   "source": [
    "## 📌 ¿Cuál les parece más legible?\n",
    "Hay diferentes formas de verificar la existencia de un dato, por ejemplo una key:\n",
    "\n",
    "* El manejo de excepciones hizo que al intentar acceder al diccionario, con una clave inexistente, el programa **no se rompa**.\n",
    "* La estructura condicional verifica si existe y también evita que se **rompa**.\n",
    "* En ambos casos **informamos cuál es el problema**."
   ]
  },
  {
   "cell_type": "markdown",
   "id": "cb0d2053-f11c-4f77-b93d-08afad380099",
   "metadata": {},
   "source": [
    "Los posibles errores generan las diferentes excepciones que se encuentran:\n",
    "*  **predefinidas** en Python.\n",
    "* o en las librerías que **importamos**, como es el caso de json sobre el formato."
   ]
  },
  {
   "cell_type": "markdown",
   "id": "2d0acfdb-1ef9-4692-9a32-a56fcf6c7b7c",
   "metadata": {},
   "source": [
    "# 🎒 Flujo de las excepciones\n",
    "* Veamos ahora la misma función pero sin capturar la excepción **json.JSONDecodeError** dentro de la función:"
   ]
  },
  {
   "cell_type": "code",
   "execution_count": null,
   "id": "432d30bb-99bf-4bbc-99ad-b2fbc70bf273",
   "metadata": {},
   "outputs": [],
   "source": [
    "def read_data(data_file):\n",
    "    try:\n",
    "        archivo = open(file_route/data_file)\n",
    "        data_books = json.load(archivo)\n",
    "        return data_books\n",
    "    except FileNotFoundError:\n",
    "        print(f'El archivo {data_file} no se encuentra')\n",
    "    "
   ]
  },
  {
   "cell_type": "code",
   "execution_count": null,
   "id": "0caa9cb3-7db7-4560-9dc5-2bb0fab6c1e9",
   "metadata": {},
   "outputs": [
    {
     "name": "stdout",
     "output_type": "stream",
     "text": [
      "Errores varios\n"
     ]
    }
   ],
   "source": [
    "file_name = 'libros_exception.json'\n",
    "try:\n",
    "    data_json = read_data(file_name)\n",
    "except:\n",
    "    print('Errores varios')"
   ]
  },
  {
   "cell_type": "markdown",
   "id": "b267c5d6-af0c-4a11-982b-4dd6ae680e27",
   "metadata": {},
   "source": [
    "## 📌¿Qué sucedió?\n",
    "\n",
    "\n",
    "- La excepción json.JSONDecodeError no se **capturó** dentro de la función **read_data**.\n",
    "- Python **busca estáticamene** si el bloque está encerrado en otro bloque try except.\n",
    "- Al no encontrar un manejador para esa excepción en la función ...\n",
    "    - **Busca dinámicamente** a quién llamó a la función. \n",
    "    - Al encontrar otro bloque que contempla excepciones **generales**, la captura y termina el programa sin error."
   ]
  },
  {
   "cell_type": "markdown",
   "id": "de21a03d-dc77-43e2-9771-567b3262341c",
   "metadata": {},
   "source": [
    "## 📌 ¿Cómo es la forma de **propagación** que utiliza Python?\n",
    "\n",
    "- Primero busca **estáticamente**.\n",
    "- Si no se encuentra, busca **dinámicamente** a quién llamó a la función.\n",
    "- Si encuentra un manejador lo captura.\n",
    "- Si no encuentra un manejador... entonces termina el programa ... con error.."
   ]
  },
  {
   "cell_type": "markdown",
   "id": "3d3ddeb8-8b54-4b59-a6f1-034a2a8f42af",
   "metadata": {},
   "source": [
    "## 📌 Ya respondimos algunas de las preguntas iniciales:\n",
    "\n",
    "- **¿Qué acción se toma después de levantada y manejada una excepción? ¿Se continúa con la ejecución de la unidad que lo provocó o se termina?**\n",
    "    - Las sentencias después de generada la excepción no se ejecutan. Si se captura la excepción se  continúa con la ejecución del programa según el flujo por fuera del bloque **try**, sino da error el programa. \n",
    "- **¿En qué casos es mas legible excepciones y cuándo flow-control?**\n",
    "    - Las excepciones son más legibles cuando se manejan **errores inesperados**, mientras que el control de flujo es preferible para **condiciones esperadas y predecibles**. \n",
    "- **¿Cómo se alcanza una excepción?**\n",
    "    - Una excepción se alcanza cuando se produce un error en el código.\n",
    "- **¿Cómo especificar los manejadores de excepciones que se deben ejecutar cuando se alcanzan las mismas?**\n",
    "    - Se especifican utilizando bloques **try** y **except**, donde se define el código que se ejecutará en caso de que ocurra una excepción. Opcionalmente podemos utilizar **else** y/o **finally**\n",
    "- **¿Qué sucede cuando no se encuentra un manejador para una excepción levantada?**\n",
    "    - Si no se encuentra un manejador estáticamene**, la excepción se **propaga** dinámicamente. Si no se maneja, el programa termina con un mensaje de error. \n",
    "- **¿El lenguaje tiene excepciones predefinidas?**\n",
    "    - Sí \n",
    "- ¿Podemos levantar en forma explícita una excepción?\n",
    "- ¿Podemos crear nuestras propias excepciones?"
   ]
  },
  {
   "cell_type": "markdown",
   "id": "c1ae77d9-14db-4363-b633-27182018b55d",
   "metadata": {},
   "source": [
    "# 🎒 ¿Y en Streamlit?"
   ]
  },
  {
   "cell_type": "markdown",
   "id": "3c4f438d-e3c6-4f3e-b1f9-c4f6048022fc",
   "metadata": {},
   "source": [
    "Streamlit permite utlizar mensajes específicos para mostrar errores, por ejemplo en caso de excepciones, veamos un ejemplo:"
   ]
  },
  {
   "cell_type": "markdown",
   "id": "247fde95-7b08-4ead-9a9a-ae03ce43a6c2",
   "metadata": {},
   "source": [
    "```python\n",
    "file_areas = 'area_prootegida.csv'\n",
    "try:\n",
    "    with open(files_directory/file_areas) as file:\n",
    "        csv_reader = csv.reader(file)\n",
    "        try:\n",
    "            header = next(csv_reader)\n",
    "            data = list(csv_reader)\n",
    "        except csv.Error as e:\n",
    "            st.error(f\"Error al leer el archivo CSV: {e}\")\n",
    "except FileNotFoundError:\n",
    "    data = []\n",
    "    st.error(f\"Archivo {file_areas} no encontrado\")\n",
    "```"
   ]
  },
  {
   "cell_type": "markdown",
   "id": "34d89571-4a0a-466d-9090-18547268ff92",
   "metadata": {},
   "source": [
    "* ✅ El flujo de try...except es igual y puede utilizarse el método **st.error** para mostrar el mensaje.\n",
    "* ✅ En la mayoría de los casos no es necesario **reinicar** la aplicación.\n",
    "* ✅ Los mensajes se muestran en la página web."
   ]
  },
  {
   "cell_type": "markdown",
   "id": "8332732b-9056-46b6-98e9-94718ee101ea",
   "metadata": {},
   "source": [
    "## 📌 Uso de excepciones\n",
    "Vimos hasta ahora ejemplos de:\n",
    "* ✅ Archivo no encontrado.\n",
    "* ✅ Error en el formato del archivo leído.\n",
    "* ✅ Error en iteradores.\n",
    "* ✅ Opcionalmente key inexistente en un diccionario."
   ]
  },
  {
   "cell_type": "markdown",
   "id": "9a0beea1-8b44-4103-ac48-2b8e2b431ef4",
   "metadata": {},
   "source": [
    "Otro ejemplo de posibles errores inesperados es cuando trabajamos con datos que no generamos nosotros sino que leemos de un sitio externo o apis, los errores que pueden suceder:\n",
    "* ✅ La lectura no siempre es posible.\n",
    "* ✅ El formato puede ser modificando sin saberlo.\n",
    "* ✅ Los datos no respetan los tipos de datos.\n",
    "* Etc."
   ]
  },
  {
   "cell_type": "markdown",
   "id": "34c7aa41",
   "metadata": {
    "slideshow": {
     "slide_type": "slide"
    }
   },
   "source": [
    "## 🚨 Consigna\n",
    "\n",
    "> Analizar el código del la aplicación que procesa el archivo **areas_protegidas.csv** que dejamos como material la semana pasada  y veamos en qué casos se puede utilizar el manejo de excepciones que realiza. "
   ]
  },
  {
   "cell_type": "markdown",
   "id": "db2d7ec1-c1b8-4abf-b54b-5d347f0cff67",
   "metadata": {},
   "source": [
    "# 🎒 La sentencia completa\n",
    "\n",
    "```python\n",
    "try:\n",
    "    sentencias\n",
    "except excepcion1, excepcion2:\n",
    "    sentencias\n",
    "except:\n",
    "    sentencias\n",
    "else:\n",
    "    sentencias\n",
    "finally:\n",
    "    sentencias\n",
    "    \n",
    "```"
   ]
  },
  {
   "cell_type": "markdown",
   "id": "b60f058a-7561-429d-8add-d9e43bd38571",
   "metadata": {},
   "source": [
    "Las sentencias :\n",
    "* **except** y **finally**: algunas de las dos deben acompañar a **try**\n",
    "* **else**: es opcional en el caso que se utilice primero **except**"
   ]
  },
  {
   "cell_type": "markdown",
   "id": "af6d7a82-cc40-4872-8ee7-b204412433b0",
   "metadata": {},
   "source": [
    "### 📌 Veamos este ejemplo sencillo"
   ]
  },
  {
   "cell_type": "code",
   "execution_count": null,
   "id": "1049c59c-6044-46d1-9f7a-fbda0da2170d",
   "metadata": {},
   "outputs": [
    {
     "name": "stdout",
     "output_type": "stream",
     "text": [
      "Este mensaje se imprime porque  NO se levantó la excepción\n",
      "Este mensaje se imprime SIEMPRE\n"
     ]
    }
   ],
   "source": [
    "#file_books_csv = 'libross.csv'\n",
    "file_books_csv = 'libros.csv'\n",
    "\n",
    "import csv\n",
    "\n",
    "    \n",
    "try:\n",
    "    with open(file_route/file_books_csv) as csvfile:\n",
    "        csv_reader = csv.reader(csvfile, delimiter=';')\n",
    "except FileNotFoundError:\n",
    "    print(\"El archivo no se encuentra\")\n",
    "else:\n",
    "    print(\"Este mensaje se imprime porque  NO se levantó la excepción\")\n",
    "finally:\n",
    "    print(\"Este mensaje se imprime SIEMPRE\")"
   ]
  },
  {
   "cell_type": "markdown",
   "id": "27c63c3e-e1db-4657-a021-61b0e208e370",
   "metadata": {},
   "source": [
    "### Entonces, ¿para qué usamos else y finally?"
   ]
  },
  {
   "cell_type": "markdown",
   "id": "bf13f85f-3931-4dff-8dda-189f5ac1693d",
   "metadata": {},
   "source": [
    "## 🎒 else y finally\n",
    "\n",
    ">Se utiliza la cláusula **else** para incluir el código que se debería ejecutar si **no se levanta ninguna excepción** en el bloque try..except.\n",
    "\n",
    ">Se utiliza la cláusula **finally** para incluir el código que se ejecuta **siempre**, independientemente si se levanta o no alguna excepción en el bloque try..except"
   ]
  },
  {
   "cell_type": "markdown",
   "id": "93484db6-a8ef-4704-90f2-a2483b730fc8",
   "metadata": {},
   "source": [
    "### 📌 Observemos el bloque finally en este otro ejemplo:"
   ]
  },
  {
   "cell_type": "code",
   "execution_count": null,
   "id": "92deaac8-1a10-47b5-ba6e-e455fc80be8c",
   "metadata": {},
   "outputs": [
    {
     "name": "stdout",
     "output_type": "stream",
     "text": [
      "Entrando al primer try ...\n",
      "Saliendo del primer try ... \n",
      "TRY EXTERNO: error de formato de json en  libros_exception.json\n",
      "Sigo con mi programa....\n",
      "{'Checoslavaquia': ['Insoportable Levedad Del Ser, La', '', 'KUNDERA, MILAN', '', 'Castellano'], 'Argentina': ['Susurro de Las Mujeres', '', 'Exilart, Gabriela', '2022', 'Castellano', ['Narradores Patagónicos', 'Cuentos Escogidos', 'Abadie, Carlos; Angelino, Diego; Baudés, Jorge; Boucau, Delia; Calvo, Laura; Cazenave, H. Wálter; Chucair, Elías; Covaro, Hugo; de Boer, Miguel Ángel; Etchenique, Jorge; Fueyo, Norhy; Quirno, Carlota García; Carey, Fernando González; Isla, Elpidio; Marrazzo, Pascual; Massacese, Magda; Miguel, Carmen; Morris, Mónica; Muñoz, Lilí; Pellín, Osvaldo; Pravaz, Sergio; Rithner, Juan Raúl; Sacamata, Carlos; Uranga, Ángel; Villegas, Mariano', '2010', 'Castellano'], ['Jala', '', 'Lozza, Irene', '2020', 'Castellano'], ['Contrato con el Frío', 'Y Otras Historias de Montaña', 'Troller, Epstein y Otros', '2020', 'Castellano'], ['Boquitas Pintadas', 'Folletín', 'Puig, Manuel', '2003', 'Castellano'], ['Vino Argentino', 'Manual Práctico', 'Dengis, Jorge; Dengis, María Fernanda', '2013', 'Castellano'], ['Falsa Calma', 'Un Recorrido por Pueblos Fantasma de La Patagonia', 'Cristoff, María Sonia', '2014', 'Castellano'], ['Historias Secretas de Córdoba', '', 'Camarasa, Jorge', '2012', 'Castellano'], ['Al Gran Pueblo Argentino Salud', 'Una Historia Del Vino, La Bebida Nacional', 'Pigna, Felipe', '2014', 'Castellano'], ['Colonias Alemanas en Patagonia Argentina', 'Una Descripción de Sus Comienzos y Fracasos', 'Maggiori, Ernesto', '2009', 'Castellano'], ['Geografías Argentinas', 'Mitos, Historias y Secretos de un País', 'Jáuregui, Martín', '2010', 'Castellano'], ['Júbilo de Esperanza', 'Apuntes Báscios', 'Cardozo, Linares', '2004', 'Castellano'], ['Doce Cuentos de Verano', '', 'Casciari; Altuna', '2017', 'Castellano'], ['El Que Tiene Sed', '', 'Castillo, Abelardo', '1985', 'Castellano'], ['Un Novelista en el Museo Del Prado', '', 'Láinez, Manuel Mujica', '1984', 'Castellano'], ['Persuasión de Los Días', '', 'Girondo, Oliverio', '1968', 'Castellano'], ['Los Siete Locos', '', 'Arlt, Roberto', '1958', 'Castellano'], ['El Perseguidor', '', 'Cortázar, Julio', '1993', 'Castellano'], ['Cuentos Completos II', '(1945-1966)', 'Cortázar, Julio', '1994', 'Castellano'], ['Espantapájaros, Al Alcance de Todos', '', 'Girondo, Oliverio', '', 'Castellano'], ['Cosas de Pueblo', '', 'Córdoba, Leonardo', '', ''], ['Rayuela', '', 'Cortázar, Julio', '1963', 'Castellano'], ['En Las Tierras de Inti', '', 'Payró, Roberto Jorge', '1960', 'Castellano'], ['Lo Mejor de \"La Siesta Inolvidable\"', '', 'Halperín, Jorge', '2005', 'Castellano'], ['Castelo', 'Diario de un Ironista', 'Castelo, Carla; Castelo, Daniela', '2011', 'Castellano'], ['Los Lugares Del Otro', 'Las Imágenes Culturales de Lo \"ajeno Identitario\" en La Narrativa Argentina E Italiana Del Siglo XX', 'Nifantani, Marco', '2008', 'Castellano'], ['Un Mundo Sin Rumbo', 'Crisis de Fin de Siglo', 'Ramonet, Ignacio', '', 'Castellano'], ['Cuentos Camperos', '', 'Eichhorn, Enrique Francisco', '1980', 'Castellano'], ['El General, el Pintor y La Dama', '', 'de Miguel, María Esther', '', 'Castellano'], ['Te Conozco, Mendizábal', 'Y Otros Cuentos', 'Sacheri, Eduardo Alfredo', '2007', 'Castellano'], ['Lo Que No Se Nombra', '', 'Margall, Gabriela', '2008', 'Castellano'], ['Rosaura a Las Diez', '', 'Denevi, Marco', '', 'Castellano'], ['El Unicornio', '', 'Láinez, Manuel Mujica', '1965', 'Castellano'], ['Los Personajes de Manuel Mujica Lainez', '', 'Baron, Fundación René', '2010', 'Castellano'], ['Misteriosa Buenos Aires', '', 'Láinez, Manuel Mujica', '1964', 'Castellano'], ['Sobre Héroes Y Tumbas', '', 'Sabato, Ernesto', '1983', 'Castellano'], ['El Túnel', '', 'Sabato, Ernesto', '1948', 'Castellano'], ['Fabulas Argentinas', '', 'Daireaux, Godofedro', '2007', 'Castellano'], ['Prueba Del Dulce de Leche, La', '', 'Conti, Juanjo', '2014', ''], ['Pago Chico', '', 'Payró, Roberto Jorge', '2013', 'Castellano'], ['El Gaucho Martin Fierro', '', 'Hernandez, Jose', '2007', 'Castellano'], ['Australia Argentina, La', '', 'Payró, Roberto Jorge', '1963', 'Castellano'], ['Insumisa, La', '', 'Rossi, Cristina Peri', '2022', 'Castellano'], ['Coplas de Nelson', '', 'Vega, Calos Nelson', '2000', ''], ['Ema La Partysana', '', 'Prado, Esteban', '2018', 'Castellano'], ['100 Covers de Cuentos Clásicos', '', 'Casciari', '', 'Castellano'], ['Ministerio de Invierno', '', 'Balian, Juan Cruz', '2020', 'Castellano'], ['Ser una Diosa', 'Una Mujer Divina en La Tierra', 'Coler, Ricardo', '2006', 'Castellano'], ['Cecil', '', 'Láinez, Manuel Mujica', '1962', 'Castellano'], ['Leer a McLuhan, Hoy', '', 'Trilnick, Carlos; Speziale, Anabella', '2014', 'Castellano'], ['El Pasado Del Cielo', '', 'Luis, Mey', '2015', 'Castellano'], ['Las Flores Del Almendro', '', 'Walter, Horacio Agustín', '2014', 'Castellano'], ['Los Burgueses', '', 'Bullrich, Silvina', '1964', 'Castellano'], ['Indias Blancas', '', 'Bonelli, Florencia', '2010', 'Castellano'], ['Indias Blancas', 'Vuelta Del Ranquel, La', 'Bonelli, Florencia', '2012', 'Castellano'], ['Una Excursión a Los Indios Ranqueles', 'Tomo I', 'Mansilla, Lucio Victorio', '1953', 'Castellano'], ['Lo Que Dios Ha Unido', '', 'Wast, Hugo', '1945', 'Castellano'], ['De Negros y Burgueses', '', 'Cucurto, Washington; Schimd, Alejandro; Ameri, Lucas; Alejandría, Anérico', '2008', 'Castellano'], ['Una Excursión a Los Indios Ranqueles', 'Tomo II', 'Mansilla, Lucio Victorio', '1953', 'Castellano'], ['Pulperías y Tradiciones', 'Recorriendo Los Rincnes Ocultos de Buenos Aires', 'Veglia, Juan Pablo', '2023', 'Castellano'], ['Científicas de Acá', 'Historias Que Cambian La Historia', 'Alcain, Julieta; Edelsztein, Valeria; Elffman, Julieta; Hadad, Carolina', '', 'Castellano']], 'Japón': ['El Dragón, Rashomón y Otros Cuentos', '', 'AKUTAGAWA, RYUNOSUKE', '2012', 'Castellano', ['Mis Días En La Libreria Morisaki', '', 'Yagisawa, Satoshi', '2010', 'Castellano']], 'Corea del Sur': ['En el Enjambre', '', 'Han, Byung-Chul', '2013', 'Castellano', ['Agonía Del Eros, La', '', 'Han, Byung-Chul', '2012', 'Castellano']], 'España': ['Sabina, en Carne Viva', '', 'Sabina, Joaquín; Flores, Javier Menéndez', '2006', 'Castellano', ['Mujeres de La II República: 1931-1939', 'Historia de La Fotografía', 'Vega, Ramón Guerra de La', '', 'Castellano'], ['Templanza, La', '', 'Dueñas, María', '2015', 'Castellano'], ['Poema Del Mío Cid', '', 'Anónimo', '', 'Castellano'], ['Steampunk', 'Fantasía Y Ciencia Ficción Retrofuturista', 'González, Manu', '', 'Castellano']], 'Estados Unidos': ['Antología Poética Edgar Allan Poe', '', 'Poe, Edgar Allan', '1998', 'Castellano', ['Un Millón de Pequeñas Cosas', '', 'Mallery, Susan', '2017', 'Castellano'], ['Poesías Completas', '', 'Poe, Edgar Allan', '2004', 'Castellano'], ['Mas Platón y Menos Prozac', '', 'Marinoff, Lou', '1999', 'Castellano'], ['El Profeta', '', 'Gibran, Kahlil', '1985', 'Castellano'], ['Obras Completas', '', 'Poe, Edgar Allan', '1950', 'Castellano'], ['Último Vuelo', 'Diario de La Aventura Que La Convirtió en Leyenda', 'Earhart, Amelia', '1937', 'Castellano'], ['Las Puertas de Anubis', '', 'Powers, Tim', '1983', 'Castellano'], ['El Diario de Adan y Eva', '', 'Twain, Mark', '', 'Castellano']], 'Chile': ['Puyuhuapi', 'Curanto y Kuchen; Historia Oral de un Pueblo de Aysén', 'Ludwig, Luisa; Winkler, Luisa Ludwig', '', 'Castellano'], 'Reino Unido': ['Casa de una Escritora en Gales, La', '', 'Morris, Jan', '2002', 'Castellano', ['El Sabueso de Los Baskerville', '', 'Doyle, Sir Arthur Conan', '', 'Castellano']], 'Colombia': ['Doce Cuentos Peregrinos', '', 'García Márquez, Gabriel', '11992', 'Castellano', ['Del Amor y Otros Demonios', '', 'García Márquez, Gabriel', '1994', 'Castellano']], 'Canadá': ['El Cuento de La Criada', '', 'Atwood, Margaret', '', 'Castellano'], 'Rusia': ['Crimen y Castigo', '', 'Dostoievski, Fyodor', '1946', 'Castellano', ['El Jugador', '', 'Dostoievski, Fyodor', '1980', 'Castellano'], ['El Señor Projarchin', '', 'Dostoievski, Fyodor', '2004', 'Castellano'], ['Humillados y Ofendidos', '', 'Dostoievski, Fyodor', '2007', 'Castellano'], ['El Eterno Marido', '', 'Dostoievski, Fyodor', '2005', 'Castellano']], 'Italia': ['Soledad de Los Números Primos, La', '', 'Giordano, Paolo', '2011', 'Castellano'], 'Alemania': ['El Lobo Estepario', '', 'Hesse, Hermann', '1955', 'Castellano', ['Metamorfosis, La', '', 'Kafka, Franz', '1966', 'Castellano'], ['El Proceso', '', 'Kafka, Franz', '2014', 'Castellano'], ['El Perfume', 'Historia de un Asesino', 'Süskind, Patrick', '', 'Castellano']], 'Francia': ['Madame Bovary', '', 'Flaubert, Gustave', '2008', 'Castellano', ['Dos Chicas de Shanghai / Shanghai Girls', '', 'See, Lisa', '2009', 'Castellano'], ['El Abanico de Seda', '', 'See, Lisa', '2006', 'Castellano']], 'Nicaragua': ['Waslala', 'Memorial Del Futuro', 'Belli, Gioconda', '2006', 'Castellano', ['El País Bajo Mi Piel', '', 'Belli, Gioconda', '', 'Castellano']], 'Bulgaria': ['Guerra No Tiene Rostro de Mujer, La', '', 'Alexievich, Svetlana', '2013', 'Castellano'], 'Inglaterra': ['Romeo y Julieta', 'Mejor Novela de Romance', 'Shakespeare, William', '2005', 'Castellano', ['Hamlet, Príncipe de Dinamarca', '', 'Shakespeare, William', '', 'Castellano']], 'Irlanda': ['El Fantasma de Canterville', '', 'Wilde, Oscar', '', 'Castellano']}\n"
     ]
    }
   ],
   "source": [
    "\n",
    "file_name = 'libros_exception.json'\n",
    "try:\n",
    "    print(\"Entrando al primer try ...\")\n",
    "    try:\n",
    "        with open(file_route/file_name) as file:\n",
    "            data_books = json.load(file)\n",
    "        print('No hubo error, sigo con mi programa')\n",
    "    except FileNotFoundError:\n",
    "        print(f'El archivo {file_name} no se encuentra') \n",
    "   \n",
    "    finally:\n",
    "        print(\"Saliendo del primer try ... \")\n",
    "\n",
    "except json.JSONDecodeError:\n",
    "        print(f\"TRY EXTERNO: error de formato de json en  {file_name}\")\n",
    "print('Sigo con mi programa....')\n",
    "print(data_books)"
   ]
  },
  {
   "cell_type": "markdown",
   "id": "661b007e-29a5-4085-af8f-f2ec2bd4880b",
   "metadata": {},
   "source": [
    "* La sentencia dentro de **finally** se ejecuta a pesar de la excepción.\n"
   ]
  },
  {
   "cell_type": "markdown",
   "id": "25dcd7ba-1e20-4a91-9aa8-5f5dcfa4e161",
   "metadata": {},
   "source": [
    "### 📌 ¿Y el else?"
   ]
  },
  {
   "cell_type": "code",
   "execution_count": null,
   "id": "53481730-47f9-4a15-9b9b-db307aaf4781",
   "metadata": {},
   "outputs": [
    {
     "name": "stdout",
     "output_type": "stream",
     "text": [
      "No hubo error dentro del try sigo con mi programa\n",
      "dict_keys(['Checoslavaquia', 'Argentina', 'Japón', 'Corea del Sur', 'España', 'Estados Unidos', 'Chile', 'Reino Unido', 'Colombia', 'Canadá', 'Rusia', 'Italia', 'Alemania', 'Francia', 'Nicaragua', 'Bulgaria', 'Inglaterra', 'Irlanda'])\n",
      "Siempre me ejecuto\n"
     ]
    }
   ],
   "source": [
    "file_name = 'libros.json'\n",
    "try:\n",
    "    with open(file_route/file_name) as file:\n",
    "        data_books = json.load(file)\n",
    "        \n",
    "except FileNotFoundError:\n",
    "    print(f'El archivo {file_name} no se encuentra')\n",
    "except json.JSONDecodeError:\n",
    "    print(f'Al abrir el archivo {file_name} hubo un error con el formato')\n",
    "else:\n",
    "    print('No hubo error dentro del try sigo con mi programa')\n",
    "    print(data_books.keys())\n",
    "finally:\n",
    "    print(\"Siempre me ejecuto\")"
   ]
  },
  {
   "cell_type": "markdown",
   "id": "d1b21772-0c18-4fb6-b391-235499bda851",
   "metadata": {},
   "source": [
    "## 🎒 Podemos levantar explícitamente excepciones"
   ]
  },
  {
   "cell_type": "code",
   "execution_count": 7,
   "id": "88ae033c-7c17-4a82-8603-9491da80f1a4",
   "metadata": {},
   "outputs": [
    {
     "name": "stdout",
     "output_type": "stream",
     "text": [
      "Entramos al bloque try\n",
      "Colombia\n",
      "['Doce Cuentos Peregrinos', '', 'García Márquez, Gabriel', '11992', 'Castellano', ['Del Amor y Otros Demonios', '', 'García Márquez, Gabriel', '1994', 'Castellano']]\n",
      "Brasil\n"
     ]
    },
    {
     "data": {
      "text/plain": [
       "'NUEVO'"
      ]
     },
     "execution_count": 7,
     "metadata": {},
     "output_type": "execute_result"
    }
   ],
   "source": [
    "file_name = 'libros.json'\n",
    "try:\n",
    "    print ('Entramos al bloque try')\n",
    "    with open(file_route/file_name) as file:\n",
    "        data_books = json.load(file)\n",
    "    countries = ['Colombia', 'Brasil', 'Chile', 'Argentina', ]\n",
    "    for country in countries:\n",
    "        print(country)\n",
    "        if country not in data_books.keys():\n",
    "            raise KeyError\n",
    "        else:\n",
    "            print(data_books[country])\n",
    "    print('Continuamos con el proceso..')\n",
    "except KeyError:\n",
    "    data_books[country] = 'NUEVO'\n",
    "data_books[country]"
   ]
  },
  {
   "cell_type": "markdown",
   "id": "8a7e1fa7-3ed8-4df0-b4f5-14f19564f70f",
   "metadata": {},
   "source": [
    "> La sentenica **raise** levantó una excepción predefinida de Python\n",
    "* En este caso la excepción levantada es: **KeyError**.\n",
    "* El bloque la captura con la sentencia  except."
   ]
  },
  {
   "cell_type": "markdown",
   "id": "807dba83-fd8f-4bda-95fe-ea1edc50fd35",
   "metadata": {},
   "source": [
    "## ¿Puedo volver a capturar la excepción por fuera del bloque?"
   ]
  },
  {
   "cell_type": "code",
   "execution_count": 8,
   "id": "0d8c0de5-1c4c-459d-8192-3ff28eba9c64",
   "metadata": {},
   "outputs": [
    {
     "name": "stdout",
     "output_type": "stream",
     "text": [
      "Se levantó un excepción\n",
      "Error en el formato\n",
      "Se levantó un excepción\n",
      "No se puede abrir el archivo\n"
     ]
    }
   ],
   "source": [
    "import json\n",
    "import sys\n",
    "file_name = 'libros_exception.json'\n",
    "\n",
    "def read_data(data_file):\n",
    "    try:\n",
    "        with open(file_route/data_file) as file:\n",
    "            data_books = json.load(file)\n",
    "    except:\n",
    "        print('Se levantó un excepción')\n",
    "        #print(f'detalle: {sys.exc_info()}')\n",
    "        raise\n",
    "      \n",
    "\n",
    "try:\n",
    "    read_data(file_name)\n",
    "except json.JSONDecodeError:\n",
    "    print('Error en el formato')\n",
    "\n",
    "try:\n",
    "    read_data('hola.json')\n",
    "except KeyError:\n",
    "    print('Error de key')    \n",
    "except:\n",
    "    print('No se puede abrir el archivo')"
   ]
  },
  {
   "cell_type": "markdown",
   "id": "4311b558-aeaa-4299-b08d-3943c9520dc3",
   "metadata": {},
   "source": [
    "### ¿Qué excepción se levantó?\n",
    "**raise**\n",
    "\n",
    "- Permite generar un traceback de la excepción que se generó.\n",
    "- Vuelve a lanzar la última excepción que estaba activa en el ámbito actual.\n",
    "    >las excepciones de los try que llamaron a la función\n",
    "- [Documentación.](https://docs.python.org/es/3.10/reference/simple_stmts.html#raise)\n",
    "- [**sys.exc_info()**](https://docs.python.org/3.10/library/sys.html#sys.exc_info) almacena el estado del hilo de ejecución, el contexto de la excepción.\n",
    "- ¿Qué pasa si invierto el orden entre estas dos sentencias?\n",
    " ```python\n",
    "except:\n",
    "    print('No se puede abrir el archivo')\n",
    "except KeyError:\n",
    "    print('Error de key')    \n",
    "```"
   ]
  },
  {
   "cell_type": "markdown",
   "id": "167bc69c-6dd2-458a-a3cf-1dbc6aeab24a",
   "metadata": {},
   "source": [
    "## ¿Y en este caso qué pasó?"
   ]
  },
  {
   "cell_type": "code",
   "execution_count": null,
   "id": "c55dfd2a-b011-4e6e-8369-894d8aa73795",
   "metadata": {},
   "outputs": [],
   "source": [
    "file_name = 'libros.json'       \n",
    "try:\n",
    "    with open(file_route/file_name) as file:\n",
    "       data_books = json.load(file)\n",
    "    if 'Brasil' not in data_books.keys():\n",
    "       raise        \n",
    "except KeyError:\n",
    "    print(\"Manejando KeyError\")\n",
    "\n",
    "read_data(file_name)"
   ]
  },
  {
   "cell_type": "markdown",
   "id": "eeab9859-fc79-4cc6-a533-b119e86583fc",
   "metadata": {},
   "source": [
    "- Si no hay ninguna excepción activa en el alcance actual, se lanza **RuntimeError** que indica que se trata de un error."
   ]
  },
  {
   "cell_type": "markdown",
   "id": "aceea248-d5ef-46ed-ac50-56ba07278baa",
   "metadata": {},
   "source": [
    "# 🎒 Algunas de las excepciones predefinidas (Built-in)\n",
    "\t\n",
    "- **ImportError**: error con importación de módulos.\n",
    "- **ModuleNotFoundError**: error por módulo no encontrado.\n",
    "- **IndexError**: error por índice fuera de rango.\n",
    "- **KeyError**: error por clave inexistente.\n",
    "- **NameError**: error por nombre no encontrado.\n",
    "- **SyntaxError**: error por problemas sintácticos\n",
    "- **ZeroDivisionError**: error por división por cero.\n",
    "- **IOError**: error en entrada salida.\n",
    "\n",
    "\n",
    "[Listado completo](https://docs.python.org/3/library/exceptions.html)"
   ]
  },
  {
   "cell_type": "markdown",
   "id": "f754e9ac-fce5-42de-aee4-7d8867b1a211",
   "metadata": {},
   "source": [
    "# 📌 En resumen:\n",
    "\n",
    "\n",
    "```python\n",
    "try:\n",
    "    sentencias\n",
    "except excepcion1, excepcion2:\n",
    "    sentencias\n",
    "except excepcion3 as variable:\n",
    "    sentencias\n",
    "except:\n",
    "    sentencias\n",
    "else:\n",
    "    sentencias\n",
    "finally:\n",
    "    sentencias\n",
    "    \n",
    "```"
   ]
  },
  {
   "cell_type": "markdown",
   "id": "ca2841d5",
   "metadata": {
    "slideshow": {
     "slide_type": "slide"
    }
   },
   "source": [
    "#  Seguimos la próxima ..."
   ]
  }
 ],
 "metadata": {
  "celltoolbar": "Slideshow",
  "kernelspec": {
   "display_name": "Python 3",
   "language": "python",
   "name": "python3"
  },
  "language_info": {
   "codemirror_mode": {
    "name": "ipython",
    "version": 3
   },
   "file_extension": ".py",
   "mimetype": "text/x-python",
   "name": "python",
   "nbconvert_exporter": "python",
   "pygments_lexer": "ipython3",
   "version": "3.12.1"
  }
 },
 "nbformat": 4,
 "nbformat_minor": 5
}
