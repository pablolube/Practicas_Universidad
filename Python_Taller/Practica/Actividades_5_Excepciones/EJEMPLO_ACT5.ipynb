{
 "cells": [
  {
   "cell_type": "markdown",
   "id": "b015a19f",
   "metadata": {},
   "source": [
    "# Actividad 5 por Python plus \n",
    "## Enunciado 011\n",
    "Copiá el siguiente código al IDE que utilizás habitualmente y respondé las consignas de la siguiente sección. Para realizar el ejercicio deben descargar el\n",
    "archivo denominado logs_catedra.csv y ubicarlo en una carpeta denomina \"archivos\". Es decir que tendrán una estructura similar a:"
   ]
  },
  {
   "cell_type": "markdown",
   "id": "9eda6549-31ee-4fca-bfd6-f6f09f19b9dd",
   "metadata": {},
   "source": [
    "# Enunciado"
   ]
  },
  {
   "cell_type": "code",
   "execution_count": 59,
   "id": "c2265973-67cd-49ba-beb8-af5b8e2d567b",
   "metadata": {},
   "outputs": [],
   "source": [
    "import csv\n",
    "from pathlib import Path\n",
    "from collections import Counter\n",
    "from datetime import datetime\n",
    "\n",
    "def enRango(data):\n",
    "    formato=\"%d/%m/%y, %H:%M:%S\"\n",
    "    h= datetime.strptime(data, formato)\n",
    "    return h.hour in range(0, 12)\n",
    "def miFiltro(csv_reader, cant):\n",
    "    users = filter(lambda x:  enRango(x[\"Hora\"]), csv_reader)\n",
    "    return Counter( map(lambda x: x['Nombre completo del usuario'], users)).most_common(cant)"
   ]
  },
  {
   "cell_type": "code",
   "execution_count": 60,
   "id": "a1c3e308",
   "metadata": {},
   "outputs": [
    {
     "name": "stdout",
     "output_type": "stream",
     "text": [
      "Usuario: Machamp - Cantidad: 1865\n",
      "Usuario: Bulbasaur - Cantidad: 974\n",
      "Usuario: Snorlax - Cantidad: 619\n",
      "Usuario: Rapidash - Cantidad: 468\n",
      "Usuario: Blastoise - Cantidad: 427\n"
     ]
    }
   ],
   "source": [
    "file_route = Path('archivos') / 'logs_catedra.csv'\n",
    "with open(file_route,encoding='utf-8') as file:\n",
    "    csv_reader = csv.DictReader(file, delimiter=',')\n",
    "    x= miFiltro(csv_reader, 5)\n",
    "for elem in x:\n",
    "    print(f'Usuario: {elem[0]} - Cantidad: {elem[1]}')"
   ]
  },
  {
   "cell_type": "markdown",
   "id": "e7961ac0",
   "metadata": {},
   "source": [
    "## 1. Analizá el código y responde"
   ]
  },
  {
   "cell_type": "markdown",
   "id": "37cb2d72",
   "metadata": {},
   "source": [
    "### a) Explicá qué hace la función miFiltro y mostrá la ejecución describiendo cuál es la salida del programa.\n",
    "\n",
    "La función miFiltro recibe un iterador de diccionarios (csv_reader) y un número (cant). \n",
    "\n",
    "Dentro de la función:\n",
    "\n",
    "1) Filter:  Recorre csv_reader lamda y aplica un filtro, enviado a  la función enRango(),  valor del campo \"Hora\" de cada fila.\n",
    "\n",
    "    a) La función enRango() convierte ese string en un objeto datetime, extrae la hora y devuelve True si está entre las 0 y las 11 horas (inclusive), o False en caso contrario.\n",
    "\n",
    "    b) Luego, filter devuelve solo las filas que cumplen con esa condición, es decir, aquellas cuyo registro de hora corresponde a la mañana, y las guarda en la variable users.\n",
    "\n",
    "2) miFiltro Retorna: \n",
    "\n",
    "   a) Usa map para extraer el nombre completo del usuario de cada elemento en users.(iterable)\n",
    "\n",
    "   b)Con Counter cuenta cuántas veces aparece cada nombre.\n",
    "\n",
    "   c) most_common(cant) devuelve una lista de tuplas en el formato (nombre_completo_usuario, cantidad), donde cantidad es la frecuencia de aparición de ese usuario. La lista contiene solo los primeros cant(parametro) de elementos más frecuentes, es decir, los usuarios con mayor cantidad de registros.\n",
    "   \n",
    "La salida del programa : Recorre la lista de tuplas e imprime el primer y segundo elemento\n",
    "\n",
    "*Aclaracion: Agregue (encoding='utf-8') en el open para que corra porque daba error de unicode"
   ]
  },
  {
   "cell_type": "code",
   "execution_count": 61,
   "id": "7d55e8d3",
   "metadata": {},
   "outputs": [
    {
     "name": "stdout",
     "output_type": "stream",
     "text": [
      "Usuario: Machamp - Cantidad: 1865\n",
      "Usuario: Bulbasaur - Cantidad: 974\n",
      "Usuario: Snorlax - Cantidad: 619\n",
      "Usuario: Rapidash - Cantidad: 468\n",
      "Usuario: Blastoise - Cantidad: 427\n"
     ]
    }
   ],
   "source": [
    "file_route = Path('archivos') / 'logs_catedra.csv'\n",
    "with open(file_route,encoding='utf-8') as file:\n",
    "    csv_reader = csv.DictReader(file, delimiter=',')\n",
    "    x= miFiltro(csv_reader,cant=5)\n",
    "for elem in x:\n",
    "    print(f'Usuario: {elem[0]} - Cantidad: {elem[1]}')"
   ]
  },
  {
   "cell_type": "markdown",
   "id": "63c3684a",
   "metadata": {},
   "source": [
    "### b) Modificá la función miFiltro de manera tal que no sea necesario pasar como parámetro la cantidad de elementos a retornar. Y, en caso que no se indique la cantidad,  se debe retornar solo el primer usuario que cumple la condición de filtro. Mostrá la ejecución del mismo."
   ]
  },
  {
   "cell_type": "code",
   "execution_count": 62,
   "id": "591b7749",
   "metadata": {},
   "outputs": [
    {
     "name": "stdout",
     "output_type": "stream",
     "text": [
      "Usuario: Bulbasaur - Cantidad: 974\n"
     ]
    }
   ],
   "source": [
    "import csv\n",
    "from pathlib import Path\n",
    "from collections import Counter\n",
    "from datetime import datetime\n",
    "\n",
    "def enRango(data):\n",
    "    formato=\"%d/%m/%y, %H:%M:%S\"\n",
    "    h= datetime.strptime(data, formato)\n",
    "    return h.hour in range(0, 12)\n",
    "def miFiltro(csv_reader, cant=None):\n",
    "    users = filter(lambda x:  enRango(x[\"Hora\"]), csv_reader)\n",
    "    counts=(Counter( map(lambda x: x['Nombre completo del usuario'], users)))\n",
    "    if cant is None:\n",
    "        return [list(counts.items())[0]]\n",
    "    else:\n",
    "        return counts.most_common(cant)\n",
    "    \n",
    "file_route = Path('archivos') / 'logs_catedra.csv'\n",
    "with open(file_route,encoding='utf-8') as file:\n",
    "    csv_reader = csv.DictReader(file, delimiter=',')\n",
    "    cant = input(\"Ingrese la cantidad de usuarios que quiere rankear (o deje en blanco para mostrar el primero que se haya logueado a la mañana): \").strip()\n",
    "\n",
    "    if not cant.isnumeric() or cant == '0':\n",
    "        cant = None\n",
    "    else:\n",
    "        cant = int(cant)\n",
    "\n",
    "\n",
    "    x= miFiltro(csv_reader,cant)\n",
    "for elem in x:\n",
    "    print(f'Usuario: {elem[0]} - Cantidad: {elem[1]}')"
   ]
  },
  {
   "cell_type": "markdown",
   "id": "83b646cc",
   "metadata": {},
   "source": [
    "### c) Respondé: ¿cuántos parámetros recibe la función miFiltro modificada? ¿Cuántos son obligatorios y cuántos son opcionales?\n",
    "\n",
    "-Recibe 2 parametros: uno obligatorio (csv_reader) y uno opcional (cant). \n",
    "\n",
    "-Tiene un parámetro obligatorio y uno opcional."
   ]
  },
  {
   "cell_type": "markdown",
   "id": "ff6035b0",
   "metadata": {},
   "source": [
    "### d) Modificá el código de manera tal que el programa no corte su ejecución con un error en caso que el archivo tenga problemas de formato csv o no exista. Mostrá la  ejecución del código modificado para visualizar que esta situación no sucede."
   ]
  },
  {
   "cell_type": "code",
   "execution_count": 63,
   "id": "37e1483d",
   "metadata": {},
   "outputs": [
    {
     "name": "stdout",
     "output_type": "stream",
     "text": [
      " ERROR: El archivo 'logs_catedra.csv' no existe.\n",
      " ERROR: El archivo 'logs_catedra.csv' no existe.\n",
      " ERROR: El archivo 'logs_catedra.csv' no existe.\n",
      "Usuario: Bulbasaur - Cantidad: 974\n",
      "El programa ha finalizado correctamente.\n"
     ]
    }
   ],
   "source": [
    "import csv\n",
    "from pathlib import Path\n",
    "from collections import Counter\n",
    "from datetime import datetime\n",
    "\n",
    "#------------------------------------------------------------------------------------------------------------------------------------------\n",
    "# FUNCIONES\n",
    "#------------------------------------------------------------------------------------------------------------------------------------------\n",
    "\n",
    "def enRango(data):\n",
    "    formato=\"%d/%m/%y, %H:%M:%S\"\n",
    "    h= datetime.strptime(data, formato)\n",
    "    return h.hour in range(0, 12)\n",
    "\n",
    "def miFiltro(csv_reader, cant=None):\n",
    "    users = filter(lambda x:  enRango(x[\"Hora\"]), csv_reader)\n",
    "    counts=(Counter( map(lambda x: x['Nombre completo del usuario'], users)))\n",
    "    if cant is None:\n",
    "        return [list(counts.items())[0]]\n",
    "    else:\n",
    "        return counts.most_common(cant)\n",
    "\n",
    "#------------------------------------------------------------------------------------------------------------------------------------------\n",
    "# PROGRAMA PRINCIPAL\n",
    "#------------------------------------------------------------------------------------------------------------------------------------------\n",
    "sigue= True\n",
    "while sigue:\n",
    "    ruta=input(\"Ingrese ruta de la carpeta del archivo: \").strip()  \n",
    "    file_route = Path(ruta) / 'logs_catedra.csv'\n",
    "    \n",
    "    try:\n",
    "        with open(file_route, encoding='utf-8') as file:\n",
    "            csv_reader = csv.DictReader(file, delimiter=',')\n",
    "\n",
    "            cant = input(\"Ingrese la cantidad de usuarios que quiere rankear (o deje en blanco para mostrar el primero que se haya logueado a la mañana): \").strip()\n",
    "\n",
    "            if not cant.isnumeric() or cant == '0':\n",
    "                cant = None\n",
    "            else:\n",
    "                cant = int(cant)\n",
    "\n",
    "            \n",
    "            x = miFiltro(csv_reader, cant)\n",
    "            for elem in x:\n",
    "                print(f'Usuario: {elem[0]} - Cantidad: {elem[1]}')\n",
    "\n",
    "    #Excepciones\n",
    "    except PermissionError:\n",
    "        print(f\" ERROR: No se tiene permiso para abrir el archivo '{file_route}'.\")\n",
    "    except FileNotFoundError:\n",
    "        print(f\" ERROR: El archivo '{file_route}' no existe.\")\n",
    "    except csv.Error:\n",
    "        print(\" ERROR: Problema de formato en el archivo CSV.\")\n",
    "    else:\n",
    "        sigue= False\n",
    "        print(\"El programa ha finalizado correctamente.\")    "
   ]
  },
  {
   "cell_type": "markdown",
   "id": "d8de5e47",
   "metadata": {},
   "source": [
    "### e) Respondé: ¿cuál es el tipo de dato retornado por la función miFiltro? ¿Qué elementos contiene?\n",
    "\n",
    "MiFiltro devuelve una lista de tuplas, cada tupla con 2 elementos.\n",
    "Cada tupla contiene un par el nombre_usuario(string) y cantidad de logs(int).\n",
    "\n",
    "A continuacion muestro lo que retorna"
   ]
  },
  {
   "cell_type": "code",
   "execution_count": 64,
   "id": "15fd8477",
   "metadata": {},
   "outputs": [
    {
     "name": "stdout",
     "output_type": "stream",
     "text": [
      "[('Bulbasaur', 974)]\n"
     ]
    }
   ],
   "source": [
    "file_route = Path('archivos') / 'logs_catedra.csv'\n",
    "with open(file_route,encoding='utf-8') as file:\n",
    "    csv_reader = csv.DictReader(file, delimiter=',')\n",
    "    x= miFiltro(csv_reader)\n",
    "for elem in x:\n",
    "    print(x)"
   ]
  },
  {
   "cell_type": "markdown",
   "id": "cb807730",
   "metadata": {},
   "source": [
    "## 2. Interactúa con una IA con las siguientes consignas:\n"
   ]
  },
  {
   "cell_type": "markdown",
   "id": "741bcf3f",
   "metadata": {},
   "source": [
    "Verificá si la última versión del código modificado respeta la PEP 8. Mostrá los resultados que te brinda la IA e indicanos si estás de acuerdo con la\n",
    "respuesta dada y si es completa o no."
   ]
  },
  {
   "cell_type": "markdown",
   "id": "5e3ab16b",
   "metadata": {},
   "source": [
    "PROMPT enviado a Chat GPT \n",
    "\n",
    "\n",
    "El siguiente codigo respecta las PEP 8 \n",
    "(copie el codigo del ultimo programa)"
   ]
  },
  {
   "cell_type": "markdown",
   "id": "58e60e3d",
   "metadata": {},
   "source": [
    "RESPUESTA CHAT GPT\n",
    "\n",
    "Tu código está muy bien estructurado y casi cumple con la guía PEP 8, pero hay algunos pequeños ajustes que podés hacer para respetarla completamente. Aquí te indico los detalles:\n",
    "\n",
    "✅ Cosas correctas respecto a PEP 8:\n",
    "Separación lógica entre bloques de funciones y programa principal.\n",
    "\n",
    "Uso adecuado de nombres en minúsculas y con guiones bajos (snake_case).\n",
    "\n",
    "Comentarios claros.\n",
    "\n",
    "Uso de with open(...) para manejo de archivos.\n",
    "\n",
    "Manejo de errores con try-except.\n",
    "\n"
   ]
  },
  {
   "cell_type": "code",
   "execution_count": 65,
   "id": "598b4ea6",
   "metadata": {},
   "outputs": [
    {
     "name": "stdout",
     "output_type": "stream",
     "text": [
      "Usuario: Machamp - Cantidad: 1865\n",
      "Usuario: Bulbasaur - Cantidad: 974\n",
      "Usuario: Snorlax - Cantidad: 619\n",
      "Usuario: Rapidash - Cantidad: 468\n",
      "Usuario: Blastoise - Cantidad: 427\n",
      "Usuario: Caterpie - Cantidad: 395\n",
      "Usuario: Electabuzz - Cantidad: 324\n",
      "Usuario: Kadabra - Cantidad: 287\n",
      "Usuario: Raticate - Cantidad: 283\n",
      "Usuario: CharizardMega Charizard Y - Cantidad: 282\n",
      "Usuario: Hypno - Cantidad: 282\n",
      "Usuario: Ivysaur - Cantidad: 281\n",
      "El programa ha finalizado correctamente.\n"
     ]
    }
   ],
   "source": [
    "import csv\n",
    "from pathlib import Path\n",
    "from collections import Counter\n",
    "from datetime import datetime\n",
    "\n",
    "# ---------------- FUNCIONES ----------------\n",
    "\n",
    "def en_rango(data):\n",
    "    formato = \"%d/%m/%y, %H:%M:%S\"\n",
    "    h = datetime.strptime(data, formato)\n",
    "    return h.hour in range(0, 12)\n",
    "\n",
    "def mi_filtro(csv_reader, cant=None):\n",
    "    users = filter(lambda x: en_rango(x[\"Hora\"]), csv_reader)\n",
    "    counts = Counter(map(lambda x: x['Nombre completo del usuario'], users))\n",
    "    if cant is None:\n",
    "        return [list(counts.items())[0]]\n",
    "    else:\n",
    "        return counts.most_common(cant)\n",
    "\n",
    "# ---------------- PROGRAMA PRINCIPAL ----------------\n",
    "\n",
    "sigue = True\n",
    "while sigue:\n",
    "    ruta = input(\"Ingrese ruta de la carpeta del archivo: \").strip()\n",
    "    file_route = Path(ruta) / 'logs_catedra.csv'\n",
    "\n",
    "    try:\n",
    "        with open(file_route, encoding='utf-8') as file:\n",
    "            csv_reader = csv.DictReader(file, delimiter=',')\n",
    "\n",
    "            cant = input(\"Ingrese la cantidad de usuarios que quiere rankear (o deje en blanco para mostrar el primero que se haya logueado a la mañana): \").strip()\n",
    "\n",
    "            if not cant.isnumeric() or cant == '0':\n",
    "                cant = None\n",
    "            else:\n",
    "                cant = int(cant)\n",
    "\n",
    "            x = mi_filtro(csv_reader, cant)\n",
    "            for elem in x:\n",
    "                print(f'Usuario: {elem[0]} - Cantidad: {elem[1]}')\n",
    "\n",
    "    except PermissionError:\n",
    "        print(f\"ERROR: No se tiene permiso para abrir el archivo '{file_route}'.\")\n",
    "    except FileNotFoundError:\n",
    "        print(f\"ERROR: El archivo '{file_route}' no existe.\")\n",
    "    except csv.Error:\n",
    "        print(\"ERROR: Problema de formato en el archivo CSV.\")\n",
    "    else:\n",
    "        sigue = False\n",
    "        print(\"El programa ha finalizado correctamente.\")\n"
   ]
  },
  {
   "cell_type": "markdown",
   "id": "32be195a",
   "metadata": {},
   "source": [
    "Hizo cambios menores en el formateo del archivo y mejoro la identacion eliminando espacios en blanco. Dado que no hizo modificaciones sustanciales a la logica del codigo estoy de acuerdo con los cambios generados, dado que mejora la legiblidad del mismo"
   ]
  }
 ],
 "metadata": {
  "kernelspec": {
   "display_name": "Python 3",
   "language": "python",
   "name": "python3"
  },
  "language_info": {
   "codemirror_mode": {
    "name": "ipython",
    "version": 3
   },
   "file_extension": ".py",
   "mimetype": "text/x-python",
   "name": "python",
   "nbconvert_exporter": "python",
   "pygments_lexer": "ipython3",
   "version": "3.12.9"
  }
 },
 "nbformat": 4,
 "nbformat_minor": 5
}
