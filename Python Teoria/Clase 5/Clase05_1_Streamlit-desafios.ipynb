{
 "cells": [
  {
   "cell_type": "markdown",
   "id": "7b0ae431-ca17-4c4b-bb88-a135e8cb32b5",
   "metadata": {
    "editable": true,
    "slideshow": {
     "slide_type": ""
    },
    "tags": []
   },
   "source": [
    "# Lenguajes - Python\n",
    "\n",
    "## Cursada 2025"
   ]
  },
  {
   "cell_type": "markdown",
   "id": "b6532f02-820e-4347-abff-ff3f1f3cacd3",
   "metadata": {},
   "source": [
    "## 🎒  Streamlit y sus componentes"
   ]
  },
  {
   "cell_type": "markdown",
   "id": "69e87a1e-995d-4230-ac97-70591d3dd33e",
   "metadata": {
    "editable": true,
    "slideshow": {
     "slide_type": ""
    },
    "tags": []
   },
   "source": [
    "¿Qué vimos en clase?\n",
    "* Introducción a Streamlit\n",
    "* Estructuración con:\n",
    "    * pages\n",
    "    * containers\n",
    "* Widgets\n",
    "* Callbacks"
   ]
  },
  {
   "cell_type": "markdown",
   "id": "c3295d7b-2952-426e-8b38-b2c4ce30aae7",
   "metadata": {},
   "source": [
    "Les proponemos algunos ejercicios para comprender un poco más los componentes de Streamlit y su funcionamiento."
   ]
  },
  {
   "cell_type": "markdown",
   "id": "666a5a3d-4261-4fa7-b35a-cb71080f1c8a",
   "metadata": {},
   "source": [
    "Dado el archivo **start.py** que contiene un diccionario con información sobre áreas protegidas de Argentina con la siguiente organización:\n",
    "* reserved_areas: son áreas protegidas que son reservas \n",
    "* national_parks_only: son áreas protegidas que son solamente parques nacionales\n",
    "\n",
    "Realice las apps solicitadas con **Streamlit**."
   ]
  },
  {
   "cell_type": "markdown",
   "id": "bd5a4d9c-95c4-43eb-9a08-7d410896e120",
   "metadata": {
    "editable": true,
    "slideshow": {
     "slide_type": ""
    },
    "tags": []
   },
   "source": [
    "\n",
    "<center>\n",
    "<img src=\"imagenes/questions.png\" alt=\"App Guess\" style=\"width:500px;\"/></center>\n",
    "\n"
   ]
  },
  {
   "cell_type": "markdown",
   "id": "ff6388b8-b6fc-4f9a-abd4-da7d77a438d2",
   "metadata": {},
   "source": [
    "La página principal deberá tener dos columnas:\n",
    "* en la columna 1: mostrar las opciones\n",
    "* en la segunda columna: ir mostrando la cantidad de respuestas correctas\n",
    "\n",
    "* Para obtener las opciones **all_types** se dejó la invocación a la función **process_areas** que deben completar, debe devolver todas las opciones y cuál es la respuesta correca **correct_r**.\n",
    "\n",
    "* En la **columna 1** luego de las preguntas se agregó código para mostrar si la respuesta es correcta o no, este mensaje se puede ver? ¿por qué?\n",
    "\n",
    "* En el video vamos a orientar cómo acceder al valor de la respuesta correcta."
   ]
  },
  {
   "cell_type": "markdown",
   "id": "7631dbe4-147f-47f7-9ff1-d9e346770f15",
   "metadata": {
    "editable": true,
    "slideshow": {
     "slide_type": ""
    },
    "tags": []
   },
   "source": [
    "### Uso de keys, callback y sesión\n",
    "La opción correcta se pierde ya que al detectar un evento se relee la página, para acceder a la opción antes de releer podemos hacerlo desde el widget.\n",
    "\n",
    "* Para obtener los datos de un widget podemos acceder definiendo la key, esto genera una variable con el nombre de la key en la sesión, en **st.session_state**.\n",
    "\n",
    "Opción para actualizar la cantidad de respuestas correctas utilizando las variables de la sesión:\n",
    "\n",
    "```python\n",
    "selected_type = st.radio('Marca la opción que es solamente Reserva', \n",
    "                         all_types,index=None, \n",
    "                         key='option', on_change=update, args=(correct_r,))\n",
    "```\n",
    "*  En el ejemplo se ve:\n",
    "    * definición de la key: **key='option'**, en este momento se genera la variable en **st.session.state**\n",
    "    * se realiza un [callback](https://docs.streamlit.io/develop/api-reference/caching-and-state/st.session_state) a una función **update**, **on_change=update**\n",
    "    * se pasa un argumento a la función **args=(correct_r,)**. Noten que la coma al final de la tupla es necesaria porque como es una tupla, debe ser dos o más elementos. Por lo tanto si se quiere pasar un solo argumento, debe agregarse una coma al final\n",
    "   \n",
    "* Dentro de esa función que se invoca desde el widget consultamos si el valor de la opción elegida es igual a la respuesta correcta.\n",
    "```python\n",
    "if st.session_state.option == answer: \n",
    "```\n",
    "\n",
    "Esta forma de preguntar lo podemos realizar porque lo estamos haciendo en una función que se va a invocar luego de que esté definido la variable de estado **option**.\n"
   ]
  },
  {
   "cell_type": "markdown",
   "id": "2103b130-9061-4455-aca7-a81a1dc7b15f",
   "metadata": {},
   "source": [
    "## 🚨 Desafío 2"
   ]
  },
  {
   "cell_type": "markdown",
   "id": "325a0a35-4c69-454b-967c-d5cb4872bc09",
   "metadata": {},
   "source": [
    "Con los datos de las áreas protegidas que se encuentran en el archivo **start.py** genere otra entrada en el sidebar, para lo cual deberá crear el directorio **pages** y crear un nuevo archivo python que realice lo siguiente:\n",
    "\n",
    "* Generar un formulario que consulte el nombre de un usuario en una pestaña (tab) y si este valor está configurado se muestren las preguntas en otra pestaña."
   ]
  },
  {
   "cell_type": "markdown",
   "id": "104b18ee-367a-48e6-997c-be4d4622f544",
   "metadata": {},
   "source": [
    "\n",
    "<center>\n",
    "<img src=\"imagenes/form_questions.png\" alt=\"App Guess\" style=\"width:500px;\"/></center>\n"
   ]
  },
  {
   "cell_type": "markdown",
   "id": "66f3da8c-880f-4408-9d52-f215c4c0edf6",
   "metadata": {},
   "source": [
    "**Nota**\n",
    "* Para verificar si está configurado el nombre podemos usar variables de estado de Streamlit, que se actualiza desde el widget button.\n",
    "* El procesamiento del diccionario ya lo realizó en el archivo **start.py** evalúe cómo reorganizar esa función para que ambos archios puedan acceder y no repetir el código."
   ]
  },
  {
   "cell_type": "markdown",
   "id": "48697051-c360-4adb-b750-8f6bf9e85ed8",
   "metadata": {},
   "source": [
    "## 🚨 Desafío 3"
   ]
  },
  {
   "cell_type": "markdown",
   "id": "84c0fe08-ab57-41b5-a43e-63de25e5bc00",
   "metadata": {
    "editable": true,
    "slideshow": {
     "slide_type": ""
    },
    "tags": []
   },
   "source": [
    "La información que se encuentra detallada en el diccionario se obtuvo de un archivo, **area_protegida.csv** que adjuntamos.\n",
    "Los datos se obtuvieron del [Instituto Geógrafico Nacional](https://dnsg.ign.gob.ar/apps/api/v1/capas-sig/Geodesia+y+demarcaci%C3%B3n/L%C3%ADmites/area_protegida/csv).\n",
    "\n",
    "Creá un archivo dentro del directorio **pages** que procese **area_protegida.csv** y filtrá los datos  de manera que se creen las listas correspondientes a las keys del diccionario utilizado en el desafío 1:\n",
    "* Las keys son: reserved_areas y national_parks_only.\n",
    "* Para encontrar las reservas, se buscó que la palabra **Reserva** se encuentre en la columna **fna**.\n",
    "* Para encontrar los Parques Nacionales, se buscó que las palabras **Parque** y **Nacional** en encuentren en la columna **fna** y no esté **Reserva**."
   ]
  },
  {
   "cell_type": "markdown",
   "id": "798cf5bf-d2b5-46ab-b667-8968fd7939ac",
   "metadata": {
    "editable": true,
    "slideshow": {
     "slide_type": ""
    },
    "tags": []
   },
   "source": [
    "En caso que no les permita abrir el archivo csv por el tamaño, hay una configuración que incrementa el tamaño máximo, deberán agregarlo antes de abrirlo en el código:"
   ]
  },
  {
   "cell_type": "code",
   "execution_count": null,
   "id": "0dbb044f-1dfe-45a1-b6ba-d5a64d757448",
   "metadata": {},
   "outputs": [],
   "source": [
    "import sys\n",
    "csv.field_size_limit(sys.maxsize)"
   ]
  },
  {
   "cell_type": "markdown",
   "id": "828dda7a-1614-45b7-b23f-8f4b7cd04ec8",
   "metadata": {},
   "source": [
    "Esta instrucción está configurando el tamaño máximo que puede abrir csv en función del sistema de cada persona. El módulo **[sys](https://docs.python.org/3/library/sys.html)** consulta al sistema operativo y devuelve ese valor con **sys.maxsize**"
   ]
  },
  {
   "cell_type": "markdown",
   "id": "6e21be9a-37e1-4bd3-ad0a-d8d1324cd4b3",
   "metadata": {},
   "source": [
    "<center>\n",
    "<img src=\"imagenes/portada_video.png\" alt=\"nos vemos el martes\" style=\"width:1050px;\"/>\n",
    "</center>"
   ]
  },
  {
   "cell_type": "code",
   "execution_count": null,
   "id": "1cb43342-350d-4624-8c7b-22a3215e7299",
   "metadata": {},
   "outputs": [],
   "source": []
  }
 ],
 "metadata": {
  "kernelspec": {
   "display_name": "Python 3 (ipykernel)",
   "language": "python",
   "name": "python3"
  },
  "language_info": {
   "codemirror_mode": {
    "name": "ipython",
    "version": 3
   },
   "file_extension": ".py",
   "mimetype": "text/x-python",
   "name": "python",
   "nbconvert_exporter": "python",
   "pygments_lexer": "ipython3",
   "version": "3.10.12"
  }
 },
 "nbformat": 4,
 "nbformat_minor": 5
}
