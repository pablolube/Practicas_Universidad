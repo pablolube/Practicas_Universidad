{
 "cells": [
  {
   "cell_type": "code",
   "execution_count": 1,
   "id": "f54c2890-cb9e-4ae5-9d27-6bb9ae1665dc",
   "metadata": {},
   "outputs": [],
   "source": [
    "import json\n",
    "from pathlib import   Path\n",
    "file_route = Path('archivos/Clase06').resolve()\n"
   ]
  },
  {
   "cell_type": "markdown",
   "id": "38fd5cd1-58a8-4ac4-9669-c0b9314f78b8",
   "metadata": {},
   "source": [
    "# Lenguaje Python\n",
    "## Cursada 2025\n",
    "### 🎒 Clase 6. Ejemplos de uso de excepciones "
   ]
  },
  {
   "cell_type": "markdown",
   "id": "ededcb93-63d7-4fe1-81a6-1a367707a25a",
   "metadata": {},
   "source": [
    "En este documento subimos algunos ejemplos con excepcoines con posibles errores:\n",
    "* Al crear archivos\n",
    "* Al crear un directorio"
   ]
  },
  {
   "cell_type": "markdown",
   "id": "71d11606-c6a0-4cca-921c-e0d77ec89ec8",
   "metadata": {},
   "source": [
    "## Decisciones ante una excepción\n",
    "* **Ignorar**: Si no hacemos nada, el programa se **detiene**. Podemos hacer esto de dos maneras: no usar una declaración **try** en primer lugar, o no tener una cláusula **except** correspondiente en la declaración try.\n",
    "\n",
    "* **Registrar**: Podemos escribir un mensaje y dejar que se propague; generalmente esto detendrá el programa.\n",
    "* **Recuperar**: Podemos escribir una cláusula **except** para realizar alguna acción de recuperación que deshaga los efectos de algo que se completó solo parcialmente en la cláusula **try**. Podemos reforzar el control del error y envolver la declaración **try** en una declaración **while** y seguir reintentando hasta que tenga éxito.\n",
    "* **Silenciar**: Si no hacemos nada (es decir, utilizamos **pass**), entonces el procesamiento se reanuda después de la declaración try. Esto silencia la excepción.\n",
    "* **Reescribir**: Podemos lanzar una excepción diferente. La excepción original se convierte en un contexto para la nueva excepción lanzada.\n",
    "* **Encadenar**: Encadenamos una excepción diferente a la excepción original. "
   ]
  },
  {
   "cell_type": "code",
   "execution_count": null,
   "id": "ac314f00-8c28-4159-b754-b12505fc06c6",
   "metadata": {},
   "outputs": [],
   "source": [
    "from pathlib import Path\n",
    "import shutil\n",
    "import os\n",
    "source_path = Path('dir1')\n",
    "target_path = Path('dir2').resolve()\n",
    "print(source_path)\n",
    "for source_file_path in source_path.glob('*.txt'):\n",
    "    #print(source_file_path)\n",
    "    source_file_detail = source_file_path.relative_to(source_path)\n",
    "    #print(source_file_detail)\n",
    "    print(f' target: {target_path}')\n",
    "    target_file_path = target_path / source_file_detail\n",
    "    print(target_file_path)\n",
    "    shutil.copy(source_file_path, target_file_path)"
   ]
  },
  {
   "cell_type": "markdown",
   "id": "ba7ee15a-de18-4cec-a30f-3bbc059505be",
   "metadata": {},
   "source": [
    "realiza las siguientes acciones:\n",
    "\n",
    "* **Path(...)**:  constructor de Path, que es parte de la biblioteca pathlib. Esto crea un objeto Path que representa la ruta especificada.\n",
    "* **source_file_path.relative_to(source_path)** separa del path el nombre del archivo limpio sin la ruta completa, es la parte después de el directorio base\n",
    "* **shutil.copy** acepta objetos Path directamente en versiones recientes de Python. "
   ]
  },
  {
   "cell_type": "markdown",
   "id": "0da2a84f-fee9-4bde-8a14-e72c44d0ea6c",
   "metadata": {},
   "source": [
    "## Controlar posibles errores al copiar"
   ]
  },
  {
   "cell_type": "code",
   "execution_count": null,
   "id": "feabdfc7-ea18-43d7-ad52-cbb07cfb673e",
   "metadata": {},
   "outputs": [],
   "source": [
    "for source_file_path in source_path.glob('*.txt'):\n",
    "    source_file_detail = source_file_path.relative_to(source_path)\n",
    "    target_file_path = target_path / source_file_detail\n",
    "    try:\n",
    "        shutil.copy(source_file_path, target_file_path)\n",
    "    except FileNotFoundError:\n",
    "        print(f'se crea el directorio {target_file_path.parent}')\n",
    "        target_file_path.parent.mkdir(parents=True, exist_ok=True)\n",
    "        shutil.copy( source_file_path, target_file_path) \n",
    "\n",
    "    "
   ]
  },
  {
   "cell_type": "markdown",
   "id": "dceae99e-1c56-457f-8792-85c41fa9d5b6",
   "metadata": {},
   "source": [
    "Incluir  excepciones más generales:\n",
    "* borrar el directorio dir2 antes de ejecutar para probar las excepciones"
   ]
  },
  {
   "cell_type": "code",
   "execution_count": null,
   "id": "b4ebc3e2-a4c5-4a75-be1f-6b78a8c4008e",
   "metadata": {},
   "outputs": [],
   "source": [
    "for source_file_path in source_path.glob('*.txt'):\n",
    "    \n",
    "    source_file_detail = source_file_path.relative_to(source_path)\n",
    "    target_file_path = target_path / source_file_detail\n",
    "    try:\n",
    "        shutil.copy(source_file_path, target_file_path)\n",
    "    except FileNotFoundError:\n",
    "        print(f'se crea el directorio {target_file_path.parent}')\n",
    "        target_file_path.parent.mkdir(parents=True, exist_ok=True)\n",
    "        shutil.copy( source_file_path, target_file_path) \n",
    "    except OSError as ex:\n",
    "        print(ex)"
   ]
  },
  {
   "cell_type": "markdown",
   "id": "0e375b9a-250f-4498-906e-8399d3f50373",
   "metadata": {},
   "source": [
    "Si al crear el directorio en:\n",
    "```python\n",
    "target_file_path.parent.mkdir(parents=True, exist_ok=True)\n",
    "```\n",
    "levanta otra excepción, esta no sería capturada y el programa termina con error"
   ]
  },
  {
   "cell_type": "markdown",
   "id": "5d9050d0-6f96-420a-9816-81f5d4bbb408",
   "metadata": {},
   "source": [
    "## Manejo de posibles errores en archivos csv\n",
    "* ¿qué pasa con el archivo al dar error dentro del manejador **with**?"
   ]
  },
  {
   "cell_type": "code",
   "execution_count": null,
   "id": "5e13c9c7-0aa9-4e1c-af57-f4ca9d40d8d5",
   "metadata": {},
   "outputs": [],
   "source": [
    "import csv\n",
    "try:\n",
    "    target_path = Path('test.csv')\n",
    "    some_source = ['1', 'not']\n",
    "    with target_path.open('w', newline='') as target_file:\n",
    "        writer = csv.writer(target_file)\n",
    "        writer.writerow(['column', 'headings'])\n",
    "        for data in some_source:\n",
    "            writer.writerow(data)\n",
    "            raise Exception(\"Just Testing\")\n",
    "except Exception as exc:\n",
    "    print(target_file.closed)\n",
    "    print(exc)\n",
    "    print('finished writing', target_path)"
   ]
  }
 ],
 "metadata": {
  "kernelspec": {
   "display_name": "Python 3",
   "language": "python",
   "name": "python3"
  },
  "language_info": {
   "codemirror_mode": {
    "name": "ipython",
    "version": 3
   },
   "file_extension": ".py",
   "mimetype": "text/x-python",
   "name": "python",
   "nbconvert_exporter": "python",
   "pygments_lexer": "ipython3",
   "version": "3.12.1"
  }
 },
 "nbformat": 4,
 "nbformat_minor": 5
}
