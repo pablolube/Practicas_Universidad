{
 "cells": [
  {
   "cell_type": "markdown",
   "id": "handed-string",
   "metadata": {
    "slideshow": {
     "slide_type": "slide"
    }
   },
   "source": [
    "# Lenguaje  Python\n",
    "## Cursada 2025\n",
    "### Más sobre la  POO en Python"
   ]
  },
  {
   "cell_type": "markdown",
   "id": "determined-question",
   "metadata": {
    "slideshow": {
     "slide_type": "slide"
    }
   },
   "source": [
    "# Repasemos algunos conceptos \n",
    "\n",
    "[Repaso General](Autoevaluaciones/Clase08_REPASO%20general.ipynb)"
   ]
  },
  {
   "cell_type": "markdown",
   "id": "communist-rwanda",
   "metadata": {
    "slideshow": {
     "slide_type": "slide"
    }
   },
   "source": [
    "# Conceptos claves: objetos  y clases\n",
    "\n",
    "- La  <span style=\"color:#cd7815\">**clase**</span> define las variables de instancia  y los métodos.Permite agrupasr objetos con características similares.\n",
    "\n",
    "- Los <span style=\"color:#cd7815\">**objetos**</span> son instancias de una clase.\n",
    "\n",
    "- Cuando se crea un objeto, se ejecuta automáticamente el método <span style=\"color:#cd7815\">**\\_\\_init()\\_\\_**</span> que permite <span style=\"color:#cd7815\">inicializar </span>el objeto.\n",
    "\n",
    "- La definición de la clase especifica qué partes son públicas y **cuáles vamos a considerar no públicas**.\n",
    "\n"
   ]
  },
  {
   "cell_type": "markdown",
   "id": "d3ee202b",
   "metadata": {
    "slideshow": {
     "slide_type": "fragment"
    }
   },
   "source": [
    "¿Cómo se especifica <span style=\"color:#cd7815\">privado o público</span> en Python?"
   ]
  },
  {
   "cell_type": "markdown",
   "id": "several-chemical",
   "metadata": {
    "slideshow": {
     "slide_type": "subslide"
    }
   },
   "source": [
    "\n",
    "# Mensajes y métodos\n",
    "\n",
    "TODO el procesamiento en este modelo es activado por mensajes entre objetos.\n",
    "\n",
    "- El <span style=\"color:#cd7815\">**mensaje**</span> es el modo de comunicación entre los objetos. Cuando se invoca una función de un objeto, lo que se está haciendo es **enviando un mensaje** a dicho objeto.\n",
    "- El <span style=\"color:#cd7815\">**método**</span> es la función que está asociada a un objeto determinado y cuya ejecución sólo puede desencadenarse a través del envío de un mensaje recibido.\n"
   ]
  },
  {
   "cell_type": "markdown",
   "id": "320b3295",
   "metadata": {
    "slideshow": {
     "slide_type": "slide"
    }
   },
   "source": [
    "# ¿@property?\n",
    "\n",
    "> <span style=\"color:#cd7815\">@property permite crear **propiedades** de una clase.</span>\n",
    "\n",
    "- Se aplica la función **property()** cuya forma general es: \n",
    "\n",
    "\n",
    "```python\n",
    "\tproperty(fget=None, fset=None, fdel=None, doc=None)\n",
    "```"
   ]
  },
  {
   "cell_type": "markdown",
   "id": "dc4a9cf1",
   "metadata": {
    "slideshow": {
     "slide_type": "fragment"
    }
   },
   "source": [
    "¿En qué casos podemos usar propiedades?"
   ]
  },
  {
   "cell_type": "markdown",
   "id": "ff9aed69",
   "metadata": {
    "slideshow": {
     "slide_type": "subslide"
    }
   },
   "source": [
    "# Ejemplo"
   ]
  },
  {
   "cell_type": "code",
   "execution_count": 103,
   "id": "21325f2e",
   "metadata": {
    "slideshow": {
     "slide_type": "fragment"
    }
   },
   "outputs": [],
   "source": [
    "class Demo:\n",
    "    def __init__(self):\n",
    "        self._x = 0\n",
    "\n",
    "    def get_x(self):\n",
    "        print('Estoy en get')\n",
    "        return self._x\n",
    "\n",
    "    def set_x(self, value):\n",
    "        print('Estoy en set')\n",
    "        self._x = value\n",
    "    \n",
    "    x = property(get_x, set_x)"
   ]
  },
  {
   "cell_type": "code",
   "execution_count": 104,
   "id": "fdac0c58",
   "metadata": {
    "slideshow": {
     "slide_type": "fragment"
    }
   },
   "outputs": [
    {
     "name": "stdout",
     "output_type": "stream",
     "text": [
      "Estoy en get\n",
      "0\n"
     ]
    }
   ],
   "source": [
    "obj = Demo()\n",
    "print(obj.x)"
   ]
  },
  {
   "cell_type": "markdown",
   "id": "b2f4fa4b",
   "metadata": {
    "slideshow": {
     "slide_type": "subslide"
    }
   },
   "source": [
    "# O en su forma equivalente ... "
   ]
  },
  {
   "cell_type": "code",
   "execution_count": 106,
   "id": "a52e0c3b",
   "metadata": {
    "slideshow": {
     "slide_type": "fragment"
    }
   },
   "outputs": [],
   "source": [
    "class Demo:\n",
    "    def __init__(self):\n",
    "        self._x = 0\n",
    "    @property\n",
    "    def x(self):\n",
    "        print('Estoy en get')\n",
    "        return self._x\n",
    "\n",
    "    @x.setter\n",
    "    def x(self, value):\n",
    "        print('Estoy en set')\n",
    "        self._x = value"
   ]
  },
  {
   "cell_type": "code",
   "execution_count": 107,
   "id": "2ba4c4b9",
   "metadata": {
    "slideshow": {
     "slide_type": "fragment"
    }
   },
   "outputs": [
    {
     "name": "stdout",
     "output_type": "stream",
     "text": [
      "Estoy en get\n",
      "0\n"
     ]
    }
   ],
   "source": [
    "obj = Demo()\n",
    "print(obj.x)"
   ]
  },
  {
   "cell_type": "markdown",
   "id": "27d7027b",
   "metadata": {
    "slideshow": {
     "slide_type": "fragment"
    }
   },
   "source": [
    "- @property es un <span style=\"color:#cd7815\">**decorador**</span>."
   ]
  },
  {
   "cell_type": "markdown",
   "id": "61f2dc20",
   "metadata": {
    "slideshow": {
     "slide_type": "subslide"
    }
   },
   "source": [
    "# ¿Qué es un decorador?\n",
    "\n",
    "> <span style=\"color:#cd7815\">Un **decorador es una función** que recibe una función como argumento y **extiende** el comportamiento de esta última función sin modificarla explícitamente.</span>"
   ]
  },
  {
   "cell_type": "markdown",
   "id": "408dfbf7",
   "metadata": {
    "slideshow": {
     "slide_type": "slide"
    }
   },
   "source": [
    "# Hay otros decoradores"
   ]
  },
  {
   "cell_type": "markdown",
   "id": "0b97b658",
   "metadata": {
    "slideshow": {
     "slide_type": "subslide"
    }
   },
   "source": [
    "# Métodos de clase\n",
    "¿A qué creen que hacen referencia?"
   ]
  },
  {
   "cell_type": "markdown",
   "id": "623c6f97",
   "metadata": {
    "slideshow": {
     "slide_type": "fragment"
    }
   },
   "source": [
    "> <span style=\"color:#cd7815\">Corresponden a los mensajes que se envían a la **clase**, no a las instancias de la misma.</span>"
   ]
  },
  {
   "cell_type": "markdown",
   "id": "0e67af46",
   "metadata": {
    "slideshow": {
     "slide_type": "fragment"
    }
   },
   "source": [
    "- Se utiliza el<span style=\"color:#cd7815\"> decorador **@classmethod**</span>.\n",
    "- Se usa **cls** en vez de **self**. ¿A qué hace referencia este argumento? "
   ]
  },
  {
   "cell_type": "code",
   "execution_count": null,
   "id": "68ba7801",
   "metadata": {
    "slideshow": {
     "slide_type": "subslide"
    }
   },
   "outputs": [],
   "source": [
    "class Band():\n",
    "    \"\"\" Define la entidad que representa a una banda   ..   \"\"\"\n",
    "    all_genres = set()\n",
    "    \n",
    "    @classmethod\n",
    "    def clean_genres(cls, confirm=False):\n",
    "        if confirm:\n",
    "            cls.all_genres = set()\n",
    "            \n",
    "    def __init__(self, name, genres=\"rock\"):\n",
    "        self.name = name\n",
    "        self.genres = genres\n",
    "        self._members = []\n",
    "        Band.all_genres.add(genres)\n",
    "  \n",
    "    def add_member(self, new_member):\n",
    "        self._members.append(new_member)"
   ]
  },
  {
   "cell_type": "code",
   "execution_count": null,
   "id": "6e3a77cd",
   "metadata": {
    "slideshow": {
     "slide_type": "fragment"
    }
   },
   "outputs": [],
   "source": [
    "soda = Band(\"Soda Stereo\")\n",
    "nompa = Band(\"Nonpalidece\", genres=\"reggae\")"
   ]
  },
  {
   "cell_type": "code",
   "execution_count": null,
   "id": "39443282",
   "metadata": {
    "slideshow": {
     "slide_type": "fragment"
    }
   },
   "outputs": [],
   "source": [
    "Band.all_genres"
   ]
  },
  {
   "cell_type": "code",
   "execution_count": null,
   "id": "9fc6e052",
   "metadata": {
    "slideshow": {
     "slide_type": "fragment"
    }
   },
   "outputs": [],
   "source": [
    "Band.clean_genres(True)"
   ]
  },
  {
   "cell_type": "markdown",
   "id": "c3f7b2c0",
   "metadata": {
    "slideshow": {
     "slide_type": "subslide"
    }
   },
   "source": [
    "# Hablemos de herencia\n",
    "\n",
    "- Es uno de los conceptos más importantes de la POO.\n",
    "- La herencia permite que una clase pueda *heredar* los atributos y métodos de otra clase, que se **agregan** a los propios. \n",
    "- Este concepto permite sumar, es decir <span style=\"color:#cd7815\">**extender** </span>una clase.\n",
    "- La clase que hereda se denomina **clase derivada** y la clase de la cual se deriva se denomina **clase base**.\n"
   ]
  },
  {
   "cell_type": "markdown",
   "id": "da601e1d",
   "metadata": {
    "slideshow": {
     "slide_type": "subslide"
    }
   },
   "source": [
    "# Observemos estas clases"
   ]
  },
  {
   "cell_type": "code",
   "execution_count": 108,
   "id": "438b004c",
   "metadata": {
    "slideshow": {
     "slide_type": "fragment"
    }
   },
   "outputs": [],
   "source": [
    "class Vehículo:\n",
    "    def __init__(self, cantidad_puertas, cantidad_ruedas, motor='Diesel'):\n",
    "        self.cant_puertas = cantidad_puertas\n",
    "        self.cant_ruedas = cantidad_ruedas\n",
    "        self.motor = motor\n",
    "        \n",
    "    def __str__(self):\n",
    "        return (f'Motor: {self.motor}, cantidad puertas: {self.cant_puertas}, cantidad ruedas: {self.cant_ruedas}')"
   ]
  },
  {
   "cell_type": "code",
   "execution_count": 109,
   "id": "08658fb5",
   "metadata": {
    "slideshow": {
     "slide_type": "fragment"
    }
   },
   "outputs": [],
   "source": [
    "class Automóvil(Vehículo):\n",
    "    def __init__(self, marca, modelo, patente, puertas, ruedas, motor):\n",
    "        Vehículo.__init__(self, puertas, ruedas, motor)\n",
    "        self.marca = marca\n",
    "        self.modelo = modelo\n",
    "        self._patente = patente\n",
    "               \n",
    "    @property\n",
    "    def patente(self):\n",
    "        return self._patente\n",
    "    \n",
    "    @patente.setter\n",
    "    def patente(self, nueva_patente):\n",
    "        self._patente = nueva_patente     \n",
    "  "
   ]
  },
  {
   "cell_type": "markdown",
   "id": "1d47bb14",
   "metadata": {
    "slideshow": {
     "slide_type": "subslide"
    }
   },
   "source": [
    "- ¿Cuál es la clase base? ¿Y la clase derivada? ¿Cuáles son las variables de instancia de un objeto Automóvil?\n",
    "- ¿Por qué invocamos a **Vehículo\\_\\_init\\_\\_()**? ¿Qué pasa si no hacemos esto?"
   ]
  },
  {
   "cell_type": "code",
   "execution_count": 110,
   "id": "f75a9e36",
   "metadata": {
    "slideshow": {
     "slide_type": "fragment"
    }
   },
   "outputs": [
    {
     "name": "stdout",
     "output_type": "stream",
     "text": [
      "Motor: Nafta, cantidad puertas: 5, cantidad ruedas: 4\n"
     ]
    }
   ],
   "source": [
    "auto_nuevo = Automóvil('FIAT', \"Cronos\", 'AA588ZM', 5, 4, 'Nafta')\n",
    "print(auto_nuevo)"
   ]
  },
  {
   "cell_type": "markdown",
   "id": "b9266329",
   "metadata": {
    "slideshow": {
     "slide_type": "subslide"
    }
   },
   "source": [
    "# Si trabajamos con vehículos, también podemos definir ..."
   ]
  },
  {
   "cell_type": "code",
   "execution_count": 111,
   "id": "64386530",
   "metadata": {},
   "outputs": [],
   "source": [
    "class Transporte():\n",
    "    def __init__(self, max_pasajeros, tipo='Público'):\n",
    "        self.tipo = tipo\n",
    "        self.cant_max_pasajero = max_pasajeros\n",
    "        \n",
    "    def __str__(self):\n",
    "        return (f'Tipo de transporte: {self.tipo}')"
   ]
  },
  {
   "cell_type": "markdown",
   "id": "0bae996a",
   "metadata": {
    "slideshow": {
     "slide_type": "subslide"
    }
   },
   "source": [
    "# Un Auto es un vehículo,  pero también es un medio de transporte ...\n",
    "Podríamos pensar en algo así:"
   ]
  },
  {
   "cell_type": "markdown",
   "id": "27d0832b",
   "metadata": {
    "slideshow": {
     "slide_type": "fragment"
    }
   },
   "source": [
    "\n",
    "<center>\n",
    "<img src=\"imagenes/herencia_auto.png\" alt=\"Herencia\" style=\"width:650px;\"/></center>\n",
    "\n",
    "Aunque en Python podemos hacer algo mejor ..."
   ]
  },
  {
   "cell_type": "markdown",
   "id": "expected-ballet",
   "metadata": {
    "slideshow": {
     "slide_type": "subslide"
    }
   },
   "source": [
    "# Python tiene herencia múltiple"
   ]
  },
  {
   "cell_type": "markdown",
   "id": "c9736fc6",
   "metadata": {
    "slideshow": {
     "slide_type": "fragment"
    }
   },
   "source": [
    "\n",
    "<center>\n",
    "<img src=\"imagenes/herencia_auto_multiple.png\" alt=\"Herencia\" style=\"width:450px;\"/></center>\n",
    "\n",
    "-  Un automóvil es **\"es un\"** vehículo, pero también **es un** transporte."
   ]
  },
  {
   "cell_type": "markdown",
   "id": "c4538862",
   "metadata": {
    "slideshow": {
     "slide_type": "subslide"
    }
   },
   "source": [
    "# En Python ..."
   ]
  },
  {
   "cell_type": "code",
   "execution_count": 112,
   "id": "36ba5a92",
   "metadata": {
    "slideshow": {
     "slide_type": "fragment"
    }
   },
   "outputs": [],
   "source": [
    "class Automóvil(Vehículo, Transporte):\n",
    "    def __init__(self, marca, modelo, patente, tipo='Particular', pasajeros=0, puertas=4, ruedas=4, motor=None):\n",
    "        Vehículo.__init__(self, puertas, ruedas, motor)\n",
    "        Transporte.__init__(self, pasajeros, tipo)\n",
    "        self.marca = marca\n",
    "        self.modelo = modelo\n",
    "        self._patente = patente\n",
    "\n",
    "    @property\n",
    "    def patente(self):\n",
    "        return self._patente\n",
    "\n",
    "    @patente.setter\n",
    "    def patente(self, nueva_patente):\n",
    "        self._patente = nueva_patente\n",
    "\n",
    "#    def __str__(self):\n",
    "#        return (f'Motor {self.motor}, cantidad puertas: {self.cant_puertas}, cantidad ruedas: {self.cant_ruedas}')\n"
   ]
  },
  {
   "cell_type": "code",
   "execution_count": 113,
   "id": "e8500fc3",
   "metadata": {},
   "outputs": [
    {
     "name": "stdout",
     "output_type": "stream",
     "text": [
      "Motor: Nafta, cantidad puertas: 4, cantidad ruedas: 4\n"
     ]
    }
   ],
   "source": [
    "auto_nuevo = Automóvil('FIAT', \"Cronos\", 'AA588ZM', 'Particular', puertas=4, motor='Nafta')\n",
    "print(auto_nuevo)"
   ]
  },
  {
   "cell_type": "markdown",
   "id": "307b354f",
   "metadata": {
    "slideshow": {
     "slide_type": "subslide"
    }
   },
   "source": [
    "# A tener en cuenta ...\n",
    "\n",
    "- MRO \"Method Resolution Order\"\n",
    "- Por lo tanto, es MUY importante <span style=\"color:#cd7815\">el orden en que se especifican las clases bases</span>.\n",
    "- Más información en [documentación oficial](https://docs.python.org/3/tutorial/classes.html)\n"
   ]
  },
  {
   "cell_type": "code",
   "execution_count": 114,
   "id": "b2dd4252",
   "metadata": {
    "slideshow": {
     "slide_type": "fragment"
    }
   },
   "outputs": [
    {
     "data": {
      "text/plain": [
       "(__main__.Automóvil, __main__.Vehículo, __main__.Transporte, object)"
      ]
     },
     "execution_count": 114,
     "metadata": {},
     "output_type": "execute_result"
    }
   ],
   "source": [
    "Automóvil.__mro__"
   ]
  },
  {
   "cell_type": "code",
   "execution_count": 115,
   "id": "a910ec90",
   "metadata": {
    "slideshow": {
     "slide_type": "subslide"
    }
   },
   "outputs": [],
   "source": [
    "class Automóvil(Transporte, Vehículo):\n",
    "    def __init__(self, marca, modelo, patente, tipo='Particular', pasajeros=0, puertas=4, ruedas=4, motor=None):\n",
    "        Vehiculo.__init__(self, puertas, ruedas, motor)\n",
    "        Transporte.__init__(self, pasajeros, tipo)\n",
    "        self.marca = marca\n",
    "        self.modelo = modelo\n",
    "        self._patente = patente\n",
    "\n",
    "    @property\n",
    "    def patente(self):\n",
    "        return self._patente\n",
    "\n",
    "    @patente.setter\n",
    "    def patente(self, nueva_patente):\n",
    "        self._patente = nueva_patente"
   ]
  },
  {
   "cell_type": "code",
   "execution_count": 116,
   "id": "63104a77",
   "metadata": {
    "slideshow": {
     "slide_type": "fragment"
    }
   },
   "outputs": [
    {
     "data": {
      "text/plain": [
       "(__main__.Automóvil, __main__.Transporte, __main__.Vehículo, object)"
      ]
     },
     "execution_count": 116,
     "metadata": {},
     "output_type": "execute_result"
    }
   ],
   "source": [
    "Automóvil.__mro__"
   ]
  },
  {
   "cell_type": "markdown",
   "id": "c8b7a5d5",
   "metadata": {
    "slideshow": {
     "slide_type": "subslide"
    }
   },
   "source": [
    "# DEASAFíO 1\n",
    "\n",
    "> ¿Cuál es el MRO de D?"
   ]
  },
  {
   "cell_type": "code",
   "execution_count": 120,
   "id": "f72f7edd",
   "metadata": {
    "slideshow": {
     "slide_type": "fragment"
    }
   },
   "outputs": [],
   "source": [
    "class A():\n",
    "    pass\n",
    "class B(A):\n",
    "    pass\n",
    "class C(A):\n",
    "    pass\n",
    "class D(B, C):\n",
    "    pass"
   ]
  },
  {
   "cell_type": "code",
   "execution_count": 121,
   "id": "ba8f4c5d",
   "metadata": {
    "slideshow": {
     "slide_type": "fragment"
    }
   },
   "outputs": [
    {
     "data": {
      "text/plain": [
       "(__main__.D, __main__.B, __main__.C, __main__.A, object)"
      ]
     },
     "execution_count": 121,
     "metadata": {},
     "output_type": "execute_result"
    }
   ],
   "source": [
    "D.__mro__"
   ]
  },
  {
   "cell_type": "markdown",
   "id": "436f39c8",
   "metadata": {
    "slideshow": {
     "slide_type": "subslide"
    }
   },
   "source": [
    "# Hagamos el siguiente  cambio"
   ]
  },
  {
   "cell_type": "code",
   "execution_count": null,
   "id": "33116926",
   "metadata": {
    "slideshow": {
     "slide_type": "fragment"
    }
   },
   "outputs": [],
   "source": [
    "class Vehículo:\n",
    "    def __init__(self, cantidad_puertas, cantidad_ruedas, motor='Diesel'):\n",
    "        self.cant_puertas = cantidad_puertas\n",
    "        self.cant_ruedas = cantidad_ruedas\n",
    "        self.motor = motor\n",
    "        self.tipo = 'Sedan'\n"
   ]
  },
  {
   "cell_type": "code",
   "execution_count": null,
   "id": "048b919e",
   "metadata": {
    "slideshow": {
     "slide_type": "fragment"
    }
   },
   "outputs": [],
   "source": [
    "class Transporte():\n",
    "    def __init__(self, max_pasajeros, tipo='Público'):\n",
    "        self.tipo = tipo\n",
    "        self.cant_max_pasajero = max_pasajeros\n",
    "        \n",
    "    def __str__(self):\n",
    "        return (f'Tipo de transporte: {self.tipo}')"
   ]
  },
  {
   "cell_type": "markdown",
   "id": "1716fa1d",
   "metadata": {
    "slideshow": {
     "slide_type": "fragment"
    }
   },
   "source": [
    "¿Cuál es el problema?"
   ]
  },
  {
   "cell_type": "code",
   "execution_count": null,
   "id": "9fd3a17f",
   "metadata": {
    "slideshow": {
     "slide_type": "subslide"
    }
   },
   "outputs": [],
   "source": [
    "class Automóvil(Transporte, Vehículo):\n",
    "    def __init__(self, marca, modelo, patente, tipo='Particular', pasajeros=0, puertas=4, ruedas=4, motor=None):\n",
    "        Transporte.__init__(self, pasajeros, tipo)\n",
    "        Vehículo.__init__(self, puertas, ruedas, motor)\n",
    "        self.marca = marca\n",
    "        self.modelo = modelo\n",
    "        self._patente = patente\n",
    "    def __str__(self):\n",
    "        return (f'El {self.marca} {self.modelo} es un {self.tipo} de {self.cant_puertas} puertas')\n"
   ]
  },
  {
   "cell_type": "code",
   "execution_count": null,
   "id": "fb33faa5",
   "metadata": {
    "slideshow": {
     "slide_type": "fragment"
    }
   },
   "outputs": [],
   "source": [
    "auto_nuevo = Automóvil('FIAT', \"Cronos\", 'AA588ZM', 'Particular', puertas=4, motor='Nafta')\n",
    "print(auto_nuevo)"
   ]
  },
  {
   "cell_type": "markdown",
   "id": "50e521f8",
   "metadata": {
    "slideshow": {
     "slide_type": "subslide"
    }
   },
   "source": [
    "## ¿Qué  tenemos que tener en cuenta?"
   ]
  },
  {
   "cell_type": "markdown",
   "id": "fdce7b3e",
   "metadata": {
    "slideshow": {
     "slide_type": "fragment"
    }
   },
   "source": [
    "- El orden de las clases bases en la definición de la clase.\n",
    "- El orden de la invocación de los \\_\\_init\\_\\_."
   ]
  },
  {
   "cell_type": "markdown",
   "id": "supposed-spoke",
   "metadata": {
    "slideshow": {
     "slide_type": "slide"
    }
   },
   "source": [
    "# ¿Qué términos asociamos con la programación orientada a objetos?\n",
    "    "
   ]
  },
  {
   "cell_type": "markdown",
   "id": "incoming-closure",
   "metadata": {
    "slideshow": {
     "slide_type": "subslide"
    }
   },
   "source": [
    "# Destacados ...\n",
    "\n",
    "- Encapsulamiento\n",
    "    - **class**, métodos privados y públicos, propiedades.\n",
    "\n",
    "- Herencia\n",
    "\t* Clases bases y derivadas.\n",
    "\t* Herencia múltiple.\n",
    "\n",
    "- **¿Alguno más?**"
   ]
  },
  {
   "cell_type": "markdown",
   "id": "stainless-tattoo",
   "metadata": {
    "slideshow": {
     "slide_type": "slide"
    }
   },
   "source": [
    "# Polimorfismo\n",
    "\n",
    "- Capacidad de los objetos de distintas clases de responder a mensajes con el mismo nombre.\n",
    "- Ejemplo: + entre enteros y cadenas."
   ]
  },
  {
   "cell_type": "code",
   "execution_count": null,
   "id": "victorian-african",
   "metadata": {
    "slideshow": {
     "slide_type": "fragment"
    }
   },
   "outputs": [],
   "source": [
    "print(\"hola \" + \"que tal.\")\n",
    "print(3 + 4)"
   ]
  },
  {
   "cell_type": "markdown",
   "id": "7fab470b",
   "metadata": {
    "slideshow": {
     "slide_type": "subslide"
    }
   },
   "source": [
    "# Observemos este código"
   ]
  },
  {
   "cell_type": "code",
   "execution_count": null,
   "id": "c0f32adb",
   "metadata": {},
   "outputs": [],
   "source": [
    "class Musician:\n",
    "    def __init__(self, name, instrument=None, band=None):\n",
    "        self.name = name\n",
    "        self.has_a_band = band!=None\n",
    "        self._band = band\n",
    "        self.instrument = instrument \n",
    "    \n",
    "    @property\n",
    "    def band(self):\n",
    "        if self.has_a_band:\n",
    "            return self._band\n",
    "        else:\n",
    "            return None\n",
    "        \n",
    "    @band.setter\n",
    "    def band(self, new_band):\n",
    "        self._band = new_band\n",
    "        self.has_a_band = self._band!=None"
   ]
  },
  {
   "cell_type": "markdown",
   "id": "earlier-stupid",
   "metadata": {
    "slideshow": {
     "slide_type": "subslide"
    }
   },
   "source": [
    "# ¿Podemos sumar dos músicos?"
   ]
  },
  {
   "cell_type": "code",
   "execution_count": null,
   "id": "45ad18e3",
   "metadata": {
    "slideshow": {
     "slide_type": "fragment"
    }
   },
   "outputs": [],
   "source": [
    "adele = Musician(\"Adele\")\n",
    "sting = Musician(\"Sting\", \"The Police\")\n",
    "\n",
    "print(adele + sting)"
   ]
  },
  {
   "cell_type": "markdown",
   "id": "2ebda566",
   "metadata": {
    "slideshow": {
     "slide_type": "subslide"
    }
   },
   "source": [
    "# No podemos sumar dos músicos, salvo que ..."
   ]
  },
  {
   "cell_type": "code",
   "execution_count": null,
   "id": "318f5d05",
   "metadata": {
    "slideshow": {
     "slide_type": "fragment"
    }
   },
   "outputs": [],
   "source": [
    "class Musician:\n",
    "    def __init__(self, name, instrument=None, band=None):\n",
    "        self.name = name\n",
    "        self.has_a_band = band!=None\n",
    "        self._band = band\n",
    "        self.instrument = instrument\n",
    "        \n",
    "    def __add__(self, other):\n",
    "        return (f\"Nuevo dúo: {self.name} y {other.name}\")    \n",
    "    \n",
    "    @property\n",
    "    def band(self):\n",
    "        if self.has_a_band:\n",
    "            return self._band\n",
    "        else:\n",
    "            return None\n",
    "        \n",
    "    @band.setter\n",
    "    def band(self, new_band):\n",
    "        self._band = new_band\n",
    "        self.has_a_band= self._band!=None"
   ]
  },
  {
   "cell_type": "code",
   "execution_count": null,
   "id": "f4f7c2f0",
   "metadata": {
    "slideshow": {
     "slide_type": "subslide"
    }
   },
   "outputs": [],
   "source": [
    "adele = Musician(\"Adele\")\n",
    "sting = Musician(\"Sting\", \"The Police\")\n",
    "\n",
    "print(adele + sting)"
   ]
  },
  {
   "cell_type": "markdown",
   "id": "e20f0552",
   "metadata": {
    "slideshow": {
     "slide_type": "subslide"
    }
   },
   "source": [
    "# Creamos iteradores"
   ]
  },
  {
   "cell_type": "markdown",
   "id": "83552911",
   "metadata": {
    "slideshow": {
     "slide_type": "fragment"
    }
   },
   "source": [
    "> <span style=\"color:#cd7815\">Un **iterador** es un objeto que permite recorrer **uno a uno** los elementos de una estructura de datos para poder operar con ellos.</span>"
   ]
  },
  {
   "cell_type": "markdown",
   "id": "57491bc5",
   "metadata": {
    "slideshow": {
     "slide_type": "fragment"
    }
   },
   "source": [
    "- Un objeto iterable tiene que implementar un <span style=\"color:#cd7815\">método **\\_\\_next\\_\\_**</span> que debe devolver los elementos, **de a uno por vez**, comenzando por el primero. \n",
    "- Y al llegar al final de la estructura, debe levantar la <span style=\"color:#cd7815\">excepción **StopIteration**</span>."
   ]
  },
  {
   "cell_type": "markdown",
   "id": "0ef7cf7c",
   "metadata": {
    "slideshow": {
     "slide_type": "fragment"
    }
   },
   "source": [
    "- Todas implementan un método especial denominado <span style=\"color:#cd7815\">**\\_\\_iter\\_\\_**</span>. \n",
    "    -  **\\_\\_iter\\_\\_** devuelve un iterador capaz de recorrer la secuencia."
   ]
  },
  {
   "cell_type": "markdown",
   "id": "690da221",
   "metadata": {
    "slideshow": {
     "slide_type": "subslide"
    }
   },
   "source": [
    "# Los siguientes códigos son equivalentes:"
   ]
  },
  {
   "cell_type": "code",
   "execution_count": null,
   "id": "54708716",
   "metadata": {
    "slideshow": {
     "slide_type": "fragment"
    }
   },
   "outputs": [],
   "source": [
    "lista = ['uno', 'dos', 'tres']\n",
    "for palabra in lista:\n",
    "    print(palabra)"
   ]
  },
  {
   "cell_type": "code",
   "execution_count": null,
   "id": "c0c97384",
   "metadata": {
    "slideshow": {
     "slide_type": "fragment"
    }
   },
   "outputs": [],
   "source": [
    "iterador = iter(lista)\n",
    "while True:\n",
    "    try:\n",
    "        palabra = next(iterador) # o iterador.__next__()\n",
    "    except StopIteration:\n",
    "        break\n",
    "    print(palabra)"
   ]
  },
  {
   "cell_type": "markdown",
   "id": "63cd35e5",
   "metadata": {
    "slideshow": {
     "slide_type": "fragment"
    }
   },
   "source": [
    "- La función <span style=\"color:#cd7815\">**iter**</span> retorna un objeto iterador."
   ]
  },
  {
   "cell_type": "markdown",
   "id": "f698bacf",
   "metadata": {
    "slideshow": {
     "slide_type": "subslide"
    }
   },
   "source": [
    "¿Son equivalentes?"
   ]
  },
  {
   "cell_type": "code",
   "execution_count": null,
   "id": "36a804fa",
   "metadata": {
    "slideshow": {
     "slide_type": "fragment"
    }
   },
   "outputs": [],
   "source": [
    "for elem in lista:\n",
    "    print (elem)"
   ]
  },
  {
   "cell_type": "code",
   "execution_count": null,
   "id": "3c99cf22",
   "metadata": {
    "slideshow": {
     "slide_type": "fragment"
    }
   },
   "outputs": [],
   "source": [
    "for elem in iterador:\n",
    "    print (elem)"
   ]
  },
  {
   "cell_type": "markdown",
   "id": "390261b0",
   "metadata": {
    "slideshow": {
     "slide_type": "slide"
    }
   },
   "source": [
    "# Veamos este ejemplo: "
   ]
  },
  {
   "cell_type": "code",
   "execution_count": null,
   "id": "d2ceb867",
   "metadata": {
    "slideshow": {
     "slide_type": "fragment"
    }
   },
   "outputs": [],
   "source": [
    "class CadenaInvertida:\n",
    "    def __init__(self, cadena):\n",
    "        self._cadena = cadena\n",
    "        self._posicion = len(cadena)\n",
    "\n",
    "    def __iter__(self):\n",
    "        return(self) \n",
    "\n",
    "    def __next__(self):\n",
    "        if self._posicion == 0:\n",
    "            raise(StopIteration)\n",
    "        self._posicion = self._posicion - 1\n",
    "        return(self._cadena[self._posicion])"
   ]
  },
  {
   "cell_type": "code",
   "execution_count": null,
   "id": "b2851a13",
   "metadata": {
    "slideshow": {
     "slide_type": "fragment"
    }
   },
   "outputs": [],
   "source": [
    "cadena_invertida = CadenaInvertida('La clase próxima empezamos con pandas')\n",
    "\n",
    "for caracter in cadena_invertida:\n",
    "     print(caracter, end=' ')"
   ]
  },
  {
   "cell_type": "markdown",
   "id": "e4b476c4",
   "metadata": {
    "slideshow": {
     "slide_type": "fragment"
    }
   },
   "source": [
    "- ¿Qué creen que imprime?"
   ]
  },
  {
   "cell_type": "markdown",
   "id": "6b0a8482",
   "metadata": {
    "slideshow": {
     "slide_type": "slide"
    }
   },
   "source": [
    "# DESAFIO 2\n",
    "\n",
    "\n",
    ">Implementar la clase  **CadenaCodificada**, que dada una cadena de caracteres, me permita trabajar con la misma en forma codificada, según la codifcación Cesar (vista en las primeras clases).  Podemos recorrer con un **for** un objeto de clase **CadenaCodificada**, los cual permite acceder uno a uno a los caracteres codificados de la misma. \n",
    "\n",
    "**Nota:** implementar este objeto como un objeto iterable. "
   ]
  },
  {
   "cell_type": "code",
   "execution_count": null,
   "id": "fabfef6c",
   "metadata": {
    "slideshow": {
     "slide_type": "subslide"
    }
   },
   "outputs": [],
   "source": [
    "#Una posible solución\n",
    "from functools import reduce\n",
    "\n",
    "class CadenaCodificada:\n",
    "    def __init__(self, cadena):\n",
    "        self._cadena = cadena\n",
    "        self._posicion = 0\n",
    "\n",
    "    def __iter__(self):\n",
    "        return(self) \n",
    "\n",
    "    def __next__(self):\n",
    "        if self._posicion == len(self._cadena):\n",
    "            raise(StopIteration)\n",
    "        car = self._cadena[self._posicion]\n",
    "        self._posicion = self._posicion + 1 \n",
    "        return(chr(ord(car) + 1))\n",
    "    \n",
    "    def __str__(self):\n",
    "        lista = map(lambda c : chr(ord(c) + 1), self._cadena)\n",
    "        return reduce(lambda c1, c2: c1 + c2, lista)"
   ]
  },
  {
   "cell_type": "markdown",
   "id": "ef41db62",
   "metadata": {
    "slideshow": {
     "slide_type": "subslide"
    }
   },
   "source": [
    "## Ejemplo de uso de una CadenaCodificada"
   ]
  },
  {
   "cell_type": "code",
   "execution_count": null,
   "id": "44e4e728",
   "metadata": {
    "slideshow": {
     "slide_type": "fragment"
    }
   },
   "outputs": [],
   "source": [
    "mi_cadena = CadenaCodificada(\"Hola\")\n",
    "\n",
    "for caracter in mi_cadena:\n",
    "     print(caracter, end=\" \")"
   ]
  },
  {
   "cell_type": "code",
   "execution_count": null,
   "id": "78534fe0",
   "metadata": {
    "slideshow": {
     "slide_type": "fragment"
    }
   },
   "outputs": [],
   "source": [
    "print(mi_cadena)"
   ]
  },
  {
   "cell_type": "markdown",
   "id": "105e83b0",
   "metadata": {
    "slideshow": {
     "slide_type": "fragment"
    }
   },
   "source": [
    "## CONSIGNA: agregar un método que permita obtener la cadena original"
   ]
  },
  {
   "cell_type": "markdown",
   "id": "a7e86eb5",
   "metadata": {
    "slideshow": {
     "slide_type": "subslide"
    }
   },
   "source": [
    "# CONSIGNA: probamos en casa\n",
    "\n",
    "¿Qué podemos decir de las variables de instancias cuyo nombre comienza con \\_\\_?"
   ]
  },
  {
   "cell_type": "code",
   "execution_count": null,
   "id": "58f4e640",
   "metadata": {
    "slideshow": {
     "slide_type": "fragment"
    }
   },
   "outputs": [],
   "source": [
    "class A:\n",
    "    def __init__(self, x, y, z):\n",
    "        self.varX = x\n",
    "        self._varY = y\n",
    "        self.__varZ = z\n",
    "\n",
    "    def demo(self):\n",
    "        return f\"ESTOY en A: x: {self.varX} -- y:{self._varY} --- z:{self.__varZ}\"\n",
    "\n",
    "class B(A):\n",
    "    def __init__(self):\n",
    "        A.__init__(self, \"x\", \"y\", \"z\")\n",
    "            \n",
    "    def demo(self):\n",
    "        return f\"ESTOY en B: x: {self.varX} -- y:{self._varY} --- z:{self.__varZ}\""
   ]
  },
  {
   "cell_type": "code",
   "execution_count": null,
   "id": "6c88efc3",
   "metadata": {
    "slideshow": {
     "slide_type": "fragment"
    }
   },
   "outputs": [],
   "source": [
    "objB = B()\n",
    "print(objB.demo())"
   ]
  },
  {
   "cell_type": "markdown",
   "id": "ddd2bf65",
   "metadata": {
    "slideshow": {
     "slide_type": "slide"
    }
   },
   "source": [
    "# Para los que quieran seguir un poco más ...\n",
    "\n",
    "- https://realpython.com/python-classes/\n",
    "- https://realpython.com/inheritance-composition-python/\n",
    "- https://realpython.com/instance-class-and-static-methods-demystified/"
   ]
  },
  {
   "cell_type": "markdown",
   "id": "charming-recycling",
   "metadata": {
    "slideshow": {
     "slide_type": "slide"
    }
   },
   "source": [
    "# Seguimos la próxima ..."
   ]
  }
 ],
 "metadata": {
  "celltoolbar": "Slideshow",
  "kernelspec": {
   "display_name": "Python 3 (ipykernel)",
   "language": "python",
   "name": "python3"
  },
  "language_info": {
   "codemirror_mode": {
    "name": "ipython",
    "version": 3
   },
   "file_extension": ".py",
   "mimetype": "text/x-python",
   "name": "python",
   "nbconvert_exporter": "python",
   "pygments_lexer": "ipython3",
   "version": "3.11.12"
  }
 },
 "nbformat": 4,
 "nbformat_minor": 5
}
