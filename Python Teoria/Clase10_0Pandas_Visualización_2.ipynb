{
 "cells": [
  {
   "cell_type": "markdown",
   "id": "6bc4fa7a-d895-437f-8377-2913478834f0",
   "metadata": {
    "editable": true,
    "slideshow": {
     "slide_type": "slide"
    },
    "tags": []
   },
   "source": [
    "# Lenguaje Python\n",
    "\n",
    "## Cursada 2025\n",
    "### Continuamos con el análisis de datos\n",
    "* pandas\n",
    "* NumPy\n",
    "* Matplotlib\n",
    "* Mostramos todo en Streamlit\n"
   ]
  },
  {
   "cell_type": "markdown",
   "id": "2773a904-fffb-4a52-bcf6-2cbc81a30ab1",
   "metadata": {
    "editable": true,
    "slideshow": {
     "slide_type": "subslide"
    },
    "tags": []
   },
   "source": [
    "## 💢 ¿Qué vimos en la clase anterior?\n",
    "En la clase pasada estuvimos viendo algunos conceptos sobre:\n",
    "* Tipos de datos básicos de pandas:"
   ]
  },
  {
   "cell_type": "markdown",
   "id": "25d78878-1f4b-426e-b075-5d254467a8e2",
   "metadata": {
    "editable": true,
    "slideshow": {
     "slide_type": "fragment"
    },
    "tags": []
   },
   "source": [
    "* Series\n",
    "* Dataframe"
   ]
  },
  {
   "cell_type": "markdown",
   "id": "f969cd50-08d1-4905-b82a-118298acc35b",
   "metadata": {
    "editable": true,
    "slideshow": {
     "slide_type": "subslide"
    },
    "tags": []
   },
   "source": [
    "### Conocer el dataset:\n",
    "* primeras: \n",
    "* últimas: \n",
    "* filas y columnas: \n",
    "* columnas: \n",
    "* información de tipos de datos y cantidad de datos nulos: \n",
    "* cálculos básicos de estadística: \n"
   ]
  },
  {
   "cell_type": "markdown",
   "id": "432df85e-fd7d-4de0-9da3-4493599f9766",
   "metadata": {
    "editable": true,
    "slideshow": {
     "slide_type": "fragment"
    },
    "tags": []
   },
   "source": [
    "* primeras: **head()**\n",
    "* últimas: **tail()**\n",
    "* filas y columnas: **shape**\n",
    "* columnas: **columns**\n",
    "* información de tipos de datos y cantidad de datos nulos: **info()**\n",
    "* cálculos básicos de estadística: **describe()**\n"
   ]
  },
  {
   "cell_type": "markdown",
   "id": "543fc6b1-1ffa-4a46-9069-ef2b368b2e34",
   "metadata": {
    "editable": true,
    "slideshow": {
     "slide_type": "subslide"
    },
    "tags": []
   },
   "source": [
    "### Acceso a los datos: posición numérica y por etiqueta"
   ]
  },
  {
   "cell_type": "markdown",
   "id": "05a3e6f8-9083-4cea-801b-7004718d5355",
   "metadata": {
    "editable": true,
    "slideshow": {
     "slide_type": "fragment"
    },
    "tags": []
   },
   "source": [
    "* posición numérica: **iloc**\n",
    "* identificación por etiqueta: **loc**"
   ]
  },
  {
   "cell_type": "markdown",
   "id": "c258619f-d613-4c58-8d5d-bbe8a3486900",
   "metadata": {
    "editable": true,
    "slideshow": {
     "slide_type": "subslide"
    },
    "tags": []
   },
   "source": [
    "### Manipulación de Datos\n",
    "* Filtrando los datos\n",
    "* Modificación de nombres de columnas"
   ]
  },
  {
   "cell_type": "code",
   "execution_count": null,
   "id": "c1fad440-6d81-49ce-9060-f512afdb22e4",
   "metadata": {
    "editable": true,
    "slideshow": {
     "slide_type": "fragment"
    },
    "tags": []
   },
   "outputs": [],
   "source": [
    "import pandas as pd\n",
    "from pathlib import Path"
   ]
  },
  {
   "cell_type": "code",
   "execution_count": null,
   "id": "a4b7b898-3fad-4850-805a-1b7430b23750",
   "metadata": {
    "editable": true,
    "slideshow": {
     "slide_type": "fragment"
    },
    "tags": []
   },
   "outputs": [],
   "source": [
    "file_route = Path('ejemplos')/'clase09'"
   ]
  },
  {
   "cell_type": "markdown",
   "id": "09e07b31-d4dc-44db-a1f6-f78c20279129",
   "metadata": {
    "editable": true,
    "slideshow": {
     "slide_type": "skip"
    },
    "tags": []
   },
   "source": [
    "¿Qué pasa cuando no puede especificar claramente el tipo de datos?"
   ]
  },
  {
   "cell_type": "markdown",
   "id": "cd1c0ce9-d7a4-49ee-814a-ee39f043be11",
   "metadata": {},
   "source": [
    "* [Archivo utilizado.](https://archivos.linti.unlp.edu.ar/index.php/s/I4MnmWP1xAMNcJU)\n",
    "* [Descargado de la página de Indec.](https://www.indec.gob.ar/indec/web/Institucional-Indec-BasesDeDatos)\n",
    "* Descripción: El programa nacional de producción permanente de indicadores sociales realiza encuestras trimestrales cuyo\n",
    "objetivo es conocer las características socioeconómicas de la población. Corresponde al 3er trimetre del 2024."
   ]
  },
  {
   "cell_type": "code",
   "execution_count": null,
   "id": "65d1aca4-de64-4716-a56a-8c2f82a36023",
   "metadata": {
    "editable": true,
    "slideshow": {
     "slide_type": "skip"
    },
    "tags": []
   },
   "outputs": [],
   "source": [
    "file_ind = 'usu_individual_T324.txt'"
   ]
  },
  {
   "cell_type": "code",
   "execution_count": null,
   "id": "40feafc6-4a35-448b-813f-383138866b75",
   "metadata": {
    "editable": true,
    "slideshow": {
     "slide_type": "skip"
    },
    "tags": []
   },
   "outputs": [],
   "source": [
    "usi_ind = pd.read_csv(file_route/file_ind, delimiter=';')"
   ]
  },
  {
   "cell_type": "markdown",
   "id": "0496a54c-6933-4bf4-a51d-285542e7b515",
   "metadata": {
    "editable": true,
    "slideshow": {
     "slide_type": "skip"
    },
    "tags": []
   },
   "source": [
    "Vemos el contenido de la columna antes de pasar la opción para que verifique mas detenidamente"
   ]
  },
  {
   "cell_type": "code",
   "execution_count": null,
   "id": "95a37e53-09c3-4ddb-a983-ae5b499a3fa3",
   "metadata": {
    "editable": true,
    "slideshow": {
     "slide_type": "skip"
    },
    "tags": []
   },
   "outputs": [],
   "source": [
    "usi_ind.iloc[:, 102]"
   ]
  },
  {
   "cell_type": "code",
   "execution_count": null,
   "id": "35466abf-c376-4916-8e58-a2604e2b47eb",
   "metadata": {
    "editable": true,
    "slideshow": {
     "slide_type": "skip"
    },
    "tags": []
   },
   "outputs": [],
   "source": [
    "nombres_columnas = usi_ind.columns\n",
    "nombre_columna_problematica = nombres_columnas[102]\n",
    "usi_ind[nombre_columna_problematica].isnull().sum()"
   ]
  },
  {
   "cell_type": "markdown",
   "id": "d8b58724-7761-4574-886c-2320a8b931ec",
   "metadata": {
    "editable": true,
    "slideshow": {
     "slide_type": "skip"
    },
    "tags": []
   },
   "source": [
    "* Se ven muchos valores nulos en la columna *'PP09A_ESP'* por lo tanto no pudo detectar el tipo de dato.\n",
    "* Leemos nuevamente pasando la opción 'low_memory=False'."
   ]
  },
  {
   "cell_type": "code",
   "execution_count": null,
   "id": "096bc285-c3af-4007-bfef-6011b307fbb7",
   "metadata": {
    "editable": true,
    "slideshow": {
     "slide_type": "skip"
    },
    "tags": []
   },
   "outputs": [],
   "source": [
    "nusi_ind = pd.read_csv(file_route/file_ind, delimiter=';',  low_memory=False)"
   ]
  },
  {
   "cell_type": "code",
   "execution_count": null,
   "id": "4d6a3d2b-c74a-493f-95d1-cc40e2489148",
   "metadata": {
    "editable": true,
    "slideshow": {
     "slide_type": "skip"
    },
    "tags": []
   },
   "outputs": [],
   "source": [
    "nusi_ind.iloc[:, 102].head(10)\n"
   ]
  },
  {
   "cell_type": "code",
   "execution_count": null,
   "id": "3709bfe8-f1d6-443d-9c94-2eacbdf6ce72",
   "metadata": {
    "editable": true,
    "slideshow": {
     "slide_type": "skip"
    },
    "tags": []
   },
   "outputs": [],
   "source": [
    "nombre_columna_problematica = nombres_columnas[102]\n",
    "nusi_ind[nombre_columna_problematica].isnull().sum()\n"
   ]
  },
  {
   "cell_type": "code",
   "execution_count": null,
   "id": "da3780c6-398b-4355-bb39-b68ed4a2bc48",
   "metadata": {
    "editable": true,
    "slideshow": {
     "slide_type": "skip"
    },
    "tags": []
   },
   "outputs": [],
   "source": [
    "nusi_ind.shape"
   ]
  },
  {
   "cell_type": "markdown",
   "id": "5a4c37e9-76d5-48db-a416-99b112541e73",
   "metadata": {
    "editable": true,
    "slideshow": {
     "slide_type": "skip"
    },
    "tags": []
   },
   "source": [
    "* Del total de filas 47564, 47542 son nulas.\n",
    "* Podemos ver el contenido de las filas que no son nulas."
   ]
  },
  {
   "cell_type": "code",
   "execution_count": null,
   "id": "cfe1e234-109d-4b5c-89b8-823fcc2e5d45",
   "metadata": {
    "editable": true,
    "slideshow": {
     "slide_type": "skip"
    },
    "tags": []
   },
   "outputs": [],
   "source": [
    "nusi_ind[nusi_ind[nombre_columna_problematica].notnull()]['PP09A_ESP']"
   ]
  },
  {
   "cell_type": "markdown",
   "id": "ab3fa114-e381-465a-80b1-87700487b85b",
   "metadata": {
    "editable": true,
    "slideshow": {
     "slide_type": "slide"
    },
    "tags": []
   },
   "source": [
    "# 🎒 Reemplazos de valores en las celdas"
   ]
  },
  {
   "cell_type": "markdown",
   "id": "6af1933f-ebf0-4a66-a7d7-ac013319a3e1",
   "metadata": {},
   "source": [
    "* [Archivo utilizado.](https://archivos.linti.unlp.edu.ar/index.php/s/X9jlj5yuKUfTeN5)\n",
    "* Descargado del sitio de [ourairports.](https://ourairports.com/countries/AR/airports.csv)\n",
    "* Descripción: Aeropuertos de Argentina por tipo y localidad."
   ]
  },
  {
   "cell_type": "code",
   "execution_count": null,
   "id": "2ca40ac6-b051-43f9-aeff-f5d529d4eff7",
   "metadata": {
    "editable": true,
    "slideshow": {
     "slide_type": "fragment"
    },
    "tags": []
   },
   "outputs": [],
   "source": [
    "file_route = Path('ejemplos')/'clase10'\n",
    "file_data = 'ar-airports.csv'\n",
    "df_airports = pd.read_csv(file_route/file_data)"
   ]
  },
  {
   "cell_type": "code",
   "execution_count": null,
   "id": "17319829-8b0d-41d9-9c92-0826fc13ef6d",
   "metadata": {
    "editable": true,
    "slideshow": {
     "slide_type": "fragment"
    },
    "tags": []
   },
   "outputs": [],
   "source": [
    "df_airports.head(3)"
   ]
  },
  {
   "cell_type": "markdown",
   "id": "8abfe541-4052-4708-a91e-24c7d6bd037b",
   "metadata": {
    "editable": true,
    "slideshow": {
     "slide_type": "subslide"
    },
    "tags": []
   },
   "source": [
    "Vemos el contenido de la columna 'region_name'"
   ]
  },
  {
   "cell_type": "code",
   "execution_count": null,
   "id": "650fd839-cebc-431c-a811-c272edc97295",
   "metadata": {
    "editable": true,
    "slideshow": {
     "slide_type": "fragment"
    },
    "tags": []
   },
   "outputs": [],
   "source": [
    "df_airports[df_airports.region_name.str.contains('Tierra del Fuego')]['region_name'].head(3)"
   ]
  },
  {
   "cell_type": "markdown",
   "id": "fe919b5c-8baf-4f2b-b30d-9b1e38e04d41",
   "metadata": {
    "editable": true,
    "slideshow": {
     "slide_type": "subslide"
    },
    "tags": []
   },
   "source": [
    "¿Cómo reemplazamos?"
   ]
  },
  {
   "cell_type": "code",
   "execution_count": null,
   "id": "06002c6f-4eb9-46c3-a8e5-a35a773e8cd6",
   "metadata": {
    "editable": true,
    "slideshow": {
     "slide_type": "fragment"
    },
    "tags": []
   },
   "outputs": [],
   "source": [
    "df_airports.region_name.replace('Tierra del Fuego Province', 'Tierra del Fuego, Antártida e Islas del Atlántico Sur Province', inplace=True)"
   ]
  },
  {
   "cell_type": "code",
   "execution_count": null,
   "id": "9e6a6451-46e9-4b08-ab0a-bebd8e4495f7",
   "metadata": {
    "editable": true,
    "slideshow": {
     "slide_type": "fragment"
    },
    "tags": []
   },
   "outputs": [],
   "source": [
    "df_airports[df_airports.region_name.str.contains('Tierra del Fuego')]['region_name'].head(3)"
   ]
  },
  {
   "cell_type": "markdown",
   "id": "7cb87cb0-9cb0-4831-b074-7677dbb22c7a",
   "metadata": {
    "editable": true,
    "slideshow": {
     "slide_type": "fragment"
    },
    "tags": []
   },
   "source": [
    "¿Qué significa **inplace==True**?"
   ]
  },
  {
   "cell_type": "markdown",
   "id": "234b8234-cc57-446d-ae60-56371dab4f82",
   "metadata": {
    "editable": true,
    "slideshow": {
     "slide_type": "subslide"
    },
    "tags": []
   },
   "source": [
    "## Realicemos una modificación de texto\n",
    "* **'Río Negro Province'** -> **'Río Negro'**"
   ]
  },
  {
   "cell_type": "code",
   "execution_count": null,
   "id": "8a68470f-e836-44d6-aff2-efa196e2554f",
   "metadata": {
    "editable": true,
    "slideshow": {
     "slide_type": ""
    },
    "tags": []
   },
   "outputs": [],
   "source": [
    "df_airports[df_airports.region_name.str.contains('Negro')]['region_name'].head(3)"
   ]
  },
  {
   "cell_type": "code",
   "execution_count": null,
   "id": "437ff67f-ec8c-4b7e-bf15-3e16f67920b4",
   "metadata": {
    "editable": true,
    "slideshow": {
     "slide_type": "fragment"
    },
    "tags": []
   },
   "outputs": [],
   "source": [
    "df_airports.region_name.replace('Río Negro Province', 'Río Negro')\n",
    "    "
   ]
  },
  {
   "cell_type": "markdown",
   "id": "d5dcd812-a45d-42a3-b45a-ce664a581e2a",
   "metadata": {
    "editable": true,
    "slideshow": {
     "slide_type": "subslide"
    },
    "tags": []
   },
   "source": [
    "¿Se realizó el cambio?"
   ]
  },
  {
   "cell_type": "code",
   "execution_count": null,
   "id": "52279d50-379f-4e18-800f-a6bb51760f8f",
   "metadata": {
    "editable": true,
    "slideshow": {
     "slide_type": "fragment"
    },
    "tags": []
   },
   "outputs": [],
   "source": [
    "df_airports[df_airports.region_name.str.contains('Negro')]['region_name'].head(3)"
   ]
  },
  {
   "cell_type": "markdown",
   "id": "e91f2310-d524-4ccb-abea-14d6be4f21c2",
   "metadata": {
    "editable": true,
    "slideshow": {
     "slide_type": "fragment"
    },
    "tags": []
   },
   "source": [
    "**inplace** hace el reemplazo sin tener que guardar el dataframe modificado en una nueva variable."
   ]
  },
  {
   "cell_type": "markdown",
   "id": "cc957d34-a569-4aa6-b50c-70a9605c6bbd",
   "metadata": {
    "editable": true,
    "slideshow": {
     "slide_type": "slide"
    },
    "tags": []
   },
   "source": [
    "# 🎒 Numpy"
   ]
  },
  {
   "cell_type": "markdown",
   "id": "331e026c-8bad-4a7f-a269-ba2454c615b6",
   "metadata": {
    "editable": true,
    "slideshow": {
     "slide_type": "fragment"
    },
    "tags": []
   },
   "source": [
    "* Librería de [Python](https://numpy.org/) que fue optimizada para operaciones numéricas.\n",
    "* Los elementos deben ser de un mismo tipo de datos.\n",
    "* Contiene:\n",
    "    * Arreglos multidmensionles definido como *ndarray* que son rápidos y eficientes.\n",
    "    * Funciones para realizar cálculos elemento por elemento con arreglos u operaciones matemáticas entre arreglos.\n",
    "    * Herramientas para leer y escribir datasets a disco  basados en arreglos.\n",
    "    * Operaciones de álgebra lineal, transformada de Fourier y generación de números aleatorios.\n",
    "    * Una API de C nativa que habilita extensiones de Python y a código C o C++ nativo para acceder  a las estructuras de NumPy y facilidades computacionales."
   ]
  },
  {
   "cell_type": "markdown",
   "id": "9b337978-c79a-4eec-b221-8220b6ea8a58",
   "metadata": {
    "editable": true,
    "slideshow": {
     "slide_type": "subslide"
    },
    "tags": []
   },
   "source": [
    "## ⚡ Veamos un ejemplo de la eficiencia en las operaciones"
   ]
  },
  {
   "cell_type": "code",
   "execution_count": null,
   "id": "e29d3573-b40a-400f-9fa5-9bbc81ac3614",
   "metadata": {
    "editable": true,
    "slideshow": {
     "slide_type": "fragment"
    },
    "tags": []
   },
   "outputs": [],
   "source": [
    "import numpy as np\n",
    "import random\n",
    "\n",
    "\n",
    "lluvias = [random.randint(1, 100) for _ in range(10000)]"
   ]
  },
  {
   "cell_type": "markdown",
   "id": "83f2b921-4fbe-40da-b0d2-0bfd1043e651",
   "metadata": {
    "editable": true,
    "slideshow": {
     "slide_type": "fragment"
    },
    "tags": []
   },
   "source": [
    "Convertimos la lista a un arreglo numpy"
   ]
  },
  {
   "cell_type": "code",
   "execution_count": null,
   "id": "01cb5c95-1d2f-42f9-af5b-3000b8ab0e29",
   "metadata": {
    "editable": true,
    "slideshow": {
     "slide_type": "fragment"
    },
    "tags": []
   },
   "outputs": [],
   "source": [
    "arr_lluvia = np.array(lluvias)"
   ]
  },
  {
   "cell_type": "markdown",
   "id": "f1050fb6-459a-433b-8391-7436144a59d2",
   "metadata": {
    "editable": true,
    "slideshow": {
     "slide_type": "subslide"
    },
    "tags": []
   },
   "source": [
    "Algunas operaciones son similares a la **list** de Python"
   ]
  },
  {
   "cell_type": "code",
   "execution_count": null,
   "id": "f34d09d1-d33e-4ce6-b211-e7b9ecae2fa0",
   "metadata": {
    "editable": true,
    "slideshow": {
     "slide_type": "fragment"
    },
    "tags": []
   },
   "outputs": [],
   "source": [
    "sum(arr_lluvia)"
   ]
  },
  {
   "cell_type": "code",
   "execution_count": null,
   "id": "ddc8dea5-6f06-43dd-b17d-256d45890b00",
   "metadata": {
    "editable": true,
    "slideshow": {
     "slide_type": "fragment"
    },
    "tags": []
   },
   "outputs": [],
   "source": [
    "arr_lluvia[6]"
   ]
  },
  {
   "cell_type": "code",
   "execution_count": null,
   "id": "dbdba9a2-e9ef-4394-b087-da2f703356de",
   "metadata": {
    "editable": true,
    "slideshow": {
     "slide_type": "fragment"
    },
    "tags": []
   },
   "outputs": [],
   "source": [
    "arr_lluvia[5:20]"
   ]
  },
  {
   "cell_type": "code",
   "execution_count": null,
   "id": "5a017674-bf6b-4dd7-ada4-6b7693726cdd",
   "metadata": {
    "editable": true,
    "slideshow": {
     "slide_type": "fragment"
    },
    "tags": []
   },
   "outputs": [],
   "source": [
    "len(arr_lluvia)"
   ]
  },
  {
   "cell_type": "code",
   "execution_count": null,
   "id": "7459c9a7-8e48-4014-8e36-dbe47a911746",
   "metadata": {
    "editable": true,
    "slideshow": {
     "slide_type": "fragment"
    },
    "tags": []
   },
   "outputs": [],
   "source": [
    "arr_lluvia.shape"
   ]
  },
  {
   "cell_type": "markdown",
   "id": "47979449-3505-4b7d-b527-a8b31261412f",
   "metadata": {
    "editable": true,
    "slideshow": {
     "slide_type": "subslide"
    },
    "tags": []
   },
   "source": [
    "¿Cómo generamos una nueva lista con **list**, donde se multiplique todos los elementos por 5?"
   ]
  },
  {
   "cell_type": "code",
   "execution_count": null,
   "id": "4da07586-d449-404b-b2e9-072673f91683",
   "metadata": {
    "editable": true,
    "slideshow": {
     "slide_type": "fragment"
    },
    "tags": []
   },
   "outputs": [],
   "source": [
    "%timeit [x * 5 for x in lluvias]"
   ]
  },
  {
   "cell_type": "markdown",
   "id": "bab2ab26-6da4-49f9-8728-00be0e85108f",
   "metadata": {
    "editable": true,
    "slideshow": {
     "slide_type": "fragment"
    },
    "tags": []
   },
   "source": [
    "Y con el **array**"
   ]
  },
  {
   "cell_type": "code",
   "execution_count": null,
   "id": "4364bb79-22c1-446b-9c63-90bcd4099a7a",
   "metadata": {
    "editable": true,
    "slideshow": {
     "slide_type": "fragment"
    },
    "tags": []
   },
   "outputs": [],
   "source": [
    "%timeit arr_lluvia * 5"
   ]
  },
  {
   "cell_type": "markdown",
   "id": "1c9783ce-aff6-4da4-be7f-77f2970f625b",
   "metadata": {
    "editable": true,
    "slideshow": {
     "slide_type": "subslide"
    },
    "tags": []
   },
   "source": [
    "## ⚡ Operaciones aritméticas\n",
    "Numpy toma protagonismo cuando se tiene que realizar operaciones en \"batch\", es decir en lotes, simplificando el uso de **for**. Este procedimiento se denomina *vectorización*"
   ]
  },
  {
   "cell_type": "code",
   "execution_count": null,
   "id": "7aa9d3f4-85f6-4fc3-90fd-dfca2fb6dd43",
   "metadata": {
    "editable": true,
    "slideshow": {
     "slide_type": "fragment"
    },
    "tags": []
   },
   "outputs": [],
   "source": [
    "arr_lluvia + arr_lluvia"
   ]
  },
  {
   "cell_type": "code",
   "execution_count": null,
   "id": "46feb05b-4e75-4da5-b81d-2f916445616c",
   "metadata": {
    "editable": true,
    "slideshow": {
     "slide_type": "fragment"
    },
    "tags": []
   },
   "outputs": [],
   "source": [
    "arr_lluvia - 5"
   ]
  },
  {
   "cell_type": "markdown",
   "id": "4f9d99bc-86a6-411c-8d28-a37bab3ca03c",
   "metadata": {
    "editable": true,
    "slideshow": {
     "slide_type": "subslide"
    },
    "tags": []
   },
   "source": [
    "⚡ Comparemos sumar datos de una columna con array y con list\n",
    "* Quiero sumar los valores de la  columna 'CH03' del archivo de encuestas:"
   ]
  },
  {
   "cell_type": "code",
   "execution_count": null,
   "id": "c6dc1185-5371-4a85-ad56-86182fd90e97",
   "metadata": {
    "editable": true,
    "slideshow": {
     "slide_type": "fragment"
    },
    "tags": []
   },
   "outputs": [],
   "source": [
    "c_ch03 = nusi_ind.CH03"
   ]
  },
  {
   "cell_type": "code",
   "execution_count": null,
   "id": "19d654bd-1038-4501-9dae-8810466b6f37",
   "metadata": {
    "editable": true,
    "slideshow": {
     "slide_type": "fragment"
    },
    "tags": []
   },
   "outputs": [],
   "source": [
    "%timeit  c_ch03.sum()"
   ]
  },
  {
   "cell_type": "code",
   "execution_count": null,
   "id": "1982bb6f-b41b-4679-a8ee-cbc35a7645c5",
   "metadata": {
    "editable": true,
    "slideshow": {
     "slide_type": "fragment"
    },
    "tags": []
   },
   "outputs": [],
   "source": [
    "lista_columna = nusi_ind.CH03.to_list()"
   ]
  },
  {
   "cell_type": "code",
   "execution_count": null,
   "id": "34fcdf92-fc49-497f-9170-ad9a8f05d5d0",
   "metadata": {
    "editable": true,
    "slideshow": {
     "slide_type": "fragment"
    },
    "tags": []
   },
   "outputs": [],
   "source": [
    "%timeit sum(lista_columna)"
   ]
  },
  {
   "cell_type": "markdown",
   "id": "a8be49f2-eaab-448e-ac01-a824417bfc28",
   "metadata": {
    "editable": true,
    "slideshow": {
     "slide_type": "subslide"
    },
    "tags": []
   },
   "source": [
    "Más info sobre estos temas:\n",
    "* Arrays multidimensionales.\n",
    "* Tipos de datos para ndarrays.\n",
    "* Indexación booleana: seleccionar elementos de un array utilizando un array de valores booleanos (True o False). Esta técnica permite filtrar datos de manera eficiente y concisa.\n",
    "* Funciones aritméticas como sqrt, exp, etc.\n",
    "* Ordenamiento.\n",
    "> En el capítulo 4.1 \"Python for Data Analysis\""
   ]
  },
  {
   "cell_type": "markdown",
   "id": "3f54bf07-5c64-4d3f-b6ce-cf862b39c4aa",
   "metadata": {
    "editable": true,
    "slideshow": {
     "slide_type": "slide"
    },
    "tags": []
   },
   "source": [
    "# 🎒 Renombrar las columnas"
   ]
  },
  {
   "cell_type": "markdown",
   "id": "efcfcd34-60e8-4a42-a86d-7411dc4fa36f",
   "metadata": {
    "editable": true,
    "slideshow": {
     "slide_type": "fragment"
    },
    "tags": []
   },
   "source": [
    "Renombrar la columna:\n",
    "* **'name'** -> **'Name'**\n",
    "\n",
    "Trabajemos con un dataframe más reducido."
   ]
  },
  {
   "cell_type": "code",
   "execution_count": null,
   "id": "886cf1b4-f233-4698-aaca-793b1386bc6c",
   "metadata": {
    "editable": true,
    "slideshow": {
     "slide_type": "fragment"
    },
    "tags": []
   },
   "outputs": [],
   "source": [
    "df_reduced =  df_airports[['type','name']]"
   ]
  },
  {
   "cell_type": "code",
   "execution_count": null,
   "id": "d4f3703a-991c-4f89-b724-2a511321ad09",
   "metadata": {
    "editable": true,
    "slideshow": {
     "slide_type": "fragment"
    },
    "tags": []
   },
   "outputs": [],
   "source": [
    "df_reduced.rename(columns={'name': 'Name'}).head(3)"
   ]
  },
  {
   "cell_type": "code",
   "execution_count": null,
   "id": "c9c0065a-8e67-4278-93ee-6b175fa9b1c3",
   "metadata": {
    "editable": true,
    "slideshow": {
     "slide_type": "fragment"
    },
    "tags": []
   },
   "outputs": [],
   "source": [
    "df_reduced.columns"
   ]
  },
  {
   "cell_type": "markdown",
   "id": "3f3c7bc2-40c8-48e5-aec9-5292b44eaa18",
   "metadata": {
    "editable": true,
    "slideshow": {
     "slide_type": "subslide"
    },
    "tags": []
   },
   "source": [
    "Usamos **inplace** si estamos seguros de los cambios que vamos a realizar"
   ]
  },
  {
   "cell_type": "code",
   "execution_count": null,
   "id": "d01d35d8-58f0-4c03-bc70-00e6a9688b36",
   "metadata": {
    "editable": true,
    "slideshow": {
     "slide_type": "fragment"
    },
    "tags": []
   },
   "outputs": [],
   "source": [
    "df_reduced.rename(columns={'name': 'Name'}, inplace=True)"
   ]
  },
  {
   "cell_type": "code",
   "execution_count": null,
   "id": "6b1ce667-917e-4c8f-bfc4-e06cb1fda27d",
   "metadata": {
    "editable": true,
    "slideshow": {
     "slide_type": "subslide"
    },
    "tags": []
   },
   "outputs": [],
   "source": [
    "df_reduced"
   ]
  },
  {
   "cell_type": "markdown",
   "id": "9f64c0d0-75af-426d-baac-552459ddede7",
   "metadata": {
    "editable": true,
    "slideshow": {
     "slide_type": "fragment"
    },
    "tags": []
   },
   "source": [
    "Esta operación genera **SettingWithCopyWarning**, ¿por qué?\n",
    "En detalle:\n",
    "* [Documentación de pandas](https://pandas.pydata.org/pandas-docs/stable/user_guide/indexing.html#returning-a-view-versus-a-copy)\n",
    "* [Nota con ejemplos](https://note.nkmk.me/en/python-pandas-setting-with-copy-warning/)"
   ]
  },
  {
   "cell_type": "markdown",
   "id": "92de9ce9-db67-4323-a978-85a1f35ca3fc",
   "metadata": {
    "editable": true,
    "slideshow": {
     "slide_type": "subslide"
    },
    "tags": []
   },
   "source": [
    "## SettingWithCopyWarning\n",
    "\n",
    "- Algunas acciones en pandas retornan una vista de los datos y otras una copia\n",
    "\n",
    "<center>\n",
    "<img src=\"imagenes/warning1.png\" alt=\"Vistas vs. copias\" style=\"width:550px;\"/>\n",
    "</center>\n",
    "Imagen sacada de https://www.dataquest.io/blog/settingwithcopywarning/"
   ]
  },
  {
   "cell_type": "markdown",
   "id": "88b97854-da4e-47fd-b001-8f5ba6d632d2",
   "metadata": {
    "editable": true,
    "slideshow": {
     "slide_type": "subslide"
    },
    "tags": []
   },
   "source": [
    "## SettingWithCopyWarning\n",
    "\n",
    "\n",
    "- Por lo tanto, ante una modificación: \n",
    "\n",
    "<center>\n",
    "<img src=\"imagenes/warning2.png\" alt=\"Vistas vs. copias\" style=\"width:550px;\"/>\n",
    "</center>\n",
    "Imagen sacada de https://www.dataquest.io/blog/settingwithcopywarning/"
   ]
  },
  {
   "cell_type": "markdown",
   "id": "5d663b28-d853-43fc-8033-bd0f8799fe5b",
   "metadata": {
    "editable": true,
    "slideshow": {
     "slide_type": "subslide"
    },
    "tags": []
   },
   "source": [
    "Nos indica que pandas no puede asegurar que los resultados sean los esperados, ¿cómo podemos \"asegurar\" que no haya problemas?\n"
   ]
  },
  {
   "cell_type": "markdown",
   "id": "80637322-6739-4a4e-b909-4a399405c482",
   "metadata": {
    "editable": true,
    "slideshow": {
     "slide_type": "subslide"
    },
    "tags": []
   },
   "source": [
    "### 📌 Opción 1: hacer una copia explícita, usando **copy()**"
   ]
  },
  {
   "cell_type": "code",
   "execution_count": null,
   "id": "15ab429e-e161-48a9-87ae-1acd9a3c50d0",
   "metadata": {
    "editable": true,
    "slideshow": {
     "slide_type": "fragment"
    },
    "tags": []
   },
   "outputs": [],
   "source": [
    "df_reduced_copy = df_airports[['type', 'name']].copy()\n",
    "df_reduced_copy.rename(columns={'name': 'Nombre'}, inplace=True)\n",
    "\n",
    "df_reduced_copy.head(3)\n"
   ]
  },
  {
   "cell_type": "markdown",
   "id": "e688aaf3-1767-4e2c-8cea-ddcf6d838276",
   "metadata": {
    "editable": true,
    "slideshow": {
     "slide_type": "subslide"
    },
    "tags": []
   },
   "source": [
    "\n",
    "### 📌 Opción 2: asignar el resultado a una variable nueva"
   ]
  },
  {
   "cell_type": "code",
   "execution_count": null,
   "id": "3cc83c68-9db1-46c9-bf93-b25c7341262a",
   "metadata": {
    "editable": true,
    "slideshow": {
     "slide_type": "fragment"
    },
    "tags": []
   },
   "outputs": [],
   "source": [
    "df_reduced_var = df_airports[['type','name']]\n",
    "df_reduced_var = df_reduced_var.rename(columns={'type': 'Tipo'})\n",
    "df_reduced_var.head(3)\n"
   ]
  },
  {
   "cell_type": "code",
   "execution_count": null,
   "id": "23ea1a8c-55d2-4ba6-9041-b4a15b4a1da7",
   "metadata": {},
   "outputs": [],
   "source": [
    "pd.__version__"
   ]
  },
  {
   "cell_type": "markdown",
   "id": "5cdff2a8-72c2-4d50-8408-beb8e55faba3",
   "metadata": {
    "editable": true,
    "slideshow": {
     "slide_type": "subslide"
    },
    "tags": []
   },
   "source": [
    "Diferencia entre ambas opciones:\n",
    "* 1. Uso de **.copy()**: se está creando una copia independiente del DataFrame original. Esto significa que cualquier modificación que se realice en la copia no afectará al DataFrame original.\n",
    "    * **Ventaja**: se puede  modificar df_reduced_copy sin de que los cambios afecten a df_airports.\n",
    "    * **Desventaja**: Ocupa más memoria porque estás creando una copia completa del DataFrame.\n",
    "* 2. **Asignación Directa**: aunque df_reduced_var es un nuevo objeto en memoria (por lo que su ID será diferente), los datos subyacentes pueden ser compartidos entre df_reduced_var y df_airports. Esto significa que si se modifica los datos en df_reduced_var, esos cambios **pueden reflejarse** en df_airports si los datos no se han copiado internamente.\n",
    "    * **Ventaja**: Ocupa menos memoria porque no se está creando una copia del DataFrame; solo se estás creando una nueva referencia al mismo objeto.\n",
    "    * **Desventaja**: si se modifica df_reduced_var, se podría  modificar df_airports, lo que puede no ser deseado. Si se cambia un valor en df_reduced_var, y ese valor está en la parte de los datos que comparten, el cambio se verá también en df_airports.\n"
   ]
  },
  {
   "cell_type": "markdown",
   "id": "2503fc50-5244-4675-a979-f63ec15028c8",
   "metadata": {
    "editable": true,
    "slideshow": {
     "slide_type": "subslide"
    },
    "tags": []
   },
   "source": [
    "### ¿Y si queremos renombrar varias columnas?"
   ]
  },
  {
   "cell_type": "code",
   "execution_count": null,
   "id": "ca355c93-a7cf-4fa2-a02f-4ab7d48613e4",
   "metadata": {
    "editable": true,
    "slideshow": {
     "slide_type": "fragment"
    },
    "tags": []
   },
   "outputs": [],
   "source": [
    "df_reduced_var = df_airports[['type', 'name', 'latitude_deg', 'longitude_deg']]\n",
    "replace_columns = {'name':'Name', 'latitude_deg': 'Latitude', 'longitude_deg': 'Longitude'}\n",
    "df_reduced_var.rename(columns=replace_columns).head(3)"
   ]
  },
  {
   "cell_type": "markdown",
   "id": "092ee298-d8d5-4615-afab-c278a1b831dc",
   "metadata": {
    "editable": true,
    "slideshow": {
     "slide_type": "subslide"
    },
    "tags": []
   },
   "source": [
    "### Y si queremos renombrar todas las columnas:\n"
   ]
  },
  {
   "cell_type": "code",
   "execution_count": null,
   "id": "a52fff09-5dcb-4148-9708-c2de66efc854",
   "metadata": {
    "editable": true,
    "slideshow": {
     "slide_type": ""
    },
    "tags": []
   },
   "outputs": [],
   "source": [
    "df_reduced_var.columns = ['Tipo','Nombre','Latitude']\n",
    "                                #, 'Longitud']"
   ]
  },
  {
   "cell_type": "markdown",
   "id": "3e29eb4d-2c5c-4f5d-8923-bc97da155435",
   "metadata": {
    "editable": true,
    "slideshow": {
     "slide_type": "subslide"
    },
    "tags": []
   },
   "source": [
    "La cantidad de elementos de la **lista** debe coincidir con la cantidad de **columnas**"
   ]
  },
  {
   "cell_type": "code",
   "execution_count": null,
   "id": "ac0d1579-6c32-4d8c-9ca5-80ab66884af4",
   "metadata": {
    "editable": true,
    "slideshow": {
     "slide_type": "fragment"
    },
    "tags": []
   },
   "outputs": [],
   "source": [
    "df_reduced_var.columns = ['Tipo','Nombre','Latitude', 'Longitude']\n",
    "df_reduced_var.head(3)"
   ]
  },
  {
   "cell_type": "markdown",
   "id": "1fcaabcb-a509-4a5b-8baf-b11c62da958a",
   "metadata": {
    "editable": true,
    "slideshow": {
     "slide_type": "slide"
    },
    "tags": []
   },
   "source": [
    "# 🎒 Modificación de tipo de datos\n",
    "#### ¿Es verdad que en 2024 se actualizaron mayor cantidad de datos de aeropuertos que en 2023 y menos que en 2021?"
   ]
  },
  {
   "cell_type": "markdown",
   "id": "6dd65e6e-f5af-4054-9e91-4eec5d70e594",
   "metadata": {
    "editable": true,
    "slideshow": {
     "slide_type": "fragment"
    },
    "tags": []
   },
   "source": [
    "Veamos la columna **last_updated**"
   ]
  },
  {
   "cell_type": "code",
   "execution_count": null,
   "id": "6d55866a-a304-4895-a737-8f4fa056ebcf",
   "metadata": {
    "editable": true,
    "slideshow": {
     "slide_type": "fragment"
    },
    "tags": []
   },
   "outputs": [],
   "source": [
    "df_airports.last_updated.head()"
   ]
  },
  {
   "cell_type": "markdown",
   "id": "449a3335-1838-4d96-839f-cb3f92cf0b46",
   "metadata": {
    "editable": true,
    "slideshow": {
     "slide_type": "fragment"
    },
    "tags": []
   },
   "source": [
    "* Contiene datos de fechas, pandas le asignó **object**, un tipo de datos general.\n",
    "* Queremos verificar los años en que se realizaron actualizaciones.\n",
    "    * ¿Con qué tipos de datos trabajamos en Python las fechas?"
   ]
  },
  {
   "cell_type": "code",
   "execution_count": null,
   "id": "16172e05-f081-4e1a-952a-2f0b3b0c4ab8",
   "metadata": {
    "editable": true,
    "slideshow": {
     "slide_type": "subslide"
    },
    "tags": []
   },
   "outputs": [],
   "source": [
    "df_airports['last_updated'] = pd.to_datetime(df_airports.last_updated)\n",
    "df_airports.last_updated.head(3)"
   ]
  },
  {
   "cell_type": "markdown",
   "id": "2d2c685f-5fc8-4f22-8161-ce5f8a479410",
   "metadata": {
    "editable": true,
    "slideshow": {
     "slide_type": "subslide"
    },
    "tags": []
   },
   "source": [
    "Ahora que tenemos en el tipo de datos **datetime**: ¿cuáles son los años?"
   ]
  },
  {
   "cell_type": "code",
   "execution_count": null,
   "id": "2cd23df1-e214-44f0-8946-2cdd47d68024",
   "metadata": {
    "editable": true,
    "slideshow": {
     "slide_type": "fragment"
    },
    "tags": []
   },
   "outputs": [],
   "source": [
    "df_airports.last_updated.dt.year.unique()"
   ]
  },
  {
   "cell_type": "code",
   "execution_count": null,
   "id": "0a6ff341-810d-46ae-bc65-79079b4c1839",
   "metadata": {
    "editable": true,
    "slideshow": {
     "slide_type": "subslide"
    },
    "tags": []
   },
   "outputs": [],
   "source": [
    "df_airports[(df_airports.last_updated.dt.year==2024) ]\n"
   ]
  },
  {
   "cell_type": "markdown",
   "id": "4d7a4896-5596-471b-998c-e1de7a681c6f",
   "metadata": {
    "editable": true,
    "slideshow": {
     "slide_type": "subslide"
    },
    "tags": []
   },
   "source": [
    "El atributo **.dt** en pandas se usa para acceder a las propiedades de los datos datetime, como: \n",
    "* años\n",
    "* meses\n",
    "* días\n",
    "* horas\n",
    "* minutos, etc.\n",
    "* En este caso, **.dt.year** se utiliza para obtener el año de cada fecha en la variable que contiene fechas."
   ]
  },
  {
   "cell_type": "markdown",
   "id": "7f61b472-ddea-466b-a683-420dc0c2ed83",
   "metadata": {
    "editable": true,
    "slideshow": {
     "slide_type": "fragment"
    },
    "tags": []
   },
   "source": [
    "¿Y los meses?"
   ]
  },
  {
   "cell_type": "code",
   "execution_count": null,
   "id": "840f3635-282a-483b-a905-067afca991ec",
   "metadata": {
    "editable": true,
    "slideshow": {
     "slide_type": "fragment"
    },
    "tags": []
   },
   "outputs": [],
   "source": [
    "df_airports.last_updated.dt.month.unique()"
   ]
  },
  {
   "cell_type": "markdown",
   "id": "d32ba315-d067-44e5-84b9-32368d3ffe9c",
   "metadata": {
    "editable": true,
    "slideshow": {
     "slide_type": "subslide"
    },
    "tags": []
   },
   "source": [
    "En el ejemplo anterior:\n",
    "```python\n",
    "df_airports['last_updated'] = pd.to_datetime(df_airports.last_updated)\n",
    "```\n",
    "Estamos trabajando con una variable **Series**, no con todo el dataframe."
   ]
  },
  {
   "attachments": {},
   "cell_type": "markdown",
   "id": "7bed25b2-9826-4636-9fc2-bff546c57066",
   "metadata": {
    "editable": true,
    "slideshow": {
     "slide_type": "fragment"
    },
    "tags": []
   },
   "source": [
    "Se modificó una columna con tipo de dato **object** a **datetime** de pandas usando:\n",
    "* pd.to_datetime(columna)\n",
    "\n",
    "¿Qué otras opciones tenemos para modificar tipos de datos y cómo lo hacemos?"
   ]
  },
  {
   "cell_type": "markdown",
   "id": "1783cfcd-e1b7-48e8-ac13-199c5f3bbea9",
   "metadata": {
    "editable": true,
    "slideshow": {
     "slide_type": "subslide"
    },
    "tags": []
   },
   "source": [
    "### 📌Modificación de tipo de datos y eliminación de filas\n"
   ]
  },
  {
   "cell_type": "markdown",
   "id": "ebff5bcf-3d9c-44fc-b64f-33e92c8e2697",
   "metadata": {
    "editable": true,
    "slideshow": {
     "slide_type": "fragment"
    },
    "tags": []
   },
   "source": [
    "* Deseamos trabajar con valores enteros que representen la elevación de cada aeropuerto.\n",
    "* ¿Cómo cambiamos el tipo de datos con Python?\n",
    "* Veamos la columna **elevation__ft**"
   ]
  },
  {
   "cell_type": "code",
   "execution_count": null,
   "id": "7f838187-8535-44d6-8316-a35b0eac12bf",
   "metadata": {
    "editable": true,
    "slideshow": {
     "slide_type": "fragment"
    },
    "tags": []
   },
   "outputs": [],
   "source": [
    "df_airports.elevation_ft.head()"
   ]
  },
  {
   "cell_type": "markdown",
   "id": "f6f69929-fa01-49b1-9af7-8517df2b5528",
   "metadata": {
    "editable": true,
    "slideshow": {
     "slide_type": "subslide"
    },
    "tags": []
   },
   "source": [
    "Para cambiar a tipos de datos como int, float ...usamos\n",
    "```python\n",
    "df.column.astype(..: int, float, bool, str\n",
    "```\n",
    "Veamos el código y qué pasa:"
   ]
  },
  {
   "cell_type": "code",
   "execution_count": null,
   "id": "53c356d9-ad57-4a5b-9777-c5f467ceeae4",
   "metadata": {
    "editable": true,
    "slideshow": {
     "slide_type": "fragment"
    },
    "tags": []
   },
   "outputs": [],
   "source": [
    "df_airports.elevation_ft.astype(int)"
   ]
  },
  {
   "cell_type": "markdown",
   "id": "6f1d872a-eec5-4c8e-8ab4-b27ec2a615e5",
   "metadata": {
    "editable": true,
    "slideshow": {
     "slide_type": "subslide"
    },
    "tags": []
   },
   "source": [
    "* El problema es que tenemos valores nulos o infinitos, (Nan o Inf).\n",
    "* Podemos asignarles un valor, por ejemplo 0, pero generará análisis erróneos cuando se involucre este valor.\n",
    "* Podemos optar por:\n",
    "    * eliminar las filas que tienen **non-finite values (NA or inf)**, ojo verificar que no perdemos información.\n",
    "    * en el caso que se necesite trabajar con estos valores, nos podemos quedar con un subconjunto del dataset sin las filas que contienen valores nulos. "
   ]
  },
  {
   "cell_type": "markdown",
   "id": "9e6520f2-424b-48af-9620-46c53d59b267",
   "metadata": {
    "editable": true,
    "slideshow": {
     "slide_type": "subslide"
    },
    "tags": []
   },
   "source": [
    "Veamos la opción de sacar las filas que contienen valores nulos:\n",
    "```python\n",
    "df.dropna()\n",
    "```\n",
    "Nos permite eliminar estos casos del dataframe."
   ]
  },
  {
   "cell_type": "code",
   "execution_count": null,
   "id": "a86c5188-2d0d-42a2-a2f0-5bfe707f43d7",
   "metadata": {
    "editable": true,
    "slideshow": {
     "slide_type": "fragment"
    },
    "tags": []
   },
   "outputs": [],
   "source": [
    "df_airports.dropna()"
   ]
  },
  {
   "cell_type": "markdown",
   "id": "294a8e06-c019-4375-88e4-baae100473c8",
   "metadata": {
    "editable": true,
    "slideshow": {
     "slide_type": "fragment"
    },
    "tags": []
   },
   "source": [
    "### Quedaron sólo 3 filas!!!!"
   ]
  },
  {
   "cell_type": "markdown",
   "id": "f64c9d41-ebf0-4e0a-8063-ccb57fa62e2a",
   "metadata": {
    "editable": true,
    "slideshow": {
     "slide_type": "subslide"
    },
    "tags": []
   },
   "source": [
    "### 📌 Eliminación de datos nulos\n",
    "* En realidad no se eliminaron porque no modificamos de forma definitiva el Dataframe.\n",
    "```python\n",
    "df.dropna()\n",
    "```\n",
    "* Elimina **todas** filas que contengan en **algunas** de las columnas valores nulos.\n",
    "\n"
   ]
  },
  {
   "cell_type": "markdown",
   "id": "0521bee4-b247-47e7-96bf-245e8c86c4d7",
   "metadata": {
    "editable": true,
    "slideshow": {
     "slide_type": "fragment"
    },
    "tags": []
   },
   "source": [
    "Vimos que algunas columnas tienen muchos datos faltantes como:"
   ]
  },
  {
   "cell_type": "code",
   "execution_count": null,
   "id": "79054aec-0414-46d9-a5db-0acb5d68340c",
   "metadata": {
    "editable": true,
    "slideshow": {
     "slide_type": "fragment"
    },
    "tags": []
   },
   "outputs": [],
   "source": [
    "nulos_por_columna = df_airports.isnull().sum()\n",
    "\n",
    "# Filtrar las columnas que tienen más de un valor nulo\n",
    "nulos_por_columna[nulos_por_columna > 1]"
   ]
  },
  {
   "cell_type": "markdown",
   "id": "bb54dbf4-e090-4643-be95-b7a749e320af",
   "metadata": {
    "editable": true,
    "slideshow": {
     "slide_type": "subslide"
    },
    "tags": []
   },
   "source": [
    "Para eliminar las filas que contienen valores nulos **sólo de una columna**:"
   ]
  },
  {
   "cell_type": "code",
   "execution_count": null,
   "id": "f1109e88-4e0e-43e5-8240-6553f17a9630",
   "metadata": {
    "editable": true,
    "slideshow": {
     "slide_type": "fragment"
    },
    "tags": []
   },
   "outputs": [],
   "source": [
    "df_airports_mod = df_airports.dropna(subset=['elevation_ft']).copy()\n"
   ]
  },
  {
   "cell_type": "markdown",
   "id": "fb6024cd-5c0e-4766-b92a-bb30a4896cfd",
   "metadata": {
    "editable": true,
    "slideshow": {
     "slide_type": "fragment"
    },
    "tags": []
   },
   "source": [
    "Para no perder los datos originales, realizamos una **copia** sacando los valores nulos de la columna **elevation_ft**"
   ]
  },
  {
   "cell_type": "code",
   "execution_count": null,
   "id": "4ae4a0e6-6a1b-47b8-bed3-ffa4bbbfce04",
   "metadata": {
    "editable": true,
    "slideshow": {
     "slide_type": ""
    },
    "tags": []
   },
   "outputs": [],
   "source": [
    "df_airports_mod['elevation_ft'] = df_airports_mod.elevation_ft.astype(int)\n",
    "df_airports_mod[['name','elevation_ft']].head(3)"
   ]
  },
  {
   "cell_type": "markdown",
   "id": "5585e4e9-e085-46b8-b798-627193bbc3be",
   "metadata": {
    "editable": true,
    "slideshow": {
     "slide_type": ""
    },
    "tags": []
   },
   "source": [
    "¿Cuántos valores nulos hay en cada columna ahora?"
   ]
  },
  {
   "cell_type": "code",
   "execution_count": null,
   "id": "c7889fe2-596a-4529-9c78-d4dbfd5332a9",
   "metadata": {
    "editable": true,
    "slideshow": {
     "slide_type": ""
    },
    "tags": []
   },
   "outputs": [],
   "source": [
    "df_airports_mod.info(memory_usage='deep')"
   ]
  },
  {
   "cell_type": "markdown",
   "id": "cf3ee45f-402d-4d5f-b7d4-aa7dd2ae6de8",
   "metadata": {
    "editable": true,
    "slideshow": {
     "slide_type": "subslide"
    },
    "tags": []
   },
   "source": [
    "Métodos para eliminar o completar datos:\n",
    "*  **dropna**: borra filas  con datos nulos de Series o de Dataframe.\n",
    "    *  df.dropna(): elimina todas filas que contengan en algunas de las columnas valores nulos.\n",
    "    *  df.dropna(subset=['columna']): elimina las filas que tiene valores nulos en esa columna.\n",
    "* **fillna**: completar con valores las ocurrencias de datos faltantes.\n",
    "    * fillna(0): reemplaza todos las ocurrencias por un valor, en este caso 0.\n",
    "    * fillna({col1: 0.5, col2:0}): completa datos faltantes con diferentes valores para diferentes columnas.\n",
    "* **drop**: elimina filas o columnas\n",
    "    * df.drop(['col1', 'col2'], axis=1) o df.drop(columns=['col1', 'col2']): elimina las columnas col1 y col2.\n",
    "    * df.drop([0, 1]): elimina las filas con índice 0 y 1.\n",
    "\n",
    "> Capítulo 5.2 \"Python for Data Analysis\"\n"
   ]
  },
  {
   "cell_type": "markdown",
   "id": "085ca7c1-713a-469c-88d3-9719863c2b8f",
   "metadata": {
    "editable": true,
    "slideshow": {
     "slide_type": "subslide"
    },
    "tags": []
   },
   "source": [
    "### 🚨 Consigna para resolver en casa\n",
    "* ¿Es verdad que hay mayor cantidad de aeropuertos small_airport que medium_airport que tienen elevación mayor que la media?\n",
    "* ¿Es cierto que la  elevación media de los aeropuertos actualizados en los últimos 5 años que hay registros es 921 aproximadamente?"
   ]
  },
  {
   "cell_type": "markdown",
   "id": "0a14e348-4190-4dcd-aaeb-c00381b21501",
   "metadata": {
    "editable": true,
    "slideshow": {
     "slide_type": "slide"
    },
    "tags": []
   },
   "source": [
    "# 🎒 Crear nuestro dataframe"
   ]
  },
  {
   "cell_type": "code",
   "execution_count": null,
   "id": "85c45bb6-e7cd-4617-a73f-a6abc3615a97",
   "metadata": {
    "editable": true,
    "slideshow": {
     "slide_type": "fragment"
    },
    "tags": []
   },
   "outputs": [],
   "source": [
    "recognized_women_info = {\n",
    "    'Cecilia Berdichevsky': {'Area': 'Informática', 'Fecha_nacimiento': '1960-05-10'},\n",
    "    'Noemí García': {'Area': 'Informática', 'Fecha_nacimiento': '1965-11-30'},\n",
    "    'Cecilia Grierson': {'Area': 'Ciencia', 'Fecha_nacimiento': '1859-11-22'},\n",
    "    'Julieta Lanteri': {'Area': 'Ciencia', 'Fecha_nacimiento': '1873-11-22'},\n",
    "    'Jeanette Campbell': {'Area': 'Deporte', 'Fecha_nacimiento': '1965-03-20'},\n",
    "    'Mary Terán': {'Area': 'Deporte', 'Fecha_nacimiento': '1936-01-23'},\n",
    "    'Patricia Sosa': {'Area': 'Música', 'Fecha_nacimiento': '1956-01-23'},\n",
    "    'Fabiana Cantilo': {'Area': 'Música', 'Fecha_nacimiento': '1959-03-03'}\n",
    "}"
   ]
  },
  {
   "cell_type": "markdown",
   "id": "28b39a50-5ef8-4216-811c-0a08f9c039eb",
   "metadata": {
    "editable": true,
    "slideshow": {
     "slide_type": "fragment"
    },
    "tags": []
   },
   "source": [
    "* Convertir el diccionario a DataFrame"
   ]
  },
  {
   "cell_type": "code",
   "execution_count": null,
   "id": "64ac8507-4ec4-4d9e-802f-8670b09d82bd",
   "metadata": {
    "editable": true,
    "slideshow": {
     "slide_type": "fragment"
    },
    "tags": []
   },
   "outputs": [],
   "source": [
    "women_df = pd.DataFrame.from_dict(recognized_women_info, orient='index')\n"
   ]
  },
  {
   "cell_type": "markdown",
   "id": "7fbd6387-067c-45e7-8907-240eb5a2f814",
   "metadata": {
    "editable": true,
    "slideshow": {
     "slide_type": "fragment"
    },
    "tags": []
   },
   "source": [
    "**orient=index**: indica que las claves del diccionario deben sen interpretadas como índice del dataframe que se está pasando como parámetro"
   ]
  },
  {
   "cell_type": "code",
   "execution_count": null,
   "id": "5152f23d-8bee-4ab0-b88c-95de55563509",
   "metadata": {
    "editable": true,
    "slideshow": {
     "slide_type": "subslide"
    },
    "tags": []
   },
   "outputs": [],
   "source": [
    "women_df"
   ]
  },
  {
   "cell_type": "code",
   "execution_count": null,
   "id": "f1264cb5-47c3-4e56-af54-cbe5acc2863d",
   "metadata": {
    "editable": true,
    "slideshow": {
     "slide_type": "fragment"
    },
    "tags": []
   },
   "outputs": [],
   "source": [
    "women_df.loc['Cecilia Berdichevsky':'Jeanette Campbell']"
   ]
  },
  {
   "cell_type": "markdown",
   "id": "83655ba8-a196-4eac-92fb-8c5a8ba5f5bf",
   "metadata": {
    "editable": true,
    "slideshow": {
     "slide_type": "subslide"
    },
    "tags": []
   },
   "source": [
    "* Convertir el índice en columna como parte del Dataframe"
   ]
  },
  {
   "cell_type": "code",
   "execution_count": null,
   "id": "a29da63b-d73c-4f0c-a83a-a7a8ecd290ec",
   "metadata": {
    "editable": true,
    "slideshow": {
     "slide_type": "fragment"
    },
    "tags": []
   },
   "outputs": [],
   "source": [
    "women_df.reset_index(inplace=True)\n",
    "women_df.rename(columns={'index': 'Nombre'}, inplace=True)\n",
    "women_df.index.name = 'index'\n",
    "women_df"
   ]
  },
  {
   "cell_type": "code",
   "execution_count": null,
   "id": "2febf4b8-f58b-4656-a6d2-81581d7ff3ff",
   "metadata": {
    "editable": true,
    "slideshow": {
     "slide_type": "subslide"
    },
    "tags": []
   },
   "outputs": [],
   "source": [
    "women_df.info()\n"
   ]
  },
  {
   "cell_type": "markdown",
   "id": "47d8c527-4eb2-499e-8ec6-58fa26c25357",
   "metadata": {
    "editable": true,
    "slideshow": {
     "slide_type": "subslide"
    },
    "tags": []
   },
   "source": [
    "Accedemos a filas por número de fila y por etiquetas"
   ]
  },
  {
   "cell_type": "code",
   "execution_count": null,
   "id": "05085adc-66f5-4c60-9c0a-d72577f42249",
   "metadata": {
    "editable": true,
    "slideshow": {
     "slide_type": "fragment"
    },
    "tags": []
   },
   "outputs": [],
   "source": [
    "women_df.iloc[2]"
   ]
  },
  {
   "cell_type": "code",
   "execution_count": null,
   "id": "fe285861-2bf3-4eee-88a8-6e1a25f8fbda",
   "metadata": {
    "editable": true,
    "slideshow": {
     "slide_type": "fragment"
    },
    "tags": []
   },
   "outputs": [],
   "source": [
    "women_df.loc[2]"
   ]
  },
  {
   "cell_type": "markdown",
   "id": "4fda11fc-c6cc-4c84-ac26-09a8378126de",
   "metadata": {
    "editable": true,
    "slideshow": {
     "slide_type": "subslide"
    },
    "tags": []
   },
   "source": [
    "#### Generamos el Dataframe con etiquetas diferentes a números"
   ]
  },
  {
   "cell_type": "code",
   "execution_count": null,
   "id": "42358713-5325-4193-acb0-c0a468d06ad0",
   "metadata": {
    "editable": true,
    "slideshow": {
     "slide_type": "fragment"
    },
    "tags": []
   },
   "outputs": [],
   "source": [
    "index_list = ['w' + str(i) for i in range(1, len(recognized_women_info) + 1)]\n",
    "women_df = pd.DataFrame.from_dict(recognized_women_info, orient='index')\n",
    "women_df.reset_index(inplace=True)\n",
    "women_df.rename(columns={'index': 'Nombre'}, inplace=True)\n",
    "women_df.index = index_list\n",
    "women_df"
   ]
  },
  {
   "cell_type": "markdown",
   "id": "16e84322-405d-4033-987f-d169325a844b",
   "metadata": {
    "editable": true,
    "slideshow": {
     "slide_type": "subslide"
    },
    "tags": []
   },
   "source": [
    "#### Ahora el acceso con **iloc** y **loc** cambia"
   ]
  },
  {
   "cell_type": "code",
   "execution_count": null,
   "id": "5e08f1b5-00ce-46e8-944d-e44ff2a6d6dd",
   "metadata": {
    "editable": true,
    "slideshow": {
     "slide_type": "fragment"
    },
    "tags": []
   },
   "outputs": [],
   "source": [
    "women_df.iloc[0]"
   ]
  },
  {
   "cell_type": "code",
   "execution_count": null,
   "id": "565179d8-3fda-457c-82c3-2bc313f99cd4",
   "metadata": {
    "editable": true,
    "slideshow": {
     "slide_type": "fragment"
    },
    "tags": []
   },
   "outputs": [],
   "source": [
    "women_df.loc[0]"
   ]
  },
  {
   "cell_type": "markdown",
   "id": "ae402e68-9b52-46c9-96b7-1de3afb0532d",
   "metadata": {
    "editable": true,
    "slideshow": {
     "slide_type": "subslide"
    },
    "tags": []
   },
   "source": [
    "### ❌ Da error porque **0** no es un índice válido"
   ]
  },
  {
   "cell_type": "code",
   "execution_count": null,
   "id": "48bdd37e-859c-4482-8b3d-e760c09f500a",
   "metadata": {
    "editable": true,
    "slideshow": {
     "slide_type": "fragment"
    },
    "tags": []
   },
   "outputs": [],
   "source": [
    "women_df.index"
   ]
  },
  {
   "cell_type": "code",
   "execution_count": null,
   "id": "7a108d10-f423-4501-b36b-c62489c2261f",
   "metadata": {
    "editable": true,
    "slideshow": {
     "slide_type": "fragment"
    },
    "tags": []
   },
   "outputs": [],
   "source": [
    "women_df.loc['w1':'w3']"
   ]
  },
  {
   "cell_type": "markdown",
   "id": "3e7499b9-373f-4254-abe5-e73d4e59039a",
   "metadata": {
    "editable": true,
    "slideshow": {
     "slide_type": "subslide"
    },
    "tags": []
   },
   "source": [
    "# 🎒 Agregar columnas\n",
    "## 📌 Agregar una columna categorizada\n",
    "Necesitamos analizar los aeropuertos por categorías. Agregaremos una columna **height** que contenga los valores:\n",
    "* bajo\n",
    "* medio\n",
    "* alto\n",
    "* muy alto\n",
    "  \n",
    "según los rangos de valores de la columna **elevation_ft**"
   ]
  },
  {
   "cell_type": "markdown",
   "id": "36b4b93f-f58c-4d6d-a3f9-87d9d6786707",
   "metadata": {
    "editable": true,
    "slideshow": {
     "slide_type": "fragment"
    },
    "tags": []
   },
   "source": [
    "Tenemos que **recorrer** el dataset y asignar el valor correspondiente, podemos hacerlo, recorriendo...usando **iterrrows**"
   ]
  },
  {
   "cell_type": "code",
   "execution_count": null,
   "id": "84826075-50ce-41ad-adda-81159494db18",
   "metadata": {
    "editable": true,
    "slideshow": {
     "slide_type": "subslide"
    },
    "tags": []
   },
   "outputs": [],
   "source": [
    "df_airports.elevation_ft.describe().loc['25%': '75%']"
   ]
  },
  {
   "cell_type": "code",
   "execution_count": null,
   "id": "41f975b0-9f96-4eef-9379-91f622344a49",
   "metadata": {
    "editable": true,
    "slideshow": {
     "slide_type": "fragment"
    },
    "tags": []
   },
   "outputs": [],
   "source": [
    "df_airports_height = df_airports.copy()\n",
    "heights = []\n",
    "for index, row in df_airports_height.iterrows():\n",
    "    value = row['elevation_ft']\n",
    "    if value < 131.5:\n",
    "        height = 'bajo'\n",
    "    elif value < 314:\n",
    "        height ='medio'\n",
    "    elif value < 900.5:\n",
    "        height ='alto'\n",
    "    else:\n",
    "        height = 'muy alto'\n",
    "    \n",
    "    # Añadir el resultado a la lista\n",
    "    heights.append(height)\n",
    "df_airports_height['height'] = heights"
   ]
  },
  {
   "cell_type": "code",
   "execution_count": null,
   "id": "7481fe3d-b1f4-4621-b8a3-2dbb0f55609a",
   "metadata": {
    "editable": true,
    "slideshow": {
     "slide_type": "subslide"
    },
    "tags": []
   },
   "outputs": [],
   "source": [
    "df_airports_height[['name','elevation_ft','height']].head(4)"
   ]
  },
  {
   "cell_type": "markdown",
   "id": "5228d623-4bb8-4fd1-ab2b-6f854256b087",
   "metadata": {
    "editable": true,
    "slideshow": {
     "slide_type": "subslide"
    },
    "tags": []
   },
   "source": [
    "Pero si hay algo que nos gusta de pandas es no tener que **recorrer** manualmente, entonces ¿cómo hacemos?"
   ]
  },
  {
   "cell_type": "code",
   "execution_count": null,
   "id": "746a5fde-1269-4351-88f6-424720a8b878",
   "metadata": {
    "editable": true,
    "slideshow": {
     "slide_type": "fragment"
    },
    "tags": []
   },
   "outputs": [],
   "source": [
    "df_airports_height = df_airports.copy()\n",
    "\n",
    "def define_height(value):\n",
    "    if  value < 131:\n",
    "        return 'bajo'\n",
    "    elif value < 314:\n",
    "        return 'medio'\n",
    "    elif value < 900.5:\n",
    "        return'alto'\n",
    "    else:\n",
    "        return 'muy alto'\n",
    " "
   ]
  },
  {
   "cell_type": "code",
   "execution_count": null,
   "id": "c4d99cf1-faf0-4c50-845f-b4c082c6fc83",
   "metadata": {
    "editable": true,
    "slideshow": {
     "slide_type": "subslide"
    },
    "tags": []
   },
   "outputs": [],
   "source": [
    "df_airports_height['height'] = df_airports_height['elevation_ft'].apply(define_height)\n",
    "df_airports_height[['name','elevation_ft','height']].head(4)"
   ]
  },
  {
   "cell_type": "markdown",
   "id": "5e7bdf43-eecc-4948-bfa9-38ceaf0f075e",
   "metadata": {
    "editable": true,
    "slideshow": {
     "slide_type": "subslide"
    },
    "tags": []
   },
   "source": [
    "[**Apply**](https://pandas.pydata.org/pandas-docs/stable/reference/api/pandas.DataFrame.apply.html) de pandas permite aplicar una función a todas las filas de una columna:\n",
    "* aplicar la función a cada fila o columnas de un Dataframe o a una Series.\n",
    "* **Dataframe**:\n",
    "    * **apply(func, axis=0)**: axis=0, valor por defecto, aplica la función por cada columna, en este caso es una Series, por lo tanto solo a esa columna\n",
    "    * **apply(func, axis=1)**: axis = 1, aplica la función a cada fila.\n"
   ]
  },
  {
   "cell_type": "markdown",
   "id": "ca3420c8-ee95-4a3b-9ef8-0a10a4f04c5b",
   "metadata": {
    "editable": true,
    "slideshow": {
     "slide_type": "fragment"
    },
    "tags": []
   },
   "source": [
    "De esta forma en lugar de usar **iterrows**, utilizamos **apply** con una función definida que genera el dato necesario. "
   ]
  },
  {
   "cell_type": "markdown",
   "id": "ba9bdf40-1973-4e1f-a5b8-9dae4f3223d4",
   "metadata": {
    "editable": true,
    "slideshow": {
     "slide_type": "fragment"
    },
    "tags": []
   },
   "source": [
    "Otras funciones que podemos aplicar:\n",
    "* str.lower()\n",
    "* map:  se usa principalmente en Series.\n",
    "* apply y map son similares: apply tiene más flexibilidad con el pasaje de parámetros\n",
    "* Más info en:\n",
    "> Capítulo 7.2 \"Python for Data Analysis\""
   ]
  },
  {
   "cell_type": "code",
   "execution_count": null,
   "id": "ce09b4d0-1c05-4a7c-a5e6-efb646dfa751",
   "metadata": {
    "editable": true,
    "slideshow": {
     "slide_type": "subslide"
    },
    "tags": []
   },
   "outputs": [],
   "source": [
    "df_airports_height['height'] = df_airports_height['elevation_ft'].map(define_height)"
   ]
  },
  {
   "cell_type": "code",
   "execution_count": null,
   "id": "e1da1f15-f301-4368-b955-6c684d847ec9",
   "metadata": {
    "editable": true,
    "slideshow": {
     "slide_type": "fragment"
    },
    "tags": []
   },
   "outputs": [],
   "source": [
    "df_airports_height[['elevation_ft','height']].head(4)"
   ]
  },
  {
   "cell_type": "markdown",
   "id": "f34c0787-a7cd-48db-978e-4276268516c7",
   "metadata": {
    "editable": true,
    "slideshow": {
     "slide_type": "subslide"
    },
    "tags": []
   },
   "source": [
    "### 🚨 Consigna para resolver en casa\n",
    "Mejorar los cambios en el caso de valores **nan** \n",
    "### ¿Qué pasó en estos casos?:\n",
    "\n",
    "* ¿Está bien el valor correspondiente a la columna **'height'**?\n",
    "* Investigar:\n",
    "    * la función **pd.isna** para consultar si un valor es **nan**\n",
    "    * la conversión al tipo de datos: pd.Int64Dtype()\n",
    "     \n"
   ]
  },
  {
   "cell_type": "code",
   "execution_count": null,
   "id": "66bfabff-a88a-4368-a10a-b53bc4b6304e",
   "metadata": {
    "editable": true,
    "slideshow": {
     "slide_type": "fragment"
    },
    "tags": []
   },
   "outputs": [],
   "source": [
    "df_airports_height[df_airports_height.elevation_ft.isnull()][['name','elevation_ft','height']].head(3)"
   ]
  },
  {
   "cell_type": "markdown",
   "id": "b3c8b7f8-eac0-4c7f-b12c-15039cafd885",
   "metadata": {
    "editable": true,
    "slideshow": {
     "slide_type": "slide"
    },
    "tags": []
   },
   "source": [
    "## 📌 Agregar columna en función de dos columnas del Dataframe\n",
    "* Queremos categorizar en función del tipo y de la elevación.\n",
    "* Se quiere definir la nueva columna en función de dos **columnas**"
   ]
  },
  {
   "cell_type": "markdown",
   "id": "1c5af8ba-cc1b-4fc8-9ea4-75e3e12f93c6",
   "metadata": {
    "editable": true,
    "slideshow": {
     "slide_type": "fragment"
    },
    "tags": []
   },
   "source": [
    "Hacemos una copia del dataframe y nos quedamos solamente con:\n",
    "* 'large_airport'\n",
    "* 'medium_airport'\n",
    "* 'small_airport'"
   ]
  },
  {
   "cell_type": "code",
   "execution_count": null,
   "id": "a1ba4fee-38c6-4c10-bd34-ccdf276b4b72",
   "metadata": {
    "editable": true,
    "slideshow": {
     "slide_type": "subslide"
    },
    "tags": []
   },
   "outputs": [],
   "source": [
    "columnas = ['large_airport', 'medium_airport', 'small_airport']\n",
    "df_airports_height = df_airports[df_airports.type.isin(columnas)].copy()\n",
    "df_airports_height.type.unique()"
   ]
  },
  {
   "cell_type": "code",
   "execution_count": null,
   "id": "c100bcdf-20eb-4da5-b886-e58a1d5ab63e",
   "metadata": {
    "editable": true,
    "slideshow": {
     "slide_type": "subslide"
    },
    "tags": []
   },
   "outputs": [],
   "source": [
    "df_airports_height = df_airports[df_airports.type.isin(columnas)].copy()\n",
    "def define_height(value):\n",
    "    match value:\n",
    "        case _ if value <= 131:\n",
    "            return \"bajo\"\n",
    "        case _ if value <= 314:\n",
    "            return \"medio\"\n",
    "        case _ if value <= 900.5:\n",
    "            return \"alto\"\n",
    "        case _:\n",
    "            return \"muy_alto\"\n",
    "def type_height(value, type_airport):\n",
    "    text_value = define_height(value)\n",
    "    match value:\n",
    "        case _ if type_airport == 'large_airport':\n",
    "            return 'large_'+text_value \n",
    "        case _ if type_airport =='medium_airport':\n",
    "            return 'medium_'+text_value \n",
    "        case _:\n",
    "            return 'small_'+text_value\n"
   ]
  },
  {
   "cell_type": "code",
   "execution_count": null,
   "id": "0ec79210-0646-49f2-96e3-c5396f37ad62",
   "metadata": {
    "editable": true,
    "slideshow": {
     "slide_type": "subslide"
    },
    "tags": []
   },
   "outputs": [],
   "source": [
    "df_airports_height['height'] = df_airports_height.apply(lambda x: type_height(x.elevation_ft, x.type), axis=1)"
   ]
  },
  {
   "cell_type": "code",
   "execution_count": null,
   "id": "637cbfd7-d239-4e30-94c4-13be75cb1c10",
   "metadata": {
    "editable": true,
    "slideshow": {
     "slide_type": "fragment"
    },
    "tags": []
   },
   "outputs": [],
   "source": [
    "df_airports_height[['name','type','elevation_ft','height']].head(3)"
   ]
  },
  {
   "cell_type": "markdown",
   "id": "985b613a-0c72-49b2-b4bc-c9c6697b4b98",
   "metadata": {
    "editable": true,
    "slideshow": {
     "slide_type": "subslide"
    },
    "tags": []
   },
   "source": [
    "**apply** en este caso, no se especifica que se aplique a una sola columna porque necesitamos acceder a **dos columnas**.\n",
    "```python\n",
    " df_airports_height.apply(lambda x: type_height(x.elevation_ft, x.type), axis=1)\n",
    "```\n",
    "* **axis=1**: indica que se aplique la función a cada fila\n",
    "* **axis=0**, la opción por **defecto** lo hace sobre una columna"
   ]
  },
  {
   "cell_type": "markdown",
   "id": "342f1530-b078-4c9e-bd42-6fc1bb1503ba",
   "metadata": {
    "editable": true,
    "slideshow": {
     "slide_type": "slide"
    },
    "tags": []
   },
   "source": [
    "# 🎒 Nuestros datos y gráficos en Streamlit"
   ]
  },
  {
   "cell_type": "markdown",
   "id": "23c1db77-ef54-42fa-82b4-fe49a2ac4296",
   "metadata": {
    "editable": true,
    "slideshow": {
     "slide_type": ""
    },
    "tags": []
   },
   "source": [
    "* Vamos a trabajar con un archivo que cuenta con un registro de avistajes de felinos en nuestro país\n",
    "* [Archivo utilizado.](https://archivos.linti.unlp.edu.ar/index.php/s/405wWy7sWNBI4oj)\n",
    "* Descargado del sitio de [gbif](https://www.gbif.org/) y adaptado para poder trabajar estos datos.\n"
   ]
  },
  {
   "cell_type": "code",
   "execution_count": null,
   "id": "96dfc164-0f85-4bcc-a17f-5c6dc64e9814",
   "metadata": {
    "editable": true,
    "slideshow": {
     "slide_type": "fragment"
    },
    "tags": []
   },
   "outputs": [],
   "source": [
    "felinos = pd.read_csv(file_route/'felinos_filtrado.csv')"
   ]
  },
  {
   "cell_type": "markdown",
   "id": "4137b23f-7d8b-4687-a55c-99b532f6f967",
   "metadata": {
    "editable": true,
    "slideshow": {
     "slide_type": "subslide"
    },
    "tags": []
   },
   "source": [
    "Veamos el contenido:"
   ]
  },
  {
   "cell_type": "code",
   "execution_count": null,
   "id": "f6776b42-ff55-4e59-8204-f7aa6ab7e759",
   "metadata": {
    "editable": true,
    "slideshow": {
     "slide_type": "fragment"
    },
    "tags": []
   },
   "outputs": [],
   "source": [
    "felinos.columns"
   ]
  },
  {
   "cell_type": "code",
   "execution_count": null,
   "id": "105c397f-e6f0-4ddd-8304-e79d2f33f6f2",
   "metadata": {
    "editable": true,
    "slideshow": {
     "slide_type": "fragment"
    },
    "tags": []
   },
   "outputs": [],
   "source": [
    "felinos.head(3)"
   ]
  },
  {
   "cell_type": "code",
   "execution_count": null,
   "id": "40c69cb7-877a-42a7-a263-c5d81dfa6ed1",
   "metadata": {
    "editable": true,
    "slideshow": {
     "slide_type": "subslide"
    },
    "tags": []
   },
   "outputs": [],
   "source": [
    "felinos.info()"
   ]
  },
  {
   "cell_type": "markdown",
   "id": "b8e538bf-e45e-41f7-adcb-87f79f8aba37",
   "metadata": {
    "editable": true,
    "slideshow": {
     "slide_type": "subslide"
    },
    "tags": []
   },
   "source": [
    "## 📝 ¿Es verdad que se vieron felinosen todas las provincias de Argentina?\n"
   ]
  },
  {
   "cell_type": "code",
   "execution_count": null,
   "id": "cf48be56-fa94-4ba3-acbe-15813d73bc7f",
   "metadata": {
    "editable": true,
    "slideshow": {
     "slide_type": "fragment"
    },
    "tags": []
   },
   "outputs": [],
   "source": [
    "felinos.genus.unique()"
   ]
  },
  {
   "cell_type": "code",
   "execution_count": null,
   "id": "6986e63d-c958-46dc-b41b-5325923a8ae0",
   "metadata": {
    "editable": true,
    "slideshow": {
     "slide_type": "fragment"
    },
    "tags": []
   },
   "outputs": [],
   "source": [
    "felinos.stateProvince.unique()"
   ]
  },
  {
   "cell_type": "markdown",
   "id": "62ab3cd9-2eaf-4981-ab3f-ed70c4c9533a",
   "metadata": {
    "editable": true,
    "slideshow": {
     "slide_type": "subslide"
    },
    "tags": []
   },
   "source": [
    "Arreglemos algunos problemas"
   ]
  },
  {
   "cell_type": "code",
   "execution_count": null,
   "id": "8f0923cb-6621-430a-bed1-79b7bd2dfc24",
   "metadata": {
    "editable": true,
    "slideshow": {
     "slide_type": "fragment"
    },
    "tags": []
   },
   "outputs": [],
   "source": [
    "felinos.stateProvince = felinos.stateProvince.replace('Neuquen','Neuquén')"
   ]
  },
  {
   "cell_type": "code",
   "execution_count": null,
   "id": "26081ab8-d207-4d4e-b9ea-72d5631ac76a",
   "metadata": {
    "editable": true,
    "slideshow": {
     "slide_type": "fragment"
    },
    "tags": []
   },
   "outputs": [],
   "source": [
    "felinos.stateProvince.unique()"
   ]
  },
  {
   "cell_type": "markdown",
   "id": "f6a8f09f-629d-4a9d-9d3f-1165920c8a5e",
   "metadata": {
    "editable": true,
    "slideshow": {
     "slide_type": "fragment"
    },
    "tags": []
   },
   "source": [
    "Necesito saber, cuántos de cada tipo de felino diferente (columna **genus**) se avistaron."
   ]
  },
  {
   "cell_type": "markdown",
   "id": "276d0940-e0d3-4830-bc9f-140317e777d9",
   "metadata": {
    "editable": true,
    "slideshow": {
     "slide_type": "subslide"
    },
    "tags": []
   },
   "source": [
    "# 🎒 Agrupamientos"
   ]
  },
  {
   "cell_type": "markdown",
   "id": "4fd4fa27-71aa-4169-a52c-03db136d3629",
   "metadata": {
    "editable": true,
    "slideshow": {
     "slide_type": "fragment"
    },
    "tags": []
   },
   "source": [
    "## value_counts(): agrupamos, contamos y ordenamos"
   ]
  },
  {
   "cell_type": "code",
   "execution_count": null,
   "id": "90c9e34e-cfb1-4165-b5e1-06f1678b0668",
   "metadata": {
    "editable": true,
    "slideshow": {
     "slide_type": "fragment"
    },
    "tags": []
   },
   "outputs": [],
   "source": [
    "felinos.genus.value_counts(ascending=True)"
   ]
  },
  {
   "cell_type": "markdown",
   "id": "caebd76d-293b-4d77-8de1-7b344f3ae31f",
   "metadata": {
    "editable": true,
    "slideshow": {
     "slide_type": "fragment"
    },
    "tags": []
   },
   "source": [
    "**value_counts()**: devuelve una Series que contiene los conteos de valores únicos en orden **descendente**.\n",
    "* **Uso**: Se utiliza comúnmente para analizar datos categóricos, permitiendo ver cuántas veces aparece cada categoría en los datos.\n",
    "* Opciones:\n",
    "    * **normalize**: si se establece en True, devuelve la proporción de cada valor en lugar del conteo.\n",
    "    * **sort**: si se establece en True (por defecto), los resultados se ordenan en orden descendente.\n",
    "    * **ascending**: si se establece en True, los resultados se ordenan en orden ascendente.\n",
    "    * **dropna**: si se establece en True (por defecto), se excluyen los valores NaN del conteo.\n"
   ]
  },
  {
   "cell_type": "markdown",
   "id": "a8d81c67-5adf-4707-9173-90f625f5760d",
   "metadata": {
    "editable": true,
    "slideshow": {
     "slide_type": "subslide"
    },
    "tags": []
   },
   "source": [
    "Recordemos los aeropuertos que tenían valores nulos en la columna **municipality**"
   ]
  },
  {
   "cell_type": "code",
   "execution_count": null,
   "id": "de22536a-afcf-4e14-b155-77c762c08345",
   "metadata": {
    "editable": true,
    "slideshow": {
     "slide_type": "fragment"
    },
    "tags": []
   },
   "outputs": [],
   "source": [
    "df_airports.municipality.value_counts(dropna=False)"
   ]
  },
  {
   "cell_type": "code",
   "execution_count": null,
   "id": "692ff283-7333-43a1-882b-cd333c7fb8b8",
   "metadata": {
    "editable": true,
    "slideshow": {
     "slide_type": "subslide"
    },
    "tags": []
   },
   "outputs": [],
   "source": [
    "df_airports.last_updated.dt.year.value_counts()"
   ]
  },
  {
   "cell_type": "markdown",
   "id": "1b5c0724-2c6e-4534-a519-7854297eaf1a",
   "metadata": {
    "editable": true,
    "slideshow": {
     "slide_type": "subslide"
    },
    "tags": []
   },
   "source": [
    "## groupby(): agrupamos y contamos"
   ]
  },
  {
   "cell_type": "code",
   "execution_count": null,
   "id": "04827f7b-67ab-413c-ada0-99987950ec30",
   "metadata": {
    "editable": true,
    "slideshow": {
     "slide_type": "fragment"
    },
    "tags": []
   },
   "outputs": [],
   "source": [
    "felinos.groupby('genus').species.count()"
   ]
  },
  {
   "cell_type": "markdown",
   "id": "d886246b-5833-48bb-8542-932779eb5371",
   "metadata": {
    "editable": true,
    "slideshow": {
     "slide_type": "fragment"
    },
    "tags": []
   },
   "source": [
    "* **groupby()**: permite agrupar por una columna o más, pero necesita ir acompañado de alguna operación de agregación o transformación para poder visualizar el resultado correspondiente.\n",
    "* **value_counts()**: similar con la opción mostrada de groupby, con la diferencia que ya lo muestra ordenado."
   ]
  },
  {
   "cell_type": "markdown",
   "id": "bdc704e6-f0f8-46a3-ab24-edfc8d509dc6",
   "metadata": {
    "editable": true,
    "slideshow": {
     "slide_type": "subslide"
    },
    "tags": []
   },
   "source": [
    "👉 Queremos saber qué felino se vio en mayor cantidad diferente de provincias"
   ]
  },
  {
   "cell_type": "code",
   "execution_count": null,
   "id": "dd5e943c-1b25-4996-be55-ecbe59243656",
   "metadata": {
    "editable": true,
    "slideshow": {
     "slide_type": "fragment"
    },
    "tags": []
   },
   "outputs": [],
   "source": [
    "felinos.groupby('genus')['stateProvince'].unique()"
   ]
  },
  {
   "cell_type": "code",
   "execution_count": null,
   "id": "7d0d2dcd-4902-4d1c-88a1-7f87cb6b0408",
   "metadata": {
    "editable": true,
    "slideshow": {
     "slide_type": "fragment"
    },
    "tags": []
   },
   "outputs": [],
   "source": [
    "felinos.groupby('genus')['stateProvince'].nunique()"
   ]
  },
  {
   "cell_type": "markdown",
   "id": "3218d901-e234-4cb7-a758-d556848f2ee9",
   "metadata": {
    "editable": true,
    "slideshow": {
     "slide_type": "subslide"
    },
    "tags": []
   },
   "source": [
    "* **unique** indica los **valores** únicos de la agrupación que hicimos en función de la columna que indicamos\n",
    "* **nunique** indica la **cantidad(n)** de valores únicos de esa columna, en este caso las provincias. Podemos visualizar las cantidades de cada columna, no sólo de stateProvince."
   ]
  },
  {
   "cell_type": "code",
   "execution_count": null,
   "id": "1209ceef-95a9-4054-88d9-1a435df6bdf7",
   "metadata": {
    "editable": true,
    "slideshow": {
     "slide_type": "fragment"
    },
    "tags": []
   },
   "outputs": [],
   "source": [
    "felinos.groupby('genus').nunique()"
   ]
  },
  {
   "cell_type": "markdown",
   "id": "caf89e98-a2c6-485e-9405-2838253ce9b8",
   "metadata": {
    "editable": true,
    "slideshow": {
     "slide_type": "subslide"
    },
    "tags": []
   },
   "source": [
    "👉 O podemos obtener qué cantidad de **diferentes tipos** de felinos se vieron en cada **provincia**."
   ]
  },
  {
   "cell_type": "code",
   "execution_count": null,
   "id": "b74cf087-d8a4-448d-9989-c56a254f9658",
   "metadata": {
    "editable": true,
    "slideshow": {
     "slide_type": "fragment"
    },
    "tags": []
   },
   "outputs": [],
   "source": [
    "felinos.groupby('stateProvince')['genus'].nunique()"
   ]
  },
  {
   "cell_type": "markdown",
   "id": "ba71372e-e025-4240-ad08-64271769bec7",
   "metadata": {
    "editable": true,
    "slideshow": {
     "slide_type": "subslide"
    },
    "tags": []
   },
   "source": [
    "## 📌 Métodos de agregación\n",
    "Dijimos que **groupby** tiene que estar acompañado de alguna operación de agregación, algunas de las que se puede utilizar son:\n",
    "* **sum()**: suma los valores de cada grupo.\n",
    "* **count()**: cuenta el número de elementos en cada grupo.\n",
    "* **mean()**: calcula la media de los valores en cada grupo."
   ]
  },
  {
   "cell_type": "markdown",
   "id": "3d36653c-76ba-4f98-8c75-6696e8f06057",
   "metadata": {
    "editable": true,
    "slideshow": {
     "slide_type": "subslide"
    },
    "tags": []
   },
   "source": [
    "Ejemplos usando **count** , que cuenta la cantidad según los valores de columna **genus**."
   ]
  },
  {
   "cell_type": "code",
   "execution_count": null,
   "id": "e0e87283-d812-4379-8a62-631b031494c6",
   "metadata": {
    "editable": true,
    "slideshow": {
     "slide_type": "fragment"
    },
    "tags": []
   },
   "outputs": [],
   "source": [
    "felinos.groupby('genus')['kingdom'].count()"
   ]
  },
  {
   "cell_type": "markdown",
   "id": "a1ab237b-9747-48e0-9c3d-dbc6e353fd82",
   "metadata": {
    "editable": true,
    "slideshow": {
     "slide_type": "subslide"
    },
    "tags": []
   },
   "source": [
    "También podemos agrupar por dos columnas, y realizar la operación sobre una tercera columna que nos interesa.\n",
    "> Queremos saber la cantidad  de localidades de cada provincia donde se vió cada tipo de felino\n",
    "* agrupamos por **genus** primero.\n",
    "* después por cada tipo de genus agrupa por **provincia**.\n",
    "* y luego muestra la cantidad de valores únicos por localidad.\n",
    "* Es decir la cantidad de localidades diferentes de cada provincia que está en el Dataframe, donde se vieron los tipos diferentes de felinos."
   ]
  },
  {
   "cell_type": "code",
   "execution_count": null,
   "id": "04de28dc-2762-49c3-95b9-3bbe9d1db7ad",
   "metadata": {
    "editable": true,
    "slideshow": {
     "slide_type": "subslide"
    },
    "tags": []
   },
   "outputs": [],
   "source": [
    "felinos.groupby(['genus','stateProvince']).locality.nunique()\n"
   ]
  },
  {
   "cell_type": "markdown",
   "id": "a664423c-c440-44b5-8a03-7ab84fb13666",
   "metadata": {
    "editable": true,
    "slideshow": {
     "slide_type": "subslide"
    },
    "tags": []
   },
   "source": [
    "## 🎒 Graficamos\n"
   ]
  },
  {
   "cell_type": "markdown",
   "id": "a177f287-0366-49f0-95bd-3cd2b6c723b0",
   "metadata": {
    "editable": true,
    "slideshow": {
     "slide_type": "fragment"
    },
    "tags": []
   },
   "source": [
    "Vamos a ver algo más de Matplotlib y la librería Plotly"
   ]
  },
  {
   "cell_type": "markdown",
   "id": "daf43141-8e10-4f26-b88a-49e83c7b500e",
   "metadata": {
    "editable": true,
    "slideshow": {
     "slide_type": "subslide"
    },
    "tags": []
   },
   "source": [
    "### 📌 Matplotlib"
   ]
  },
  {
   "cell_type": "code",
   "execution_count": null,
   "id": "70b9379d-f25e-4aa3-86ae-5d54fafe5781",
   "metadata": {
    "editable": true,
    "slideshow": {
     "slide_type": ""
    },
    "tags": []
   },
   "outputs": [],
   "source": [
    "import matplotlib.pyplot as plt"
   ]
  },
  {
   "cell_type": "markdown",
   "id": "753840f8-5333-4907-82e0-f7a94e76a1e1",
   "metadata": {
    "editable": true,
    "slideshow": {
     "slide_type": "subslide"
    },
    "tags": []
   },
   "source": [
    "## Graficar datos desde Series"
   ]
  },
  {
   "cell_type": "code",
   "execution_count": null,
   "id": "8d982514-ab78-47ee-8e01-c2d1b21872af",
   "metadata": {
    "editable": true,
    "slideshow": {
     "slide_type": "fragment"
    },
    "tags": []
   },
   "outputs": [],
   "source": [
    "data = {\n",
    "    'Mes': ['Enero', 'Febrero', 'Marzo', 'Abril', 'Mayo'],\n",
    "    'Ventas': [200, 300, 250, 400, 350]\n",
    "}\n",
    "df = pd.DataFrame(data)"
   ]
  },
  {
   "cell_type": "markdown",
   "id": "4d0e8ef0-2264-4943-bb7e-9f0c737eb381",
   "metadata": {
    "editable": true,
    "slideshow": {
     "slide_type": ""
    },
    "tags": []
   },
   "source": [
    "* Crear un gráfico de líneas sin usar las etiquetas o índices del Dataframe:"
   ]
  },
  {
   "cell_type": "code",
   "execution_count": null,
   "id": "6038d4f7-b3ea-43dd-a9c9-31776344e395",
   "metadata": {
    "editable": true,
    "slideshow": {
     "slide_type": ""
    },
    "tags": []
   },
   "outputs": [],
   "source": [
    "df['Ventas'].plot(kind='line', marker ='o')\n",
    "plt.show()"
   ]
  },
  {
   "cell_type": "markdown",
   "id": "c2afb8f2-b608-4e0c-88ed-446cf077c072",
   "metadata": {
    "editable": true,
    "slideshow": {
     "slide_type": "fragment"
    },
    "tags": []
   },
   "source": [
    "* El gráfico no muestra en el eje x las etiquetas y el gráfico no es claro"
   ]
  },
  {
   "cell_type": "code",
   "execution_count": null,
   "id": "4c84c757-a884-4171-accd-ccf96a89802a",
   "metadata": {
    "editable": true,
    "slideshow": {
     "slide_type": "subslide"
    },
    "tags": []
   },
   "outputs": [],
   "source": [
    "\n",
    "plt.figure(figsize=(10, 5))\n",
    "plt.plot(df['Mes'], df['Ventas'], marker='o')\n",
    "plt.title('Ventas Mensuales')\n",
    "plt.xlabel('Mes')\n",
    "plt.ylabel('Ventas')\n",
    "plt.grid()\n",
    "plt.show()"
   ]
  },
  {
   "cell_type": "code",
   "execution_count": null,
   "id": "2c26132b-71db-4c51-82fb-89060b3b0af1",
   "metadata": {
    "editable": true,
    "slideshow": {
     "slide_type": "subslide"
    },
    "tags": []
   },
   "outputs": [],
   "source": [
    "plt.figure(figsize=(8, 8))\n",
    "plt.pie( df['Ventas'], labels=df['Mes'], autopct='%1.1f%%', startangle=140)\n",
    "plt.title('Distribución de Categorías')\n",
    "plt.axis('equal')  # Para que el gráfico sea un círculo\n",
    "plt.show()"
   ]
  },
  {
   "cell_type": "markdown",
   "id": "71cec3c0-d272-437d-b8be-edda7877dcd5",
   "metadata": {
    "editable": true,
    "slideshow": {
     "slide_type": ""
    },
    "tags": []
   },
   "source": [
    "## 📌 Mostrar varios gráficos"
   ]
  },
  {
   "cell_type": "code",
   "execution_count": null,
   "id": "8aaa9b72-8004-461f-a4bf-ac3f3303f3ef",
   "metadata": {
    "editable": true,
    "slideshow": {
     "slide_type": "fragment"
    },
    "tags": []
   },
   "outputs": [],
   "source": [
    "df['Ventas'].plot(kind='line', marker ='o')\n",
    "#plt.pie( df['Ventas'], labels=df['Mes'], autopct='%1.1f%%', startangle=140)\n",
    "\n",
    "plt.title('Ventas Mensuales')\n",
    "plt.xlabel('Mes')\n",
    "plt.ylabel('Ventas')\n",
    "plt.xticks(rotation=0)\n",
    "plt.show()"
   ]
  },
  {
   "cell_type": "markdown",
   "id": "b0d0c9c8-2fae-4617-8fdb-c38f636acdc8",
   "metadata": {
    "editable": true,
    "slideshow": {
     "slide_type": "fragment"
    },
    "tags": []
   },
   "source": [
    "* Al generar varios gráficos en la misma figura, **Matplotlib** muestra solamente el último gráfico que generamos."
   ]
  },
  {
   "cell_type": "markdown",
   "id": "2cf3dc71-2edf-4ba3-8bed-7f2d2a649fbe",
   "metadata": {
    "editable": true,
    "slideshow": {
     "slide_type": ""
    },
    "tags": []
   },
   "source": [
    "### 👉 Grafiquemos las agrupaciones de datos hechas entre los tipos de felinos y las provincias."
   ]
  },
  {
   "cell_type": "code",
   "execution_count": null,
   "id": "7120d125-53ba-4a73-af21-5d88204deb0c",
   "metadata": {
    "editable": true,
    "slideshow": {
     "slide_type": ""
    },
    "tags": []
   },
   "outputs": [],
   "source": [
    "genus_unique_province =felinos.groupby('genus')['stateProvince'].nunique()\n",
    "province_unique_genus = felinos.groupby('stateProvince')['genus'].nunique()\n",
    "\n",
    "# Configurar los datos para el gráfico de torta\n",
    "labels_genus = genus_unique_province.index\n",
    "sizes_genus = genus_unique_province.values\n",
    "\n",
    "# Configurar los datos para el gráfico de barra\n",
    "labels_province = province_unique_genus.index\n",
    "sizes_province = province_unique_genus.values\n",
    "posicion = np.arange(len(labels_province))\n",
    " # Crearsubplots\n",
    "fig,ax = plt.subplots(1,2,figsize=(14 , 6))\n",
    "paleta = plt.get_cmap('coolwarm')\n",
    "ax[0].set_prop_cycle(\"color\", [paleta(1. * i/len(labels_genus)) \n",
    "                                for i in range(len(labels_genus))])\n",
    "ax[0].pie(sizes_genus , labels=labels_genus, autopct='%.1f%%', labeldistance=1.15, startangle=140 )\n",
    "ax[0].set_title('Porcentaje de avistajes de felinos ')\n",
    "\n",
    "ax[1].bar(posicion , sizes_province, tick_label=labels_province)\n",
    "ax[1].set_title('Cantidad de tipos de felinos diferentes vistos en cada provincia ')\n",
    "ax[1].set_xticklabels(labels_province, rotation=45)\n",
    "\n",
    "# Mostramos el gráfico\n",
    "fig.tight_layout()\n",
    "plt.show()"
   ]
  },
  {
   "cell_type": "markdown",
   "id": "e0d6b9d3-fbf2-4675-bf88-e60b176dac65",
   "metadata": {
    "editable": true,
    "slideshow": {
     "slide_type": ""
    },
    "tags": []
   },
   "source": [
    "Algunas de las funciones mostradas:\n",
    "```python\n",
    "fig,ax = plt.subplots(1,2,figsize=(14 , 6))\n",
    "```\n",
    "* **plt.subplots**: permite identificar la figura y el gráfico en sí, para poder personalizar\n",
    "cada uno. Podríamos tener varios gráficos en una misma figura y personalizar cada uno por separado.\n",
    "    * variable **fig**: la figura que contiene ambos gráficos\n",
    "    * **1** fila\n",
    "    * **2** columnas\n",
    "    * **figsize**: tamaño en pulgadas, 14 de ancho y 6 de alto\n",
    "    * variable **ax**: un arreglo con la cantidad de gráficos especificados, ubicados en posición 0 y posición 1\n",
    "* **plt.get_cmap**: define una paleta de colores específica\n",
    "* **set_prop_cycle**: permite definir los colores de la paleta en función de la cantidad de porciones que se van a mostrar\n",
    "* **labels**: las etiquetas para cada porción del gráfico de torta(pie)\n",
    "* **labeldistance**: ubica las etiquetas a una distnacia específica desde el centro del círculo\n",
    "* **tick_label**: las etiquetas para cada barra del gráfico (bar)\n",
    "* **fig.tight_layout()**: ajusta los gráficos al tamaño de la figura"
   ]
  },
  {
   "cell_type": "markdown",
   "id": "e3cae39b-f7ba-4ed9-b706-bce7d9887ec3",
   "metadata": {
    "editable": true,
    "slideshow": {
     "slide_type": "slide"
    },
    "tags": []
   },
   "source": [
    "# 🎒Análisis y  📊 gráficos en Streamlit"
   ]
  },
  {
   "cell_type": "markdown",
   "id": "ed06ed13-608b-46d3-97b6-229c482bd319",
   "metadata": {
    "editable": true,
    "slideshow": {
     "slide_type": "fragment"
    },
    "tags": []
   },
   "source": [
    "Podemos generar diferentes tipos de gráficos en [Streamlit](https://docs.streamlit.io/develop/api-reference/charts):\n",
    "* gráficos simples: le pasamos los datos directamente\n",
    "    * **bar_chart**\n",
    "    * **st.line_chart**\n",
    "    * otros\n",
    "* gráficos a través de librerías específicas: generamos la figura con la librería y luego la mostramos con las funciones de cada librería en Streamlit:\n",
    "    * Matplotlib: **st.pyplot(figura)**\n",
    "    * Plotly: **st.plotly_chart(figura)**\n",
    "    * muchas más.\n",
    "    * \n",
    "En el caso de usar las librerías específicas para graficar, la generación es igual que fuera de Streamlit, lo que necesitamos para verla  es la función propia para cada librería."
   ]
  },
  {
   "cell_type": "markdown",
   "id": "5922014c-05e7-48fd-b4e2-faf77bcf187b",
   "metadata": {
    "editable": true,
    "slideshow": {
     "slide_type": "subslide"
    },
    "tags": []
   },
   "source": [
    " ### Interacción con widgets\n",
    " Los datos o gráficos que mostramos pueden generarse en función de elecciones que haga el usuario, algunos de los widgets que nos permiten esta interacción son:\n",
    " * **st.multiselect**: da la opción de elegir varios valores de una lista\n",
    "   ```python\n",
    "   st.multiselect('Título', [datos])\n",
    "   ```\n",
    " * **st.selectbox**: se puede seleccionar una sola opción\n",
    "   ```python\n",
    "   st.selectbox('Título', [datos])\n",
    "   ```\n",
    " * **st.select_slider**: valores únicos\n",
    "   ```python\n",
    "   st.select_slider('Título', options=opciones)\n",
    "   ```\n",
    "* **st.slider**\n",
    "  rango de valores:(minimo, maximo) es un tupla que representa los valores seleccionados\n",
    "   ```python\n",
    "   st.slider('Rango de Años', minino, maximo, (minimo, maximo))\n",
    "   ```"
   ]
  },
  {
   "cell_type": "markdown",
   "id": "63ee4552-a0f9-4c9d-a4c7-8933ea89fbbf",
   "metadata": {
    "editable": true,
    "slideshow": {
     "slide_type": "subslide"
    },
    "tags": []
   },
   "source": [
    "## Gráficos en Streamlit"
   ]
  },
  {
   "cell_type": "markdown",
   "id": "c081cbc9-b3ff-4f4c-94d9-90312f681ee3",
   "metadata": {
    "editable": true,
    "slideshow": {
     "slide_type": "fragment"
    },
    "tags": []
   },
   "source": [
    "### 📌 Matplotlib\n",
    "* Generar el gráfico y mostrar usando st.write(figura)"
   ]
  },
  {
   "cell_type": "markdown",
   "id": "0607b06c-efdf-4d50-9fcc-16166787794c",
   "metadata": {
    "editable": true,
    "slideshow": {
     "slide_type": "subslide"
    },
    "tags": []
   },
   "source": [
    "### 📌Streamlit:\n",
    "* **st.line_chart(data)**: crea un gráfico de líneas. data puede ser un DataFrame de pandas o una Series de pandas.\n",
    "* **st.bar_chart(data)**: crea un gráfico de barras. Similar a st.line_chart(), data puede ser un DataFrame o una Series.\n",
    "* **st.scatter_chart(data)**: crea un gráfico de dispersión. data debe ser un DataFrame con al menos dos columnas.\n",
    "* [Y más.](https://docs.streamlit.io/develop/api-reference/charts)"
   ]
  },
  {
   "cell_type": "markdown",
   "id": "c24da809-3918-4ca0-8033-e0fec7148c90",
   "metadata": {
    "editable": true,
    "slideshow": {
     "slide_type": "slide"
    },
    "tags": []
   },
   "source": [
    "# Seguimos la próxima ..."
   ]
  }
 ],
 "metadata": {
  "kernelspec": {
   "display_name": "Python 3 (ipykernel)",
   "language": "python",
   "name": "python3"
  },
  "language_info": {
   "codemirror_mode": {
    "name": "ipython",
    "version": 3
   },
   "file_extension": ".py",
   "mimetype": "text/x-python",
   "name": "python",
   "nbconvert_exporter": "python",
   "pygments_lexer": "ipython3",
   "version": "3.10.12"
  }
 },
 "nbformat": 4,
 "nbformat_minor": 5
}
